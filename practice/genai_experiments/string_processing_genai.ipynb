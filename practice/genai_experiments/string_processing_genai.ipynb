{
 "cells": [
  {
   "cell_type": "markdown",
   "id": "3e115c54",
   "metadata": {},
   "source": [
    "\n",
    "* 1.  Install ollama\n",
    "* 2. ollama run gemma3:1b\n",
    "* 3 uv add langchain-ollama\n",
    "* 4 uv add ollama"
   ]
  },
  {
   "cell_type": "code",
   "execution_count": 1,
   "id": "7ef0bd44",
   "metadata": {},
   "outputs": [],
   "source": [
    "from langchain_ollama import ChatOllama"
   ]
  },
  {
   "cell_type": "code",
   "execution_count": 2,
   "id": "91430ef2",
   "metadata": {},
   "outputs": [
    {
     "name": "stdout",
     "output_type": "stream",
     "text": [
      "NAME                       ID              SIZE      MODIFIED       \n",
      "gemma3:270m                e7d36fb2c3b3    291 MB    12 minutes ago    \n",
      "gemma3:1b                  8648f39daa8f    815 MB    4 days ago        \n",
      "qwen3:0.6b                 7df6b6e09427    522 MB    4 days ago        \n",
      "deepseek-r1:1.5b           e0979632db5a    1.1 GB    4 weeks ago       \n",
      "qwen3:4b                   2bfd38a7daaf    2.6 GB    4 weeks ago       \n",
      "qwen3:8b                   500a1f067a9f    5.2 GB    4 weeks ago       \n",
      "gemma3n:e2b                719372f8c7de    5.6 GB    5 weeks ago       \n",
      "gemma3n:e4b                15cb39fd9394    7.5 GB    5 weeks ago       \n",
      "qwen3:1.7b                 458ce03a2187    1.4 GB    3 months ago      \n",
      "phi4-mini:latest           78fad5d182a7    2.5 GB    3 months ago      \n",
      "nomic-embed-text:latest    0a109f422b47    274 MB    3 months ago      \n"
     ]
    }
   ],
   "source": [
    "!ollama list"
   ]
  },
  {
   "cell_type": "code",
   "execution_count": 3,
   "id": "33f0e20c",
   "metadata": {},
   "outputs": [],
   "source": [
    "llm = ChatOllama(\n",
    "    model=\"gemma3:270m\")"
   ]
  },
  {
   "cell_type": "code",
   "execution_count": 4,
   "id": "3df5b3dc",
   "metadata": {},
   "outputs": [
    {
     "data": {
      "text/plain": [
       "AIMessage(content=\"The Newton's Third Law of Motion is a fundamental law of physics that describes the tendency of an object to do work or accelerate in the direction of its motion. It's a cornerstone of understanding the behavior of forces and momentum.\\n\", additional_kwargs={}, response_metadata={'model': 'gemma3:270m', 'created_at': '2025-08-15T13:18:56.822117262Z', 'done': True, 'done_reason': 'stop', 'total_duration': 1061310152, 'load_duration': 35025364, 'prompt_eval_count': 17, 'prompt_eval_duration': 38881585, 'eval_count': 49, 'eval_duration': 986880414, 'model_name': 'gemma3:270m'}, id='run--2014b278-40ec-49b7-8cca-370d47e36ec7-0', usage_metadata={'input_tokens': 17, 'output_tokens': 49, 'total_tokens': 66})"
      ]
     },
     "execution_count": 4,
     "metadata": {},
     "output_type": "execute_result"
    }
   ],
   "source": [
    "response = llm.invoke(\"what si newton 3rd law\")\n",
    "response"
   ]
  },
  {
   "cell_type": "code",
   "execution_count": 5,
   "id": "bb8ff319",
   "metadata": {},
   "outputs": [
    {
     "name": "stdout",
     "output_type": "stream",
     "text": [
      "The Newton's Third Law of Motion is a fundamental law of physics that describes the tendency of an object to do work or accelerate in the direction of its motion. It's a cornerstone of understanding the behavior of forces and momentum.\n",
      "\n"
     ]
    }
   ],
   "source": [
    "print(response.content)"
   ]
  },
  {
   "cell_type": "code",
   "execution_count": null,
   "id": "2de55728",
   "metadata": {},
   "outputs": [],
   "source": []
  },
  {
   "cell_type": "code",
   "execution_count": null,
   "id": "212f01a6",
   "metadata": {},
   "outputs": [],
   "source": []
  },
  {
   "cell_type": "code",
   "execution_count": 6,
   "id": "8d601d39",
   "metadata": {},
   "outputs": [],
   "source": [
    "topic=input(\"Topic in which you want to know\")\n",
    "level=input(\"what is your level of understanding('Beginner,Intermediate or Advanced)\")\n",
    "role=input(\"For what application or role you are looking for\")"
   ]
  },
  {
   "cell_type": "code",
   "execution_count": 7,
   "id": "e7855986",
   "metadata": {},
   "outputs": [
    {
     "data": {
      "text/plain": [
       "\"I want to know about science and i am beginner for genai' role\""
      ]
     },
     "execution_count": 7,
     "metadata": {},
     "output_type": "execute_result"
    }
   ],
   "source": [
    "prompt = f\"I want to know about {topic} and i am {level} for {role} role\"\n",
    "prompt"
   ]
  },
  {
   "cell_type": "code",
   "execution_count": 8,
   "id": "b37ebaa4",
   "metadata": {},
   "outputs": [],
   "source": [
    "llm2 = ChatOllama(\n",
    "    model=\"gemma3n:e2b\")"
   ]
  },
  {
   "cell_type": "code",
   "execution_count": 9,
   "id": "413fcacd",
   "metadata": {},
   "outputs": [
    {
     "name": "stdout",
     "output_type": "stream",
     "text": [
      "That's great! I'm happy to help you learn about science. \n",
      "\n",
      "To start, what are your current interests and goals in science? For example, are you interested in:\n",
      "\n",
      "*   **Biology:** Studying the structure and function of living organisms.\n",
      "*   **Physics:** Understanding the behavior of matter and energy.\n",
      "*   **Chemistry:** Analyzing and understanding the properties of matter and materials.\n",
      "*   **Mathematics:** Developing mathematical models and solving problems in science.\n",
      "*   **Environmental Science:** Studying the impact of human activities on the environment.\n",
      "\n",
      "The more information you provide, the better I can assist you.\n"
     ]
    }
   ],
   "source": [
    "response= llm.invoke(prompt)\n",
    "print(response.content)"
   ]
  },
  {
   "cell_type": "code",
   "execution_count": null,
   "id": "1472c832",
   "metadata": {},
   "outputs": [],
   "source": [
    "response= llm2.invoke(prompt)\n",
    "print(response.content)"
   ]
  },
  {
   "cell_type": "code",
   "execution_count": null,
   "id": "7797a49a",
   "metadata": {},
   "outputs": [],
   "source": []
  }
 ],
 "metadata": {
  "kernelspec": {
   "display_name": "base",
   "language": "python",
   "name": "python3"
  },
  "language_info": {
   "codemirror_mode": {
    "name": "ipython",
    "version": 3
   },
   "file_extension": ".py",
   "mimetype": "text/x-python",
   "name": "python",
   "nbconvert_exporter": "python",
   "pygments_lexer": "ipython3",
   "version": "3.12.9"
  }
 },
 "nbformat": 4,
 "nbformat_minor": 5
}
