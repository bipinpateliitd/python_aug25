{
 "cells": [
  {
   "cell_type": "code",
   "execution_count": 1,
   "id": "49f552db",
   "metadata": {},
   "outputs": [],
   "source": [
    "user_input = \"EXPLAIN PYTHON TO ME\"\n",
    "\n"
   ]
  },
  {
   "cell_type": "code",
   "execution_count": 2,
   "id": "49e69830",
   "metadata": {},
   "outputs": [
    {
     "name": "stdout",
     "output_type": "stream",
     "text": [
      "explain python to me\n"
     ]
    }
   ],
   "source": [
    "print(user_input.lower())     # explain python to me\n"
   ]
  },
  {
   "cell_type": "code",
   "execution_count": 6,
   "id": "df3d9634",
   "metadata": {},
   "outputs": [],
   "source": [
    "test_var =  \"My Name is bipin\""
   ]
  },
  {
   "cell_type": "code",
   "execution_count": 7,
   "id": "2dc029c5",
   "metadata": {},
   "outputs": [
    {
     "data": {
      "text/plain": [
       "'MY NAME IS BIPIN'"
      ]
     },
     "execution_count": 7,
     "metadata": {},
     "output_type": "execute_result"
    }
   ],
   "source": [
    "test_var.upper()"
   ]
  },
  {
   "cell_type": "code",
   "execution_count": null,
   "id": "3a038acb",
   "metadata": {},
   "outputs": [],
   "source": []
  },
  {
   "cell_type": "code",
   "execution_count": 8,
   "id": "21a5c10a",
   "metadata": {},
   "outputs": [
    {
     "data": {
      "text/plain": [
       "' India Is A Big Country'"
      ]
     },
     "execution_count": 8,
     "metadata": {},
     "output_type": "execute_result"
    }
   ],
   "source": [
    "country = \" india is a big country\"\n",
    "country.title()"
   ]
  },
  {
   "cell_type": "code",
   "execution_count": null,
   "id": "62110809",
   "metadata": {},
   "outputs": [],
   "source": []
  },
  {
   "cell_type": "code",
   "execution_count": 9,
   "id": "88338b79",
   "metadata": {},
   "outputs": [],
   "source": [
    "test_cap =\"explain python To Me\""
   ]
  },
  {
   "cell_type": "code",
   "execution_count": 10,
   "id": "51a06f82",
   "metadata": {},
   "outputs": [
    {
     "data": {
      "text/plain": [
       "'Explain python to me'"
      ]
     },
     "execution_count": 10,
     "metadata": {},
     "output_type": "execute_result"
    }
   ],
   "source": [
    "test_cap.capitalize()"
   ]
  },
  {
   "cell_type": "code",
   "execution_count": null,
   "id": "be7c5c5e",
   "metadata": {},
   "outputs": [],
   "source": []
  },
  {
   "cell_type": "code",
   "execution_count": null,
   "id": "da0771eb",
   "metadata": {},
   "outputs": [],
   "source": []
  },
  {
   "cell_type": "code",
   "execution_count": null,
   "id": "bf6745c9",
   "metadata": {},
   "outputs": [],
   "source": []
  },
  {
   "cell_type": "code",
   "execution_count": null,
   "id": "6c2216c5",
   "metadata": {},
   "outputs": [],
   "source": [
    "print(user_input.title())     # Explain Python To Me\n"
   ]
  },
  {
   "cell_type": "code",
   "execution_count": null,
   "id": "c7da2a1b",
   "metadata": {},
   "outputs": [],
   "source": []
  },
  {
   "cell_type": "code",
   "execution_count": null,
   "id": "a6ad847f",
   "metadata": {},
   "outputs": [],
   "source": [
    "print(user_input.capitalize()) # Explain python to me"
   ]
  },
  {
   "cell_type": "code",
   "execution_count": null,
   "id": "df75e5a7",
   "metadata": {},
   "outputs": [],
   "source": []
  },
  {
   "cell_type": "code",
   "execution_count": null,
   "id": "c4d027a3",
   "metadata": {},
   "outputs": [],
   "source": []
  },
  {
   "cell_type": "code",
   "execution_count": null,
   "id": "a7ba1668",
   "metadata": {},
   "outputs": [],
   "source": []
  },
  {
   "cell_type": "code",
   "execution_count": null,
   "id": "80f50949",
   "metadata": {},
   "outputs": [],
   "source": []
  },
  {
   "cell_type": "code",
   "execution_count": null,
   "id": "1778c908",
   "metadata": {},
   "outputs": [],
   "source": []
  },
  {
   "cell_type": "code",
   "execution_count": 12,
   "id": "a9844dd1",
   "metadata": {},
   "outputs": [],
   "source": [
    "messy_prompt = \"   Explain AI concepts   \\n\\t  \"\n",
    "\n"
   ]
  },
  {
   "cell_type": "code",
   "execution_count": 13,
   "id": "99a26326",
   "metadata": {},
   "outputs": [
    {
     "data": {
      "text/plain": [
       "'Explain AI concepts'"
      ]
     },
     "execution_count": 13,
     "metadata": {},
     "output_type": "execute_result"
    }
   ],
   "source": [
    "clean_prompt = messy_prompt.strip() \n",
    "clean_prompt"
   ]
  },
  {
   "cell_type": "code",
   "execution_count": 14,
   "id": "681ab6cf",
   "metadata": {},
   "outputs": [
    {
     "data": {
      "text/plain": [
       "'Explain AI concepts   \\n\\t  '"
      ]
     },
     "execution_count": 14,
     "metadata": {},
     "output_type": "execute_result"
    }
   ],
   "source": [
    "clean_prompt = messy_prompt.lstrip() \n",
    "clean_prompt"
   ]
  },
  {
   "cell_type": "code",
   "execution_count": 15,
   "id": "40f89ead",
   "metadata": {},
   "outputs": [
    {
     "data": {
      "text/plain": [
       "'   Explain AI concepts'"
      ]
     },
     "execution_count": 15,
     "metadata": {},
     "output_type": "execute_result"
    }
   ],
   "source": [
    "clean_prompt = messy_prompt.rstrip() \n",
    "clean_prompt"
   ]
  },
  {
   "cell_type": "code",
   "execution_count": null,
   "id": "d7e51f7c",
   "metadata": {},
   "outputs": [],
   "source": []
  },
  {
   "cell_type": "code",
   "execution_count": null,
   "id": "17eac9bd",
   "metadata": {},
   "outputs": [],
   "source": []
  },
  {
   "cell_type": "code",
   "execution_count": null,
   "id": "1292e0ae",
   "metadata": {},
   "outputs": [],
   "source": [
    "# Remove whitespace\n",
    "       # \"Explain AI concepts\"\n",
    "left_clean = messy_prompt.lstrip()         # \"Explain AI concepts   \\n\\t  \"\n",
    "right_clean = messy_prompt.rstrip()        # \"   Explain AI concepts\"\n",
    "\n",
    "# Real example: Clean API responses\n",
    "api_response = \"\\n\\n  Here's your answer: AI is amazing!  \\n\"\n",
    "cleaned_response = api_response.strip()\n",
    "print(f\"'{cleaned_response}'\")  # 'Here's your answer: AI is amazing!'"
   ]
  },
  {
   "cell_type": "code",
   "execution_count": null,
   "id": "d4720a57",
   "metadata": {},
   "outputs": [],
   "source": []
  },
  {
   "cell_type": "code",
   "execution_count": null,
   "id": "d859d85b",
   "metadata": {},
   "outputs": [],
   "source": []
  },
  {
   "cell_type": "code",
   "execution_count": null,
   "id": "f9f2308a",
   "metadata": {},
   "outputs": [],
   "source": []
  },
  {
   "cell_type": "code",
   "execution_count": 36,
   "id": "f9310a9d",
   "metadata": {},
   "outputs": [],
   "source": [
    "text = \"Python is great for machine learning and AI development   \"\n",
    "\n"
   ]
  },
  {
   "cell_type": "code",
   "execution_count": 24,
   "id": "1b530bfd",
   "metadata": {},
   "outputs": [
    {
     "data": {
      "text/plain": [
       "True"
      ]
     },
     "execution_count": 24,
     "metadata": {},
     "output_type": "execute_result"
    }
   ],
   "source": [
    "\"python\".capitalize() in text"
   ]
  },
  {
   "cell_type": "code",
   "execution_count": 29,
   "id": "6bda8cc0",
   "metadata": {},
   "outputs": [
    {
     "data": {
      "text/plain": [
       "-1"
      ]
     },
     "execution_count": 29,
     "metadata": {},
     "output_type": "execute_result"
    }
   ],
   "source": [
    "text.find(\"java\")"
   ]
  },
  {
   "cell_type": "code",
   "execution_count": 26,
   "id": "878cacf0",
   "metadata": {},
   "outputs": [
    {
     "data": {
      "text/plain": [
       "55"
      ]
     },
     "execution_count": 26,
     "metadata": {},
     "output_type": "execute_result"
    }
   ],
   "source": [
    "len(text)"
   ]
  },
  {
   "cell_type": "code",
   "execution_count": 31,
   "id": "ecb51c3f",
   "metadata": {},
   "outputs": [
    {
     "data": {
      "text/plain": [
       "1"
      ]
     },
     "execution_count": 31,
     "metadata": {},
     "output_type": "execute_result"
    }
   ],
   "source": [
    "text.count(\"A\")"
   ]
  },
  {
   "cell_type": "code",
   "execution_count": 34,
   "id": "ca301664",
   "metadata": {},
   "outputs": [
    {
     "data": {
      "text/plain": [
       "False"
      ]
     },
     "execution_count": 34,
     "metadata": {},
     "output_type": "execute_result"
    }
   ],
   "source": [
    "text.startswith(\"Java\")"
   ]
  },
  {
   "cell_type": "code",
   "execution_count": null,
   "id": "e88e23ea",
   "metadata": {},
   "outputs": [],
   "source": []
  },
  {
   "cell_type": "code",
   "execution_count": 37,
   "id": "b3e031dc",
   "metadata": {},
   "outputs": [
    {
     "name": "stdout",
     "output_type": "stream",
     "text": [
      "False\n"
     ]
    }
   ],
   "source": [
    "print(text.endswith(\"development\")) "
   ]
  },
  {
   "cell_type": "code",
   "execution_count": null,
   "id": "56743f85",
   "metadata": {},
   "outputs": [],
   "source": []
  },
  {
   "cell_type": "code",
   "execution_count": 39,
   "id": "3f18baec",
   "metadata": {},
   "outputs": [],
   "source": [
    "a = ' '"
   ]
  },
  {
   "cell_type": "code",
   "execution_count": null,
   "id": "540ba4b6",
   "metadata": {},
   "outputs": [],
   "source": []
  },
  {
   "cell_type": "code",
   "execution_count": null,
   "id": "d97524aa",
   "metadata": {},
   "outputs": [],
   "source": [
    "# Check if text contains something\n",
    "print(\"python\" in text.lower())           # True\n",
    "print(\"Java\" in text)                     # False\n",
    "\n",
    "# Find positions\n",
    "print(text.find(\"machine\"))               # 23 (position where \"machine\" starts)\n",
    "print(text.find(\"Ruby\"))                  # -1 (not found)\n",
    "\n",
    "# Count occurrences  \n",
    "print(text.count(\"a\"))                    # 5 (letter 'a' appears 5 times)\n",
    "\n",
    "# Check how text starts/ends\n",
    "print(text.startswith(\"Python\"))          # True\n",
    "print(text.endswith(\"development\"))       # True"
   ]
  },
  {
   "cell_type": "code",
   "execution_count": null,
   "id": "b55fea64",
   "metadata": {},
   "outputs": [],
   "source": []
  },
  {
   "cell_type": "code",
   "execution_count": 40,
   "id": "8fbd8348",
   "metadata": {},
   "outputs": [],
   "source": [
    "# Split by spaces (default)\n",
    "sentence = \"Python is amazing for AI\"\n"
   ]
  },
  {
   "cell_type": "code",
   "execution_count": 41,
   "id": "96832447",
   "metadata": {},
   "outputs": [
    {
     "data": {
      "text/plain": [
       "['Python', 'is', 'amazing', 'for', 'AI']"
      ]
     },
     "execution_count": 41,
     "metadata": {},
     "output_type": "execute_result"
    }
   ],
   "source": [
    "words = sentence.split()\n",
    "words\n"
   ]
  },
  {
   "cell_type": "code",
   "execution_count": null,
   "id": "51ea5057",
   "metadata": {},
   "outputs": [],
   "source": []
  },
  {
   "cell_type": "code",
   "execution_count": 46,
   "id": "94715aa9",
   "metadata": {},
   "outputs": [
    {
     "data": {
      "text/plain": [
       "['My name is Bipin', ' I love teaching']"
      ]
     },
     "execution_count": 46,
     "metadata": {},
     "output_type": "execute_result"
    }
   ],
   "source": [
    "csv_data = \"My name is Bipin. I love teaching\"\n",
    "columns = csv_data.split(\".\")\n",
    "columns"
   ]
  },
  {
   "cell_type": "code",
   "execution_count": null,
   "id": "350fb2d6",
   "metadata": {},
   "outputs": [],
   "source": []
  },
  {
   "cell_type": "code",
   "execution_count": null,
   "id": "79484e2e",
   "metadata": {},
   "outputs": [],
   "source": []
  },
  {
   "cell_type": "code",
   "execution_count": null,
   "id": "2146e86b",
   "metadata": {},
   "outputs": [],
   "source": []
  },
  {
   "cell_type": "code",
   "execution_count": null,
   "id": "e2c1c00e",
   "metadata": {},
   "outputs": [],
   "source": [
    "# Split by spaces (default)\n",
    "sentence = \"Python is amazing for AI\"\n",
    "words = sentence.split()\n",
    "print(words)  # ['Python', 'is', 'amazing', 'for', 'AI']\n",
    "\n",
    "# Split by specific characters\n",
    "csv_data = \"name,age,skill,experience\"\n",
    "columns = csv_data.split(\",\")\n",
    "print(columns)  # ['name', 'age', 'skill', 'experience']\n",
    "\n"
   ]
  },
  {
   "cell_type": "code",
   "execution_count": 47,
   "id": "30275afb",
   "metadata": {},
   "outputs": [],
   "source": [
    "words = [\"AI\", \"is\", \"transforming\", \"technology\"]\n",
    "\n"
   ]
  },
  {
   "cell_type": "code",
   "execution_count": 57,
   "id": "68ee18e0",
   "metadata": {},
   "outputs": [
    {
     "data": {
      "text/plain": [
       "'AI is transforming technology'"
      ]
     },
     "execution_count": 57,
     "metadata": {},
     "output_type": "execute_result"
    }
   ],
   "source": [
    "sentence = \" \".join(words)\n",
    "sentence"
   ]
  },
  {
   "cell_type": "code",
   "execution_count": 51,
   "id": "5f7ffc6b",
   "metadata": {},
   "outputs": [
    {
     "data": {
      "text/plain": [
       "'AIistransformingtechnology'"
      ]
     },
     "execution_count": 51,
     "metadata": {},
     "output_type": "execute_result"
    }
   ],
   "source": [
    "sentence = \"\".join(words)\n",
    "sentence"
   ]
  },
  {
   "cell_type": "code",
   "execution_count": 53,
   "id": "ca95d914",
   "metadata": {},
   "outputs": [
    {
     "data": {
      "text/plain": [
       "'AI*is*transforming*technology'"
      ]
     },
     "execution_count": 53,
     "metadata": {},
     "output_type": "execute_result"
    }
   ],
   "source": [
    "sentence = \"*\".join(words)\n",
    "sentence"
   ]
  },
  {
   "cell_type": "code",
   "execution_count": 56,
   "id": "1cbd22f6",
   "metadata": {},
   "outputs": [
    {
     "name": "stdout",
     "output_type": "stream",
     "text": [
      "AI\n",
      "\tis\n",
      "\ttransforming\n",
      "\ttechnology\n"
     ]
    }
   ],
   "source": [
    "sentence = \"\\n\\t\".join(words)\n",
    "print(sentence)"
   ]
  },
  {
   "cell_type": "code",
   "execution_count": null,
   "id": "a008649e",
   "metadata": {},
   "outputs": [],
   "source": []
  },
  {
   "cell_type": "code",
   "execution_count": 58,
   "id": "7b4db9f5",
   "metadata": {},
   "outputs": [
    {
     "data": {
      "text/plain": [
       "\"AI''is''transforming''technology\""
      ]
     },
     "execution_count": 58,
     "metadata": {},
     "output_type": "execute_result"
    }
   ],
   "source": [
    "sentence = \"''\".join(words)\n",
    "sentence"
   ]
  },
  {
   "cell_type": "code",
   "execution_count": null,
   "id": "5917ebf0",
   "metadata": {},
   "outputs": [],
   "source": []
  },
  {
   "cell_type": "code",
   "execution_count": null,
   "id": "d78b0654",
   "metadata": {},
   "outputs": [],
   "source": []
  },
  {
   "cell_type": "code",
   "execution_count": null,
   "id": "3f4fc20b",
   "metadata": {},
   "outputs": [],
   "source": [
    "# Join list of words\n",
    " \"AI is transforming technology\"\n",
    "\n",
    "# Join with different separators\n",
    "topics = [\"Python\", \"Machine Learning\", \"Data Science\", \"AI\"]\n",
    "bullet_list = \"\\n• \".join(topics)\n",
    "print(\"Topics to cover:\\n• \" + bullet_list)\n",
    "\n",
    "# Create CSV format\n",
    "data = [\"Alice\", \"25\", \"Python\", \"Beginner\"]\n",
    "csv_line = \",\".join(data)\n",
    "print(csv_line)  # \"Alice,25,Python,Beginner\""
   ]
  },
  {
   "cell_type": "code",
   "execution_count": null,
   "id": "e8f088d8",
   "metadata": {},
   "outputs": [],
   "source": []
  },
  {
   "cell_type": "code",
   "execution_count": null,
   "id": "a8fee724",
   "metadata": {},
   "outputs": [],
   "source": []
  },
  {
   "cell_type": "code",
   "execution_count": null,
   "id": "882c9564",
   "metadata": {},
   "outputs": [],
   "source": []
  },
  {
   "cell_type": "code",
   "execution_count": 70,
   "id": "64fa8345",
   "metadata": {},
   "outputs": [
    {
     "data": {
      "text/plain": [
       "'Hello Sarah, welcome to COURSE!'"
      ]
     },
     "execution_count": 70,
     "metadata": {},
     "output_type": "execute_result"
    }
   ],
   "source": [
    "template"
   ]
  },
  {
   "cell_type": "code",
   "execution_count": 68,
   "id": "0e343642",
   "metadata": {},
   "outputs": [
    {
     "data": {
      "text/plain": [
       "'Hello Sarah, welcome to COURSE!'"
      ]
     },
     "execution_count": 68,
     "metadata": {},
     "output_type": "execute_result"
    }
   ],
   "source": [
    "output"
   ]
  },
  {
   "cell_type": "code",
   "execution_count": 69,
   "id": "66fc3c8d",
   "metadata": {},
   "outputs": [],
   "source": [
    "template = \"Hello NAME, welcome to COURSE!\"\n",
    "template= template.replace(\"NAME\", \"Sarah\")\n",
    "\n"
   ]
  },
  {
   "cell_type": "code",
   "execution_count": 65,
   "id": "7b4f37f1",
   "metadata": {},
   "outputs": [
    {
     "data": {
      "text/plain": [
       "'Hello NAME, welcome to Python for AI!'"
      ]
     },
     "execution_count": 65,
     "metadata": {},
     "output_type": "execute_result"
    }
   ],
   "source": [
    "template.replace(\"COURSE\", \"Python for AI\")"
   ]
  },
  {
   "cell_type": "code",
   "execution_count": null,
   "id": "5d90102a",
   "metadata": {},
   "outputs": [],
   "source": []
  },
  {
   "cell_type": "code",
   "execution_count": 63,
   "id": "fd7631c2",
   "metadata": {},
   "outputs": [
    {
     "name": "stdout",
     "output_type": "stream",
     "text": [
      "AI AI AI is great\n"
     ]
    }
   ],
   "source": [
    "# Replace multiple occurrences\n",
    "text = \"Python Python Python is great\"\n",
    "updated = text.replace(\"Python\", \"AI\")\n",
    "print(updated)  # \"AI AI AI is great\""
   ]
  },
  {
   "cell_type": "code",
   "execution_count": null,
   "id": "07360f90",
   "metadata": {},
   "outputs": [],
   "source": []
  },
  {
   "cell_type": "code",
   "execution_count": null,
   "id": "f708b8af",
   "metadata": {},
   "outputs": [],
   "source": []
  },
  {
   "cell_type": "code",
   "execution_count": null,
   "id": "fe7783bc",
   "metadata": {},
   "outputs": [],
   "source": []
  },
  {
   "cell_type": "code",
   "execution_count": null,
   "id": "789dca05",
   "metadata": {},
   "outputs": [],
   "source": [
    "# Replace placeholders\n",
    "personalized = template.replace(\"[NAME]\", \"Sarah\")\n",
    "personalized = personalized.replace(\"[COURSE]\", \"Python for AI\")\n",
    "print(personalized)  # \"Hello Sarah, welcome to Python for AI!\"\n",
    "\n",
    "# Replace multiple occurrences\n",
    "text = \"Python Python Python is great\"\n",
    "updated = text.replace(\"Python\", \"AI\")\n",
    "print(updated)  # \"AI AI AI is great\""
   ]
  },
  {
   "cell_type": "code",
   "execution_count": null,
   "id": "44b4ebfd",
   "metadata": {},
   "outputs": [],
   "source": []
  },
  {
   "cell_type": "code",
   "execution_count": null,
   "id": "e3df987a",
   "metadata": {},
   "outputs": [],
   "source": []
  }
 ],
 "metadata": {
  "kernelspec": {
   "display_name": "base",
   "language": "python",
   "name": "python3"
  },
  "language_info": {
   "codemirror_mode": {
    "name": "ipython",
    "version": 3
   },
   "file_extension": ".py",
   "mimetype": "text/x-python",
   "name": "python",
   "nbconvert_exporter": "python",
   "pygments_lexer": "ipython3",
   "version": "3.12.9"
  }
 },
 "nbformat": 4,
 "nbformat_minor": 5
}
