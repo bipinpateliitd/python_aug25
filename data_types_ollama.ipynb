{
 "cells": [
  {
   "cell_type": "code",
   "execution_count": 1,
   "id": "1e37d2f0",
   "metadata": {},
   "outputs": [
    {
     "data": {
      "text/plain": [
       "int"
      ]
     },
     "execution_count": 1,
     "metadata": {},
     "output_type": "execute_result"
    }
   ],
   "source": [
    "a=2\n",
    "type(a)"
   ]
  },
  {
   "cell_type": "code",
   "execution_count": 2,
   "id": "0b6c0b16",
   "metadata": {},
   "outputs": [
    {
     "data": {
      "text/plain": [
       "float"
      ]
     },
     "execution_count": 2,
     "metadata": {},
     "output_type": "execute_result"
    }
   ],
   "source": [
    "b=2.5\n",
    "type(b)"
   ]
  },
  {
   "cell_type": "code",
   "execution_count": 4,
   "id": "fa9e68d2",
   "metadata": {},
   "outputs": [
    {
     "data": {
      "text/plain": [
       "bool"
      ]
     },
     "execution_count": 4,
     "metadata": {},
     "output_type": "execute_result"
    }
   ],
   "source": [
    "c=False\n",
    "type(c)"
   ]
  },
  {
   "cell_type": "code",
   "execution_count": 6,
   "id": "da56d97d",
   "metadata": {},
   "outputs": [
    {
     "data": {
      "text/plain": [
       "str"
      ]
     },
     "execution_count": 6,
     "metadata": {},
     "output_type": "execute_result"
    }
   ],
   "source": [
    "name = 'India'\n",
    "type(name)"
   ]
  },
  {
   "cell_type": "code",
   "execution_count": 8,
   "id": "eb99ab6f",
   "metadata": {},
   "outputs": [],
   "source": [
    "name_desc= \"Indian is my home country\""
   ]
  },
  {
   "cell_type": "code",
   "execution_count": 9,
   "id": "c131ecde",
   "metadata": {},
   "outputs": [],
   "source": [
    "name_essay=\"\"\"India is highly populas country.\n",
    " the GDP of India is 3rd largest \"\"\""
   ]
  },
  {
   "cell_type": "code",
   "execution_count": null,
   "id": "842ef6cf",
   "metadata": {},
   "outputs": [],
   "source": []
  },
  {
   "cell_type": "code",
   "execution_count": 10,
   "id": "0fad5932",
   "metadata": {},
   "outputs": [],
   "source": [
    "name = input(\"Type your name\")"
   ]
  },
  {
   "cell_type": "code",
   "execution_count": 11,
   "id": "9b73207d",
   "metadata": {},
   "outputs": [
    {
     "data": {
      "text/plain": [
       "'Bipin'"
      ]
     },
     "execution_count": 11,
     "metadata": {},
     "output_type": "execute_result"
    }
   ],
   "source": [
    "name"
   ]
  },
  {
   "cell_type": "code",
   "execution_count": 12,
   "id": "286501e1",
   "metadata": {},
   "outputs": [],
   "source": [
    "age= input(\" What is you current age\")"
   ]
  },
  {
   "cell_type": "code",
   "execution_count": 13,
   "id": "466bd805",
   "metadata": {},
   "outputs": [
    {
     "data": {
      "text/plain": [
       "'35'"
      ]
     },
     "execution_count": 13,
     "metadata": {},
     "output_type": "execute_result"
    }
   ],
   "source": [
    "age"
   ]
  },
  {
   "cell_type": "code",
   "execution_count": 14,
   "id": "2389b508",
   "metadata": {},
   "outputs": [
    {
     "data": {
      "text/plain": [
       "str"
      ]
     },
     "execution_count": 14,
     "metadata": {},
     "output_type": "execute_result"
    }
   ],
   "source": [
    "type(age)"
   ]
  },
  {
   "cell_type": "code",
   "execution_count": 17,
   "id": "00f59164",
   "metadata": {},
   "outputs": [],
   "source": [
    "yearly_saving =2500\n",
    "total_saving = int(age)*yearly_saving"
   ]
  },
  {
   "cell_type": "code",
   "execution_count": 18,
   "id": "b8dc11ac",
   "metadata": {},
   "outputs": [
    {
     "data": {
      "text/plain": [
       "87500"
      ]
     },
     "execution_count": 18,
     "metadata": {},
     "output_type": "execute_result"
    }
   ],
   "source": [
    "total_saving"
   ]
  },
  {
   "cell_type": "code",
   "execution_count": 21,
   "id": "d372656a",
   "metadata": {},
   "outputs": [
    {
     "data": {
      "text/plain": [
       "'2500'"
      ]
     },
     "execution_count": 21,
     "metadata": {},
     "output_type": "execute_result"
    }
   ],
   "source": [
    "str_y = str(yearly_saving)\n",
    "str_y"
   ]
  },
  {
   "cell_type": "code",
   "execution_count": 22,
   "id": "374af889",
   "metadata": {},
   "outputs": [
    {
     "data": {
      "text/plain": [
       "str"
      ]
     },
     "execution_count": 22,
     "metadata": {},
     "output_type": "execute_result"
    }
   ],
   "source": [
    "type(str_y)"
   ]
  },
  {
   "cell_type": "code",
   "execution_count": null,
   "id": "2d9bd834",
   "metadata": {},
   "outputs": [],
   "source": []
  },
  {
   "cell_type": "code",
   "execution_count": 29,
   "id": "b0cd0958",
   "metadata": {},
   "outputs": [],
   "source": [
    "a=\"India \"\n",
    "b= \"Russia\""
   ]
  },
  {
   "cell_type": "code",
   "execution_count": 25,
   "id": "2f636935",
   "metadata": {},
   "outputs": [
    {
     "data": {
      "text/plain": [
       "'India India India '"
      ]
     },
     "execution_count": 25,
     "metadata": {},
     "output_type": "execute_result"
    }
   ],
   "source": [
    "c=a*3\n",
    "c"
   ]
  },
  {
   "cell_type": "code",
   "execution_count": 30,
   "id": "5fd991dd",
   "metadata": {},
   "outputs": [
    {
     "data": {
      "text/plain": [
       "'India Russia'"
      ]
     },
     "execution_count": 30,
     "metadata": {},
     "output_type": "execute_result"
    }
   ],
   "source": [
    "d = a+b\n",
    "d"
   ]
  },
  {
   "cell_type": "code",
   "execution_count": null,
   "id": "1e537ddb",
   "metadata": {},
   "outputs": [],
   "source": []
  },
  {
   "cell_type": "code",
   "execution_count": 32,
   "id": "f1563082",
   "metadata": {},
   "outputs": [],
   "source": [
    "age = 30\n",
    "name = \"Bipin\"\n",
    "\n"
   ]
  },
  {
   "cell_type": "code",
   "execution_count": 33,
   "id": "cbafa1cc",
   "metadata": {},
   "outputs": [
    {
     "data": {
      "text/plain": [
       "'Hi my name is Bipin and my age is 30'"
      ]
     },
     "execution_count": 33,
     "metadata": {},
     "output_type": "execute_result"
    }
   ],
   "source": [
    "f\"Hi my name is {name} and my age is {age}\""
   ]
  },
  {
   "cell_type": "code",
   "execution_count": null,
   "id": "aaec374f",
   "metadata": {},
   "outputs": [],
   "source": []
  },
  {
   "cell_type": "code",
   "execution_count": 35,
   "id": "cb607b15",
   "metadata": {},
   "outputs": [
    {
     "name": "stdout",
     "output_type": "stream",
     "text": [
      " Hi Debashish, how can i help you.\n"
     ]
    }
   ],
   "source": [
    "name = input(\"Enter your name\")\n",
    "print(f\" Hi {name}, how can i help you.\")"
   ]
  },
  {
   "cell_type": "code",
   "execution_count": null,
   "id": "d932f9a4",
   "metadata": {},
   "outputs": [],
   "source": [
    "# prompt"
   ]
  },
  {
   "cell_type": "code",
   "execution_count": 36,
   "id": "db7494bc",
   "metadata": {},
   "outputs": [],
   "source": [
    "topic=input(\"Topic in which you want to know\")\n",
    "level=input(\"what is your level of understanding('Beginner,Intermediate or Advanced)\")\n",
    "role=input(\"For what application or role you are looking for\")"
   ]
  },
  {
   "cell_type": "code",
   "execution_count": 37,
   "id": "def52223",
   "metadata": {},
   "outputs": [
    {
     "data": {
      "text/plain": [
       "'I want to know about Java and i am Beginner for Genai role'"
      ]
     },
     "execution_count": 37,
     "metadata": {},
     "output_type": "execute_result"
    }
   ],
   "source": [
    "prompt = f\"I want to know about {topic} and i am {level} for {role} role\"\n",
    "prompt"
   ]
  },
  {
   "cell_type": "code",
   "execution_count": null,
   "id": "a3985d4b",
   "metadata": {},
   "outputs": [],
   "source": []
  },
  {
   "cell_type": "code",
   "execution_count": null,
   "id": "cfea13bf",
   "metadata": {},
   "outputs": [],
   "source": []
  }
 ],
 "metadata": {
  "kernelspec": {
   "display_name": "base",
   "language": "python",
   "name": "python3"
  },
  "language_info": {
   "codemirror_mode": {
    "name": "ipython",
    "version": 3
   },
   "file_extension": ".py",
   "mimetype": "text/x-python",
   "name": "python",
   "nbconvert_exporter": "python",
   "pygments_lexer": "ipython3",
   "version": "3.12.9"
  }
 },
 "nbformat": 4,
 "nbformat_minor": 5
}
