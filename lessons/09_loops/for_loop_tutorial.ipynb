{
 "cells": [
  {
   "cell_type": "markdown",
   "id": "1",
   "metadata": {},
   "source": [
    "# For Loops in Python\n",
    "\n",
    "A **for loop** is used to iterate over a sequence (like a list, tuple, string, or range). It's perfect when you know what you want to loop through."
   ]
  },
  {
   "cell_type": "markdown",
   "id": "2",
   "metadata": {},
   "source": [
    "## Basic Syntax\n",
    "\n",
    "```python\n",
    "for item in sequence:\n",
    "    # code to execute for each item\n",
    "```"
   ]
  },
  {
   "cell_type": "code",
   "execution_count": 4,
   "id": "2e97b85c",
   "metadata": {},
   "outputs": [
    {
     "name": "stdout",
     "output_type": "stream",
     "text": [
      "1\n",
      "4\n",
      "5\n",
      "7\n"
     ]
    }
   ],
   "source": [
    "a= [1,4,5,7]\n",
    "\n",
    "\n",
    "for i in a:\n",
    "    print(i)"
   ]
  },
  {
   "cell_type": "code",
   "execution_count": null,
   "id": "b766d069",
   "metadata": {},
   "outputs": [],
   "source": []
  },
  {
   "cell_type": "code",
   "execution_count": 6,
   "id": "31bf02ad",
   "metadata": {},
   "outputs": [
    {
     "name": "stdout",
     "output_type": "stream",
     "text": [
      "4\n",
      "7\n",
      "8\n",
      "10\n"
     ]
    }
   ],
   "source": [
    "for j in a:\n",
    "    j=j+3\n",
    "    print(j)"
   ]
  },
  {
   "cell_type": "code",
   "execution_count": 8,
   "id": "a703d4f6",
   "metadata": {},
   "outputs": [
    {
     "data": {
      "text/plain": [
       "(1, 4, 'Nitesh', 8)"
      ]
     },
     "execution_count": 8,
     "metadata": {},
     "output_type": "execute_result"
    }
   ],
   "source": [
    "b=(1,4,\"Nitesh\",8)\n",
    "b"
   ]
  },
  {
   "cell_type": "code",
   "execution_count": 9,
   "id": "c1f43279",
   "metadata": {},
   "outputs": [
    {
     "name": "stdout",
     "output_type": "stream",
     "text": [
      "1\n",
      "4\n",
      "Nitesh\n",
      "8\n"
     ]
    }
   ],
   "source": [
    "for i in b:\n",
    "    print(i)"
   ]
  },
  {
   "cell_type": "code",
   "execution_count": null,
   "id": "6facf0e0",
   "metadata": {},
   "outputs": [],
   "source": []
  },
  {
   "cell_type": "code",
   "execution_count": 10,
   "id": "92433f53",
   "metadata": {},
   "outputs": [],
   "source": [
    "student_grades = {\"Alice\": 95, \"Bob\": 87, \"Charlie\": 92}"
   ]
  },
  {
   "cell_type": "code",
   "execution_count": 13,
   "id": "353559e9",
   "metadata": {},
   "outputs": [
    {
     "data": {
      "text/plain": [
       "dict_keys(['Alice', 'Bob', 'Charlie'])"
      ]
     },
     "execution_count": 13,
     "metadata": {},
     "output_type": "execute_result"
    }
   ],
   "source": [
    "student_grades.keys()"
   ]
  },
  {
   "cell_type": "code",
   "execution_count": 14,
   "id": "fd397db8",
   "metadata": {},
   "outputs": [
    {
     "data": {
      "text/plain": [
       "dict_values([95, 87, 92])"
      ]
     },
     "execution_count": 14,
     "metadata": {},
     "output_type": "execute_result"
    }
   ],
   "source": [
    "student_grades.values()"
   ]
  },
  {
   "cell_type": "code",
   "execution_count": 15,
   "id": "c0dc286b",
   "metadata": {},
   "outputs": [
    {
     "data": {
      "text/plain": [
       "dict_items([('Alice', 95), ('Bob', 87), ('Charlie', 92)])"
      ]
     },
     "execution_count": 15,
     "metadata": {},
     "output_type": "execute_result"
    }
   ],
   "source": [
    "student_grades.items()"
   ]
  },
  {
   "cell_type": "code",
   "execution_count": 11,
   "id": "742a1578",
   "metadata": {},
   "outputs": [
    {
     "name": "stdout",
     "output_type": "stream",
     "text": [
      "Alice\n",
      "Bob\n",
      "Charlie\n"
     ]
    }
   ],
   "source": [
    "for j in student_grades:\n",
    "    print(j)"
   ]
  },
  {
   "cell_type": "code",
   "execution_count": 17,
   "id": "accd0592",
   "metadata": {},
   "outputs": [
    {
     "name": "stdout",
     "output_type": "stream",
     "text": [
      "Alice 95\n",
      "Bob 87\n",
      "Charlie 92\n"
     ]
    }
   ],
   "source": [
    "for j,k in student_grades.items():\n",
    "    print(j,k)"
   ]
  },
  {
   "cell_type": "markdown",
   "id": "a644739d",
   "metadata": {},
   "source": []
  },
  {
   "cell_type": "code",
   "execution_count": null,
   "id": "7ee4f8b4",
   "metadata": {},
   "outputs": [],
   "source": [
    "a= \"  Aditya\""
   ]
  },
  {
   "cell_type": "code",
   "execution_count": 20,
   "id": "4445f496",
   "metadata": {},
   "outputs": [
    {
     "name": "stdout",
     "output_type": "stream",
     "text": [
      " \n",
      "A\n",
      "d\n",
      "i\n",
      "t\n",
      "y\n",
      "a\n"
     ]
    }
   ],
   "source": [
    "for i in a:\n",
    "    print(i)"
   ]
  },
  {
   "cell_type": "code",
   "execution_count": null,
   "id": "2cbb7f80",
   "metadata": {},
   "outputs": [],
   "source": []
  },
  {
   "cell_type": "code",
   "execution_count": 23,
   "id": "835e4458",
   "metadata": {},
   "outputs": [],
   "source": [
    "ss = \"\"\" I am learning GenAi \"\"\""
   ]
  },
  {
   "cell_type": "code",
   "execution_count": 24,
   "id": "1b9da3ce",
   "metadata": {},
   "outputs": [
    {
     "name": "stdout",
     "output_type": "stream",
     "text": [
      " \n",
      "I\n",
      " \n",
      "a\n",
      "m\n",
      " \n",
      "l\n",
      "e\n",
      "a\n",
      "r\n",
      "n\n",
      "i\n",
      "n\n",
      "g\n",
      " \n",
      "G\n",
      "e\n",
      "n\n",
      "A\n",
      "i\n",
      " \n"
     ]
    }
   ],
   "source": [
    "for i in ss:\n",
    "    print(i)"
   ]
  },
  {
   "cell_type": "code",
   "execution_count": 26,
   "id": "9341b907",
   "metadata": {},
   "outputs": [
    {
     "data": {
      "text/plain": [
       "range"
      ]
     },
     "execution_count": 26,
     "metadata": {},
     "output_type": "execute_result"
    }
   ],
   "source": [
    "a = range(5)\n",
    "type(a)"
   ]
  },
  {
   "cell_type": "code",
   "execution_count": 28,
   "id": "f42255c2",
   "metadata": {},
   "outputs": [
    {
     "data": {
      "text/plain": [
       "[0, 1, 2, 3, 4]"
      ]
     },
     "execution_count": 28,
     "metadata": {},
     "output_type": "execute_result"
    }
   ],
   "source": [
    "b = list(a)\n",
    "b"
   ]
  },
  {
   "cell_type": "code",
   "execution_count": 30,
   "id": "5004efcd",
   "metadata": {},
   "outputs": [
    {
     "data": {
      "text/plain": [
       "[2, 3, 4, 5, 6, 7, 8, 9]"
      ]
     },
     "execution_count": 30,
     "metadata": {},
     "output_type": "execute_result"
    }
   ],
   "source": [
    "a1= range(2,10)\n",
    "b1= list(a1)\n",
    "b1"
   ]
  },
  {
   "cell_type": "code",
   "execution_count": null,
   "id": "0937afcf",
   "metadata": {},
   "outputs": [],
   "source": []
  },
  {
   "cell_type": "code",
   "execution_count": 31,
   "id": "1b408095",
   "metadata": {},
   "outputs": [
    {
     "data": {
      "text/plain": [
       "[2, 5, 8]"
      ]
     },
     "execution_count": 31,
     "metadata": {},
     "output_type": "execute_result"
    }
   ],
   "source": [
    "a2= range(2,10,3)\n",
    "b2= list(a2)\n",
    "b2"
   ]
  },
  {
   "cell_type": "code",
   "execution_count": null,
   "id": "dfb78a69",
   "metadata": {},
   "outputs": [],
   "source": []
  },
  {
   "cell_type": "code",
   "execution_count": 32,
   "id": "062c9fd6",
   "metadata": {},
   "outputs": [
    {
     "name": "stdout",
     "output_type": "stream",
     "text": [
      "0\n",
      "1\n",
      "2\n",
      "3\n",
      "4\n",
      "5\n",
      "6\n",
      "7\n",
      "8\n",
      "9\n",
      "10\n"
     ]
    }
   ],
   "source": [
    "# i have to genrate a number from 0 to 10 using for loop and range\n",
    "for i in  range(11):\n",
    "    print(i)"
   ]
  },
  {
   "cell_type": "code",
   "execution_count": 33,
   "id": "680f60d5",
   "metadata": {},
   "outputs": [
    {
     "name": "stdout",
     "output_type": "stream",
     "text": [
      "1\n",
      "3\n",
      "5\n",
      "7\n",
      "9\n",
      "11\n",
      "13\n",
      "15\n",
      "17\n",
      "19\n"
     ]
    }
   ],
   "source": [
    "# odd number from 0 to 20 using for and range\n",
    "for i in range(1,20,2):\n",
    "    print(i)"
   ]
  },
  {
   "cell_type": "code",
   "execution_count": null,
   "id": "b38f170f",
   "metadata": {},
   "outputs": [],
   "source": []
  },
  {
   "cell_type": "code",
   "execution_count": null,
   "id": "95440025",
   "metadata": {},
   "outputs": [],
   "source": []
  },
  {
   "cell_type": "code",
   "execution_count": null,
   "id": "567facea",
   "metadata": {},
   "outputs": [],
   "source": []
  },
  {
   "cell_type": "code",
   "execution_count": null,
   "id": "a52f9c92",
   "metadata": {},
   "outputs": [],
   "source": []
  },
  {
   "cell_type": "code",
   "execution_count": null,
   "id": "c52b1f90",
   "metadata": {},
   "outputs": [],
   "source": []
  },
  {
   "cell_type": "code",
   "execution_count": null,
   "id": "7684a3f4",
   "metadata": {},
   "outputs": [],
   "source": []
  },
  {
   "cell_type": "code",
   "execution_count": null,
   "id": "c72d1ca0",
   "metadata": {},
   "outputs": [],
   "source": []
  },
  {
   "cell_type": "markdown",
   "id": "3",
   "metadata": {},
   "source": [
    "## Example 1: Iterating Over a List"
   ]
  },
  {
   "cell_type": "code",
   "execution_count": 34,
   "id": "4",
   "metadata": {},
   "outputs": [
    {
     "name": "stdout",
     "output_type": "stream",
     "text": [
      "I love apple!\n",
      "I love banana!\n",
      "I love orange!\n",
      "I love grape!\n"
     ]
    }
   ],
   "source": [
    "fruits = ['apple', 'banana', 'orange', 'grape']\n",
    "\n",
    "for fruit in fruits:\n",
    "    print(f\"I love {fruit}!\")"
   ]
  },
  {
   "cell_type": "markdown",
   "id": "5",
   "metadata": {},
   "source": [
    "## Example 2: Using range() Function"
   ]
  },
  {
   "cell_type": "code",
   "execution_count": 35,
   "id": "6",
   "metadata": {},
   "outputs": [
    {
     "name": "stdout",
     "output_type": "stream",
     "text": [
      "Number: 1\n",
      "Number: 2\n",
      "Number: 3\n",
      "Number: 4\n",
      "Number: 5\n",
      "\n",
      "==============================\n",
      "\n",
      "Even number: 0\n",
      "Even number: 2\n",
      "Even number: 4\n",
      "Even number: 6\n",
      "Even number: 8\n",
      "Even number: 10\n"
     ]
    }
   ],
   "source": [
    "# Print numbers 1 to 5\n",
    "for i in range(1, 6):\n",
    "    print(f\"Number: {i}\")\n",
    "\n",
    "print(\"\\n\" + \"=\"*30 + \"\\n\")\n",
    "\n",
    "# Print even numbers from 0 to 10\n",
    "for i in range(0, 11, 2):  # start, stop, step\n",
    "    print(f\"Even number: {i}\")"
   ]
  },
  {
   "cell_type": "markdown",
   "id": "7",
   "metadata": {},
   "source": [
    "## Example 3: Iterating Over Strings"
   ]
  },
  {
   "cell_type": "code",
   "execution_count": null,
   "id": "8",
   "metadata": {},
   "outputs": [],
   "source": [
    "word = \"Python\"\n",
    "\n",
    "for letter in word:\n",
    "    print(f\"Letter: {letter}\")\n",
    "\n",
    "print(\"\\n\" + \"=\"*30 + \"\\n\")\n",
    "\n",
    "# Count vowels in a word\n",
    "vowels = \"aeiou\"\n",
    "vowel_count = 0\n",
    "\n",
    "for letter in word.lower():\n",
    "    if letter in vowels:\n",
    "        vowel_count += 1\n",
    "        print(f\"Found vowel: {letter}\")\n",
    "        \n",
    "print(f\"Total vowels in '{word}': {vowel_count}\")"
   ]
  },
  {
   "cell_type": "code",
   "execution_count": null,
   "id": "4d576fbb",
   "metadata": {},
   "outputs": [],
   "source": []
  },
  {
   "cell_type": "code",
   "execution_count": 2,
   "id": "cce19df1",
   "metadata": {},
   "outputs": [],
   "source": [
    "colors = ['red', 'green', 'blue', 'yellow']\n",
    "\n"
   ]
  },
  {
   "cell_type": "code",
   "execution_count": 4,
   "id": "7d0e97f5",
   "metadata": {},
   "outputs": [
    {
     "name": "stdout",
     "output_type": "stream",
     "text": [
      "2 red\n",
      "3 green\n",
      "4 blue\n",
      "5 yellow\n"
     ]
    }
   ],
   "source": [
    "for i,j in enumerate(colors,2):\n",
    "    print(i,j)"
   ]
  },
  {
   "cell_type": "code",
   "execution_count": null,
   "id": "56d4f34d",
   "metadata": {},
   "outputs": [],
   "source": []
  },
  {
   "cell_type": "code",
   "execution_count": null,
   "id": "f8f99de7",
   "metadata": {},
   "outputs": [],
   "source": []
  },
  {
   "cell_type": "code",
   "execution_count": null,
   "id": "1937d162",
   "metadata": {},
   "outputs": [],
   "source": []
  },
  {
   "cell_type": "code",
   "execution_count": null,
   "id": "de32b66c",
   "metadata": {},
   "outputs": [],
   "source": []
  },
  {
   "cell_type": "code",
   "execution_count": null,
   "id": "a9986194",
   "metadata": {},
   "outputs": [],
   "source": []
  },
  {
   "cell_type": "markdown",
   "id": "9",
   "metadata": {},
   "source": [
    "## Example 4: Using enumerate() for Index and Value"
   ]
  },
  {
   "cell_type": "code",
   "execution_count": null,
   "id": "10",
   "metadata": {},
   "outputs": [],
   "source": [
    "colors = ['red', 'green', 'blue', 'yellow']\n",
    "\n",
    "for index, color in enumerate(colors):\n",
    "    print(f\"Color {index}: {color}\")\n",
    "\n",
    "print(\"\\n\" + \"=\"*30 + \"\\n\")\n",
    "\n",
    "# Start enumeration from 1 instead of 0\n",
    "for index, color in enumerate(colors, 1):\n",
    "    print(f\"Color {index}: {color}\")"
   ]
  },
  {
   "cell_type": "markdown",
   "id": "11",
   "metadata": {},
   "source": [
    "## Example 5: Nested For Loops"
   ]
  },
  {
   "cell_type": "code",
   "execution_count": 1,
   "id": "12",
   "metadata": {},
   "outputs": [
    {
     "name": "stdout",
     "output_type": "stream",
     "text": [
      "1 x 1 = 1\n",
      "1 x 2 = 2\n",
      "1 x 3 = 3\n",
      "---\n",
      "2 x 1 = 2\n",
      "2 x 2 = 4\n",
      "2 x 3 = 6\n",
      "---\n",
      "3 x 1 = 3\n",
      "3 x 2 = 6\n",
      "3 x 3 = 9\n",
      "---\n"
     ]
    }
   ],
   "source": [
    "# Multiplication table\n",
    "for i in range(1, 4):\n",
    "    for j in range(1, 4):\n",
    "        result = i * j\n",
    "        print(f\"{i} x {j} = {result}\")\n",
    "    print(\"---\")  # Separator between tables"
   ]
  },
  {
   "cell_type": "markdown",
   "id": "13",
   "metadata": {},
   "source": [
    "## Example 6: List Comprehensions (Advanced)"
   ]
  },
  {
   "cell_type": "code",
   "execution_count": null,
   "id": "14",
   "metadata": {},
   "outputs": [],
   "source": [
    "# Traditional for loop to create a list of squares\n",
    "squares = []\n",
    "for i in range(1, 6):\n",
    "    squares.append(i ** 2)\n",
    "print(f\"Squares (traditional): {squares}\")\n",
    "\n",
    "# List comprehension (more concise)\n",
    "squares_comp = [i ** 2 for i in range(1, 6)]\n",
    "print(f\"Squares (comprehension): {squares_comp}\")\n",
    "\n",
    "# List comprehension with condition\n",
    "even_squares = [i ** 2 for i in range(1, 11) if i % 2 == 0]\n",
    "print(f\"Even squares: {even_squares}\")"
   ]
  },
  {
   "cell_type": "markdown",
   "id": "15",
   "metadata": {},
   "source": [
    "## Break and Continue in For Loops"
   ]
  },
  {
   "cell_type": "code",
   "execution_count": null,
   "id": "16",
   "metadata": {},
   "outputs": [],
   "source": [
    "# Using break to exit early\n",
    "numbers = [1, 2, 3, 4, 5, 6, 7, 8, 9, 10]\n",
    "\n",
    "print(\"Finding first number greater than 5:\")\n",
    "for num in numbers:\n",
    "    if num > 5:\n",
    "        print(f\"Found: {num}\")\n",
    "        break\n",
    "    print(f\"Checking: {num}\")\n",
    "\n",
    "print(\"\\n\" + \"=\"*30 + \"\\n\")\n",
    "\n",
    "# Using continue to skip iterations\n",
    "print(\"Printing only odd numbers:\")\n",
    "for num in numbers:\n",
    "    if num % 2 == 0:  # Skip even numbers\n",
    "        continue\n",
    "    print(f\"Odd number: {num}\")"
   ]
  },
  {
   "cell_type": "markdown",
   "id": "17",
   "metadata": {},
   "source": [
    "## Working with Dictionaries"
   ]
  },
  {
   "cell_type": "code",
   "execution_count": null,
   "id": "18",
   "metadata": {},
   "outputs": [],
   "source": [
    "student_grades = {\n",
    "    'Alice': 85,\n",
    "    'Bob': 92,\n",
    "    'Charlie': 78,\n",
    "    'Diana': 96\n",
    "}\n",
    "\n",
    "# Iterate over keys\n",
    "print(\"Student names:\")\n",
    "for name in student_grades:\n",
    "    print(name)\n",
    "\n",
    "print(\"\\n\" + \"=\"*30 + \"\\n\")\n",
    "\n",
    "# Iterate over key-value pairs\n",
    "print(\"Student grades:\")\n",
    "for name, grade in student_grades.items():\n",
    "    print(f\"{name}: {grade}\")\n",
    "\n",
    "print(\"\\n\" + \"=\"*30 + \"\\n\")\n",
    "\n",
    "# Iterate over values\n",
    "print(\"All grades:\")\n",
    "for grade in student_grades.values():\n",
    "    print(grade)"
   ]
  },
  {
   "cell_type": "markdown",
   "id": "19",
   "metadata": {},
   "source": [
    "## Practice Exercises\n",
    "\n",
    "Now it's your turn! Complete the following exercises:"
   ]
  },
  {
   "cell_type": "markdown",
   "id": "20",
   "metadata": {},
   "source": [
    "### Exercise 1: Sum of Numbers\n",
    "Calculate the sum of all numbers from 1 to 100 using a for loop."
   ]
  },
  {
   "cell_type": "code",
   "execution_count": null,
   "id": "21",
   "metadata": {},
   "outputs": [],
   "source": [
    "# TODO: Calculate sum of numbers from 1 to 100\n",
    "total = 0\n",
    "\n",
    "# Your code here\n",
    "\n",
    "\n",
    "print(f\"Sum of numbers 1 to 100: {total}\")"
   ]
  },
  {
   "cell_type": "markdown",
   "id": "22",
   "metadata": {},
   "source": [
    "### Exercise 2: Shopping List Manager\n",
    "Create a program that processes a shopping list and calculates the total cost."
   ]
  },
  {
   "cell_type": "code",
   "execution_count": null,
   "id": "23",
   "metadata": {},
   "outputs": [],
   "source": [
    "shopping_list = [\n",
    "    {'item': 'apples', 'price': 3.50, 'quantity': 2},\n",
    "    {'item': 'bread', 'price': 2.25, 'quantity': 1},\n",
    "    {'item': 'milk', 'price': 4.00, 'quantity': 1},\n",
    "    {'item': 'eggs', 'price': 6.00, 'quantity': 1}\n",
    "]\n",
    "\n",
    "total_cost = 0\n",
    "\n",
    "print(\"Shopping Receipt:\")\n",
    "print(\"-\" * 40)\n",
    "\n",
    "# TODO: Loop through shopping list and calculate total\n",
    "# For each item, print: \"item_name x quantity = $cost\"\n",
    "# Add the cost to total_cost\n",
    "\n",
    "\n",
    "\n",
    "print(\"-\" * 40)\n",
    "print(f\"Total Cost: ${total_cost:.2f}\")"
   ]
  },
  {
   "cell_type": "markdown",
   "id": "24",
   "metadata": {},
   "source": [
    "### Exercise 3: Password Strength Checker\n",
    "Check if a password meets certain criteria using a for loop."
   ]
  },
  {
   "cell_type": "code",
   "execution_count": null,
   "id": "25",
   "metadata": {},
   "outputs": [],
   "source": [
    "password = \"MySecure123!\"\n",
    "\n",
    "# Initialize counters\n",
    "has_uppercase = False\n",
    "has_lowercase = False\n",
    "has_digit = False\n",
    "has_special = False\n",
    "\n",
    "special_chars = \"!@#$%^&*()_+-=[]{}|;:,.<>?\"\n",
    "\n",
    "# TODO: Loop through each character in password\n",
    "# Check if it's uppercase, lowercase, digit, or special character\n",
    "# Set the corresponding boolean variables to True\n",
    "\n",
    "\n",
    "\n",
    "# Check password strength\n",
    "criteria_met = sum([has_uppercase, has_lowercase, has_digit, has_special])\n",
    "is_long_enough = len(password) >= 8\n",
    "\n",
    "print(f\"Password: {password}\")\n",
    "print(f\"Length >= 8: {is_long_enough}\")\n",
    "print(f\"Has uppercase: {has_uppercase}\")\n",
    "print(f\"Has lowercase: {has_lowercase}\")\n",
    "print(f\"Has digit: {has_digit}\")\n",
    "print(f\"Has special character: {has_special}\")\n",
    "\n",
    "if is_long_enough and criteria_met >= 3:\n",
    "    print(\"✅ Strong password!\")\n",
    "elif criteria_met >= 2:\n",
    "    print(\"⚠️ Medium strength password\")\n",
    "else:\n",
    "    print(\"❌ Weak password\")"
   ]
  },
  {
   "cell_type": "markdown",
   "id": "26",
   "metadata": {},
   "source": [
    "### Exercise 4: Pattern Generator\n",
    "Create different patterns using nested for loops."
   ]
  },
  {
   "cell_type": "code",
   "execution_count": null,
   "id": "27",
   "metadata": {},
   "outputs": [],
   "source": [
    "print(\"Pattern 1: Right Triangle\")\n",
    "# TODO: Create a right triangle pattern like this:\n",
    "# *\n",
    "# **\n",
    "# ***\n",
    "# ****\n",
    "# *****\n",
    "\n",
    "rows = 5\n",
    "# Your code here\n",
    "\n",
    "\n",
    "print(\"\\nPattern 2: Number Triangle\")\n",
    "# TODO: Create a number triangle like this:\n",
    "# 1\n",
    "# 1 2\n",
    "# 1 2 3\n",
    "# 1 2 3 4\n",
    "# 1 2 3 4 5\n",
    "\n",
    "# Your code here\n",
    "\n",
    "\n",
    "print(\"\\nPattern 3: Multiplication Table\")\n",
    "# TODO: Create a 5x5 multiplication table\n",
    "# Format: \"2 x 3 = 6\"\n",
    "\n",
    "# Your code here\n"
   ]
  },
  {
   "cell_type": "markdown",
   "id": "28",
   "metadata": {},
   "source": [
    "### Exercise 5: Word Analysis\n",
    "Analyze a sentence and provide statistics about it."
   ]
  },
  {
   "cell_type": "code",
   "execution_count": null,
   "id": "29",
   "metadata": {},
   "outputs": [],
   "source": [
    "sentence = \"The quick brown fox jumps over the lazy dog\"\n",
    "\n",
    "# Initialize counters\n",
    "word_count = 0\n",
    "char_count = 0\n",
    "vowel_count = 0\n",
    "consonant_count = 0\n",
    "\n",
    "vowels = \"aeiouAEIOU\"\n",
    "words = sentence.split()\n",
    "\n",
    "# TODO: Count total words\n",
    "word_count = len(words)\n",
    "\n",
    "# TODO: Loop through each character in the sentence\n",
    "# Count total characters, vowels, and consonants\n",
    "# Skip spaces and punctuation for vowel/consonant count\n",
    "\n",
    "\n",
    "\n",
    "print(f\"Sentence: '{sentence}'\")\n",
    "print(f\"Word count: {word_count}\")\n",
    "print(f\"Character count: {char_count}\")\n",
    "print(f\"Vowel count: {vowel_count}\")\n",
    "print(f\"Consonant count: {consonant_count}\")\n",
    "\n",
    "# TODO: Find the longest word\n",
    "longest_word = \"\"\n",
    "# Your code here\n",
    "\n",
    "\n",
    "print(f\"Longest word: '{longest_word}' ({len(longest_word)} characters)\")"
   ]
  },
  {
   "cell_type": "markdown",
   "id": "30",
   "metadata": {},
   "source": [
    "### Exercise 6: Grade Calculator\n",
    "Process student data and calculate class statistics."
   ]
  },
  {
   "cell_type": "code",
   "execution_count": null,
   "id": "31",
   "metadata": {},
   "outputs": [],
   "source": [
    "students = [\n",
    "    {'name': 'Alice', 'scores': [85, 92, 78, 96, 88]},\n",
    "    {'name': 'Bob', 'scores': [79, 85, 90, 82, 87]},\n",
    "    {'name': 'Charlie', 'scores': [92, 88, 84, 90, 85]},\n",
    "    {'name': 'Diana', 'scores': [96, 94, 89, 92, 98]},\n",
    "    {'name': 'Eve', 'scores': [73, 81, 79, 85, 80]}\n",
    "]\n",
    "\n",
    "print(\"Student Report Card\")\n",
    "print(\"=\" * 50)\n",
    "\n",
    "class_total = 0\n",
    "student_count = len(students)\n",
    "\n",
    "# TODO: For each student:\n",
    "# 1. Calculate their average score\n",
    "# 2. Determine their letter grade (A: 90+, B: 80-89, C: 70-79, D: 60-69, F: <60)\n",
    "# 3. Add their average to class_total\n",
    "# 4. Print: \"Name: Average (Letter Grade)\"\n",
    "\n",
    "\n",
    "\n",
    "# Calculate class average\n",
    "class_average = class_total / student_count\n",
    "\n",
    "print(\"=\" * 50)\n",
    "print(f\"Class Average: {class_average:.2f}\")\n",
    "\n",
    "# TODO: Find the student with highest average\n",
    "top_student = \"\"\n",
    "highest_average = 0\n",
    "\n",
    "# Your code here\n",
    "\n",
    "\n",
    "print(f\"Top Student: {top_student} ({highest_average:.2f})\")"
   ]
  },
  {
   "cell_type": "markdown",
   "id": "32",
   "metadata": {},
   "source": [
    "## Advanced Challenge: FizzBuzz\n",
    "The classic programming problem!"
   ]
  },
  {
   "cell_type": "code",
   "execution_count": null,
   "id": "33",
   "metadata": {},
   "outputs": [],
   "source": [
    "# TODO: FizzBuzz Challenge\n",
    "# For numbers 1 to 100:\n",
    "# - If divisible by 3: print \"Fizz\"\n",
    "# - If divisible by 5: print \"Buzz\"\n",
    "# - If divisible by both 3 and 5: print \"FizzBuzz\"\n",
    "# - Otherwise: print the number\n",
    "\n",
    "# Your code here\n"
   ]
  },
  {
   "cell_type": "code",
   "execution_count": null,
   "id": "a04ce62a",
   "metadata": {},
   "outputs": [],
   "source": []
  },
  {
   "cell_type": "code",
   "execution_count": null,
   "id": "fbe313ef",
   "metadata": {},
   "outputs": [],
   "source": [
    "#      *\n",
    "# *         *\n",
    "# ***\n",
    "# ****\n",
    "# *****"
   ]
  },
  {
   "cell_type": "markdown",
   "id": "34",
   "metadata": {},
   "source": [
    "## Key Takeaways\n",
    "\n",
    "- **For loops** are perfect for iterating over sequences\n",
    "- Use **range()** to generate number sequences\n",
    "- **enumerate()** gives you both index and value\n",
    "- **List comprehensions** provide a concise way to create lists\n",
    "- **break** exits the loop early, **continue** skips to next iteration\n",
    "- Nested loops let you work with multi-dimensional data\n",
    "\n",
    "Great job completing the for loop tutorial! 🐍"
   ]
  }
 ],
 "metadata": {
  "kernelspec": {
   "display_name": "base",
   "language": "python",
   "name": "python3"
  },
  "language_info": {
   "codemirror_mode": {
    "name": "ipython",
    "version": 3
   },
   "file_extension": ".py",
   "mimetype": "text/x-python",
   "name": "python",
   "nbconvert_exporter": "python",
   "pygments_lexer": "ipython3",
   "version": "3.12.9"
  }
 },
 "nbformat": 4,
 "nbformat_minor": 5
}
