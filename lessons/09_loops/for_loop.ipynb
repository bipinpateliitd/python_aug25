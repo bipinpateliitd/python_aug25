{
 "cells": [
  {
   "cell_type": "code",
   "execution_count": null,
   "id": "4ee0464e",
   "metadata": {},
   "outputs": [],
   "source": [
    "# Without a loop (repetitive and inefficient):\n",
    "print(\"Welcome!\")\n",
    "print(\"Welcome!\")\n",
    "print(\"Welcome!\")\n",
    "print(\"Welcome!\")\n",
    "print(\"Welcome!\")\n",
    "\n"
   ]
  },
  {
   "cell_type": "code",
   "execution_count": null,
   "id": "74c4d7c9",
   "metadata": {},
   "outputs": [],
   "source": []
  },
  {
   "cell_type": "code",
   "execution_count": null,
   "id": "8d0eb6fd",
   "metadata": {},
   "outputs": [],
   "source": [
    "# With a loop (clean and efficient):\n",
    "for i in range(5):\n",
    "    print(\"Welcome!\")"
   ]
  },
  {
   "cell_type": "code",
   "execution_count": null,
   "id": "db38fad5",
   "metadata": {},
   "outputs": [],
   "source": [
    "for variable_name in sequence:\n",
    "    # Code to execute repeatedly\n",
    "    # This code is indented (4 spaces or 1 tab)"
   ]
  },
  {
   "cell_type": "markdown",
   "id": "ad03ca23",
   "metadata": {},
   "source": [
    "# Key Components:\n",
    "\n",
    "* for - The keyword that starts the loop\n",
    "* variable_name - A temporary variable that changes each iteration\n",
    "* in - Keyword that connects the variable to the sequence\n",
    "* sequence - What you're looping through (numbers, lists, strings, etc.)\n",
    "* : (colon) - Marks the end of the for loop declaration\n",
    "* Indented code block - The code that gets repeated"
   ]
  },
  {
   "cell_type": "code",
   "execution_count": 1,
   "id": "63769226",
   "metadata": {},
   "outputs": [
    {
     "name": "stdout",
     "output_type": "stream",
     "text": [
      "Loop number: 0\n",
      "This is inside the loop\n",
      "Loop number: 1\n",
      "This is inside the loop\n",
      "Loop number: 2\n",
      "This is inside the loop\n",
      "This is outside the loop\n"
     ]
    }
   ],
   "source": [
    "for i in range(3):\n",
    "    print(f\"Loop number: {i}\")\n",
    "    print(\"This is inside the loop\")\n",
    "print(\"This is outside the loop\")"
   ]
  },
  {
   "cell_type": "code",
   "execution_count": null,
   "id": "98521f5b",
   "metadata": {},
   "outputs": [],
   "source": [
    "# Creates numbers from 0 to stop-1\n",
    "for i in range(5):\n",
    "    print(i)"
   ]
  },
  {
   "cell_type": "code",
   "execution_count": null,
   "id": "c1408c6c",
   "metadata": {},
   "outputs": [],
   "source": [
    "# Creates numbers from start to stop-1\n",
    "for i in range(2, 8):\n",
    "    print(i)"
   ]
  },
  {
   "cell_type": "code",
   "execution_count": 1,
   "id": "d5e30ffa",
   "metadata": {},
   "outputs": [
    {
     "name": "stdout",
     "output_type": "stream",
     "text": [
      "1\n",
      "3\n",
      "5\n",
      "7\n",
      "9\n"
     ]
    }
   ],
   "source": [
    "# Creates numbers from start to stop-1, incrementing by step\n",
    "for i in range(1, 10, 2):\n",
    "    print(i)"
   ]
  },
  {
   "cell_type": "code",
   "execution_count": null,
   "id": "fadf2acd",
   "metadata": {},
   "outputs": [],
   "source": [
    "# Counting backwards\n",
    "for i in range(10, 0, -1):\n",
    "    print(i)\n",
    "# Output: 10, 9, 8, 7, 6, 5, 4, 3, 2, 1\n",
    "\n",
    "# Even numbers\n",
    "for i in range(0, 11, 2):\n",
    "    print(i)\n",
    "# Output: 0, 2, 4, 6, 8, 10\n",
    "\n",
    "# Negative numbers\n",
    "for i in range(-5, 1):\n",
    "    print(i)\n",
    "# Output: -5, -4, -3, -2, -1, 0"
   ]
  },
  {
   "cell_type": "code",
   "execution_count": null,
   "id": "9ed18cdb",
   "metadata": {},
   "outputs": [],
   "source": []
  },
  {
   "cell_type": "code",
   "execution_count": null,
   "id": "c4257f4e",
   "metadata": {},
   "outputs": [],
   "source": []
  },
  {
   "cell_type": "code",
   "execution_count": null,
   "id": "0c8069c4",
   "metadata": {},
   "outputs": [],
   "source": []
  },
  {
   "cell_type": "code",
   "execution_count": null,
   "id": "2754aadd",
   "metadata": {},
   "outputs": [],
   "source": [
    "# range() creates a sequence, but doesn't store all numbers in memory\n",
    "print(range(5))        # Output: range(0, 5)\n",
    "print(list(range(5)))  # Output: [0, 1, 2, 3, 4]"
   ]
  },
  {
   "cell_type": "markdown",
   "id": "de0d7a61",
   "metadata": {},
   "source": [
    "# Step-by-step execution:\n",
    "\n",
    "* First iteration: number = 1\n",
    "* Second iteration: number = 2\n",
    "*  Third iteration: number = 3\n",
    "\n",
    "* Variable Naming:\n",
    "* You can use any name for your loop variable:"
   ]
  },
  {
   "cell_type": "code",
   "execution_count": null,
   "id": "ce64be2f",
   "metadata": {},
   "outputs": [],
   "source": [
    "# Common names:\n",
    "for i in range(3):          # 'i' for index/iteration\n",
    "    print(i)\n",
    "\n",
    "for count in range(3):      # Descriptive names\n",
    "    print(count)\n",
    "\n",
    "for x in range(3):          # Single letters\n",
    "    print(x)"
   ]
  },
  {
   "cell_type": "code",
   "execution_count": null,
   "id": "6bfc80b4",
   "metadata": {},
   "outputs": [],
   "source": [
    "for i in range(3):\n",
    "    print(f\"Inside loop: i = {i}\")\n",
    "\n",
    "print(f\"Outside loop: i = {i}\")  # i still exists and equals 2"
   ]
  },
  {
   "cell_type": "code",
   "execution_count": null,
   "id": "3df7e993",
   "metadata": {},
   "outputs": [],
   "source": []
  },
  {
   "cell_type": "code",
   "execution_count": null,
   "id": "8cefb6be",
   "metadata": {},
   "outputs": [],
   "source": [
    "# Basic list looping\n",
    "fruits = [\"apple\", \"banana\", \"cherry\", \"date\"]\n",
    "\n",
    "for fruit in fruits:\n",
    "    print(f\"I like {fruit}\")"
   ]
  },
  {
   "cell_type": "code",
   "execution_count": null,
   "id": "2e6b4df0",
   "metadata": {},
   "outputs": [],
   "source": []
  },
  {
   "cell_type": "code",
   "execution_count": null,
   "id": "fcadd5b7",
   "metadata": {},
   "outputs": [],
   "source": [
    "# Getting index and value using enumerate()\n",
    "fruits = [\"apple\", \"banana\", \"cherry\"]\n",
    "\n",
    "for index, fruit in enumerate(fruits):\n",
    "    print(f\"Position {index}: {fruit}\")"
   ]
  },
  {
   "cell_type": "code",
   "execution_count": null,
   "id": "7baee3fa",
   "metadata": {},
   "outputs": [],
   "source": [
    "# Accessing by index (traditional way)\n",
    "fruits = [\"apple\", \"banana\", \"cherry\"]\n",
    "\n",
    "for i in range(len(fruits)):\n",
    "    print(f\"Position {i}: {fruits[i]}\")"
   ]
  },
  {
   "cell_type": "code",
   "execution_count": null,
   "id": "b50f4238",
   "metadata": {},
   "outputs": [],
   "source": []
  },
  {
   "cell_type": "code",
   "execution_count": null,
   "id": "16a35800",
   "metadata": {},
   "outputs": [],
   "source": [
    " # using for loop and range we have print square of number from 0 to 20"
   ]
  },
  {
   "cell_type": "code",
   "execution_count": 3,
   "id": "8480034a",
   "metadata": {},
   "outputs": [
    {
     "name": "stdout",
     "output_type": "stream",
     "text": [
      "0\n",
      "1\n",
      "4\n",
      "9\n",
      "16\n",
      "25\n",
      "36\n",
      "49\n",
      "64\n",
      "81\n",
      "100\n",
      "121\n",
      "144\n",
      "169\n",
      "196\n",
      "225\n",
      "256\n",
      "289\n",
      "324\n",
      "361\n",
      "400\n"
     ]
    }
   ],
   "source": [
    "for i in range(21):\n",
    "    print(i**2)"
   ]
  },
  {
   "cell_type": "code",
   "execution_count": 7,
   "id": "d3f89b37",
   "metadata": {},
   "outputs": [
    {
     "name": "stdout",
     "output_type": "stream",
     "text": [
      "120\n"
     ]
    }
   ],
   "source": [
    "number  = 5\n",
    "x=1\n",
    "for i in range(1,number+1):\n",
    "    x=x*i\n",
    "print(x)\n",
    "    \n",
    "    \n",
    "    "
   ]
  },
  {
   "cell_type": "code",
   "execution_count": null,
   "id": "8b62963b",
   "metadata": {},
   "outputs": [],
   "source": []
  },
  {
   "cell_type": "code",
   "execution_count": null,
   "id": "7cd5804a",
   "metadata": {},
   "outputs": [],
   "source": []
  },
  {
   "cell_type": "code",
   "execution_count": null,
   "id": "74d15aa3",
   "metadata": {},
   "outputs": [],
   "source": []
  },
  {
   "cell_type": "code",
   "execution_count": null,
   "id": "f92941c5",
   "metadata": {},
   "outputs": [],
   "source": []
  },
  {
   "cell_type": "code",
   "execution_count": null,
   "id": "196261b5",
   "metadata": {},
   "outputs": [],
   "source": []
  },
  {
   "cell_type": "code",
   "execution_count": null,
   "id": "8da04f2e",
   "metadata": {},
   "outputs": [],
   "source": []
  },
  {
   "cell_type": "code",
   "execution_count": null,
   "id": "29a6dbc4",
   "metadata": {},
   "outputs": [],
   "source": [
    "# Each character in a string\n",
    "word = \"Python\"\n",
    "\n",
    "for letter in word:\n",
    "    print(f\"Letter: {letter}\")"
   ]
  },
  {
   "cell_type": "code",
   "execution_count": null,
   "id": "1f98442c",
   "metadata": {},
   "outputs": [],
   "source": [
    "# With index\n",
    "word = \"Hello\"\n",
    "\n",
    "for i, letter in enumerate(word):\n",
    "    print(f\"Position {i}: {letter}\")"
   ]
  },
  {
   "cell_type": "code",
   "execution_count": null,
   "id": "2979a40a",
   "metadata": {},
   "outputs": [],
   "source": []
  },
  {
   "cell_type": "code",
   "execution_count": null,
   "id": "912fce4f",
   "metadata": {},
   "outputs": [],
   "source": [
    "# Dictionary basics\n",
    "student_grades = {\"Alice\": 95, \"Bob\": 87, \"Charlie\": 92}\n",
    "\n",
    "# Loop through keys\n",
    "for name in student_grades:\n",
    "    print(f\"Student: {name}\")\n",
    "\n",
    "# Loop through values\n",
    "for grade in student_grades.values():\n",
    "    print(f\"Grade: {grade}\")\n",
    "\n",
    "# Loop through key-value pairs\n",
    "for name, grade in student_grades.items():\n",
    "    print(f\"{name} scored {grade}\")"
   ]
  },
  {
   "cell_type": "code",
   "execution_count": null,
   "id": "a459ad11",
   "metadata": {},
   "outputs": [],
   "source": []
  },
  {
   "cell_type": "code",
   "execution_count": null,
   "id": "24331887",
   "metadata": {},
   "outputs": [],
   "source": [
    "coordinates = [(1, 2), (3, 4), (5, 6)]\n",
    "\n",
    "for x, y in coordinates:\n",
    "    print(f\"Point at ({x}, {y})\")"
   ]
  },
  {
   "cell_type": "code",
   "execution_count": null,
   "id": "584d419c",
   "metadata": {},
   "outputs": [],
   "source": [
    "unique_colors = {\"red\", \"blue\", \"green\", \"red\", \"blue\"}\n",
    "\n",
    "for color in unique_colors:\n",
    "    print(f\"Color: {color}\")\n",
    "# Note: Sets don't maintain order, so output order may vary"
   ]
  },
  {
   "cell_type": "code",
   "execution_count": null,
   "id": "987133b7",
   "metadata": {},
   "outputs": [],
   "source": []
  },
  {
   "cell_type": "code",
   "execution_count": null,
   "id": "93a44ed4",
   "metadata": {},
   "outputs": [],
   "source": [
    "numbers = [10, 20, 30, 40, 50]\n",
    "total = 0\n",
    "\n",
    "for number in numbers:\n",
    "    total = total + number\n",
    "    print(f\"Adding {number}, total is now {total}\")\n",
    "\n",
    "print(f\"Final sum: {total}\")"
   ]
  },
  {
   "cell_type": "code",
   "execution_count": null,
   "id": "8454263c",
   "metadata": {},
   "outputs": [],
   "source": []
  },
  {
   "cell_type": "code",
   "execution_count": null,
   "id": "f7355b4f",
   "metadata": {},
   "outputs": [],
   "source": [
    "animals = [\"cat\", \"dog\", \"cat\", \"bird\", \"cat\", \"fish\"]\n",
    "cat_count = 0\n",
    "\n",
    "for animal in animals:\n",
    "    if animal == \"cat\":\n",
    "        cat_count = cat_count + 1\n",
    "\n",
    "print(f\"Number of cats: {cat_count}\")"
   ]
  },
  {
   "cell_type": "code",
   "execution_count": null,
   "id": "166b1889",
   "metadata": {},
   "outputs": [],
   "source": []
  },
  {
   "cell_type": "code",
   "execution_count": null,
   "id": "a182a3a1",
   "metadata": {},
   "outputs": [],
   "source": [
    "numbers = [45, 23, 67, 89, 12, 95, 34]\n",
    "max_number = numbers[0]  # Start with first number\n",
    "\n",
    "for number in numbers:\n",
    "    if number > max_number:\n",
    "        max_number = number\n",
    "\n",
    "print(f\"The largest number is: {max_number}\")"
   ]
  },
  {
   "cell_type": "code",
   "execution_count": null,
   "id": "d9cb58df",
   "metadata": {},
   "outputs": [],
   "source": []
  },
  {
   "cell_type": "code",
   "execution_count": null,
   "id": "8a4c4a12",
   "metadata": {},
   "outputs": [],
   "source": []
  },
  {
   "cell_type": "code",
   "execution_count": null,
   "id": "779435ca",
   "metadata": {},
   "outputs": [],
   "source": [
    "# Finding the first even number\n",
    "numbers = [1, 3, 7, 8, 9, 10, 11]\n",
    "\n",
    "for number in numbers:\n",
    "    print(f\"Checking {number}\")\n",
    "    if number % 2 == 0:  # If number is even\n",
    "        print(f\"Found first even number: {number}\")\n",
    "        break  # Stop the loop here\n",
    "    print(f\"{number} is odd, continuing...\")\n",
    "\n",
    "print(\"Loop finished\")"
   ]
  },
  {
   "cell_type": "code",
   "execution_count": null,
   "id": "1adae031",
   "metadata": {},
   "outputs": [],
   "source": []
  },
  {
   "cell_type": "code",
   "execution_count": null,
   "id": "1cca6494",
   "metadata": {},
   "outputs": [],
   "source": []
  },
  {
   "cell_type": "code",
   "execution_count": null,
   "id": "52bf3b05",
   "metadata": {},
   "outputs": [],
   "source": [
    "# Print only positive numbers\n",
    "numbers = [-2, 5, -1, 8, -3, 12]\n",
    "\n",
    "for number in numbers:\n",
    "    if number < 0:\n",
    "        continue  # Skip negative numbers\n",
    "    print(f\"Positive number: {number}\")"
   ]
  },
  {
   "cell_type": "code",
   "execution_count": null,
   "id": "2decad33",
   "metadata": {},
   "outputs": [],
   "source": []
  },
  {
   "cell_type": "code",
   "execution_count": null,
   "id": "feb27ec4",
   "metadata": {},
   "outputs": [],
   "source": [
    "# Keep asking for valid input\n",
    "valid_colors = [\"red\", \"blue\", \"green\", \"yellow\"]\n",
    "\n",
    "for attempt in range(3):  # Give user 3 attempts\n",
    "    color = input(\"Enter a color (red, blue, green, yellow): \").lower()\n",
    "    \n",
    "    if color in valid_colors:\n",
    "        print(f\"Great! You chose {color}\")\n",
    "        break\n",
    "    else:\n",
    "        print(\"Invalid color, try again\")\n",
    "        if attempt == 2:  # Last attempt\n",
    "            print(\"Too many invalid attempts!\")"
   ]
  },
  {
   "cell_type": "code",
   "execution_count": null,
   "id": "10811ec6",
   "metadata": {},
   "outputs": [],
   "source": []
  },
  {
   "cell_type": "code",
   "execution_count": null,
   "id": "0d650ab6",
   "metadata": {},
   "outputs": [],
   "source": []
  },
  {
   "cell_type": "code",
   "execution_count": null,
   "id": "48914c61",
   "metadata": {},
   "outputs": [],
   "source": [
    "for i in range(3):\n",
    "    print(f\"Outer loop: i = {i}\")\n",
    "    for j in range(2):\n",
    "        print(f\"  Inner loop: j = {j}\")\n",
    "    print(\"  Inner loop finished\")\n",
    "print(\"Outer loop finished\")"
   ]
  },
  {
   "cell_type": "code",
   "execution_count": null,
   "id": "7baad441",
   "metadata": {},
   "outputs": [],
   "source": []
  },
  {
   "cell_type": "code",
   "execution_count": null,
   "id": "dd21e565",
   "metadata": {},
   "outputs": [],
   "source": [
    "rows = 4\n",
    "cols = 6\n",
    "\n",
    "for i in range(rows):\n",
    "    for j in range(cols):\n",
    "        print(\"*\", end=\"\")\n",
    "    print()  # New line after each row"
   ]
  },
  {
   "cell_type": "code",
   "execution_count": null,
   "id": "624dd883",
   "metadata": {},
   "outputs": [],
   "source": []
  },
  {
   "cell_type": "code",
   "execution_count": null,
   "id": "167d8459",
   "metadata": {},
   "outputs": [],
   "source": [
    " "
   ]
  },
  {
   "cell_type": "code",
   "execution_count": 9,
   "id": "4c489a6e",
   "metadata": {},
   "outputs": [],
   "source": [
    "x= [1, 4, 9 ,10 ,5, 4, 3]\n",
    "# print the even number from this list  using for loop\n"
   ]
  },
  {
   "cell_type": "code",
   "execution_count": null,
   "id": "925ee04b",
   "metadata": {},
   "outputs": [
    {
     "name": "stdout",
     "output_type": "stream",
     "text": [
      "even number:4\n"
     ]
    }
   ],
   "source": [
    "\n",
    "for  i in x:\n",
    "    if i%2==0:\n",
    "        print(f\"even number:{i}\")\n",
    "        break"
   ]
  },
  {
   "cell_type": "code",
   "execution_count": null,
   "id": "09d21c56",
   "metadata": {},
   "outputs": [],
   "source": []
  },
  {
   "cell_type": "code",
   "execution_count": 15,
   "id": "bd15ae44",
   "metadata": {},
   "outputs": [
    {
     "name": "stdout",
     "output_type": "stream",
     "text": [
      "odd number:1\n",
      "odd number:9\n",
      "odd number:5\n",
      "odd number:3\n"
     ]
    }
   ],
   "source": [
    "\n",
    "for  i in x:\n",
    "    if i%2==0:\n",
    "        continue\n",
    "        print(f\"even number:{i}\")\n",
    "    else:\n",
    "        print(f\"odd number:{i}\")"
   ]
  },
  {
   "cell_type": "code",
   "execution_count": null,
   "id": "66ed6dea",
   "metadata": {},
   "outputs": [],
   "source": []
  },
  {
   "cell_type": "code",
   "execution_count": null,
   "id": "17df32f6",
   "metadata": {},
   "outputs": [],
   "source": []
  },
  {
   "cell_type": "code",
   "execution_count": null,
   "id": "28239a2e",
   "metadata": {},
   "outputs": [],
   "source": [
    "for i in x:\n",
    "    for j in k:\n",
    "        break"
   ]
  },
  {
   "cell_type": "code",
   "execution_count": null,
   "id": "61924a1a",
   "metadata": {},
   "outputs": [],
   "source": []
  },
  {
   "cell_type": "code",
   "execution_count": null,
   "id": "be103419",
   "metadata": {},
   "outputs": [],
   "source": []
  },
  {
   "cell_type": "code",
   "execution_count": 11,
   "id": "531b7b76",
   "metadata": {},
   "outputs": [
    {
     "name": "stdout",
     "output_type": "stream",
     "text": [
      "odd number:1\n",
      "even number:4\n",
      "odd number:9\n",
      "even number:10\n",
      "odd number:5\n",
      "even number:4\n",
      "odd number:3\n"
     ]
    }
   ],
   "source": [
    "for  i in x:\n",
    "    if i%2==0:\n",
    "        print(f\"even number:{i}\")\n",
    "    else:\n",
    "        print(f\"odd number:{i}\")\n",
    "        \n",
    "    \n",
    "    "
   ]
  },
  {
   "cell_type": "code",
   "execution_count": null,
   "id": "4d4f2ba8",
   "metadata": {},
   "outputs": [],
   "source": []
  },
  {
   "cell_type": "code",
   "execution_count": null,
   "id": "98908919",
   "metadata": {},
   "outputs": [],
   "source": []
  },
  {
   "cell_type": "code",
   "execution_count": null,
   "id": "b6cfc0ef",
   "metadata": {},
   "outputs": [],
   "source": []
  },
  {
   "cell_type": "code",
   "execution_count": null,
   "id": "366ac8a0",
   "metadata": {},
   "outputs": [],
   "source": []
  },
  {
   "cell_type": "code",
   "execution_count": null,
   "id": "a7f09f70",
   "metadata": {},
   "outputs": [],
   "source": []
  },
  {
   "cell_type": "code",
   "execution_count": null,
   "id": "322a98d3",
   "metadata": {},
   "outputs": [],
   "source": []
  },
  {
   "cell_type": "code",
   "execution_count": null,
   "id": "b9144a03",
   "metadata": {},
   "outputs": [],
   "source": [
    "for i in range(1, 6):\n",
    "    for j in range(i):\n",
    "        print(\"*\", end=\"\")\n",
    "    print()"
   ]
  },
  {
   "cell_type": "code",
   "execution_count": null,
   "id": "800f731a",
   "metadata": {},
   "outputs": [],
   "source": []
  },
  {
   "cell_type": "code",
   "execution_count": 16,
   "id": "951bb3db",
   "metadata": {},
   "outputs": [],
   "source": [
    "# 2D list (list of lists)\n",
    "a= [\n",
    "    [1, 2, 3],\n",
    "    [4, 5, 6],\n",
    "    [7, 8, 9]\n",
    "]\n"
   ]
  },
  {
   "cell_type": "code",
   "execution_count": 20,
   "id": "66bfc879",
   "metadata": {},
   "outputs": [
    {
     "data": {
      "text/plain": [
       "3"
      ]
     },
     "execution_count": 20,
     "metadata": {},
     "output_type": "execute_result"
    }
   ],
   "source": [
    "len(a)"
   ]
  },
  {
   "cell_type": "code",
   "execution_count": 17,
   "id": "6cd6a50f",
   "metadata": {},
   "outputs": [
    {
     "data": {
      "text/plain": [
       "[1, 2, 3]"
      ]
     },
     "execution_count": 17,
     "metadata": {},
     "output_type": "execute_result"
    }
   ],
   "source": [
    "a[0]"
   ]
  },
  {
   "cell_type": "code",
   "execution_count": 18,
   "id": "080ff01a",
   "metadata": {},
   "outputs": [
    {
     "data": {
      "text/plain": [
       "2"
      ]
     },
     "execution_count": 18,
     "metadata": {},
     "output_type": "execute_result"
    }
   ],
   "source": [
    "a[0][1]"
   ]
  },
  {
   "cell_type": "code",
   "execution_count": 19,
   "id": "124ca33a",
   "metadata": {},
   "outputs": [
    {
     "name": "stdout",
     "output_type": "stream",
     "text": [
      "[1, 2, 3]\n",
      "[4, 5, 6]\n",
      "[7, 8, 9]\n"
     ]
    }
   ],
   "source": [
    "for  i in a:\n",
    "    print(i)"
   ]
  },
  {
   "cell_type": "code",
   "execution_count": 21,
   "id": "5a465b6a",
   "metadata": {},
   "outputs": [
    {
     "name": "stdout",
     "output_type": "stream",
     "text": [
      "1\n",
      "2\n",
      "3\n",
      "4\n",
      "5\n",
      "6\n",
      "7\n",
      "8\n",
      "9\n"
     ]
    }
   ],
   "source": [
    "for i in a:\n",
    "    for j in i:\n",
    "        print(j)"
   ]
  },
  {
   "cell_type": "code",
   "execution_count": 22,
   "id": "37b3c6ba",
   "metadata": {},
   "outputs": [
    {
     "name": "stdout",
     "output_type": "stream",
     "text": [
      "1\n",
      "2\n",
      "3\n",
      "4\n",
      "6\n",
      "7\n",
      "8\n",
      "9\n"
     ]
    }
   ],
   "source": [
    "for i in a:\n",
    "    for j in i:\n",
    "        if j==5:\n",
    "            continue\n",
    "        else:\n",
    "            print(j)"
   ]
  },
  {
   "cell_type": "code",
   "execution_count": null,
   "id": "aa0ecdb7",
   "metadata": {},
   "outputs": [],
   "source": []
  },
  {
   "cell_type": "code",
   "execution_count": null,
   "id": "7caf7b4b",
   "metadata": {},
   "outputs": [],
   "source": []
  },
  {
   "cell_type": "code",
   "execution_count": null,
   "id": "e8cb7146",
   "metadata": {},
   "outputs": [],
   "source": []
  },
  {
   "cell_type": "code",
   "execution_count": null,
   "id": "ac263e13",
   "metadata": {},
   "outputs": [],
   "source": []
  },
  {
   "cell_type": "code",
   "execution_count": null,
   "id": "1544d4cb",
   "metadata": {},
   "outputs": [],
   "source": [
    "# Sum of squares\n",
    "numbers = [1, 2, 3, 4, 5]\n",
    "sum_of_squares = 0\n",
    "\n",
    "for number in numbers:\n",
    "    square = number * number\n",
    "    sum_of_squares += square\n",
    "\n",
    "print(f\"Sum of squares: {sum_of_squares}\")"
   ]
  },
  {
   "cell_type": "code",
   "execution_count": null,
   "id": "6f2111db",
   "metadata": {},
   "outputs": [],
   "source": []
  },
  {
   "cell_type": "code",
   "execution_count": null,
   "id": "04db03a4",
   "metadata": {},
   "outputs": [],
   "source": [
    "text = \"hello world\"\n",
    "vowel_count = 0\n",
    "vowels = \"aeiou\"\n",
    "\n",
    "for letter in text:\n",
    "    if letter.lower() in vowels:\n",
    "        vowel_count += 1\n",
    "\n",
    "print(f\"Number of vowels: {vowel_count}\")"
   ]
  },
  {
   "cell_type": "code",
   "execution_count": null,
   "id": "605f590f",
   "metadata": {},
   "outputs": [],
   "source": []
  },
  {
   "cell_type": "code",
   "execution_count": null,
   "id": "12e776c7",
   "metadata": {},
   "outputs": [],
   "source": [
    "numbers = [1, 2, 3, 4, 5, 6, 7, 8, 9, 10]\n",
    "even_numbers = []\n",
    "\n",
    "for number in numbers:\n",
    "    if number % 2 == 0:\n",
    "        even_numbers.append(number)\n",
    "\n",
    "print(f\"Even numbers: {even_numbers}\")"
   ]
  },
  {
   "cell_type": "code",
   "execution_count": null,
   "id": "1e8f920d",
   "metadata": {},
   "outputs": [],
   "source": [
    "students = [\"Alice\", \"Bob\", \"Charlie\", \"Diana\"]\n",
    "target = \"Charlie\"\n",
    "found = False\n",
    "position = -1\n",
    "\n",
    "for i, student in enumerate(students):\n",
    "    if student == target:\n",
    "        found = True\n",
    "        position = i\n",
    "        break\n",
    "\n",
    "if found:\n",
    "    print(f\"{target} found at position {position}\")\n",
    "else:\n",
    "    print(f\"{target} not found\")"
   ]
  },
  {
   "cell_type": "code",
   "execution_count": null,
   "id": "03623bf8",
   "metadata": {},
   "outputs": [],
   "source": []
  },
  {
   "cell_type": "code",
   "execution_count": null,
   "id": "e3383826",
   "metadata": {},
   "outputs": [],
   "source": []
  },
  {
   "cell_type": "code",
   "execution_count": null,
   "id": "fb325846",
   "metadata": {},
   "outputs": [],
   "source": [
    "# WRONG:\n",
    "for i in range(5)\n",
    "    print(i)\n",
    "\n",
    "# CORRECT:\n",
    "for i in range(5):\n",
    "    print(i)"
   ]
  },
  {
   "cell_type": "code",
   "execution_count": null,
   "id": "5d9c95c8",
   "metadata": {},
   "outputs": [],
   "source": []
  },
  {
   "cell_type": "code",
   "execution_count": null,
   "id": "fe5ab0ef",
   "metadata": {},
   "outputs": [],
   "source": [
    "# WRONG:\n",
    "for i in range(3):\n",
    "print(i)  # Not indented\n",
    "\n",
    "# CORRECT:\n",
    "for i in range(3):\n",
    "    print(i)  # Properly indented"
   ]
  },
  {
   "cell_type": "code",
   "execution_count": null,
   "id": "f74a4c55",
   "metadata": {},
   "outputs": [],
   "source": []
  },
  {
   "cell_type": "code",
   "execution_count": null,
   "id": "3f2bd4b4",
   "metadata": {},
   "outputs": [],
   "source": [
    "# If you want numbers 1 to 10:\n",
    "# WRONG:\n",
    "for i in range(10):  # This gives 0 to 9\n",
    "    print(i + 1)\n",
    "\n",
    "# BETTER:\n",
    "for i in range(1, 11):  # This gives 1 to 10\n",
    "    print(i)"
   ]
  },
  {
   "cell_type": "code",
   "execution_count": null,
   "id": "696c64f3",
   "metadata": {},
   "outputs": [],
   "source": []
  },
  {
   "cell_type": "markdown",
   "id": "fa303d4e",
   "metadata": {},
   "source": [
    "Prime Numbers: Find all prime numbers between 1 and 50\n",
    "Matrix Addition: Add two 2D matrices together\n",
    "Password Generator: Create a random password with letters, numbers, and symbols\n",
    "Text Analysis: Count vowels, consonants, digits, and spaces in a sentence\n",
    "Fibonacci Sequence: Generate the first 20 numbers in the Fibonacci sequence"
   ]
  },
  {
   "cell_type": "markdown",
   "id": "000a8b48",
   "metadata": {},
   "source": [
    "numbers = [1, 3, 2, 3, 4, 2, 5] #duplicates finder\n",
    "\n",
    "*\n",
    "**\n",
    "***\n",
    "****\n",
    "*****\n",
    "****\n",
    "***\n",
    "**\n",
    "*"
   ]
  },
  {
   "cell_type": "code",
   "execution_count": null,
   "id": "8c56d1b5",
   "metadata": {},
   "outputs": [],
   "source": [
    "matrix = [[1, 3, 5], [7, 9, 4], [2, 8, 6]]\n",
    "found = False\n",
    "\n",
    "for i, row in enumerate(matrix):\n",
    "    if found:\n",
    "        break  # Exit outer loop if flag is set\n",
    "    print(f\"Checking row {i}: {row}\")\n",
    "    for j, number in enumerate(row):\n",
    "        if number == 4:\n",
    "            print(f\"Found 4 at position ({i}, {j})\")\n",
    "            found = True\n",
    "            break  # Exit inner loop and set flag\n",
    "    if not found:\n",
    "        print(f\"  Didn't find 4 in row {i}\")\n",
    "\n",
    "print(\"Search completed\")"
   ]
  },
  {
   "cell_type": "code",
   "execution_count": null,
   "id": "9974a005",
   "metadata": {},
   "outputs": [],
   "source": [
    "students = [\"Alice\", \"Bob\", \"Charlie\", \"Diana\"]\n",
    "\n",
    "# Start counting from 1 instead of 0\n",
    "for rank, student in enumerate(students, start=1):\n",
    "    print(f\"Rank {rank}: {student}\")"
   ]
  }
 ],
 "metadata": {
  "kernelspec": {
   "display_name": "base",
   "language": "python",
   "name": "python3"
  },
  "language_info": {
   "codemirror_mode": {
    "name": "ipython",
    "version": 3
   },
   "file_extension": ".py",
   "mimetype": "text/x-python",
   "name": "python",
   "nbconvert_exporter": "python",
   "pygments_lexer": "ipython3",
   "version": "3.12.9"
  }
 },
 "nbformat": 4,
 "nbformat_minor": 5
}
