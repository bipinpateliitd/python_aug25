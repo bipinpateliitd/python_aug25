{
 "cells": [
  {
   "cell_type": "markdown",
   "id": "1",
   "metadata": {},
   "source": [
    "# While Loops in Python\n",
    "\n",
    "A **while loop** repeats a block of code as long as a condition is True. It's useful when you don't know exactly how many times you need to repeat something."
   ]
  },
  {
   "cell_type": "markdown",
   "id": "2",
   "metadata": {},
   "source": [
    "## Basic Syntax\n",
    "\n",
    "```python\n",
    "while condition:\n",
    "    # code to execute\n",
    "    # update condition variable\n",
    "```"
   ]
  },
  {
   "cell_type": "code",
   "execution_count": null,
   "id": "47833966",
   "metadata": {},
   "outputs": [],
   "source": []
  },
  {
   "cell_type": "code",
   "execution_count": 1,
   "id": "444e64d1",
   "metadata": {},
   "outputs": [
    {
     "name": "stdout",
     "output_type": "stream",
     "text": [
      "0\n",
      "1\n",
      "2\n",
      "3\n",
      "4\n",
      "5\n",
      "6\n",
      "7\n",
      "8\n",
      "9\n",
      "10\n",
      "11\n",
      "12\n",
      "13\n",
      "14\n",
      "15\n",
      "16\n",
      "17\n",
      "18\n",
      "19\n",
      "20\n",
      "stop\n"
     ]
    }
   ],
   "source": [
    "number =20\n",
    "i=0\n",
    "while i<=number:\n",
    "    print(i)\n",
    "    i=i+1\n",
    "    \n",
    "print(\"stop\")"
   ]
  },
  {
   "cell_type": "code",
   "execution_count": null,
   "id": "6bd45e81",
   "metadata": {},
   "outputs": [],
   "source": []
  },
  {
   "cell_type": "code",
   "execution_count": null,
   "id": "afb88d80",
   "metadata": {},
   "outputs": [],
   "source": []
  },
  {
   "cell_type": "code",
   "execution_count": null,
   "id": "f4976248",
   "metadata": {},
   "outputs": [],
   "source": [
    "# multiply number from 1 to 10 using while loop  and print it "
   ]
  },
  {
   "cell_type": "code",
   "execution_count": 5,
   "id": "bf62ac0a",
   "metadata": {},
   "outputs": [],
   "source": [
    "mul_output =1"
   ]
  },
  {
   "cell_type": "code",
   "execution_count": 6,
   "id": "8b392f46",
   "metadata": {},
   "outputs": [
    {
     "name": "stdout",
     "output_type": "stream",
     "text": [
      "3628800\n"
     ]
    }
   ],
   "source": [
    "i=1\n",
    "while i <=10:\n",
    "    mul_output = mul_output *i\n",
    "    i=i+1\n",
    "print(mul_output)"
   ]
  },
  {
   "cell_type": "code",
   "execution_count": null,
   "id": "0b821620",
   "metadata": {},
   "outputs": [],
   "source": []
  },
  {
   "cell_type": "code",
   "execution_count": null,
   "id": "ec755fb5",
   "metadata": {},
   "outputs": [],
   "source": []
  },
  {
   "cell_type": "code",
   "execution_count": null,
   "id": "be777301",
   "metadata": {},
   "outputs": [],
   "source": []
  },
  {
   "cell_type": "code",
   "execution_count": null,
   "id": "a9331318",
   "metadata": {},
   "outputs": [],
   "source": []
  },
  {
   "cell_type": "markdown",
   "id": "3",
   "metadata": {},
   "source": [
    "## Example 1: Basic Counter"
   ]
  },
  {
   "cell_type": "code",
   "execution_count": null,
   "id": "4",
   "metadata": {},
   "outputs": [],
   "source": [
    "count = 1\n",
    "while count <= 5:\n",
    "    print(f\"Count: {count}\")\n",
    "    count += 1  # Important: update the condition variable\n",
    "    \n",
    "print(\"Loop finished!\")"
   ]
  },
  {
   "cell_type": "markdown",
   "id": "5",
   "metadata": {},
   "source": [
    "## Example 2: User Input Validation"
   ]
  },
  {
   "cell_type": "code",
   "execution_count": null,
   "id": "6",
   "metadata": {},
   "outputs": [],
   "source": [
    "# Keep asking for input until user enters a positive number\n",
    "number = -1\n",
    "while number <= 0:\n",
    "    number = int(input(\"Enter a positive number: \"))\n",
    "    if number <= 0:\n",
    "        print(\"Please enter a positive number!\")\n",
    "        \n",
    "print(f\"Great! You entered: {number}\")"
   ]
  },
  {
   "cell_type": "markdown",
   "id": "7",
   "metadata": {},
   "source": [
    "## Example 3: Sum of Numbers"
   ]
  },
  {
   "cell_type": "code",
   "execution_count": null,
   "id": "8",
   "metadata": {},
   "outputs": [],
   "source": [
    "# Calculate sum of numbers from 1 to 10\n",
    "total = 0\n",
    "number = 1\n",
    "\n",
    "while number <= 10:\n",
    "    total += number\n",
    "    number += 1\n",
    "    \n",
    "print(f\"Sum of numbers 1 to 10: {total}\")"
   ]
  },
  {
   "cell_type": "markdown",
   "id": "9",
   "metadata": {},
   "source": [
    "## Example 4: Working with Lists"
   ]
  },
  {
   "cell_type": "code",
   "execution_count": null,
   "id": "10",
   "metadata": {},
   "outputs": [],
   "source": [
    "# Process items in a list using while loop\n",
    "fruits = ['apple', 'banana', 'orange', 'grape']\n",
    "index = 0\n",
    "\n",
    "while index < len(fruits):\n",
    "    print(f\"Fruit {index + 1}: {fruits[index]}\")\n",
    "    index += 1"
   ]
  },
  {
   "cell_type": "markdown",
   "id": "11",
   "metadata": {},
   "source": [
    "## Example 5: Guessing Game"
   ]
  },
  {
   "cell_type": "code",
   "execution_count": null,
   "id": "12",
   "metadata": {},
   "outputs": [],
   "source": [
    "import random\n",
    "\n",
    "# Simple guessing game\n",
    "secret_number = random.randint(1, 10)\n",
    "guess = 0\n",
    "attempts = 0\n",
    "\n",
    "print(\"Guess the number between 1 and 10!\")\n",
    "\n",
    "while guess != secret_number:\n",
    "    guess = int(input(\"Your guess: \"))\n",
    "    attempts += 1\n",
    "    \n",
    "    if guess < secret_number:\n",
    "        print(\"Too low!\")\n",
    "    elif guess > secret_number:\n",
    "        print(\"Too high!\")\n",
    "    else:\n",
    "        print(f\"Correct! You got it in {attempts} attempts.\")"
   ]
  },
  {
   "cell_type": "markdown",
   "id": "13",
   "metadata": {},
   "source": [
    "## Break and Continue\n",
    "\n",
    "You can use `break` to exit a while loop early, and `continue` to skip to the next iteration."
   ]
  },
  {
   "cell_type": "code",
   "execution_count": null,
   "id": "14",
   "metadata": {},
   "outputs": [],
   "source": [
    "# Example with break\n",
    "count = 1\n",
    "while True:  # Infinite loop\n",
    "    if count > 5:\n",
    "        break  # Exit the loop\n",
    "    print(f\"Count: {count}\")\n",
    "    count += 1\n",
    "    \n",
    "print(\"Loop ended with break\")"
   ]
  },
  {
   "cell_type": "code",
   "execution_count": null,
   "id": "15",
   "metadata": {},
   "outputs": [],
   "source": [
    "# Example with continue\n",
    "count = 0\n",
    "while count < 10:\n",
    "    count += 1\n",
    "    if count % 2 == 0:  # Skip even numbers\n",
    "        continue\n",
    "    print(f\"Odd number: {count}\")"
   ]
  },
  {
   "cell_type": "markdown",
   "id": "16",
   "metadata": {},
   "source": [
    "## ⚠️ Avoiding Infinite Loops\n",
    "\n",
    "**Important:** Always make sure your while loop condition will eventually become False, or use `break` to exit. Otherwise, you'll create an infinite loop!"
   ]
  },
  {
   "cell_type": "code",
   "execution_count": null,
   "id": "17",
   "metadata": {},
   "outputs": [],
   "source": [
    "# DON'T DO THIS - Infinite loop example (commented out for safety)\n",
    "# count = 1\n",
    "# while count <= 5:\n",
    "#     print(f\"Count: {count}\")\n",
    "#     # Missing: count += 1  # This would cause infinite loop!\n",
    "\n",
    "print(\"Always remember to update your condition variable!\")"
   ]
  },
  {
   "cell_type": "markdown",
   "id": "18",
   "metadata": {},
   "source": [
    "## Practice Exercises\n",
    "\n",
    "Try these exercises to practice while loops:"
   ]
  },
  {
   "cell_type": "markdown",
   "id": "19",
   "metadata": {},
   "source": [
    "### Exercise 1: Countdown\n",
    "Create a countdown from 10 to 1, then print \"Blast off!\""
   ]
  },
  {
   "cell_type": "code",
   "execution_count": null,
   "id": "20",
   "metadata": {},
   "outputs": [],
   "source": [
    "# Your code here\n"
   ]
  },
  {
   "cell_type": "markdown",
   "id": "21",
   "metadata": {},
   "source": [
    "### Exercise 2: Password Checker\n",
    "Keep asking for a password until the user enters \"python123\""
   ]
  },
  {
   "cell_type": "code",
   "execution_count": null,
   "id": "22",
   "metadata": {},
   "outputs": [],
   "source": [
    "# Your code here\n"
   ]
  },
  {
   "cell_type": "markdown",
   "id": "23",
   "metadata": {},
   "source": [
    "### Exercise 3: Factorial Calculator\n",
    "Calculate the factorial of a number using a while loop"
   ]
  },
  {
   "cell_type": "code",
   "execution_count": null,
   "id": "24",
   "metadata": {},
   "outputs": [],
   "source": [
    "# Your code here\n",
    "# Hint: factorial of 5 = 5 * 4 * 3 * 2 * 1 = 120\n"
   ]
  },
  {
   "cell_type": "markdown",
   "id": "25",
   "metadata": {},
   "source": [
    "## When to Use While vs For Loops\n",
    "\n",
    "- **Use while loops when:**\n",
    "  - You don't know how many iterations you need\n",
    "  - The loop depends on user input or external conditions\n",
    "  - You're waiting for something to happen\n",
    "\n",
    "- **Use for loops when:**\n",
    "  - You know the exact number of iterations\n",
    "  - You're iterating over a sequence (list, string, range, etc.)\n",
    "  - You want cleaner, more readable code for simple iterations"
   ]
  }
 ],
 "metadata": {
  "kernelspec": {
   "display_name": "base",
   "language": "python",
   "name": "python3"
  },
  "language_info": {
   "codemirror_mode": {
    "name": "ipython",
    "version": 3
   },
   "file_extension": ".py",
   "mimetype": "text/x-python",
   "name": "python",
   "nbconvert_exporter": "python",
   "pygments_lexer": "ipython3",
   "version": "3.12.9"
  }
 },
 "nbformat": 4,
 "nbformat_minor": 5
}
