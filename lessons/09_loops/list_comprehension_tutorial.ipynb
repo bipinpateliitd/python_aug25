{
 "cells": [
  {
   "cell_type": "markdown",
   "metadata": {},
   "source": [
    "# List Comprehensions Tutorial\n",
    "\n",
    "List comprehensions provide a concise way to create lists in Python. They are more readable and often faster than traditional loops.\n",
    "\n",
    "---\n",
    "## 1. Basic Syntax\n",
    "\n",
    "**Basic structure:**\n",
    "```python\n",
    "[expression for item in iterable]\n",
    "```"
   ]
  },
  {
   "cell_type": "code",
   "execution_count": null,
   "metadata": {},
   "outputs": [],
   "source": [
    "# Traditional way\n",
    "squares = []\n",
    "for x in range(5):\n",
    "    squares.append(x**2)\n",
    "print(squares)\n",
    "\n",
    "# List comprehension way\n",
    "squares = [x**2 for x in range(5)]\n",
    "print(squares)"
   ]
  },
  {
   "cell_type": "code",
   "execution_count": null,
   "metadata": {},
   "outputs": [],
   "source": []
  },
  {
   "cell_type": "code",
   "execution_count": 2,
   "metadata": {},
   "outputs": [
    {
     "data": {
      "text/plain": [
       "[1, 4, 5, 9]"
      ]
     },
     "execution_count": 2,
     "metadata": {},
     "output_type": "execute_result"
    }
   ],
   "source": [
    "a=[1,4,5,9]\n",
    "a"
   ]
  },
  {
   "cell_type": "code",
   "execution_count": 3,
   "metadata": {},
   "outputs": [],
   "source": [
    "b= [ j*j  for j in a]"
   ]
  },
  {
   "cell_type": "code",
   "execution_count": 4,
   "metadata": {},
   "outputs": [
    {
     "data": {
      "text/plain": [
       "[1, 16, 25, 81]"
      ]
     },
     "execution_count": 4,
     "metadata": {},
     "output_type": "execute_result"
    }
   ],
   "source": [
    "b"
   ]
  },
  {
   "cell_type": "code",
   "execution_count": null,
   "metadata": {},
   "outputs": [],
   "source": []
  },
  {
   "cell_type": "code",
   "execution_count": 8,
   "metadata": {},
   "outputs": [],
   "source": [
    "a = [1, 4, 5, 9, 10, 14, 18]"
   ]
  },
  {
   "cell_type": "code",
   "execution_count": 9,
   "metadata": {},
   "outputs": [],
   "source": [
    "b = [ i for i in a if i%2==0]"
   ]
  },
  {
   "cell_type": "code",
   "execution_count": 10,
   "metadata": {},
   "outputs": [
    {
     "data": {
      "text/plain": [
       "[4, 10, 14, 18]"
      ]
     },
     "execution_count": 10,
     "metadata": {},
     "output_type": "execute_result"
    }
   ],
   "source": [
    "b"
   ]
  },
  {
   "cell_type": "code",
   "execution_count": null,
   "metadata": {},
   "outputs": [],
   "source": []
  },
  {
   "cell_type": "code",
   "execution_count": 12,
   "metadata": {},
   "outputs": [],
   "source": [
    "words = ['cat', 'dog', 'elephant', 'mouse', 'tiger']"
   ]
  },
  {
   "cell_type": "code",
   "execution_count": null,
   "metadata": {},
   "outputs": [],
   "source": [
    "# print item having more than 3 character using list comprehension"
   ]
  },
  {
   "cell_type": "code",
   "execution_count": 13,
   "metadata": {},
   "outputs": [
    {
     "data": {
      "text/plain": [
       "['elephant', 'mouse', 'tiger']"
      ]
     },
     "execution_count": 13,
     "metadata": {},
     "output_type": "execute_result"
    }
   ],
   "source": [
    "out = [i  for i in words if len(i)>3]\n",
    "out"
   ]
  },
  {
   "cell_type": "code",
   "execution_count": null,
   "metadata": {},
   "outputs": [],
   "source": []
  },
  {
   "cell_type": "code",
   "execution_count": null,
   "metadata": {},
   "outputs": [],
   "source": []
  },
  {
   "cell_type": "code",
   "execution_count": 14,
   "metadata": {},
   "outputs": [],
   "source": [
    "numbers = [-4, -2, 0, 2, 4]"
   ]
  },
  {
   "cell_type": "code",
   "execution_count": 16,
   "metadata": {},
   "outputs": [
    {
     "data": {
      "text/plain": [
       "5"
      ]
     },
     "execution_count": 16,
     "metadata": {},
     "output_type": "execute_result"
    }
   ],
   "source": [
    "abs(-5)"
   ]
  },
  {
   "cell_type": "code",
   "execution_count": 17,
   "metadata": {},
   "outputs": [
    {
     "data": {
      "text/plain": [
       "[4, 2, 0, 2, 4]"
      ]
     },
     "execution_count": 17,
     "metadata": {},
     "output_type": "execute_result"
    }
   ],
   "source": [
    "a = [abs(i) for i in numbers]\n",
    "a"
   ]
  },
  {
   "cell_type": "code",
   "execution_count": null,
   "metadata": {},
   "outputs": [],
   "source": []
  },
  {
   "cell_type": "code",
   "execution_count": 18,
   "metadata": {},
   "outputs": [],
   "source": [
    "matrix = [[1, 2, 3], [4, 5, 6], [7, 8, 9]]"
   ]
  },
  {
   "cell_type": "code",
   "execution_count": 24,
   "metadata": {},
   "outputs": [
    {
     "data": {
      "text/plain": [
       "3"
      ]
     },
     "execution_count": 24,
     "metadata": {},
     "output_type": "execute_result"
    }
   ],
   "source": [
    "len(matrix)"
   ]
  },
  {
   "cell_type": "code",
   "execution_count": null,
   "metadata": {},
   "outputs": [],
   "source": [
    "# a = [1,2,3,4,5,6,7,8,9]"
   ]
  },
  {
   "cell_type": "code",
   "execution_count": 26,
   "metadata": {},
   "outputs": [
    {
     "data": {
      "text/plain": [
       "[1, 2, 3, 4, 5, 6, 7, 8, 9]"
      ]
     },
     "execution_count": 26,
     "metadata": {},
     "output_type": "execute_result"
    }
   ],
   "source": [
    "b = [j for i in matrix for j in i]\n",
    "b"
   ]
  },
  {
   "cell_type": "code",
   "execution_count": null,
   "metadata": {},
   "outputs": [],
   "source": []
  },
  {
   "cell_type": "code",
   "execution_count": 23,
   "metadata": {},
   "outputs": [
    {
     "data": {
      "text/plain": [
       "[1, 2, 3, 4, 5, 6, 7, 8, 9]"
      ]
     },
     "execution_count": 23,
     "metadata": {},
     "output_type": "execute_result"
    }
   ],
   "source": [
    "a = [j  for i in matrix  for j in i ] \n",
    "a"
   ]
  },
  {
   "cell_type": "code",
   "execution_count": null,
   "metadata": {},
   "outputs": [],
   "source": []
  },
  {
   "cell_type": "code",
   "execution_count": null,
   "metadata": {},
   "outputs": [],
   "source": [
    "matrix = [[1, 2, 3], [4, 5, 6]]"
   ]
  },
  {
   "cell_type": "code",
   "execution_count": null,
   "metadata": {},
   "outputs": [],
   "source": [
    " a = [  for i in matrix]"
   ]
  },
  {
   "cell_type": "code",
   "execution_count": null,
   "metadata": {},
   "outputs": [],
   "source": []
  },
  {
   "cell_type": "code",
   "execution_count": null,
   "metadata": {},
   "outputs": [],
   "source": []
  },
  {
   "cell_type": "code",
   "execution_count": null,
   "metadata": {},
   "outputs": [],
   "source": []
  },
  {
   "cell_type": "markdown",
   "metadata": {},
   "source": [
    "---\n",
    "## 2. List Comprehensions with Conditions\n",
    "\n",
    "**Syntax with condition:**\n",
    "```python\n",
    "[expression for item in iterable if condition]\n",
    "```"
   ]
  },
  {
   "cell_type": "code",
   "execution_count": null,
   "metadata": {},
   "outputs": [],
   "source": [
    "# Even numbers only\n",
    "evens = [x for x in range(10) if x % 2 == 0]\n",
    "print(evens)\n",
    "\n",
    "# Squares of even numbers\n",
    "even_squares = [x**2 for x in range(10) if x % 2 == 0]\n",
    "print(even_squares)\n",
    "\n",
    "# Words with more than 3 characters\n",
    "\n",
    "long_words = [word for word in words if len(word) > 3]\n",
    "print(long_words)"
   ]
  },
  {
   "cell_type": "markdown",
   "metadata": {},
   "source": [
    "---\n",
    "## 3. String Manipulations"
   ]
  },
  {
   "cell_type": "code",
   "execution_count": null,
   "metadata": {},
   "outputs": [],
   "source": [
    "# Convert to uppercase\n",
    "fruits = ['apple', 'banana', 'cherry']\n",
    "upper_fruits = [fruit.upper() for fruit in fruits]\n",
    "print(upper_fruits)\n",
    "\n",
    "# Get first letter of each word\n",
    "first_letters = [word[0] for word in fruits]\n",
    "print(first_letters)\n",
    "\n",
    "# Extract vowels from a string\n",
    "sentence = \"Hello World\"\n",
    "vowels = [char for char in sentence.lower() if char in 'aeiou']\n",
    "print(vowels)"
   ]
  },
  {
   "cell_type": "markdown",
   "metadata": {},
   "source": [
    "---\n",
    "## 4. Mathematical Operations"
   ]
  },
  {
   "cell_type": "code",
   "execution_count": null,
   "metadata": {},
   "outputs": [],
   "source": [
    "# Temperature conversion (Celsius to Fahrenheit)\n",
    "celsius = [0, 20, 30, 40]\n",
    "fahrenheit = [(temp * 9/5) + 32 for temp in celsius]\n",
    "print(fahrenheit)\n",
    "\n",
    "# Absolute values\n",
    "numbers = [-4, -2, 0, 2, 4]\n",
    "absolutes = [abs(num) for num in numbers]\n",
    "print(absolutes)\n",
    "\n",
    "# Power operations\n",
    "base_numbers = [1, 2, 3, 4, 5]\n",
    "cubes = [num**3 for num in base_numbers]\n",
    "print(cubes)"
   ]
  },
  {
   "cell_type": "markdown",
   "metadata": {},
   "source": [
    "---\n",
    "## 5. Nested List Comprehensions\n",
    "\n",
    "For working with 2D lists or matrices:"
   ]
  },
  {
   "cell_type": "code",
   "execution_count": null,
   "metadata": {},
   "outputs": [],
   "source": [
    "# Create a 3x3 matrix\n",
    "matrix = [[j for j in range(3)] for i in range(3)]\n",
    "print(matrix)\n",
    "\n",
    "# Flatten a 2D list\n",
    "matrix = [[1, 2, 3], [4, 5, 6], [7, 8, 9]]\n",
    "flattened = [num for row in matrix for num in row]\n",
    "print(flattened)\n",
    "\n",
    "# Transpose a matrix\n",
    "matrix = [[1, 2, 3], [4, 5, 6]]\n",
    "transposed = [[row[i] for row in matrix] for i in range(len(matrix[0]))]\n",
    "print(transposed)"
   ]
  },
  {
   "cell_type": "markdown",
   "metadata": {},
   "source": [
    "---\n",
    "## 6. Working with Multiple Lists"
   ]
  },
  {
   "cell_type": "code",
   "execution_count": null,
   "metadata": {},
   "outputs": [],
   "source": [
    "# Combine two lists\n",
    "names = ['Alice', 'Bob', 'Charlie']\n",
    "ages = [25, 30, 35]\n",
    "combined = [f\"{name} is {age} years old\" for name, age in zip(names, ages)]\n",
    "print(combined)\n",
    "\n",
    "# Cartesian product\n",
    "colors = ['red', 'blue']\n",
    "sizes = ['S', 'M', 'L']\n",
    "combinations = [f\"{color}-{size}\" for color in colors for size in sizes]\n",
    "print(combinations)"
   ]
  },
  {
   "cell_type": "markdown",
   "metadata": {},
   "source": [
    "---\n",
    "## 7. Conditional Expressions (Ternary Operator)\n",
    "\n",
    "**Syntax:**\n",
    "```python\n",
    "[expression_if_true if condition else expression_if_false for item in iterable]\n",
    "```"
   ]
  },
  {
   "cell_type": "code",
   "execution_count": null,
   "metadata": {},
   "outputs": [],
   "source": [
    "# Replace negative numbers with 0\n",
    "numbers = [-2, -1, 0, 1, 2]\n",
    "positive_or_zero = [num if num >= 0 else 0 for num in numbers]\n",
    "print(positive_or_zero)\n",
    "\n",
    "# Classify numbers as even or odd\n",
    "numbers = [1, 2, 3, 4, 5]\n",
    "even_odd = [\"even\" if num % 2 == 0 else \"odd\" for num in numbers]\n",
    "print(even_odd)\n",
    "\n",
    "# Grade classification\n",
    "scores = [95, 87, 76, 65, 54]\n",
    "grades = [\"A\" if score >= 90 else \"B\" if score >= 80 else \"C\" if score >= 70 else \"D\" if score >= 60 else \"F\" for score in scores]\n",
    "print(grades)"
   ]
  },
  {
   "cell_type": "markdown",
   "metadata": {},
   "source": [
    "---\n",
    "## 8. Using Functions in List Comprehensions"
   ]
  },
  {
   "cell_type": "code",
   "execution_count": null,
   "metadata": {},
   "outputs": [],
   "source": [
    "# Using built-in functions\n",
    "words = ['hello', 'world', 'python']\n",
    "lengths = [len(word) for word in words]\n",
    "print(lengths)\n",
    "\n",
    "# Using custom functions\n",
    "def is_prime(n):\n",
    "    if n < 2:\n",
    "        return False\n",
    "    for i in range(2, int(n**0.5) + 1):\n",
    "        if n % i == 0:\n",
    "            return False\n",
    "    return True\n",
    "\n",
    "numbers = range(2, 20)\n",
    "primes = [num for num in numbers if is_prime(num)]\n",
    "print(primes)"
   ]
  },
  {
   "cell_type": "markdown",
   "metadata": {},
   "source": [
    "---\n",
    "## 9. Dictionary and Set Comprehensions\n",
    "\n",
    "Similar syntax works for dictionaries and sets:"
   ]
  },
  {
   "cell_type": "code",
   "execution_count": null,
   "metadata": {},
   "outputs": [],
   "source": [
    "# Dictionary comprehension\n",
    "numbers = [1, 2, 3, 4, 5]\n",
    "squares_dict = {num: num**2 for num in numbers}\n",
    "print(squares_dict)\n",
    "\n",
    "# Set comprehension (removes duplicates)\n",
    "words = ['apple', 'banana', 'apple', 'cherry', 'banana']\n",
    "first_letters = {word[0] for word in words}\n",
    "print(first_letters)"
   ]
  },
  {
   "cell_type": "markdown",
   "metadata": {},
   "source": [
    "---\n",
    "## 10. Performance Comparison"
   ]
  },
  {
   "cell_type": "code",
   "execution_count": null,
   "metadata": {},
   "outputs": [],
   "source": [
    "import time\n",
    "\n",
    "# Time comparison between loop and list comprehension\n",
    "n = 100000\n",
    "\n",
    "# Traditional loop\n",
    "start = time.time()\n",
    "squares = []\n",
    "for i in range(n):\n",
    "    squares.append(i**2)\n",
    "loop_time = time.time() - start\n",
    "\n",
    "# List comprehension\n",
    "start = time.time()\n",
    "squares = [i**2 for i in range(n)]\n",
    "comp_time = time.time() - start\n",
    "\n",
    "print(f\"Loop time: {loop_time:.4f} seconds\")\n",
    "print(f\"List comprehension time: {comp_time:.4f} seconds\")\n",
    "print(f\"List comprehension is {loop_time/comp_time:.2f}x faster\")"
   ]
  },
  {
   "cell_type": "markdown",
   "metadata": {},
   "source": [
    "---\n",
    "## 11. Common Patterns and Examples"
   ]
  },
  {
   "cell_type": "code",
   "execution_count": null,
   "metadata": {},
   "outputs": [],
   "source": [
    "# Remove duplicates while preserving order\n",
    "items = [1, 2, 2, 3, 3, 4, 1]\n",
    "seen = set()\n",
    "unique = [x for x in items if not (x in seen or seen.add(x))]\n",
    "print(unique)\n",
    "\n",
    "# Filter and transform in one step\n",
    "data = ['1', '2', 'hello', '3', 'world', '4']\n",
    "numbers = [int(x) for x in data if x.isdigit()]\n",
    "print(numbers)\n",
    "\n",
    "# Process file-like data\n",
    "lines = ['  apple  ', '  banana  ', '  cherry  ']\n",
    "cleaned = [line.strip().title() for line in lines if line.strip()]\n",
    "print(cleaned)\n",
    "\n",
    "# Create lookup dictionaries\n",
    "students = ['Alice', 'Bob', 'Charlie']\n",
    "student_ids = {name: i for i, name in enumerate(students)}\n",
    "print(student_ids)"
   ]
  },
  {
   "cell_type": "markdown",
   "metadata": {},
   "source": [
    "---\n",
    "## 12. Best Practices and Tips\n",
    "\n",
    "1. **Keep it readable**: If the comprehension becomes too complex, use a regular loop\n",
    "2. **Use meaningful variable names**: `[x**2 for x in numbers]` is better than `[i**2 for i in l]`\n",
    "3. **Don't sacrifice readability for brevity**: Complex nested comprehensions can be hard to debug\n",
    "4. **Use generator expressions for large datasets**: `(x**2 for x in range(1000000))` for memory efficiency\n",
    "5. **Combine with other Python features**: `any()`, `all()`, `sum()`, etc.\n",
    "\n",
    "**When NOT to use list comprehensions:**\n",
    "- When the logic is complex and hard to read\n",
    "- When you need to handle exceptions\n",
    "- When you need multiple statements per iteration\n",
    "- When you need to break out of the loop early"
   ]
  },
  {
   "cell_type": "markdown",
   "metadata": {},
   "source": [
    "---\n",
    "## 13. Practice Exercises\n",
    "\n",
    "Try these exercises to master list comprehensions:"
   ]
  },
  {
   "cell_type": "code",
   "execution_count": null,
   "metadata": {},
   "outputs": [],
   "source": [
    "# Exercise 1: Create a list of squares for numbers 1-10\n",
    "# Your code here\n",
    "\n",
    "# Exercise 2: Filter out words shorter than 4 characters and make them uppercase\n",
    "words = ['cat', 'dog', 'elephant', 'mouse', 'tiger', 'ant']\n",
    "# Your code here\n",
    "\n",
    "# Exercise 3: Create a list of tuples (number, square, cube) for numbers 1-5\n",
    "# Your code here\n",
    "\n",
    "# Exercise 4: Extract all digits from a string\n",
    "text = \"abc123def456ghi789\"\n",
    "# Your code here\n",
    "\n",
    "# Exercise 5: Create a multiplication table (list of lists)\n",
    "# Create a 5x5 multiplication table\n",
    "# Your code here"
   ]
  },
  {
   "cell_type": "markdown",
   "metadata": {},
   "source": [
    "---\n",
    "## 14. Solutions"
   ]
  },
  {
   "cell_type": "code",
   "execution_count": null,
   "metadata": {},
   "outputs": [],
   "source": [
    "# Solution 1\n",
    "squares = [x**2 for x in range(1, 11)]\n",
    "print(\"Exercise 1:\", squares)\n",
    "\n",
    "# Solution 2\n",
    "words = ['cat', 'dog', 'elephant', 'mouse', 'tiger', 'ant']\n",
    "result = [word.upper() for word in words if len(word) >= 4]\n",
    "print(\"Exercise 2:\", result)\n",
    "\n",
    "# Solution 3\n",
    "number_tuples = [(x, x**2, x**3) for x in range(1, 6)]\n",
    "print(\"Exercise 3:\", number_tuples)\n",
    "\n",
    "# Solution 4\n",
    "text = \"abc123def456ghi789\"\n",
    "digits = [char for char in text if char.isdigit()]\n",
    "print(\"Exercise 4:\", digits)\n",
    "\n",
    "# Solution 5\n",
    "multiplication_table = [[i * j for j in range(1, 6)] for i in range(1, 6)]\n",
    "print(\"Exercise 5:\")\n",
    "for row in multiplication_table:\n",
    "    print(row)"
   ]
  }
 ],
 "metadata": {
  "kernelspec": {
   "display_name": "base",
   "language": "python",
   "name": "python3"
  },
  "language_info": {
   "codemirror_mode": {
    "name": "ipython",
    "version": 3
   },
   "file_extension": ".py",
   "mimetype": "text/x-python",
   "name": "python",
   "nbconvert_exporter": "python",
   "pygments_lexer": "ipython3",
   "version": "3.12.9"
  }
 },
 "nbformat": 4,
 "nbformat_minor": 4
}
