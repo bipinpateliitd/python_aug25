{
 "cells": [
  {
   "cell_type": "code",
   "execution_count": null,
   "id": "c061facc",
   "metadata": {},
   "outputs": [],
   "source": [
    "if condition:\n",
    "    # Code to execute if condition is True\n",
    "    # This code is indented (4 spaces or 1 tab)"
   ]
  },
  {
   "cell_type": "code",
   "execution_count": null,
   "id": "ef526d72",
   "metadata": {},
   "outputs": [],
   "source": []
  },
  {
   "cell_type": "code",
   "execution_count": 2,
   "id": "e033c6ad",
   "metadata": {},
   "outputs": [
    {
     "name": "stdout",
     "output_type": "stream",
     "text": [
      "program stopped\n"
     ]
    }
   ],
   "source": [
    "a=2\n",
    "if a==4:\n",
    "    print(\"a is equal to 2\")\n",
    "b=5\n",
    "print(\"program stopped\")"
   ]
  },
  {
   "cell_type": "code",
   "execution_count": null,
   "id": "f05590d6",
   "metadata": {},
   "outputs": [],
   "source": []
  },
  {
   "cell_type": "code",
   "execution_count": null,
   "id": "fb3be225",
   "metadata": {},
   "outputs": [],
   "source": []
  },
  {
   "cell_type": "code",
   "execution_count": 5,
   "id": "e8a2f676",
   "metadata": {},
   "outputs": [
    {
     "data": {
      "text/plain": [
       "True"
      ]
     },
     "execution_count": 5,
     "metadata": {},
     "output_type": "execute_result"
    }
   ],
   "source": [
    "age=24\n",
    "age >= 18"
   ]
  },
  {
   "cell_type": "code",
   "execution_count": null,
   "id": "bddc0221",
   "metadata": {},
   "outputs": [],
   "source": []
  },
  {
   "cell_type": "code",
   "execution_count": null,
   "id": "fab6c02f",
   "metadata": {},
   "outputs": [],
   "source": []
  },
  {
   "cell_type": "code",
   "execution_count": 6,
   "id": "c91988ed",
   "metadata": {},
   "outputs": [
    {
     "name": "stdout",
     "output_type": "stream",
     "text": [
      "This always runs regardless of age\n"
     ]
    }
   ],
   "source": [
    "age = 12\n",
    "if age >= 18:\n",
    "    print(\"You are an adult\")\n",
    "    print(\"You can vote\")\n",
    "print(\"This always runs regardless of age\")"
   ]
  },
  {
   "cell_type": "code",
   "execution_count": null,
   "id": "2812cc6e",
   "metadata": {},
   "outputs": [],
   "source": []
  },
  {
   "cell_type": "code",
   "execution_count": 9,
   "id": "77776da6",
   "metadata": {},
   "outputs": [
    {
     "data": {
      "text/plain": [
       "True"
      ]
     },
     "execution_count": 9,
     "metadata": {},
     "output_type": "execute_result"
    }
   ],
   "source": [
    "    # True\n",
    "5 == 5     # False"
   ]
  },
  {
   "cell_type": "code",
   "execution_count": 10,
   "id": "6f38bceb",
   "metadata": {},
   "outputs": [
    {
     "data": {
      "text/plain": [
       "False"
      ]
     },
     "execution_count": 10,
     "metadata": {},
     "output_type": "execute_result"
    }
   ],
   "source": [
    "5 != 5 "
   ]
  },
  {
   "cell_type": "code",
   "execution_count": 11,
   "id": "7c6958c5",
   "metadata": {},
   "outputs": [
    {
     "data": {
      "text/plain": [
       "True"
      ]
     },
     "execution_count": 11,
     "metadata": {},
     "output_type": "execute_result"
    }
   ],
   "source": [
    "5>3"
   ]
  },
  {
   "cell_type": "code",
   "execution_count": 12,
   "id": "89fc4836",
   "metadata": {},
   "outputs": [
    {
     "data": {
      "text/plain": [
       "True"
      ]
     },
     "execution_count": 12,
     "metadata": {},
     "output_type": "execute_result"
    }
   ],
   "source": [
    "5>=3"
   ]
  },
  {
   "cell_type": "code",
   "execution_count": null,
   "id": "98af24b6",
   "metadata": {},
   "outputs": [],
   "source": []
  },
  {
   "cell_type": "code",
   "execution_count": null,
   "id": "d8d5b8a6",
   "metadata": {},
   "outputs": [],
   "source": [
    "# Equal to\n",
    "5 == 5      # True\n",
    "5 == 3      # False\n",
    "\n",
    "# Not equal to  \n",
    "5 != 3      # True\n",
    "5 != 5      # False\n",
    "\n",
    "# Greater than\n",
    "5 > 3       # True\n",
    "3 > 5       # False\n",
    "\n",
    "# Less than\n",
    "3 < 5       # True\n",
    "5 < 3       # False\n",
    "\n",
    "# Greater than or equal to\n",
    "5 >= 5      # True\n",
    "5 >= 3      # True\n",
    "3 >= 5      # False\n",
    "\n",
    "# Less than or equal to\n",
    "3 <= 5      # True\n",
    "5 <= 5      # True\n",
    "5 <= 3      # False"
   ]
  },
  {
   "cell_type": "code",
   "execution_count": null,
   "id": "b4c9ff73",
   "metadata": {},
   "outputs": [],
   "source": []
  },
  {
   "cell_type": "code",
   "execution_count": 13,
   "id": "f6ac2ab6",
   "metadata": {},
   "outputs": [
    {
     "name": "stdout",
     "output_type": "stream",
     "text": [
      "True\n",
      "False\n",
      "True\n"
     ]
    }
   ],
   "source": [
    "score = 85\n",
    "passing_grade = 60\n",
    "\n",
    "print(score > passing_grade)    # True\n",
    "print(score == 100)             # False\n",
    "print(score >= 85)              # True"
   ]
  },
  {
   "cell_type": "code",
   "execution_count": null,
   "id": "45cf6b7d",
   "metadata": {},
   "outputs": [],
   "source": []
  },
  {
   "cell_type": "code",
   "execution_count": 14,
   "id": "a1d58f8f",
   "metadata": {},
   "outputs": [
    {
     "name": "stdout",
     "output_type": "stream",
     "text": [
      "True\n",
      "False\n",
      "True\n"
     ]
    }
   ],
   "source": [
    "name = \"Alice\"\n",
    "favorite_color = \"blue\"\n",
    "\n",
    "print(name == \"Alice\")          # True\n",
    "print(name == \"alice\")          # False (case sensitive!)\n",
    "print(favorite_color != \"red\")  # True"
   ]
  },
  {
   "cell_type": "code",
   "execution_count": null,
   "id": "6bab9578",
   "metadata": {},
   "outputs": [],
   "source": []
  },
  {
   "cell_type": "code",
   "execution_count": 15,
   "id": "7d4a0cca",
   "metadata": {},
   "outputs": [
    {
     "name": "stdout",
     "output_type": "stream",
     "text": [
      "You are a minor\n",
      "Parental consent required\n"
     ]
    }
   ],
   "source": [
    "# Example 1: Age check\n",
    "age = 16\n",
    "\n",
    "if age < 18:\n",
    "    print(\"You are a minor\")\n",
    "    print(\"Parental consent required\")"
   ]
  },
  {
   "cell_type": "code",
   "execution_count": null,
   "id": "2b3dc402",
   "metadata": {},
   "outputs": [],
   "source": [
    "# pswd should be greater than or eqaul to 8 character"
   ]
  },
  {
   "cell_type": "code",
   "execution_count": null,
   "id": "b64bf519",
   "metadata": {},
   "outputs": [],
   "source": []
  },
  {
   "cell_type": "code",
   "execution_count": 19,
   "id": "ed028888",
   "metadata": {},
   "outputs": [],
   "source": [
    "usr_pswd = \"acbdefghi\"\n",
    "pswd_len = len(usr_pswd)\n",
    "if pswd_len<8:\n",
    "    print(\"this is a invalid password\")"
   ]
  },
  {
   "cell_type": "code",
   "execution_count": null,
   "id": "7b3942a9",
   "metadata": {},
   "outputs": [],
   "source": []
  },
  {
   "cell_type": "code",
   "execution_count": null,
   "id": "b2518d4c",
   "metadata": {},
   "outputs": [],
   "source": []
  },
  {
   "cell_type": "code",
   "execution_count": null,
   "id": "c8a31916",
   "metadata": {},
   "outputs": [],
   "source": []
  },
  {
   "cell_type": "code",
   "execution_count": null,
   "id": "367927b6",
   "metadata": {},
   "outputs": [],
   "source": []
  },
  {
   "cell_type": "code",
   "execution_count": null,
   "id": "c4e6bc92",
   "metadata": {},
   "outputs": [],
   "source": []
  },
  {
   "cell_type": "code",
   "execution_count": null,
   "id": "61d8d879",
   "metadata": {},
   "outputs": [],
   "source": []
  },
  {
   "cell_type": "code",
   "execution_count": null,
   "id": "512d1188",
   "metadata": {},
   "outputs": [],
   "source": []
  },
  {
   "cell_type": "code",
   "execution_count": null,
   "id": "b991f7b8",
   "metadata": {},
   "outputs": [],
   "source": [
    "# Example 2: Password check\n",
    "password = \"secret123\"\n",
    "\n",
    "if len(password) < 8:\n",
    "    print(\"Password is too short\")\n",
    "    print(\"Please use at least 8 characters\")"
   ]
  },
  {
   "cell_type": "code",
   "execution_count": null,
   "id": "7b1b967a",
   "metadata": {},
   "outputs": [],
   "source": [
    "# Example 3: Grade check\n",
    "grade = 95\n",
    "\n",
    "if grade >= 90:\n",
    "    print(\"Excellent work!\")\n",
    "    print(\"You earned an A\")"
   ]
  },
  {
   "cell_type": "code",
   "execution_count": null,
   "id": "df6587c9",
   "metadata": {},
   "outputs": [],
   "source": []
  },
  {
   "cell_type": "code",
   "execution_count": null,
   "id": "0c89c86f",
   "metadata": {},
   "outputs": [],
   "source": []
  },
  {
   "cell_type": "code",
   "execution_count": null,
   "id": "de7d773a",
   "metadata": {},
   "outputs": [],
   "source": [
    "#Multiple Conditions (One at a Time):\n"
   ]
  },
  {
   "cell_type": "code",
   "execution_count": 20,
   "id": "d816c7aa",
   "metadata": {},
   "outputs": [
    {
     "name": "stdout",
     "output_type": "stream",
     "text": [
      "Nice weather!\n"
     ]
    }
   ],
   "source": [
    "temperature = 75\n",
    "\n",
    "if temperature > 80:\n",
    "    print(\"It's hot outside\")\n",
    "\n",
    "if temperature < 60:\n",
    "    print(\"It's cold outside\")\n",
    "\n",
    "if 60 <= temperature <= 80:\n",
    "    print(\"Nice weather!\")"
   ]
  },
  {
   "cell_type": "code",
   "execution_count": null,
   "id": "1d95854f",
   "metadata": {},
   "outputs": [],
   "source": []
  },
  {
   "cell_type": "code",
   "execution_count": null,
   "id": "c33652a9",
   "metadata": {},
   "outputs": [],
   "source": []
  },
  {
   "cell_type": "code",
   "execution_count": null,
   "id": "173c0ec9",
   "metadata": {},
   "outputs": [],
   "source": []
  },
  {
   "cell_type": "code",
   "execution_count": null,
   "id": "eb12da1a",
   "metadata": {},
   "outputs": [],
   "source": [
    "#Using Variables in Conditions"
   ]
  },
  {
   "cell_type": "code",
   "execution_count": null,
   "id": "19a9e224",
   "metadata": {},
   "outputs": [],
   "source": [
    "minimum_age = 21\n",
    "user_age = 19\n",
    "\n",
    "if user_age < minimum_age:\n",
    "    print(f\"Sorry, you must be at least {minimum_age} years old\")\n",
    "    print(f\"You are currently {user_age}\")"
   ]
  },
  {
   "cell_type": "code",
   "execution_count": null,
   "id": "87d64363",
   "metadata": {},
   "outputs": [],
   "source": []
  },
  {
   "cell_type": "code",
   "execution_count": null,
   "id": "7321b211",
   "metadata": {},
   "outputs": [],
   "source": []
  },
  {
   "cell_type": "code",
   "execution_count": null,
   "id": "5c964a14",
   "metadata": {},
   "outputs": [],
   "source": [
    "# if-else Statements\n",
    "# if-else provides an alternative path when the condition is false."
   ]
  },
  {
   "cell_type": "code",
   "execution_count": null,
   "id": "cbe4f5e5",
   "metadata": {},
   "outputs": [],
   "source": [
    "if condition:\n",
    "    # Code when condition is True\n",
    "else:\n",
    "    # Code when condition is False"
   ]
  },
  {
   "cell_type": "code",
   "execution_count": null,
   "id": "466b4f8e",
   "metadata": {},
   "outputs": [],
   "source": []
  },
  {
   "cell_type": "code",
   "execution_count": null,
   "id": "db0da7b3",
   "metadata": {},
   "outputs": [],
   "source": [
    "# Example 1: Simple decision\n",
    "age = 20\n",
    "\n",
    "if age >= 18:\n",
    "    print(\"You can vote\")\n",
    "else:\n",
    "    print(\"You cannot vote yet\")\n"
   ]
  },
  {
   "cell_type": "code",
   "execution_count": 23,
   "id": "dc74f9e3",
   "metadata": {},
   "outputs": [],
   "source": [
    "user_score = input(\"enter the score\")\n"
   ]
  },
  {
   "cell_type": "code",
   "execution_count": 24,
   "id": "432b2d6b",
   "metadata": {},
   "outputs": [
    {
     "data": {
      "text/plain": [
       "'67'"
      ]
     },
     "execution_count": 24,
     "metadata": {},
     "output_type": "execute_result"
    }
   ],
   "source": [
    "user_score"
   ]
  },
  {
   "cell_type": "code",
   "execution_count": 25,
   "id": "04c874ba",
   "metadata": {},
   "outputs": [
    {
     "data": {
      "text/plain": [
       "str"
      ]
     },
     "execution_count": 25,
     "metadata": {},
     "output_type": "execute_result"
    }
   ],
   "source": [
    "type(user_score)"
   ]
  },
  {
   "cell_type": "code",
   "execution_count": 26,
   "id": "739dd89f",
   "metadata": {},
   "outputs": [
    {
     "data": {
      "text/plain": [
       "67"
      ]
     },
     "execution_count": 26,
     "metadata": {},
     "output_type": "execute_result"
    }
   ],
   "source": [
    "int(user_score)"
   ]
  },
  {
   "cell_type": "code",
   "execution_count": null,
   "id": "fdfad085",
   "metadata": {},
   "outputs": [],
   "source": []
  },
  {
   "cell_type": "code",
   "execution_count": null,
   "id": "d73a2b16",
   "metadata": {},
   "outputs": [],
   "source": []
  },
  {
   "cell_type": "code",
   "execution_count": null,
   "id": "6889b30a",
   "metadata": {},
   "outputs": [],
   "source": []
  },
  {
   "cell_type": "code",
   "execution_count": null,
   "id": "cfa44986",
   "metadata": {},
   "outputs": [],
   "source": []
  },
  {
   "cell_type": "code",
   "execution_count": 27,
   "id": "87f913e1",
   "metadata": {},
   "outputs": [
    {
     "name": "stdout",
     "output_type": "stream",
     "text": [
      "Fail\n"
     ]
    }
   ],
   "source": [
    "user_score = int(input(\"enter the score\"))\n",
    "\n",
    "\n",
    "if user_score>35:\n",
    "    print(\"Pass\")\n",
    "else:\n",
    "    print(\"Fail\")"
   ]
  },
  {
   "cell_type": "code",
   "execution_count": null,
   "id": "11c7208b",
   "metadata": {},
   "outputs": [],
   "source": []
  },
  {
   "cell_type": "code",
   "execution_count": null,
   "id": "37036381",
   "metadata": {},
   "outputs": [],
   "source": []
  },
  {
   "cell_type": "code",
   "execution_count": 28,
   "id": "1c193b37",
   "metadata": {},
   "outputs": [
    {
     "data": {
      "text/plain": [
       "3.5"
      ]
     },
     "execution_count": 28,
     "metadata": {},
     "output_type": "execute_result"
    }
   ],
   "source": [
    "7/2"
   ]
  },
  {
   "cell_type": "code",
   "execution_count": 29,
   "id": "564650f1",
   "metadata": {},
   "outputs": [
    {
     "data": {
      "text/plain": [
       "3"
      ]
     },
     "execution_count": 29,
     "metadata": {},
     "output_type": "execute_result"
    }
   ],
   "source": [
    "7//2"
   ]
  },
  {
   "cell_type": "code",
   "execution_count": 30,
   "id": "2da866d9",
   "metadata": {},
   "outputs": [
    {
     "data": {
      "text/plain": [
       "1"
      ]
     },
     "execution_count": 30,
     "metadata": {},
     "output_type": "execute_result"
    }
   ],
   "source": [
    "7%2"
   ]
  },
  {
   "cell_type": "code",
   "execution_count": null,
   "id": "ae948727",
   "metadata": {},
   "outputs": [],
   "source": []
  },
  {
   "cell_type": "code",
   "execution_count": null,
   "id": "632e2ef1",
   "metadata": {},
   "outputs": [],
   "source": []
  },
  {
   "cell_type": "code",
   "execution_count": 32,
   "id": "f5ebd665",
   "metadata": {},
   "outputs": [
    {
     "name": "stdout",
     "output_type": "stream",
     "text": [
      "Even\n"
     ]
    }
   ],
   "source": [
    "# Example 2: Even or odd\n",
    "number = 20\n",
    "\n",
    "if number%2==0:\n",
    "    print(\"Even\")\n",
    "else:\n",
    "    print(\"Odd\")\n",
    "\n",
    "\n",
    "\n"
   ]
  },
  {
   "cell_type": "code",
   "execution_count": null,
   "id": "13160bd2",
   "metadata": {},
   "outputs": [],
   "source": []
  },
  {
   "cell_type": "code",
   "execution_count": null,
   "id": "d3531bbf",
   "metadata": {},
   "outputs": [],
   "source": []
  },
  {
   "cell_type": "code",
   "execution_count": null,
   "id": "ec0446a6",
   "metadata": {},
   "outputs": [],
   "source": []
  },
  {
   "cell_type": "code",
   "execution_count": null,
   "id": "0a53091c",
   "metadata": {},
   "outputs": [],
   "source": []
  },
  {
   "cell_type": "code",
   "execution_count": null,
   "id": "fbb179d1",
   "metadata": {},
   "outputs": [],
   "source": [
    "# Example 3: Pass or fail\n",
    "score = 72\n",
    "passing_score = 75\n",
    "\n",
    "if score >= passing_score:\n",
    "    print(\"Congratulations! You passed!\")\n",
    "    print(f\"Your score: {score}\")\n",
    "else:\n",
    "    print(\"Sorry, you didn't pass\")\n",
    "    print(f\"You scored {score}, needed {passing_score}\")\n",
    "    print(f\"You were {passing_score - score} points short\")"
   ]
  },
  {
   "cell_type": "code",
   "execution_count": null,
   "id": "6e85564a",
   "metadata": {},
   "outputs": [],
   "source": [
    "balance = 150\n",
    "withdrawal = 200\n",
    "\n",
    "if balance >= withdrawal:\n",
    "    print(\"Transaction approved\")\n",
    "    balance = balance - withdrawal\n",
    "    print(f\"Withdrew ${withdrawal}\")\n",
    "    print(f\"Remaining balance: ${balance}\")\n",
    "else:\n",
    "    print(\"Transaction declined\")\n",
    "    print(\"Insufficient funds\")\n",
    "    print(f\"Balance: ${balance}, Requested: ${withdrawal}\")\n",
    "    print(f\"You need ${withdrawal - balance} more\")"
   ]
  },
  {
   "cell_type": "code",
   "execution_count": null,
   "id": "f211a431",
   "metadata": {},
   "outputs": [],
   "source": [
    "#elif (else if) Statements\n",
    "#elif allows you to check multiple conditions in sequence."
   ]
  },
  {
   "cell_type": "code",
   "execution_count": null,
   "id": "2c29883a",
   "metadata": {},
   "outputs": [],
   "source": []
  },
  {
   "cell_type": "code",
   "execution_count": null,
   "id": "07234cc4",
   "metadata": {},
   "outputs": [],
   "source": []
  },
  {
   "cell_type": "code",
   "execution_count": null,
   "id": "ba2e5317",
   "metadata": {},
   "outputs": [],
   "source": []
  },
  {
   "cell_type": "code",
   "execution_count": null,
   "id": "dfc2bb52",
   "metadata": {},
   "outputs": [],
   "source": []
  },
  {
   "cell_type": "code",
   "execution_count": null,
   "id": "2a5b157a",
   "metadata": {},
   "outputs": [],
   "source": [
    "if condition1:\n",
    "    # Code for condition1\n",
    "elif condition2:\n",
    "    # Code for condition2\n",
    "elif condition3:\n",
    "    # Code for condition3\n",
    "else:\n",
    "    # Code when all conditions are False"
   ]
  },
  {
   "cell_type": "code",
   "execution_count": null,
   "id": "08f8b7fc",
   "metadata": {},
   "outputs": [],
   "source": []
  },
  {
   "cell_type": "code",
   "execution_count": 35,
   "id": "2ec63b48",
   "metadata": {},
   "outputs": [
    {
     "name": "stdout",
     "output_type": "stream",
     "text": [
      "F\n"
     ]
    }
   ],
   "source": [
    "score =-23\n",
    "if score>=90:\n",
    "    print(\"A+\")\n",
    "elif score >=75:\n",
    "    print(\"A\")\n",
    "elif score >=60:\n",
    "    print(\"A-\")\n",
    "elif score >=35:\n",
    "    print(\"B\")\n",
    "else:\n",
    "    print(\"F\")\n"
   ]
  },
  {
   "cell_type": "code",
   "execution_count": null,
   "id": "aa63e197",
   "metadata": {},
   "outputs": [],
   "source": []
  },
  {
   "cell_type": "code",
   "execution_count": null,
   "id": "d0fea0b4",
   "metadata": {},
   "outputs": [],
   "source": []
  },
  {
   "cell_type": "code",
   "execution_count": null,
   "id": "de382deb",
   "metadata": {},
   "outputs": [],
   "source": []
  },
  {
   "cell_type": "code",
   "execution_count": null,
   "id": "e7885193",
   "metadata": {},
   "outputs": [],
   "source": []
  },
  {
   "cell_type": "code",
   "execution_count": null,
   "id": "de3b44db",
   "metadata": {},
   "outputs": [],
   "source": []
  },
  {
   "cell_type": "code",
   "execution_count": null,
   "id": "d1465eec",
   "metadata": {},
   "outputs": [],
   "source": []
  },
  {
   "cell_type": "code",
   "execution_count": null,
   "id": "68073e41",
   "metadata": {},
   "outputs": [],
   "source": []
  },
  {
   "cell_type": "code",
   "execution_count": null,
   "id": "46d8dec1",
   "metadata": {},
   "outputs": [],
   "source": [
    "score = 87\n",
    "\n",
    "if score >= 90:\n",
    "    grade = \"A\"\n",
    "    print(\"Excellent!\")\n",
    "elif score >= 80:\n",
    "    grade = \"B\" \n",
    "    print(\"Good job!\")\n",
    "elif score >= 70:\n",
    "    grade = \"C\"\n",
    "    print(\"Average\")\n",
    "elif score >= 60:\n",
    "    grade = \"D\"\n",
    "    print(\"Below average\")\n",
    "else:\n",
    "    grade = \"F\"\n",
    "    print(\"Failing\")\n",
    "\n",
    "print(f\"Your grade is: {grade}\")"
   ]
  },
  {
   "cell_type": "code",
   "execution_count": null,
   "id": "d3f77b65",
   "metadata": {},
   "outputs": [],
   "source": []
  },
  {
   "cell_type": "code",
   "execution_count": null,
   "id": "ad7876fb",
   "metadata": {},
   "outputs": [],
   "source": []
  },
  {
   "cell_type": "code",
   "execution_count": null,
   "id": "739506be",
   "metadata": {},
   "outputs": [],
   "source": []
  },
  {
   "cell_type": "code",
   "execution_count": 36,
   "id": "6569df16",
   "metadata": {},
   "outputs": [
    {
     "name": "stdout",
     "output_type": "stream",
     "text": [
      "CAUTION!\n",
      "Prepare to stop\n"
     ]
    }
   ],
   "source": [
    "light_color = \"yellow\"\n",
    "\n",
    "if light_color == \"red\":\n",
    "    print(\"STOP!\")\n",
    "    print(\"Wait for green light\")\n",
    "elif light_color == \"yellow\":\n",
    "    print(\"CAUTION!\")\n",
    "    print(\"Prepare to stop\")\n",
    "elif light_color == \"green\":\n",
    "    print(\"GO!\")\n",
    "    print(\"Safe to proceed\")\n",
    "else:\n",
    "    print(\"Invalid light color\")\n",
    "    print(\"Check the traffic light\")"
   ]
  },
  {
   "cell_type": "code",
   "execution_count": null,
   "id": "3b4f1830",
   "metadata": {},
   "outputs": [],
   "source": []
  },
  {
   "cell_type": "code",
   "execution_count": null,
   "id": "3a96b5dc",
   "metadata": {},
   "outputs": [],
   "source": []
  },
  {
   "cell_type": "code",
   "execution_count": null,
   "id": "5cf57721",
   "metadata": {},
   "outputs": [],
   "source": []
  },
  {
   "cell_type": "code",
   "execution_count": null,
   "id": "5a57db5b",
   "metadata": {},
   "outputs": [],
   "source": [
    "score = 95\n",
    "\n",
    "# CORRECT order (specific to general):\n",
    "if score >= 90:\n",
    "    print(\"A grade\")      # This will execute\n",
    "elif score >= 80:\n",
    "    print(\"B grade\")      # This won't be checked\n",
    "elif score >= 70:\n",
    "    print(\"C grade\")      # This won't be checked\n",
    "\n",
    "# WRONG order (general to specific):\n",
    "if score >= 70:\n",
    "    print(\"C grade\")      # This would execute first!\n",
    "elif score >= 80:\n",
    "    print(\"B grade\")      # This would never execute\n",
    "elif score >= 90:\n",
    "    print(\"A grade\")      # This would never execute"
   ]
  },
  {
   "cell_type": "code",
   "execution_count": null,
   "id": "f315b3d7",
   "metadata": {},
   "outputs": [],
   "source": []
  },
  {
   "cell_type": "code",
   "execution_count": null,
   "id": "0e092b2f",
   "metadata": {},
   "outputs": [],
   "source": []
  },
  {
   "cell_type": "code",
   "execution_count": 39,
   "id": "dd617522",
   "metadata": {},
   "outputs": [
    {
     "name": "stdout",
     "output_type": "stream",
     "text": [
      "You can drive\n"
     ]
    }
   ],
   "source": [
    "age =15\n",
    "has_license = True\n",
    "\n",
    "if age >= 18 or has_license:\n",
    "    print(\"You can drive\")\n",
    "else:\n",
    "    print(\"You cannot drive\")"
   ]
  },
  {
   "cell_type": "code",
   "execution_count": null,
   "id": "97468c81",
   "metadata": {},
   "outputs": [],
   "source": []
  },
  {
   "cell_type": "code",
   "execution_count": null,
   "id": "3eb4bdbc",
   "metadata": {},
   "outputs": [],
   "source": []
  },
  {
   "cell_type": "code",
   "execution_count": null,
   "id": "0d675607",
   "metadata": {},
   "outputs": [],
   "source": []
  },
  {
   "cell_type": "code",
   "execution_count": null,
   "id": "3acbc262",
   "metadata": {},
   "outputs": [],
   "source": []
  },
  {
   "cell_type": "code",
   "execution_count": null,
   "id": "a48382a6",
   "metadata": {},
   "outputs": [],
   "source": [
    "True and True    # True\n",
    "True and False   # False\n",
    "False and True   # False\n",
    "False and False  # False"
   ]
  },
  {
   "cell_type": "code",
   "execution_count": null,
   "id": "ed3e619f",
   "metadata": {},
   "outputs": [],
   "source": [
    "day = \"Saturday\"\n",
    "\n",
    "if day == \"Saturday\" or day == \"Sunday\":\n",
    "    print(\"It's weekend! Time to relax\")\n",
    "else:\n",
    "    print(\"It's a weekday. Time to work\")"
   ]
  },
  {
   "cell_type": "code",
   "execution_count": null,
   "id": "7dbf9a6a",
   "metadata": {},
   "outputs": [],
   "source": [
    "True or True     # True\n",
    "True or False    # True\n",
    "False or True    # True\n",
    "False or False   # False"
   ]
  },
  {
   "cell_type": "code",
   "execution_count": null,
   "id": "79f3cdba",
   "metadata": {},
   "outputs": [],
   "source": [
    "not True   # False\n",
    "not False  # True"
   ]
  },
  {
   "cell_type": "code",
   "execution_count": null,
   "id": "1a7c81d6",
   "metadata": {},
   "outputs": [],
   "source": []
  },
  {
   "cell_type": "code",
   "execution_count": 45,
   "id": "cc1a8486",
   "metadata": {},
   "outputs": [
    {
     "name": "stdout",
     "output_type": "stream",
     "text": [
      "Loan application denied\n"
     ]
    }
   ],
   "source": [
    "# Banking system example\n",
    "age = 15\n",
    "income = 50000\n",
    "credit_score = 720\n",
    "has_job = True\n",
    "\n",
    "# Loan approval criteria\n",
    "if (age >= 21 and age <= 65) and (income >= 30000) and (credit_score >= 650) and has_job:\n",
    "    print(\"Loan approved!\")\n",
    "    print(\"Congratulations!\")\n",
    "    \n",
    "    \n",
    "    \n",
    "\n",
    "    \n",
    "else:\n",
    "    print(\"Loan application denied\")\n",
    "    # Check specific reasons\n",
    "    if  age >=21 :\n",
    "        print(\"- Age requirement not met (21-65)\")\n",
    "    if income < 30000:\n",
    "        print(f\"- Income too low (${income}, need $30000)\")\n",
    "    if credit_score < 650:\n",
    "        print(f\"- Credit score too low ({credit_score}, need 650)\")\n",
    "    if not has_job:\n",
    "        print(\"- Employment required\")"
   ]
  },
  {
   "cell_type": "code",
   "execution_count": null,
   "id": "6a17b850",
   "metadata": {},
   "outputs": [],
   "source": []
  },
  {
   "cell_type": "code",
   "execution_count": null,
   "id": "1e2294c6",
   "metadata": {},
   "outputs": [],
   "source": []
  },
  {
   "cell_type": "code",
   "execution_count": null,
   "id": "fdae4369",
   "metadata": {},
   "outputs": [],
   "source": []
  },
  {
   "cell_type": "code",
   "execution_count": null,
   "id": "026a417e",
   "metadata": {},
   "outputs": [],
   "source": []
  },
  {
   "cell_type": "code",
   "execution_count": null,
   "id": "937a98ca",
   "metadata": {},
   "outputs": [],
   "source": []
  },
  {
   "cell_type": "code",
   "execution_count": null,
   "id": "11622ed2",
   "metadata": {},
   "outputs": [],
   "source": []
  },
  {
   "cell_type": "code",
   "execution_count": null,
   "id": "46e1d077",
   "metadata": {},
   "outputs": [],
   "source": []
  },
  {
   "cell_type": "code",
   "execution_count": null,
   "id": "b085f2c5",
   "metadata": {},
   "outputs": [],
   "source": []
  },
  {
   "cell_type": "code",
   "execution_count": null,
   "id": "03fff8eb",
   "metadata": {},
   "outputs": [],
   "source": [
    "if outer_condition:\n",
    "    if inner_condition:\n",
    "        # Code when both conditions are True\n",
    "    else:\n",
    "        # Code when outer is True but inner is False\n",
    "else:\n",
    "    # Code when outer condition is False"
   ]
  },
  {
   "cell_type": "code",
   "execution_count": null,
   "id": "d8aba7d6",
   "metadata": {},
   "outputs": [],
   "source": [
    "# WRONG - This assigns 5 to x, doesn't compare\n",
    "x = 10\n",
    "if x = 5:  # SyntaxError!\n",
    "    print(\"x is 5\")\n",
    "\n",
    "# CORRECT - This compares x with 5\n",
    "if x == 5:\n",
    "    print(\"x is 5\")"
   ]
  },
  {
   "cell_type": "code",
   "execution_count": null,
   "id": "48df21f4",
   "metadata": {},
   "outputs": [],
   "source": [
    "# WRONG\n",
    "if age >= 18"
   ]
  }
 ],
 "metadata": {
  "kernelspec": {
   "display_name": "base",
   "language": "python",
   "name": "python3"
  },
  "language_info": {
   "codemirror_mode": {
    "name": "ipython",
    "version": 3
   },
   "file_extension": ".py",
   "mimetype": "text/x-python",
   "name": "python",
   "nbconvert_exporter": "python",
   "pygments_lexer": "ipython3",
   "version": "3.12.9"
  }
 },
 "nbformat": 4,
 "nbformat_minor": 5
}
