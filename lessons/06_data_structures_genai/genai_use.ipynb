{
 "cells": [
  {
   "cell_type": "code",
   "execution_count": 1,
   "id": "43e26713",
   "metadata": {},
   "outputs": [],
   "source": [
    "# A chatbot conversation - messages keep adding up\n",
    "chat_history = []\n",
    "\n"
   ]
  },
  {
   "cell_type": "code",
   "execution_count": 2,
   "id": "16129229",
   "metadata": {},
   "outputs": [
    {
     "data": {
      "text/plain": [
       "[]"
      ]
     },
     "execution_count": 2,
     "metadata": {},
     "output_type": "execute_result"
    }
   ],
   "source": [
    "chat_history"
   ]
  },
  {
   "cell_type": "code",
   "execution_count": null,
   "id": "c049b6ba",
   "metadata": {},
   "outputs": [],
   "source": []
  },
  {
   "cell_type": "code",
   "execution_count": 3,
   "id": "5fbbe791",
   "metadata": {},
   "outputs": [],
   "source": [
    "# User sends first message\n",
    "chat_history.append(\"User: Hello AI!\")\n"
   ]
  },
  {
   "cell_type": "code",
   "execution_count": 4,
   "id": "e13b62e2",
   "metadata": {},
   "outputs": [
    {
     "data": {
      "text/plain": [
       "['User: Hello AI!']"
      ]
     },
     "execution_count": 4,
     "metadata": {},
     "output_type": "execute_result"
    }
   ],
   "source": [
    "chat_history"
   ]
  },
  {
   "cell_type": "code",
   "execution_count": 5,
   "id": "7b621b44",
   "metadata": {},
   "outputs": [
    {
     "name": "stdout",
     "output_type": "stream",
     "text": [
      "['User: Hello AI!', 'AI: Hello! How can I help you?']\n",
      "['User: Hello AI!', 'AI: Hello! How can I help you?', 'User: What is Python?']\n",
      "['User: Hello AI!', 'AI: Hello! How can I help you?', 'User: What is Python?', 'AI: Python is a programming language...']\n"
     ]
    }
   ],
   "source": [
    "\n",
    "\n",
    "# AI responds\n",
    "chat_history.append(\"AI: Hello! How can I help you?\")\n",
    "print(chat_history)  # ['User: Hello AI!', 'AI: Hello! How can I help you?']\n",
    "\n",
    "# User asks question\n",
    "chat_history.append(\"User: What is Python?\")\n",
    "print(chat_history)  # ['User: Hello AI!', 'AI: Hello! How can I help you?', 'User: What is Python?']\n",
    "\n",
    "# AI responds\n",
    "chat_history.append(\"AI: Python is a programming language...\")\n",
    "print(chat_history)\n",
    "# ['User: Hello AI!', 'AI: Hello! How can I help you?', 'User: What is Python?', 'AI: Python is a programming language...']"
   ]
  },
  {
   "cell_type": "code",
   "execution_count": null,
   "id": "f039c4bd",
   "metadata": {},
   "outputs": [],
   "source": []
  },
  {
   "cell_type": "code",
   "execution_count": 6,
   "id": "efc322f9",
   "metadata": {},
   "outputs": [
    {
     "data": {
      "text/plain": [
       "['User: Hello AI!',\n",
       " 'AI: Hello! How can I help you?',\n",
       " 'User: What is Python?',\n",
       " 'AI: Python is a programming language...']"
      ]
     },
     "execution_count": 6,
     "metadata": {},
     "output_type": "execute_result"
    }
   ],
   "source": [
    "chat_history"
   ]
  },
  {
   "cell_type": "code",
   "execution_count": null,
   "id": "344af0e9",
   "metadata": {},
   "outputs": [],
   "source": []
  },
  {
   "cell_type": "code",
   "execution_count": null,
   "id": "d56a44e6",
   "metadata": {},
   "outputs": [],
   "source": [
    "# AI model settings that shouldn't change during use\n",
    "model_config = (\n",
    "    \"GPT-4\",        # model_name\n",
    "    1000,           # max_tokens\n",
    "    0.7,            # temperature (creativity level)\n",
    "    \"2024-01-20\"    # version_date\n",
    ")\n",
    "\n",
    "print(f\"Using model: {model_config[0]}\")      # GPT-4\n",
    "print(f\"Max tokens: {model_config[1]}\")       # 1000\n",
    "print(f\"Creativity level: {model_config[2]}\") # 0.7\n",
    "print(f\"Version: {model_config[3]}\")          # 2024-01-20\n",
    "\n",
    "# These settings stay the same - can't accidentally change them\n",
    "# model_config[1] = 2000  # This would cause an error!"
   ]
  },
  {
   "cell_type": "code",
   "execution_count": null,
   "id": "c20994f5",
   "metadata": {},
   "outputs": [],
   "source": [
    "# Store information about each user\n",
    "user_profile = {\n",
    "    \"name\": \"Alice\",\n",
    "    \"preferred_language\": \"English\",\n",
    "    \"chat_style\": \"friendly\",\n",
    "    \"topics_interested\": \"technology\",\n",
    "    \"last_login\": \"2024-01-20\",\n",
    "    \"premium_user\": True\n",
    "}\n",
    "\n",
    "print(f\"Hello {user_profile['name']}!\")\n",
    "print(f\"Preferred language: {user_profile['preferred_language']}\")\n",
    "print(f\"Chat style: {user_profile['chat_style']}\")\n",
    "\n",
    "# Update user preferences\n",
    "user_profile[\"chat_style\"] = \"professional\"\n",
    "user_profile[\"last_login\"] = \"2024-01-21\"\n",
    "print(f\"Updated chat style: {user_profile['chat_style']}\")"
   ]
  },
  {
   "cell_type": "code",
   "execution_count": null,
   "id": "24944b39",
   "metadata": {},
   "outputs": [],
   "source": []
  }
 ],
 "metadata": {
  "kernelspec": {
   "display_name": "base",
   "language": "python",
   "name": "python3"
  },
  "language_info": {
   "codemirror_mode": {
    "name": "ipython",
    "version": 3
   },
   "file_extension": ".py",
   "mimetype": "text/x-python",
   "name": "python",
   "nbconvert_exporter": "python",
   "pygments_lexer": "ipython3",
   "version": "3.12.9"
  }
 },
 "nbformat": 4,
 "nbformat_minor": 5
}
