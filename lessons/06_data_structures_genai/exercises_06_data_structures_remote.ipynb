{
 "cells": [
  {
   "cell_type": "code",
   "execution_count": 2,
   "id": "46b9935e",
   "metadata": {},
   "outputs": [],
   "source": [
    "# Empty list\n",
    "empty_list1 = []\n",
    "empty_list2 = list()\n",
    "\n",
    "\n"
   ]
  },
  {
   "cell_type": "code",
   "execution_count": 3,
   "id": "ed034ff5",
   "metadata": {},
   "outputs": [
    {
     "data": {
      "text/plain": [
       "[]"
      ]
     },
     "execution_count": 3,
     "metadata": {},
     "output_type": "execute_result"
    }
   ],
   "source": [
    "empty_list1"
   ]
  },
  {
   "cell_type": "code",
   "execution_count": 4,
   "id": "8c57e24f",
   "metadata": {},
   "outputs": [
    {
     "data": {
      "text/plain": [
       "[]"
      ]
     },
     "execution_count": 4,
     "metadata": {},
     "output_type": "execute_result"
    }
   ],
   "source": [
    "empty_list2"
   ]
  },
  {
   "cell_type": "code",
   "execution_count": null,
   "id": "4176700e",
   "metadata": {},
   "outputs": [],
   "source": [
    "fruits = [\"apple\", \"banana\", \"orange\"]\n",
    "numbers = [1, 2, 3, 4, 5]\n"
   ]
  },
  {
   "cell_type": "code",
   "execution_count": null,
   "id": "79a127f2",
   "metadata": {},
   "outputs": [],
   "source": []
  },
  {
   "cell_type": "code",
   "execution_count": 5,
   "id": "67c64054",
   "metadata": {},
   "outputs": [
    {
     "data": {
      "text/plain": [
       "['hello', 42, 3.14, True, [1, 2, 3]]"
      ]
     },
     "execution_count": 5,
     "metadata": {},
     "output_type": "execute_result"
    }
   ],
   "source": [
    "mixed = [\"hello\", 42, 3.14, True, [1, 2, 3]]\n",
    "mixed"
   ]
  },
  {
   "cell_type": "code",
   "execution_count": 6,
   "id": "fd6cb727",
   "metadata": {},
   "outputs": [
    {
     "data": {
      "text/plain": [
       "[1, 'd', 'b', 3, 9]"
      ]
     },
     "execution_count": 6,
     "metadata": {},
     "output_type": "execute_result"
    }
   ],
   "source": [
    "a = [1,'d', 'b', 3, 9]\n",
    "a"
   ]
  },
  {
   "cell_type": "code",
   "execution_count": 7,
   "id": "8ab7143b",
   "metadata": {},
   "outputs": [
    {
     "data": {
      "text/plain": [
       "1"
      ]
     },
     "execution_count": 7,
     "metadata": {},
     "output_type": "execute_result"
    }
   ],
   "source": [
    "a[0]"
   ]
  },
  {
   "cell_type": "code",
   "execution_count": 9,
   "id": "c4852797",
   "metadata": {},
   "outputs": [
    {
     "data": {
      "text/plain": [
       "3"
      ]
     },
     "execution_count": 9,
     "metadata": {},
     "output_type": "execute_result"
    }
   ],
   "source": [
    "a[3]"
   ]
  },
  {
   "cell_type": "code",
   "execution_count": 10,
   "id": "2c1f1e5c",
   "metadata": {},
   "outputs": [
    {
     "data": {
      "text/plain": [
       "'b'"
      ]
     },
     "execution_count": 10,
     "metadata": {},
     "output_type": "execute_result"
    }
   ],
   "source": [
    "a[-3]"
   ]
  },
  {
   "cell_type": "code",
   "execution_count": null,
   "id": "3001fbc9",
   "metadata": {},
   "outputs": [],
   "source": []
  },
  {
   "cell_type": "code",
   "execution_count": 13,
   "id": "40219e42",
   "metadata": {},
   "outputs": [
    {
     "data": {
      "text/plain": [
       "['hello', 42, 3.14, True, [1, 2, 3, 'abc']]"
      ]
     },
     "execution_count": 13,
     "metadata": {},
     "output_type": "execute_result"
    }
   ],
   "source": [
    "t= [\"hello\", 42, 3.14, True, [1, 2, 3,'abc']]\n",
    "t"
   ]
  },
  {
   "cell_type": "code",
   "execution_count": 14,
   "id": "5bdb57a5",
   "metadata": {},
   "outputs": [
    {
     "data": {
      "text/plain": [
       "[1, 2, 3, 'abc']"
      ]
     },
     "execution_count": 14,
     "metadata": {},
     "output_type": "execute_result"
    }
   ],
   "source": [
    "t[4]"
   ]
  },
  {
   "cell_type": "code",
   "execution_count": 15,
   "id": "64eb171f",
   "metadata": {},
   "outputs": [
    {
     "data": {
      "text/plain": [
       "'abc'"
      ]
     },
     "execution_count": 15,
     "metadata": {},
     "output_type": "execute_result"
    }
   ],
   "source": [
    "t[4][3]"
   ]
  },
  {
   "cell_type": "code",
   "execution_count": 16,
   "id": "f6a72848",
   "metadata": {},
   "outputs": [
    {
     "data": {
      "text/plain": [
       "2"
      ]
     },
     "execution_count": 16,
     "metadata": {},
     "output_type": "execute_result"
    }
   ],
   "source": [
    "t[4][1]"
   ]
  },
  {
   "cell_type": "code",
   "execution_count": 17,
   "id": "a7f5fac0",
   "metadata": {},
   "outputs": [
    {
     "data": {
      "text/plain": [
       "['hello', 42, 3.14, True, [1, 2, 3, 'abc']]"
      ]
     },
     "execution_count": 17,
     "metadata": {},
     "output_type": "execute_result"
    }
   ],
   "source": [
    "t"
   ]
  },
  {
   "cell_type": "code",
   "execution_count": 20,
   "id": "6ce71fb7",
   "metadata": {},
   "outputs": [
    {
     "data": {
      "text/plain": [
       "[42, 3.14]"
      ]
     },
     "execution_count": 20,
     "metadata": {},
     "output_type": "execute_result"
    }
   ],
   "source": [
    "t[1:3]"
   ]
  },
  {
   "cell_type": "code",
   "execution_count": 21,
   "id": "6fa3e079",
   "metadata": {},
   "outputs": [
    {
     "data": {
      "text/plain": [
       "[42, 3.14, True, [1, 2, 3, 'abc']]"
      ]
     },
     "execution_count": 21,
     "metadata": {},
     "output_type": "execute_result"
    }
   ],
   "source": [
    "t[1:]"
   ]
  },
  {
   "cell_type": "code",
   "execution_count": 24,
   "id": "4a512808",
   "metadata": {},
   "outputs": [
    {
     "data": {
      "text/plain": [
       "['hello', 3.14, [1, 2, 3, 'abc']]"
      ]
     },
     "execution_count": 24,
     "metadata": {},
     "output_type": "execute_result"
    }
   ],
   "source": [
    "t[0:5:2]"
   ]
  },
  {
   "cell_type": "code",
   "execution_count": null,
   "id": "29d32ddf",
   "metadata": {},
   "outputs": [],
   "source": []
  },
  {
   "cell_type": "code",
   "execution_count": 26,
   "id": "44e132c3",
   "metadata": {},
   "outputs": [
    {
     "data": {
      "text/plain": [
       "[5, 13, 19, 1, 10, 5, 8, 18, 24, 36]"
      ]
     },
     "execution_count": 26,
     "metadata": {},
     "output_type": "execute_result"
    }
   ],
   "source": [
    "t =[5,13,19,1,10,5,8,18,24,36]\n",
    "t"
   ]
  },
  {
   "cell_type": "code",
   "execution_count": 28,
   "id": "bba8df06",
   "metadata": {},
   "outputs": [
    {
     "data": {
      "text/plain": [
       "[1, 10, 5, 8]"
      ]
     },
     "execution_count": 28,
     "metadata": {},
     "output_type": "execute_result"
    }
   ],
   "source": [
    "t[3:7]"
   ]
  },
  {
   "cell_type": "code",
   "execution_count": 29,
   "id": "e28dc2ca",
   "metadata": {},
   "outputs": [
    {
     "data": {
      "text/plain": [
       "[1, 10, 5, 8, 18, 24, 36]"
      ]
     },
     "execution_count": 29,
     "metadata": {},
     "output_type": "execute_result"
    }
   ],
   "source": [
    "t[3:]\n",
    "# Lists with data\n"
   ]
  },
  {
   "cell_type": "code",
   "execution_count": 30,
   "id": "3d29278b",
   "metadata": {},
   "outputs": [
    {
     "data": {
      "text/plain": [
       "[1, 5, 18, 36]"
      ]
     },
     "execution_count": 30,
     "metadata": {},
     "output_type": "execute_result"
    }
   ],
   "source": [
    "t[3::2]"
   ]
  },
  {
   "cell_type": "code",
   "execution_count": null,
   "id": "331319c7",
   "metadata": {},
   "outputs": [],
   "source": []
  },
  {
   "cell_type": "code",
   "execution_count": null,
   "id": "d0be612f",
   "metadata": {},
   "outputs": [],
   "source": [
    "fruits = [\"apple\", \"banana\", \"orange\", \"grape\"]\n",
    "\n",
    "# Positive indexing (0, 1, 2, 3...)\n",
    "print(fruits[0])     # \"apple\" (first item)\n",
    "print(fruits[2])     # \"orange\" (third item)\n",
    "\n",
    "# Negative indexing (-1, -2, -3...)\n",
    "print(fruits[-1])    # \"grape\" (last item)\n",
    "print(fruits[-2])    # \"orange\" (second to last)\n",
    "\n",
    "# Slicing [start:end:step]\n",
    "print(fruits[1:3])   # [\"banana\", \"orange\"] (items 1 to 2)\n",
    "print(fruits[:2])    # [\"apple\", \"banana\"] (first 2 items)\n",
    "print(fruits[2:])    # [\"orange\", \"grape\"] (from index 2 to end)\n",
    "print(fruits[::2])   # [\"apple\", \"orange\"] (every 2nd item)"
   ]
  },
  {
   "cell_type": "code",
   "execution_count": null,
   "id": "b035ca41",
   "metadata": {},
   "outputs": [],
   "source": []
  },
  {
   "cell_type": "code",
   "execution_count": null,
   "id": "8d1f5c5a",
   "metadata": {},
   "outputs": [],
   "source": []
  },
  {
   "cell_type": "code",
   "execution_count": null,
   "id": "fe2ad21b",
   "metadata": {},
   "outputs": [],
   "source": []
  },
  {
   "cell_type": "code",
   "execution_count": null,
   "id": "4d086125",
   "metadata": {},
   "outputs": [],
   "source": []
  },
  {
   "cell_type": "code",
   "execution_count": null,
   "id": "abe68650",
   "metadata": {},
   "outputs": [],
   "source": []
  },
  {
   "cell_type": "code",
   "execution_count": 35,
   "id": "66228b91",
   "metadata": {},
   "outputs": [
    {
     "data": {
      "text/plain": [
       "['apple', 'banana']"
      ]
     },
     "execution_count": 35,
     "metadata": {},
     "output_type": "execute_result"
    }
   ],
   "source": [
    "fruits = [\"apple\", \"banana\"]\n",
    "fruits"
   ]
  },
  {
   "cell_type": "code",
   "execution_count": 36,
   "id": "6db5fed7",
   "metadata": {},
   "outputs": [
    {
     "data": {
      "text/plain": [
       "['apple', 'banana', 'orange']"
      ]
     },
     "execution_count": 36,
     "metadata": {},
     "output_type": "execute_result"
    }
   ],
   "source": [
    "fruits.append(\"orange\")\n",
    "fruits"
   ]
  },
  {
   "cell_type": "code",
   "execution_count": 39,
   "id": "d1a5347b",
   "metadata": {},
   "outputs": [
    {
     "data": {
      "text/plain": [
       "['Mango', 'banana', 'orange']"
      ]
     },
     "execution_count": 39,
     "metadata": {},
     "output_type": "execute_result"
    }
   ],
   "source": [
    "fruits[0]='Mango'\n",
    "fruits"
   ]
  },
  {
   "cell_type": "code",
   "execution_count": 40,
   "id": "e9b5ce0b",
   "metadata": {},
   "outputs": [
    {
     "data": {
      "text/plain": [
       "['Mango', 'banana', 'orange', 'Grapes']"
      ]
     },
     "execution_count": 40,
     "metadata": {},
     "output_type": "execute_result"
    }
   ],
   "source": [
    "fruits.append('Grapes')\n",
    "fruits"
   ]
  },
  {
   "cell_type": "code",
   "execution_count": null,
   "id": "5c4aeabc",
   "metadata": {},
   "outputs": [],
   "source": []
  },
  {
   "cell_type": "code",
   "execution_count": 41,
   "id": "dbaebe89",
   "metadata": {},
   "outputs": [
    {
     "data": {
      "text/plain": [
       "['Mango', 'Chheku', 'banana', 'orange', 'Grapes']"
      ]
     },
     "execution_count": 41,
     "metadata": {},
     "output_type": "execute_result"
    }
   ],
   "source": [
    "fruits.insert(1, \"Chheku\")\n",
    "fruits"
   ]
  },
  {
   "cell_type": "code",
   "execution_count": null,
   "id": "feff45d4",
   "metadata": {},
   "outputs": [],
   "source": []
  },
  {
   "cell_type": "code",
   "execution_count": 42,
   "id": "e46d121a",
   "metadata": {},
   "outputs": [
    {
     "data": {
      "text/plain": [
       "['Mango', 'Chheku', 'banana', 'orange', 'Grapes', 'papya', 'kiwi']"
      ]
     },
     "execution_count": 42,
     "metadata": {},
     "output_type": "execute_result"
    }
   ],
   "source": [
    "fruits.extend([\"papya\", \"kiwi\"])\n",
    "fruits"
   ]
  },
  {
   "cell_type": "code",
   "execution_count": 43,
   "id": "6620e1c3",
   "metadata": {},
   "outputs": [
    {
     "data": {
      "text/plain": [
       "['Mango',\n",
       " ['pap', 'kiw'],\n",
       " 'Chheku',\n",
       " 'banana',\n",
       " 'orange',\n",
       " 'Grapes',\n",
       " 'papya',\n",
       " 'kiwi']"
      ]
     },
     "execution_count": 43,
     "metadata": {},
     "output_type": "execute_result"
    }
   ],
   "source": [
    "fruits.insert(1, [\"pap\", \"kiw\"])\n",
    "fruits"
   ]
  },
  {
   "cell_type": "code",
   "execution_count": null,
   "id": "94b86def",
   "metadata": {},
   "outputs": [],
   "source": []
  },
  {
   "cell_type": "code",
   "execution_count": 50,
   "id": "56e6c5f2",
   "metadata": {},
   "outputs": [
    {
     "data": {
      "text/plain": [
       "[1, 2, 3, 3, 4, 5, 6]"
      ]
     },
     "execution_count": 50,
     "metadata": {},
     "output_type": "execute_result"
    }
   ],
   "source": [
    "a =[1,2,3,3]\n",
    "b=[4,5,6]\n",
    "c=a+b\n",
    "c"
   ]
  },
  {
   "cell_type": "code",
   "execution_count": 51,
   "id": "e4b5837f",
   "metadata": {},
   "outputs": [
    {
     "data": {
      "text/plain": [
       "[1, 2, 3, 4, 5, 6]"
      ]
     },
     "execution_count": 51,
     "metadata": {},
     "output_type": "execute_result"
    }
   ],
   "source": [
    "c.remove(3)\n",
    "c"
   ]
  },
  {
   "cell_type": "code",
   "execution_count": null,
   "id": "f7defff8",
   "metadata": {},
   "outputs": [],
   "source": []
  },
  {
   "cell_type": "code",
   "execution_count": 48,
   "id": "da63380d",
   "metadata": {},
   "outputs": [
    {
     "data": {
      "text/plain": [
       "['Mango', ['pap', 'kiw'], 'Chheku', 'banana', 'Grapes', 'papya', 'kiwi']"
      ]
     },
     "execution_count": 48,
     "metadata": {},
     "output_type": "execute_result"
    }
   ],
   "source": [
    "fruits"
   ]
  },
  {
   "cell_type": "code",
   "execution_count": 49,
   "id": "f1b3ca82",
   "metadata": {},
   "outputs": [
    {
     "data": {
      "text/plain": [
       "['Mango', ['pap', 'kiw'], 'Chheku', 'banana', 'Grapes', 'papya']"
      ]
     },
     "execution_count": 49,
     "metadata": {},
     "output_type": "execute_result"
    }
   ],
   "source": [
    "fruits.remove('kiwi')\n",
    "fruits"
   ]
  },
  {
   "cell_type": "code",
   "execution_count": null,
   "id": "908aa06c",
   "metadata": {},
   "outputs": [],
   "source": []
  },
  {
   "cell_type": "code",
   "execution_count": null,
   "id": "3c4a47a0",
   "metadata": {},
   "outputs": [],
   "source": []
  },
  {
   "cell_type": "code",
   "execution_count": null,
   "id": "ccee1efe",
   "metadata": {},
   "outputs": [],
   "source": []
  },
  {
   "cell_type": "code",
   "execution_count": null,
   "id": "bfc7cf7f",
   "metadata": {},
   "outputs": [],
   "source": []
  },
  {
   "cell_type": "code",
   "execution_count": null,
   "id": "b761dd06",
   "metadata": {},
   "outputs": [],
   "source": []
  },
  {
   "cell_type": "code",
   "execution_count": null,
   "id": "7f1b0fce",
   "metadata": {},
   "outputs": [],
   "source": [
    "\n",
    "\n",
    "# append() - Add to end\n",
    "fruits.append(\"orange\")\n",
    "print(fruits)  # [\"apple\", \"banana\", \"orange\"]\n",
    "\n",
    "# insert() - Add at specific position\n",
    "fruits.insert(1, \"grape\")\n",
    "print(fruits)  # [\"apple\", \"grape\", \"banana\", \"orange\"]\n",
    "\n",
    "# extend() - Add multiple items\n",
    "fruits.extend([\"mango\", \"kiwi\"])\n",
    "print(fruits)  # [\"apple\", \"grape\", \"banana\", \"orange\", \"mango\", \"kiwi\"]\n",
    "\n",
    "# + operator - Concatenate lists\n",
    "more_fruits = fruits + [\"pear\", \"peach\"]\n",
    "print(more_fruits)  # Original + new items"
   ]
  },
  {
   "cell_type": "code",
   "execution_count": null,
   "id": "e227c746",
   "metadata": {},
   "outputs": [],
   "source": []
  },
  {
   "cell_type": "code",
   "execution_count": 52,
   "id": "02ebd2e2",
   "metadata": {},
   "outputs": [
    {
     "data": {
      "text/plain": [
       "['Mango', ['pap', 'kiw'], 'Chheku', 'banana', 'Grapes', 'papya']"
      ]
     },
     "execution_count": 52,
     "metadata": {},
     "output_type": "execute_result"
    }
   ],
   "source": [
    "fruits"
   ]
  },
  {
   "cell_type": "code",
   "execution_count": 53,
   "id": "e66c9ce5",
   "metadata": {},
   "outputs": [
    {
     "data": {
      "text/plain": [
       "'papya'"
      ]
     },
     "execution_count": 53,
     "metadata": {},
     "output_type": "execute_result"
    }
   ],
   "source": [
    "last_fruit = fruits.pop()\n",
    "last_fruit"
   ]
  },
  {
   "cell_type": "code",
   "execution_count": 54,
   "id": "8e520497",
   "metadata": {},
   "outputs": [
    {
     "data": {
      "text/plain": [
       "['Mango', ['pap', 'kiw'], 'Chheku', 'banana', 'Grapes']"
      ]
     },
     "execution_count": 54,
     "metadata": {},
     "output_type": "execute_result"
    }
   ],
   "source": [
    "fruits"
   ]
  },
  {
   "cell_type": "code",
   "execution_count": 55,
   "id": "de646ca5",
   "metadata": {},
   "outputs": [
    {
     "data": {
      "text/plain": [
       "'Chheku'"
      ]
     },
     "execution_count": 55,
     "metadata": {},
     "output_type": "execute_result"
    }
   ],
   "source": [
    "first_fruit=fruits.pop(2)\n",
    "first_fruit"
   ]
  },
  {
   "cell_type": "code",
   "execution_count": 56,
   "id": "c0a4f73f",
   "metadata": {},
   "outputs": [
    {
     "data": {
      "text/plain": [
       "['Mango', ['pap', 'kiw'], 'banana', 'Grapes']"
      ]
     },
     "execution_count": 56,
     "metadata": {},
     "output_type": "execute_result"
    }
   ],
   "source": [
    "fruits"
   ]
  },
  {
   "cell_type": "code",
   "execution_count": 57,
   "id": "583e55fa",
   "metadata": {},
   "outputs": [],
   "source": [
    "del fruits[0]"
   ]
  },
  {
   "cell_type": "code",
   "execution_count": 58,
   "id": "beaafca2",
   "metadata": {},
   "outputs": [
    {
     "data": {
      "text/plain": [
       "[['pap', 'kiw'], 'banana', 'Grapes']"
      ]
     },
     "execution_count": 58,
     "metadata": {},
     "output_type": "execute_result"
    }
   ],
   "source": [
    "fruits"
   ]
  },
  {
   "cell_type": "code",
   "execution_count": 59,
   "id": "d6aa0d57",
   "metadata": {},
   "outputs": [
    {
     "data": {
      "text/plain": [
       "[]"
      ]
     },
     "execution_count": 59,
     "metadata": {},
     "output_type": "execute_result"
    }
   ],
   "source": [
    "fruits.clear()\n",
    "fruits"
   ]
  },
  {
   "cell_type": "code",
   "execution_count": null,
   "id": "08b8924a",
   "metadata": {},
   "outputs": [],
   "source": []
  },
  {
   "cell_type": "code",
   "execution_count": null,
   "id": "12b8eae8",
   "metadata": {},
   "outputs": [],
   "source": []
  },
  {
   "cell_type": "code",
   "execution_count": null,
   "id": "c1af5394",
   "metadata": {},
   "outputs": [],
   "source": [
    "fruits = [\"apple\", \"banana\", \"orange\", \"banana\", \"grape\"]\n",
    "\n",
    "# remove() - Remove first occurrence of value\n",
    "fruits.remove(\"banana\")\n",
    "print(fruits)  # [\"apple\", \"orange\", \"banana\", \"grape\"]\n",
    "\n",
    "# pop() - Remove and return item at index (default: last)\n",
    "last_fruit = fruits.pop()\n",
    "print(last_fruit)  # \"grape\"\n",
    "print(fruits)      # [\"apple\", \"orange\", \"banana\"]\n",
    "\n",
    "first_fruit = fruits.pop(0)\n",
    "print(first_fruit)  # \"apple\"\n",
    "print(fruits)       # [\"orange\", \"banana\"]\n",
    "\n",
    "# del - Delete item(s) at index/slice\n",
    "del fruits[0]\n",
    "print(fruits)  # [\"banana\"]\n",
    "\n",
    "# clear() - Remove all items\n",
    "fruits.clear()\n",
    "print(fruits)  # []"
   ]
  },
  {
   "cell_type": "code",
   "execution_count": null,
   "id": "b2fd8cef",
   "metadata": {},
   "outputs": [],
   "source": []
  },
  {
   "cell_type": "code",
   "execution_count": 60,
   "id": "53df0b7c",
   "metadata": {},
   "outputs": [
    {
     "name": "stdout",
     "output_type": "stream",
     "text": [
      "['apple', 'banana', 'orange']\n"
     ]
    }
   ],
   "source": [
    "fruits = [\"apple\", \"banana\", \"orange\"]\n",
    "\n",
    "\n",
    "print(fruits)  # [\"mango\", \"kiwi\", \"orange\"]"
   ]
  },
  {
   "cell_type": "code",
   "execution_count": 61,
   "id": "0df752da",
   "metadata": {},
   "outputs": [],
   "source": [
    "# Change single item\n",
    "fruits[1] = \"grape\"\n"
   ]
  },
  {
   "cell_type": "code",
   "execution_count": 62,
   "id": "96add4b9",
   "metadata": {},
   "outputs": [
    {
     "data": {
      "text/plain": [
       "['apple', 'grape', 'orange']"
      ]
     },
     "execution_count": 62,
     "metadata": {},
     "output_type": "execute_result"
    }
   ],
   "source": [
    "fruits"
   ]
  },
  {
   "cell_type": "code",
   "execution_count": 63,
   "id": "c74e8b51",
   "metadata": {},
   "outputs": [
    {
     "data": {
      "text/plain": [
       "['mango', 'kiwi', 'orange']"
      ]
     },
     "execution_count": 63,
     "metadata": {},
     "output_type": "execute_result"
    }
   ],
   "source": [
    "\n",
    "\n",
    "# Change multiple items\n",
    "fruits[0:2] = [\"mango\", \"kiwi\"]\n",
    "fruits"
   ]
  },
  {
   "cell_type": "code",
   "execution_count": null,
   "id": "350d4989",
   "metadata": {},
   "outputs": [],
   "source": []
  },
  {
   "cell_type": "code",
   "execution_count": null,
   "id": "55d9b88f",
   "metadata": {},
   "outputs": [],
   "source": []
  },
  {
   "cell_type": "code",
   "execution_count": 66,
   "id": "698ba2c3",
   "metadata": {},
   "outputs": [
    {
     "data": {
      "text/plain": [
       "8"
      ]
     },
     "execution_count": 66,
     "metadata": {},
     "output_type": "execute_result"
    }
   ],
   "source": [
    "n = [3, 1, 4, 1, 5, 9, 2, 6]\n",
    "\n",
    "len(n)"
   ]
  },
  {
   "cell_type": "code",
   "execution_count": 68,
   "id": "8e3b5449",
   "metadata": {},
   "outputs": [
    {
     "data": {
      "text/plain": [
       "1"
      ]
     },
     "execution_count": 68,
     "metadata": {},
     "output_type": "execute_result"
    }
   ],
   "source": [
    "n.count(6)"
   ]
  },
  {
   "cell_type": "code",
   "execution_count": 69,
   "id": "41514167",
   "metadata": {},
   "outputs": [
    {
     "data": {
      "text/plain": [
       "2"
      ]
     },
     "execution_count": 69,
     "metadata": {},
     "output_type": "execute_result"
    }
   ],
   "source": [
    "n.index(4)"
   ]
  },
  {
   "cell_type": "code",
   "execution_count": 70,
   "id": "95a3a4b7",
   "metadata": {},
   "outputs": [],
   "source": [
    "n.sort()"
   ]
  },
  {
   "cell_type": "code",
   "execution_count": 71,
   "id": "46159c69",
   "metadata": {},
   "outputs": [
    {
     "data": {
      "text/plain": [
       "[1, 1, 2, 3, 4, 5, 6, 9]"
      ]
     },
     "execution_count": 71,
     "metadata": {},
     "output_type": "execute_result"
    }
   ],
   "source": [
    "n"
   ]
  },
  {
   "cell_type": "code",
   "execution_count": null,
   "id": "66e4ebbb",
   "metadata": {},
   "outputs": [],
   "source": [
    "n.reverse()\n"
   ]
  },
  {
   "cell_type": "code",
   "execution_count": 73,
   "id": "62cc24c3",
   "metadata": {},
   "outputs": [
    {
     "data": {
      "text/plain": [
       "[9, 6, 5, 4, 3, 2, 1, 1]"
      ]
     },
     "execution_count": 73,
     "metadata": {},
     "output_type": "execute_result"
    }
   ],
   "source": [
    "n"
   ]
  },
  {
   "cell_type": "code",
   "execution_count": null,
   "id": "7f3f054c",
   "metadata": {},
   "outputs": [],
   "source": []
  },
  {
   "cell_type": "code",
   "execution_count": 74,
   "id": "631d27b9",
   "metadata": {},
   "outputs": [
    {
     "data": {
      "text/plain": [
       "[9, 6, 5, 4, 3, 2, 1, 1]"
      ]
     },
     "execution_count": 74,
     "metadata": {},
     "output_type": "execute_result"
    }
   ],
   "source": [
    "n"
   ]
  },
  {
   "cell_type": "code",
   "execution_count": 76,
   "id": "cd37a6fb",
   "metadata": {},
   "outputs": [
    {
     "data": {
      "text/plain": [
       "True"
      ]
     },
     "execution_count": 76,
     "metadata": {},
     "output_type": "execute_result"
    }
   ],
   "source": [
    "4 in n"
   ]
  },
  {
   "cell_type": "code",
   "execution_count": null,
   "id": "8640cdc0",
   "metadata": {},
   "outputs": [],
   "source": []
  },
  {
   "cell_type": "code",
   "execution_count": null,
   "id": "8fb69b2a",
   "metadata": {},
   "outputs": [],
   "source": []
  },
  {
   "cell_type": "code",
   "execution_count": null,
   "id": "af6ee368",
   "metadata": {},
   "outputs": [],
   "source": [
    "# Information methods\n",
    "print(len(numbers))        # 8 (length)\n",
    "print(numbers.count(1))    # 2 (count of 1s)\n",
    "print(numbers.index(4))    # 2 (index of first 4)\n",
    "\n",
    "# Sorting and reversing\n",
    "numbers.sort()             # Sort in place\n",
    "print(numbers)             # [1, 1, 2, 3, 4, 5, 6, 9]\n",
    "\n",
    "numbers.reverse()          # Reverse in place\n",
    "print(numbers)             # [9, 6, 5, 4, 3, 2, 1, 1]\n",
    "\n",
    "# Non-modifying versions\n",
    "original = [3, 1, 4, 1, 5]\n",
    "sorted_copy = sorted(original)     # Returns new sorted list\n",
    "reversed_copy = list(reversed(original))  # Returns new reversed list\n",
    "\n",
    "# Check membership\n",
    "print(3 in numbers)        # True\n",
    "print(10 not in numbers)   # True"
   ]
  },
  {
   "cell_type": "code",
   "execution_count": null,
   "id": "1f644131",
   "metadata": {},
   "outputs": [],
   "source": []
  },
  {
   "cell_type": "code",
   "execution_count": null,
   "id": "02102464",
   "metadata": {},
   "outputs": [],
   "source": []
  },
  {
   "cell_type": "code",
   "execution_count": null,
   "id": "08b60e4c",
   "metadata": {},
   "outputs": [],
   "source": []
  },
  {
   "cell_type": "code",
   "execution_count": null,
   "id": "d68eb3ad",
   "metadata": {},
   "outputs": [],
   "source": []
  },
  {
   "cell_type": "code",
   "execution_count": null,
   "id": "cbe2dfbe",
   "metadata": {},
   "outputs": [],
   "source": []
  },
  {
   "cell_type": "code",
   "execution_count": null,
   "id": "be6e0c31",
   "metadata": {},
   "outputs": [],
   "source": [
    "# Empty tuple\n",
    "empty_tuple = ()\n",
    "empty_tuple = tuple()\n",
    "\n",
    "# Tuples with data\n",
    "coordinates = (3, 5)\n",
    "colors = (\"red\", \"green\", \"blue\")\n",
    "mixed = (\"hello\", 42, 3.14, True)\n",
    "\n",
    "# Single item tuple (comma is important!)\n",
    "single = (42,)    # With comma: tuple\n",
    "not_tuple = (42)  # Without comma: just parentheses around number\n",
    "\n",
    "# Without parentheses (tuple packing)\n",
    "point = 10, 20\n",
    "print(point)  # (10, 20)"
   ]
  },
  {
   "cell_type": "code",
   "execution_count": null,
   "id": "b047cebb",
   "metadata": {},
   "outputs": [],
   "source": []
  },
  {
   "cell_type": "code",
   "execution_count": null,
   "id": "70b0d63e",
   "metadata": {},
   "outputs": [],
   "source": [
    "colors = (\"red\", \"green\", \"blue\", \"yellow\")\n",
    "\n",
    "print(colors[0])     # \"red\"\n",
    "print(colors[-1])    # \"yellow\"\n",
    "print(colors[1:3])   # (\"green\", \"blue\")"
   ]
  },
  {
   "cell_type": "code",
   "execution_count": null,
   "id": "69de54f8",
   "metadata": {},
   "outputs": [],
   "source": []
  },
  {
   "cell_type": "code",
   "execution_count": null,
   "id": "1e89c85e",
   "metadata": {},
   "outputs": [],
   "source": [
    "numbers = (1, 2, 3, 2, 4, 2)\n",
    "\n",
    "print(len(numbers))        # 6\n",
    "print(numbers.count(2))    # 3\n",
    "print(numbers.index(3))    # 2\n",
    "print(2 in numbers)        # True"
   ]
  },
  {
   "cell_type": "code",
   "execution_count": null,
   "id": "fac8f4f7",
   "metadata": {},
   "outputs": [],
   "source": []
  },
  {
   "cell_type": "code",
   "execution_count": null,
   "id": "28e91549",
   "metadata": {},
   "outputs": [],
   "source": [
    "# Basic unpacking\n",
    "point = (10, 20)\n",
    "x, y = point\n",
    "print(f\"x={x}, y={y}\")  # x=10, y=20\n",
    "\n",
    "# Multiple assignment\n",
    "person = (\"Alice\", 25, \"Engineer\")\n",
    "name, age, job = person\n",
    "\n",
    "# Swapping variables\n",
    "a, b = 5, 10\n",
    "a, b = b, a  # Now a=10, b=5\n",
    "\n",
    "# Extended unpacking (Python 3+)\n",
    "numbers = (1, 2, 3, 4, 5)\n",
    "first, *middle, last = numbers\n",
    "print(first)   # 1\n",
    "print(middle)  # [2, 3, 4]\n",
    "print(last)    # 5"
   ]
  },
  {
   "cell_type": "code",
   "execution_count": null,
   "id": "2bd9990b",
   "metadata": {},
   "outputs": [],
   "source": []
  },
  {
   "cell_type": "code",
   "execution_count": null,
   "id": "9365b827",
   "metadata": {},
   "outputs": [],
   "source": [
    "# Empty dictionary\n",
    "empty_dict = {}\n",
    "empty_dict = dict()\n",
    "\n",
    "# Dictionary with data\n",
    "student = {\"name\": \"Alice\", \"age\": 20, \"grade\": \"A\"}\n",
    "prices = {\"apple\": 1.50, \"banana\": 0.75, \"orange\": 2.00}\n",
    "\n",
    "# Using dict() constructor\n",
    "person = dict(name=\"Bob\", age=30, city=\"New York\")\n",
    "\n",
    "# From list of tuples\n",
    "items = [(\"a\", 1), (\"b\", 2), (\"c\", 3)]\n",
    "my_dict = dict(items)"
   ]
  },
  {
   "cell_type": "code",
   "execution_count": null,
   "id": "4c10a5ff",
   "metadata": {},
   "outputs": [],
   "source": []
  },
  {
   "cell_type": "code",
   "execution_count": null,
   "id": "b50b4f91",
   "metadata": {},
   "outputs": [],
   "source": [
    "student = {\"name\": \"Alice\", \"age\": 20, \"grade\": \"A\"}\n",
    "\n",
    "# Direct access\n",
    "print(student[\"name\"])     # \"Alice\"\n",
    "\n",
    "# get() method (safe access)\n",
    "print(student.get(\"age\"))           # 20\n",
    "print(student.get(\"height\", 0))     # 0 (default value)\n",
    "\n",
    "# Check if key exists\n",
    "print(\"grade\" in student)           # True\n",
    "print(\"height\" in student)          # False"
   ]
  },
  {
   "cell_type": "code",
   "execution_count": null,
   "id": "da0577ac",
   "metadata": {},
   "outputs": [],
   "source": [
    "student = {\"name\": \"Alice\", \"age\": 20}\n",
    "\n",
    "# Add new key-value pair\n",
    "student[\"grade\"] = \"A\"\n",
    "student[\"city\"] = \"Boston\"\n",
    "\n",
    "# Modify existing value\n",
    "student[\"age\"] = 21\n",
    "\n",
    "# update() method\n",
    "student.update({\"height\": 165, \"weight\": 55})\n",
    "student.update(grade=\"A+\", gpa=3.9)\n",
    "\n",
    "print(student)"
   ]
  },
  {
   "cell_type": "code",
   "execution_count": null,
   "id": "2236c47d",
   "metadata": {},
   "outputs": [],
   "source": [
    "student = {\"name\": \"Alice\", \"age\": 20, \"grade\": \"A\", \"city\": \"Boston\"}\n",
    "\n",
    "# pop() - Remove and return value\n",
    "grade = student.pop(\"grade\")\n",
    "print(grade)    # \"A\"\n",
    "\n",
    "# pop() with default\n",
    "height = student.pop(\"height\", \"Unknown\")\n",
    "print(height)   # \"Unknown\"\n",
    "\n",
    "# del - Delete key-value pair\n",
    "del student[\"city\"]\n",
    "\n",
    "# popitem() - Remove and return last item\n",
    "key, value = student.popitem()\n",
    "print(f\"Removed: {key} = {value}\")\n",
    "\n",
    "# clear() - Remove all items\n",
    "student.clear()"
   ]
  },
  {
   "cell_type": "code",
   "execution_count": null,
   "id": "13fa6ebe",
   "metadata": {},
   "outputs": [],
   "source": []
  },
  {
   "cell_type": "code",
   "execution_count": null,
   "id": "ad792545",
   "metadata": {},
   "outputs": [],
   "source": [
    "student = {\"name\": \"Alice\", \"age\": 20, \"grade\": \"A\"}\n",
    "\n",
    "# Get all keys, values, items\n",
    "print(student.keys())      # dict_keys(['name', 'age', 'grade'])\n",
    "print(student.values())    # dict_values(['Alice', 20, 'A'])\n",
    "print(student.items())     # dict_items([('name', 'Alice'), ('age', 20), ('grade', 'A')])\n",
    "\n",
    "# Copy dictionary\n",
    "student_copy = student.copy()\n",
    "\n",
    "# Length\n",
    "print(len(student))        # 3"
   ]
  }
 ],
 "metadata": {
  "kernelspec": {
   "display_name": "base",
   "language": "python",
   "name": "python3"
  },
  "language_info": {
   "codemirror_mode": {
    "name": "ipython",
    "version": 3
   },
   "file_extension": ".py",
   "mimetype": "text/x-python",
   "name": "python",
   "nbconvert_exporter": "python",
   "pygments_lexer": "ipython3",
   "version": "3.12.9"
  }
 },
 "nbformat": 4,
 "nbformat_minor": 5
}
