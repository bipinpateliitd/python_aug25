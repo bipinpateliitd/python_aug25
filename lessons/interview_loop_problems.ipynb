{
 "cells": [
  {
   "cell_type": "markdown",
   "metadata": {},
   "source": [
    "# Interview Problems: For Loops, While Loops & List Comprehensions\n",
    "\n",
    "This notebook contains common interview questions that test your understanding of loops and list comprehensions.\n",
    "\n",
    "---\n",
    "## Section 1: For Loop Problems"
   ]
  },
  {
   "cell_type": "markdown",
   "metadata": {},
   "source": [
    "### Problem 1: FizzBuzz (Classic Interview Question)\n",
    "Write a program that prints numbers 1 to 100, but:\n",
    "- Print \"Fizz\" for multiples of 3\n",
    "- Print \"Buzz\" for multiples of 5\n",
    "- Print \"FizzBuzz\" for multiples of both 3 and 5"
   ]
  },
  {
   "cell_type": "code",
   "execution_count": null,
   "metadata": {},
   "outputs": [],
   "source": [
    "# Your solution here\n",
    "def fizzbuzz(n):\n",
    "    pass\n",
    "\n",
    "# Test\n",
    "fizzbuzz(20)"
   ]
  },
  {
   "cell_type": "markdown",
   "metadata": {},
   "source": [
    "### Problem 2: Pattern Printing\n",
    "Print the following pattern using nested for loops:\n",
    "```\n",
    "*\n",
    "**\n",
    "***\n",
    "****\n",
    "*****\n",
    "```"
   ]
  },
  {
   "cell_type": "code",
   "execution_count": null,
   "metadata": {},
   "outputs": [],
   "source": [
    "# Your solution here\n",
    "def print_triangle(n):\n",
    "    pass\n",
    "\n",
    "# Test\n",
    "print_triangle(5)"
   ]
  },
  {
   "cell_type": "markdown",
   "metadata": {},
   "source": [
    "### Problem 3: Sum of Digits\n",
    "Given a number, find the sum of its digits using a for loop."
   ]
  },
  {
   "cell_type": "code",
   "execution_count": null,
   "metadata": {},
   "outputs": [],
   "source": [
    "# Your solution here\n",
    "def sum_digits(num):\n",
    "    pass\n",
    "\n",
    "# Test\n",
    "print(sum_digits(12345))  # Should return 15"
   ]
  },
  {
   "cell_type": "markdown",
   "metadata": {},
   "source": [
    "### Problem 4: Prime Numbers in Range\n",
    "Find all prime numbers between 1 and n using for loops."
   ]
  },
  {
   "cell_type": "code",
   "execution_count": null,
   "metadata": {},
   "outputs": [],
   "source": [
    "# Your solution here\n",
    "def find_primes(n):\n",
    "    pass\n",
    "\n",
    "# Test\n",
    "print(find_primes(30))  # Should return [2, 3, 5, 7, 11, 13, 17, 19, 23, 29]"
   ]
  },
  {
   "cell_type": "markdown",
   "metadata": {},
   "source": [
    "### Problem 5: Matrix Traversal\n",
    "Given a 2D matrix, print all elements in spiral order (clockwise)."
   ]
  },
  {
   "cell_type": "code",
   "execution_count": null,
   "metadata": {},
   "outputs": [],
   "source": [
    "# Your solution here\n",
    "def spiral_print(matrix):\n",
    "    pass\n",
    "\n",
    "# Test\n",
    "matrix = [\n",
    "    [1, 2, 3, 4],\n",
    "    [5, 6, 7, 8],\n",
    "    [9, 10, 11, 12]\n",
    "]\n",
    "spiral_print(matrix)  # Should print: 1 2 3 4 8 12 11 10 9 5 6 7"
   ]
  },
  {
   "cell_type": "markdown",
   "source": "---\n## Section 1B: More Pattern Printing Problems (Interview Favorites)\n\n### Problem 5A: Inverted Right Triangle\nPrint the following pattern:\n```\n*****\n****\n***\n**\n*\n```",
   "metadata": {}
  },
  {
   "cell_type": "code",
   "source": "# Your solution here\ndef print_inverted_triangle(n):\n    pass\n\n# Test\nprint_inverted_triangle(5)",
   "metadata": {},
   "execution_count": null,
   "outputs": []
  },
  {
   "cell_type": "markdown",
   "source": "### Problem 5B: Right-Aligned Triangle\nPrint the following pattern:\n```\n    *\n   **\n  ***\n ****\n*****\n```",
   "metadata": {}
  },
  {
   "cell_type": "code",
   "source": "# Your solution here\ndef print_right_triangle(n):\n    pass\n\n# Test\nprint_right_triangle(5)",
   "metadata": {},
   "execution_count": null,
   "outputs": []
  },
  {
   "cell_type": "markdown",
   "source": "### Problem 5C: Diamond Pattern\nPrint the following diamond pattern:\n```\n  *\n ***\n*****\n ***\n  *\n```",
   "metadata": {}
  },
  {
   "cell_type": "code",
   "source": "# Your solution here\ndef print_diamond(n):\n    pass\n\n# Test\nprint_diamond(5)",
   "metadata": {},
   "execution_count": null,
   "outputs": []
  },
  {
   "cell_type": "markdown",
   "source": "### Problem 5D: Hollow Square\nPrint the following hollow square pattern:\n```\n*****\n*   *\n*   *\n*   *\n*****\n```",
   "metadata": {}
  },
  {
   "cell_type": "code",
   "source": "# Your solution here\ndef print_hollow_square(n):\n    pass\n\n# Test\nprint_hollow_square(5)",
   "metadata": {},
   "execution_count": null,
   "outputs": []
  },
  {
   "cell_type": "markdown",
   "source": "### Problem 5E: Number Triangle\nPrint the following number pattern:\n```\n1\n12\n123\n1234\n12345\n```",
   "metadata": {}
  },
  {
   "cell_type": "code",
   "source": "# Your solution here\ndef print_number_triangle(n):\n    pass\n\n# Test\nprint_number_triangle(5)",
   "metadata": {},
   "execution_count": null,
   "outputs": []
  },
  {
   "cell_type": "markdown",
   "source": "### Problem 5F: Floyd's Triangle\nPrint Floyd's Triangle (consecutive numbers):\n```\n1\n2 3\n4 5 6\n7 8 9 10\n11 12 13 14 15\n```",
   "metadata": {}
  },
  {
   "cell_type": "code",
   "source": "# Your solution here\ndef print_floyd_triangle(n):\n    pass\n\n# Test\nprint_floyd_triangle(5)",
   "metadata": {},
   "execution_count": null,
   "outputs": []
  },
  {
   "cell_type": "markdown",
   "metadata": {},
   "source": [
    "---\n",
    "## Section 2: While Loop Problems"
   ]
  },
  {
   "cell_type": "markdown",
   "metadata": {},
   "source": [
    "### Problem 6: Reverse a Number\n",
    "Reverse the digits of a given number using a while loop."
   ]
  },
  {
   "cell_type": "code",
   "execution_count": null,
   "metadata": {},
   "outputs": [],
   "source": [
    "# Your solution here\n",
    "def reverse_number(num):\n",
    "    pass\n",
    "\n",
    "# Test\n",
    "print(reverse_number(12345))  # Should return 54321"
   ]
  },
  {
   "cell_type": "markdown",
   "metadata": {},
   "source": [
    "### Problem 7: Palindrome Check\n",
    "Check if a number is a palindrome using while loop logic."
   ]
  },
  {
   "cell_type": "code",
   "execution_count": null,
   "metadata": {},
   "outputs": [],
   "source": [
    "# Your solution here\n",
    "def is_palindrome(num):\n",
    "    pass\n",
    "\n",
    "# Test\n",
    "print(is_palindrome(12321))  # Should return True\n",
    "print(is_palindrome(12345))  # Should return False"
   ]
  },
  {
   "cell_type": "markdown",
   "metadata": {},
   "source": [
    "### Problem 8: Fibonacci Sequence\n",
    "Generate the first n numbers of Fibonacci sequence using a while loop."
   ]
  },
  {
   "cell_type": "code",
   "execution_count": null,
   "metadata": {},
   "outputs": [],
   "source": [
    "# Your solution here\n",
    "def fibonacci(n):\n",
    "    pass\n",
    "\n",
    "# Test\n",
    "print(fibonacci(10))  # Should return [0, 1, 1, 2, 3, 5, 8, 13, 21, 34]"
   ]
  },
  {
   "cell_type": "markdown",
   "metadata": {},
   "source": [
    "### Problem 9: Greatest Common Divisor (GCD)\n",
    "Find GCD of two numbers using Euclidean algorithm with while loop."
   ]
  },
  {
   "cell_type": "code",
   "execution_count": null,
   "metadata": {},
   "outputs": [],
   "source": [
    "# Your solution here\n",
    "def gcd(a, b):\n",
    "    pass\n",
    "\n",
    "# Test\n",
    "print(gcd(48, 18))  # Should return 6"
   ]
  },
  {
   "cell_type": "markdown",
   "metadata": {},
   "source": [
    "### Problem 10: Collatz Conjecture\n",
    "Given a number n, apply the following rules until you reach 1:\n",
    "- If n is even, divide by 2\n",
    "- If n is odd, multiply by 3 and add 1\n",
    "Return the sequence."
   ]
  },
  {
   "cell_type": "code",
   "execution_count": null,
   "metadata": {},
   "outputs": [],
   "source": [
    "# Your solution here\n",
    "def collatz_sequence(n):\n",
    "    pass\n",
    "\n",
    "# Test\n",
    "print(collatz_sequence(7))  # Should return [7, 22, 11, 34, 17, 52, 26, 13, 40, 20, 10, 5, 16, 8, 4, 2, 1]"
   ]
  },
  {
   "cell_type": "markdown",
   "metadata": {},
   "source": [
    "---\n",
    "## Section 3: List Comprehension Problems"
   ]
  },
  {
   "cell_type": "markdown",
   "metadata": {},
   "source": [
    "### Problem 11: Flatten Nested List\n",
    "Flatten a nested list using list comprehension."
   ]
  },
  {
   "cell_type": "code",
   "execution_count": null,
   "metadata": {},
   "outputs": [],
   "source": [
    "# Your solution here\n",
    "nested_list = [[1, 2, 3], [4, 5], [6, 7, 8, 9]]\n",
    "# Write a list comprehension to flatten it\n",
    "flattened = None  # Your list comprehension here\n",
    "\n",
    "print(flattened)  # Should print [1, 2, 3, 4, 5, 6, 7, 8, 9]"
   ]
  },
  {
   "cell_type": "markdown",
   "metadata": {},
   "source": [
    "### Problem 12: Word Filter and Transform\n",
    "From a list of words, select words that start with a vowel and convert them to uppercase."
   ]
  },
  {
   "cell_type": "code",
   "execution_count": null,
   "metadata": {},
   "outputs": [],
   "source": [
    "# Your solution here\n",
    "words = ['apple', 'banana', 'orange', 'grape', 'elephant', 'tiger']\n",
    "# Write a list comprehension\n",
    "vowel_words = None  # Your list comprehension here\n",
    "\n",
    "print(vowel_words)  # Should print ['APPLE', 'ORANGE', 'ELEPHANT']"
   ]
  },
  {
   "cell_type": "markdown",
   "metadata": {},
   "source": [
    "### Problem 13: Matrix Operations\n",
    "Given a 2D matrix, create a new matrix with each element squared using list comprehension."
   ]
  },
  {
   "cell_type": "code",
   "execution_count": null,
   "metadata": {},
   "outputs": [],
   "source": [
    "# Your solution here\n",
    "matrix = [[1, 2, 3], [4, 5, 6], [7, 8, 9]]\n",
    "# Write a nested list comprehension\n",
    "squared_matrix = None  # Your nested list comprehension here\n",
    "\n",
    "print(squared_matrix)  # Should print [[1, 4, 9], [16, 25, 36], [49, 64, 81]]"
   ]
  },
  {
   "cell_type": "markdown",
   "metadata": {},
   "source": [
    "### Problem 14: Dictionary from Lists\n",
    "Create a dictionary from two lists using dictionary comprehension."
   ]
  },
  {
   "cell_type": "code",
   "execution_count": null,
   "metadata": {},
   "outputs": [],
   "source": [
    "# Your solution here\n",
    "keys = ['name', 'age', 'city']\n",
    "values = ['Alice', 25, 'New York']\n",
    "# Write a dictionary comprehension\n",
    "person_dict = None  # Your dictionary comprehension here\n",
    "\n",
    "print(person_dict)  # Should print {'name': 'Alice', 'age': 25, 'city': 'New York'}"
   ]
  },
  {
   "cell_type": "markdown",
   "metadata": {},
   "source": [
    "### Problem 15: Complex Filtering\n",
    "From a list of numbers, create a list of their squares, but only for numbers that are even and greater than 5."
   ]
  },
  {
   "cell_type": "code",
   "execution_count": null,
   "metadata": {},
   "outputs": [],
   "source": [
    "# Your solution here\n",
    "numbers = [1, 2, 4, 6, 8, 10, 12, 15, 18, 20]\n",
    "# Write a list comprehension with complex condition\n",
    "result = None  # Your list comprehension here\n",
    "\n",
    "print(result)  # Should print [36, 64, 100, 144, 324, 400]"
   ]
  },
  {
   "cell_type": "markdown",
   "metadata": {},
   "source": [
    "---\n",
    "## Section 4: Mixed Problems (Combining All Concepts)"
   ]
  },
  {
   "cell_type": "markdown",
   "metadata": {},
   "source": [
    "### Problem 16: Pascal's Triangle\n",
    "Generate the first n rows of Pascal's Triangle."
   ]
  },
  {
   "cell_type": "code",
   "execution_count": null,
   "metadata": {},
   "outputs": [],
   "source": [
    "# Your solution here (use loops)\n",
    "def pascal_triangle(n):\n",
    "    pass\n",
    "\n",
    "# Test\n",
    "pascal_triangle(5)\n",
    "# Should print:\n",
    "# [1]\n",
    "# [1, 1]\n",
    "# [1, 2, 1]\n",
    "# [1, 3, 3, 1]\n",
    "# [1, 4, 6, 4, 1]"
   ]
  },
  {
   "cell_type": "markdown",
   "metadata": {},
   "source": [
    "### Problem 17: Find Second Largest\n",
    "Find the second largest number in a list without using built-in sort functions."
   ]
  },
  {
   "cell_type": "code",
   "execution_count": null,
   "metadata": {},
   "outputs": [],
   "source": [
    "# Your solution here\n",
    "def second_largest(nums):\n",
    "    pass\n",
    "\n",
    "# Test\n",
    "print(second_largest([5, 2, 8, 1, 9, 3]))  # Should return 8"
   ]
  },
  {
   "cell_type": "markdown",
   "metadata": {},
   "source": [
    "### Problem 18: Anagram Groups\n",
    "Group words that are anagrams of each other."
   ]
  },
  {
   "cell_type": "code",
   "execution_count": null,
   "metadata": {},
   "outputs": [],
   "source": [
    "# Your solution here\n",
    "def group_anagrams(words):\n",
    "    pass\n",
    "\n",
    "# Test\n",
    "words = ['eat', 'tea', 'tan', 'ate', 'nat', 'bat']\n",
    "print(group_anagrams(words))\n",
    "# Should return [['eat', 'tea', 'ate'], ['tan', 'nat'], ['bat']]"
   ]
  },
  {
   "cell_type": "markdown",
   "metadata": {},
   "source": [
    "### Problem 19: Number to Words\n",
    "Convert a number (0-999) to its word representation."
   ]
  },
  {
   "cell_type": "code",
   "execution_count": null,
   "metadata": {},
   "outputs": [],
   "source": [
    "# Your solution here\n",
    "def number_to_words(num):\n",
    "    pass\n",
    "\n",
    "# Test\n",
    "print(number_to_words(123))  # Should return \"one hundred twenty three\"\n",
    "print(number_to_words(45))   # Should return \"forty five\""
   ]
  },
  {
   "cell_type": "markdown",
   "metadata": {},
   "source": [
    "### Problem 20: Sudoku Validator\n",
    "Check if a given 9x9 Sudoku board is valid."
   ]
  },
  {
   "cell_type": "code",
   "execution_count": null,
   "metadata": {},
   "outputs": [],
   "source": [
    "# Your solution here\n",
    "def is_valid_sudoku(board):\n",
    "    pass\n",
    "\n",
    "# Test with a sample board\n",
    "board = [\n",
    "    [\"5\",\"3\",\".\",\".\",\"7\",\".\",\".\",\".\",\".\"],\n",
    "    [\"6\",\".\",\".\",\"1\",\"9\",\"5\",\".\",\".\",\".\"],\n",
    "    [\".\",\"9\",\"8\",\".\",\".\",\".\",\".\",\"6\",\".\"],\n",
    "    [\"8\",\".\",\".\",\".\",\"6\",\".\",\".\",\".\",\"3\"],\n",
    "    [\"4\",\".\",\".\",\"8\",\".\",\"3\",\".\",\".\",\"1\"],\n",
    "    [\"7\",\".\",\".\",\".\",\"2\",\".\",\".\",\".\",\"6\"],\n",
    "    [\".\",\"6\",\".\",\".\",\".\",\".\",\"2\",\"8\",\".\"],\n",
    "    [\".\",\".\",\".\",\"4\",\"1\",\"9\",\".\",\".\",\"5\"],\n",
    "    [\".\",\".\",\".\",\".\",\"8\",\".\",\".\",\"7\",\"9\"]\n",
    "]\n",
    "print(is_valid_sudoku(board))  # Should return True"
   ]
  },
  {
   "cell_type": "markdown",
   "metadata": {},
   "source": [
    "---\n",
    "## Solutions Section\n",
    "\n",
    "**Try solving the problems above before looking at the solutions!**"
   ]
  },
  {
   "cell_type": "markdown",
   "metadata": {},
   "source": [
    "### Solutions 1-5: For Loop Problems"
   ]
  },
  {
   "cell_type": "code",
   "execution_count": null,
   "metadata": {},
   "outputs": [],
   "source": [
    "# Solution 1: FizzBuzz\n",
    "def fizzbuzz(n):\n",
    "    for i in range(1, n + 1):\n",
    "        if i % 15 == 0:\n",
    "            print(\"FizzBuzz\")\n",
    "        elif i % 3 == 0:\n",
    "            print(\"Fizz\")\n",
    "        elif i % 5 == 0:\n",
    "            print(\"Buzz\")\n",
    "        else:\n",
    "            print(i)\n",
    "\n",
    "print(\"Solution 1: FizzBuzz\")\n",
    "fizzbuzz(20)"
   ]
  },
  {
   "cell_type": "code",
   "execution_count": null,
   "metadata": {},
   "outputs": [],
   "source": [
    "# Solution 2: Pattern Printing\n",
    "def print_triangle(n):\n",
    "    for i in range(1, n + 1):\n",
    "        for j in range(i):\n",
    "            print(\"*\", end=\"\")\n",
    "        print()\n",
    "\n",
    "print(\"Solution 2: Pattern Printing\")\n",
    "print_triangle(5)"
   ]
  },
  {
   "cell_type": "code",
   "execution_count": null,
   "metadata": {},
   "outputs": [],
   "source": [
    "# Solution 3: Sum of Digits\n",
    "def sum_digits(num):\n",
    "    total = 0\n",
    "    for digit in str(abs(num)):\n",
    "        total += int(digit)\n",
    "    return total\n",
    "\n",
    "print(\"Solution 3: Sum of Digits\")\n",
    "print(sum_digits(12345))"
   ]
  },
  {
   "cell_type": "markdown",
   "source": "### Solutions 5A-5F: Pattern Problems",
   "metadata": {}
  },
  {
   "cell_type": "code",
   "source": "# Solution 5A: Inverted Right Triangle\ndef print_inverted_triangle(n):\n    for i in range(n, 0, -1):\n        for j in range(i):\n            print(\"*\", end=\"\")\n        print()\n\nprint(\"Solution 5A: Inverted Right Triangle\")\nprint_inverted_triangle(5)",
   "metadata": {},
   "execution_count": null,
   "outputs": []
  },
  {
   "cell_type": "code",
   "source": "# Solution 5B: Right-Aligned Triangle\ndef print_right_triangle(n):\n    for i in range(1, n + 1):\n        # Print spaces\n        for j in range(n - i):\n            print(\" \", end=\"\")\n        # Print stars\n        for j in range(i):\n            print(\"*\", end=\"\")\n        print()\n\nprint(\"Solution 5B: Right-Aligned Triangle\")\nprint_right_triangle(5)",
   "metadata": {},
   "execution_count": null,
   "outputs": []
  },
  {
   "cell_type": "code",
   "source": "# Solution 5C: Diamond Pattern\ndef print_diamond(n):\n    # Upper half (including middle)\n    for i in range(n):\n        # Print spaces\n        for j in range(n - i - 1):\n            print(\" \", end=\"\")\n        # Print stars\n        for j in range(2 * i + 1):\n            print(\"*\", end=\"\")\n        print()\n    \n    # Lower half\n    for i in range(n - 2, -1, -1):\n        # Print spaces\n        for j in range(n - i - 1):\n            print(\" \", end=\"\")\n        # Print stars\n        for j in range(2 * i + 1):\n            print(\"*\", end=\"\")\n        print()\n\nprint(\"Solution 5C: Diamond Pattern\")\nprint_diamond(3)",
   "metadata": {},
   "execution_count": null,
   "outputs": []
  },
  {
   "cell_type": "code",
   "source": "# Solution 5D: Hollow Square\ndef print_hollow_square(n):\n    for i in range(n):\n        for j in range(n):\n            # Print star for border positions\n            if i == 0 or i == n-1 or j == 0 or j == n-1:\n                print(\"*\", end=\"\")\n            else:\n                print(\" \", end=\"\")\n        print()\n\nprint(\"Solution 5D: Hollow Square\")\nprint_hollow_square(5)",
   "metadata": {},
   "execution_count": null,
   "outputs": []
  },
  {
   "cell_type": "code",
   "source": "# Solution 5E: Number Triangle\ndef print_number_triangle(n):\n    for i in range(1, n + 1):\n        for j in range(1, i + 1):\n            print(j, end=\"\")\n        print()\n\nprint(\"Solution 5E: Number Triangle\")\nprint_number_triangle(5)",
   "metadata": {},
   "execution_count": null,
   "outputs": []
  },
  {
   "cell_type": "code",
   "source": "# Solution 5F: Floyd's Triangle\ndef print_floyd_triangle(n):\n    num = 1\n    for i in range(1, n + 1):\n        for j in range(i):\n            print(num, end=\" \")\n            num += 1\n        print()\n\nprint(\"Solution 5F: Floyd's Triangle\")\nprint_floyd_triangle(5)",
   "metadata": {},
   "execution_count": null,
   "outputs": []
  },
  {
   "cell_type": "code",
   "execution_count": null,
   "metadata": {},
   "outputs": [],
   "source": [
    "# Solution 4: Prime Numbers\n",
    "def find_primes(n):\n",
    "    primes = []\n",
    "    for num in range(2, n + 1):\n",
    "        is_prime = True\n",
    "        for i in range(2, int(num ** 0.5) + 1):\n",
    "            if num % i == 0:\n",
    "                is_prime = False\n",
    "                break\n",
    "        if is_prime:\n",
    "            primes.append(num)\n",
    "    return primes\n",
    "\n",
    "print(\"Solution 4: Prime Numbers\")\n",
    "print(find_primes(30))"
   ]
  },
  {
   "cell_type": "code",
   "execution_count": null,
   "metadata": {},
   "outputs": [],
   "source": [
    "# Solution 5: Spiral Print\n",
    "def spiral_print(matrix):\n",
    "    if not matrix:\n",
    "        return\n",
    "    \n",
    "    rows, cols = len(matrix), len(matrix[0])\n",
    "    top, bottom, left, right = 0, rows - 1, 0, cols - 1\n",
    "    result = []\n",
    "    \n",
    "    while top <= bottom and left <= right:\n",
    "        # Print top row\n",
    "        for col in range(left, right + 1):\n",
    "            result.append(matrix[top][col])\n",
    "        top += 1\n",
    "        \n",
    "        # Print right column\n",
    "        for row in range(top, bottom + 1):\n",
    "            result.append(matrix[row][right])\n",
    "        right -= 1\n",
    "        \n",
    "        # Print bottom row\n",
    "        if top <= bottom:\n",
    "            for col in range(right, left - 1, -1):\n",
    "                result.append(matrix[bottom][col])\n",
    "            bottom -= 1\n",
    "        \n",
    "        # Print left column\n",
    "        if left <= right:\n",
    "            for row in range(bottom, top - 1, -1):\n",
    "                result.append(matrix[row][left])\n",
    "            left += 1\n",
    "    \n",
    "    print(' '.join(map(str, result)))\n",
    "\n",
    "print(\"Solution 5: Spiral Print\")\n",
    "matrix = [[1, 2, 3, 4], [5, 6, 7, 8], [9, 10, 11, 12]]\n",
    "spiral_print(matrix)"
   ]
  },
  {
   "cell_type": "markdown",
   "metadata": {},
   "source": [
    "### Solutions 6-10: While Loop Problems"
   ]
  },
  {
   "cell_type": "code",
   "execution_count": null,
   "metadata": {},
   "outputs": [],
   "source": [
    "# Solution 6: Reverse Number\n",
    "def reverse_number(num):\n",
    "    reversed_num = 0\n",
    "    original = abs(num)\n",
    "    \n",
    "    while original > 0:\n",
    "        reversed_num = reversed_num * 10 + original % 10\n",
    "        original //= 10\n",
    "    \n",
    "    return -reversed_num if num < 0 else reversed_num\n",
    "\n",
    "print(\"Solution 6: Reverse Number\")\n",
    "print(reverse_number(12345))\n",
    "print(reverse_number(-12345))"
   ]
  },
  {
   "cell_type": "code",
   "execution_count": null,
   "metadata": {},
   "outputs": [],
   "source": [
    "# Solution 7: Palindrome Check\n",
    "def is_palindrome(num):\n",
    "    original = abs(num)\n",
    "    reversed_num = 0\n",
    "    temp = original\n",
    "    \n",
    "    while temp > 0:\n",
    "        reversed_num = reversed_num * 10 + temp % 10\n",
    "        temp //= 10\n",
    "    \n",
    "    return original == reversed_num\n",
    "\n",
    "print(\"Solution 7: Palindrome Check\")\n",
    "print(is_palindrome(12321))\n",
    "print(is_palindrome(12345))"
   ]
  },
  {
   "cell_type": "code",
   "execution_count": null,
   "metadata": {},
   "outputs": [],
   "source": [
    "# Solution 8: Fibonacci\n",
    "def fibonacci(n):\n",
    "    if n <= 0:\n",
    "        return []\n",
    "    elif n == 1:\n",
    "        return [0]\n",
    "    elif n == 2:\n",
    "        return [0, 1]\n",
    "    \n",
    "    fib_sequence = [0, 1]\n",
    "    a, b = 0, 1\n",
    "    count = 2\n",
    "    \n",
    "    while count < n:\n",
    "        next_fib = a + b\n",
    "        fib_sequence.append(next_fib)\n",
    "        a, b = b, next_fib\n",
    "        count += 1\n",
    "    \n",
    "    return fib_sequence\n",
    "\n",
    "print(\"Solution 8: Fibonacci\")\n",
    "print(fibonacci(10))"
   ]
  },
  {
   "cell_type": "code",
   "execution_count": null,
   "metadata": {},
   "outputs": [],
   "source": [
    "# Solution 9: GCD\n",
    "def gcd(a, b):\n",
    "    while b:\n",
    "        a, b = b, a % b\n",
    "    return abs(a)\n",
    "\n",
    "print(\"Solution 9: GCD\")\n",
    "print(gcd(48, 18))\n",
    "print(gcd(17, 13))"
   ]
  },
  {
   "cell_type": "code",
   "execution_count": null,
   "metadata": {},
   "outputs": [],
   "source": [
    "# Solution 10: Collatz Sequence\n",
    "def collatz_sequence(n):\n",
    "    sequence = [n]\n",
    "    \n",
    "    while n != 1:\n",
    "        if n % 2 == 0:\n",
    "            n = n // 2\n",
    "        else:\n",
    "            n = 3 * n + 1\n",
    "        sequence.append(n)\n",
    "    \n",
    "    return sequence\n",
    "\n",
    "print(\"Solution 10: Collatz Sequence\")\n",
    "print(collatz_sequence(7))"
   ]
  },
  {
   "cell_type": "markdown",
   "metadata": {},
   "source": [
    "### Solutions 11-15: List Comprehension Problems"
   ]
  },
  {
   "cell_type": "code",
   "execution_count": null,
   "metadata": {},
   "outputs": [],
   "source": [
    "# Solution 11: Flatten Nested List\n",
    "nested_list = [[1, 2, 3], [4, 5], [6, 7, 8, 9]]\n",
    "flattened = [item for sublist in nested_list for item in sublist]\n",
    "print(\"Solution 11: Flatten Nested List\")\n",
    "print(flattened)"
   ]
  },
  {
   "cell_type": "code",
   "execution_count": null,
   "metadata": {},
   "outputs": [],
   "source": [
    "# Solution 12: Word Filter and Transform\n",
    "words = ['apple', 'banana', 'orange', 'grape', 'elephant', 'tiger']\n",
    "vowel_words = [word.upper() for word in words if word[0].lower() in 'aeiou']\n",
    "print(\"Solution 12: Word Filter and Transform\")\n",
    "print(vowel_words)"
   ]
  },
  {
   "cell_type": "code",
   "execution_count": null,
   "metadata": {},
   "outputs": [],
   "source": [
    "# Solution 13: Matrix Operations\n",
    "matrix = [[1, 2, 3], [4, 5, 6], [7, 8, 9]]\n",
    "squared_matrix = [[cell**2 for cell in row] for row in matrix]\n",
    "print(\"Solution 13: Matrix Operations\")\n",
    "print(squared_matrix)"
   ]
  },
  {
   "cell_type": "code",
   "execution_count": null,
   "metadata": {},
   "outputs": [],
   "source": [
    "# Solution 14: Dictionary from Lists\n",
    "keys = ['name', 'age', 'city']\n",
    "values = ['Alice', 25, 'New York']\n",
    "person_dict = {k: v for k, v in zip(keys, values)}\n",
    "print(\"Solution 14: Dictionary from Lists\")\n",
    "print(person_dict)"
   ]
  },
  {
   "cell_type": "code",
   "execution_count": null,
   "metadata": {},
   "outputs": [],
   "source": [
    "# Solution 15: Complex Filtering\n",
    "numbers = [1, 2, 4, 6, 8, 10, 12, 15, 18, 20]\n",
    "result = [num**2 for num in numbers if num % 2 == 0 and num > 5]\n",
    "print(\"Solution 15: Complex Filtering\")\n",
    "print(result)"
   ]
  },
  {
   "cell_type": "markdown",
   "metadata": {},
   "source": [
    "### Solutions 16-20: Mixed Problems"
   ]
  },
  {
   "cell_type": "code",
   "execution_count": null,
   "metadata": {},
   "outputs": [],
   "source": [
    "# Solution 16: Pascal's Triangle\n",
    "def pascal_triangle(n):\n",
    "    triangle = []\n",
    "    \n",
    "    for i in range(n):\n",
    "        row = [1] * (i + 1)\n",
    "        for j in range(1, i):\n",
    "            row[j] = triangle[i-1][j-1] + triangle[i-1][j]\n",
    "        triangle.append(row)\n",
    "        print(row)\n",
    "    \n",
    "    return triangle\n",
    "\n",
    "print(\"Solution 16: Pascal's Triangle\")\n",
    "pascal_triangle(5)"
   ]
  },
  {
   "cell_type": "code",
   "execution_count": null,
   "metadata": {},
   "outputs": [],
   "source": [
    "# Solution 17: Second Largest\n",
    "def second_largest(nums):\n",
    "    if len(nums) < 2:\n",
    "        return None\n",
    "    \n",
    "    largest = second = float('-inf')\n",
    "    \n",
    "    for num in nums:\n",
    "        if num > largest:\n",
    "            second = largest\n",
    "            largest = num\n",
    "        elif num > second and num != largest:\n",
    "            second = num\n",
    "    \n",
    "    return second if second != float('-inf') else None\n",
    "\n",
    "print(\"Solution 17: Second Largest\")\n",
    "print(second_largest([5, 2, 8, 1, 9, 3]))"
   ]
  },
  {
   "cell_type": "code",
   "execution_count": null,
   "metadata": {},
   "outputs": [],
   "source": [
    "# Solution 18: Anagram Groups\n",
    "def group_anagrams(words):\n",
    "    anagram_groups = {}\n",
    "    \n",
    "    for word in words:\n",
    "        key = ''.join(sorted(word))\n",
    "        if key in anagram_groups:\n",
    "            anagram_groups[key].append(word)\n",
    "        else:\n",
    "            anagram_groups[key] = [word]\n",
    "    \n",
    "    return list(anagram_groups.values())\n",
    "\n",
    "print(\"Solution 18: Anagram Groups\")\n",
    "words = ['eat', 'tea', 'tan', 'ate', 'nat', 'bat']\n",
    "print(group_anagrams(words))"
   ]
  },
  {
   "cell_type": "code",
   "execution_count": null,
   "metadata": {},
   "outputs": [],
   "source": [
    "# Solution 19: Number to Words\n",
    "def number_to_words(num):\n",
    "    if num == 0:\n",
    "        return \"zero\"\n",
    "    \n",
    "    ones = [\"\", \"one\", \"two\", \"three\", \"four\", \"five\", \"six\", \"seven\", \"eight\", \"nine\",\n",
    "            \"ten\", \"eleven\", \"twelve\", \"thirteen\", \"fourteen\", \"fifteen\", \"sixteen\",\n",
    "            \"seventeen\", \"eighteen\", \"nineteen\"]\n",
    "    \n",
    "    tens = [\"\", \"\", \"twenty\", \"thirty\", \"forty\", \"fifty\", \"sixty\", \"seventy\", \"eighty\", \"ninety\"]\n",
    "    \n",
    "    def convert_hundreds(n):\n",
    "        result = []\n",
    "        \n",
    "        if n >= 100:\n",
    "            result.append(ones[n // 100])\n",
    "            result.append(\"hundred\")\n",
    "            n %= 100\n",
    "        \n",
    "        if n >= 20:\n",
    "            result.append(tens[n // 10])\n",
    "            if n % 10:\n",
    "                result.append(ones[n % 10])\n",
    "        elif n > 0:\n",
    "            result.append(ones[n])\n",
    "        \n",
    "        return \" \".join(result)\n",
    "    \n",
    "    return convert_hundreds(num).strip()\n",
    "\n",
    "print(\"Solution 19: Number to Words\")\n",
    "print(number_to_words(123))\n",
    "print(number_to_words(45))\n",
    "print(number_to_words(999))"
   ]
  },
  {
   "cell_type": "code",
   "execution_count": null,
   "metadata": {},
   "outputs": [],
   "source": [
    "# Solution 20: Sudoku Validator\n",
    "def is_valid_sudoku(board):\n",
    "    def is_valid_unit(unit):\n",
    "        unit = [i for i in unit if i != '.']\n",
    "        return len(set(unit)) == len(unit)\n",
    "    \n",
    "    # Check rows\n",
    "    for row in board:\n",
    "        if not is_valid_unit(row):\n",
    "            return False\n",
    "    \n",
    "    # Check columns\n",
    "    for col in range(9):\n",
    "        if not is_valid_unit([board[row][col] for row in range(9)]):\n",
    "            return False\n",
    "    \n",
    "    # Check 3x3 boxes\n",
    "    for box_row in range(3):\n",
    "        for box_col in range(3):\n",
    "            box = []\n",
    "            for row in range(box_row * 3, box_row * 3 + 3):\n",
    "                for col in range(box_col * 3, box_col * 3 + 3):\n",
    "                    box.append(board[row][col])\n",
    "            if not is_valid_unit(box):\n",
    "                return False\n",
    "    \n",
    "    return True\n",
    "\n",
    "print(\"Solution 20: Sudoku Validator\")\n",
    "board = [\n",
    "    [\"5\",\"3\",\".\",\".\",\"7\",\".\",\".\",\".\",\".\"],\n",
    "    [\"6\",\".\",\".\",\"1\",\"9\",\"5\",\".\",\".\",\".\"],\n",
    "    [\".\",\"9\",\"8\",\".\",\".\",\".\",\".\",\"6\",\".\"],\n",
    "    [\"8\",\".\",\".\",\".\",\"6\",\".\",\".\",\".\",\"3\"],\n",
    "    [\"4\",\".\",\".\",\"8\",\".\",\"3\",\".\",\".\",\"1\"],\n",
    "    [\"7\",\".\",\".\",\".\",\"2\",\".\",\".\",\".\",\"6\"],\n",
    "    [\".\",\"6\",\".\",\".\",\".\",\".\",\"2\",\"8\",\".\"],\n",
    "    [\".\",\".\",\".\",\"4\",\"1\",\"9\",\".\",\".\",\"5\"],\n",
    "    [\".\",\".\",\".\",\".\",\"8\",\".\",\".\",\"7\",\"9\"]\n",
    "]\n",
    "print(is_valid_sudoku(board))"
   ]
  },
  {
   "cell_type": "markdown",
   "metadata": {},
   "source": [
    "---\n",
    "## Practice Tips for Interviews\n",
    "\n",
    "1. **Time Complexity**: Always analyze and discuss the time complexity of your solutions\n",
    "2. **Edge Cases**: Consider empty inputs, single elements, negative numbers, etc.\n",
    "3. **Code Style**: Write clean, readable code with meaningful variable names\n",
    "4. **Test Cases**: Always test your solutions with different inputs\n",
    "5. **Optimization**: Think about how to optimize your solution after getting a working version\n",
    "6. **Communication**: Explain your thought process as you code\n",
    "\n",
    "### Common Interview Patterns:\n",
    "- **Two Pointers**: For array problems\n",
    "- **Sliding Window**: For substring/subarray problems\n",
    "- **Hash Maps**: For counting and lookup problems\n",
    "- **Nested Loops**: For matrix and 2D problems\n",
    "- **State Tracking**: For dynamic problems with while loops\n",
    "\n",
    "Good luck with your interviews! 🚀"
   ]
  }
 ],
 "metadata": {
  "kernelspec": {
   "display_name": "Python 3",
   "language": "python",
   "name": "python3"
  },
  "language_info": {
   "codemirror_mode": {
    "name": "ipython",
    "version": 3
   },
   "file_extension": ".py",
   "mimetype": "text/x-python",
   "name": "python",
   "nbconvert_exporter": "python",
   "pygments_lexer": "ipython3",
   "version": "3.8.5"
  }
 },
 "nbformat": 4,
 "nbformat_minor": 4
}