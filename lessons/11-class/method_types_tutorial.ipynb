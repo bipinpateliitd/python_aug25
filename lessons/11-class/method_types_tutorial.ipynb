{
 "cells": [
  {
   "cell_type": "markdown",
   "metadata": {},
   "source": [
    "# Types of Methods in Python Classes\n",
    "\n",
    "In Python Object-Oriented Programming (OOP), there are three main types of methods:\n",
    "\n",
    "1. **Instance Methods** - Methods that operate on instance data\n",
    "2. **Class Methods** - Methods that operate on class data\n",
    "3. **Static Methods** - Utility methods that don't depend on instance or class data\n",
    "\n",
    "Let's explore each type with practical examples!"
   ]
  },
  {
   "cell_type": "markdown",
   "metadata": {},
   "source": [
    "## 1. Instance Methods\n",
    "\n",
    "Instance methods are the most common type of methods in Python classes. They:\n",
    "- Take `self` as the first parameter\n",
    "- Can access and modify instance attributes\n",
    "- Can access class attributes\n",
    "- Are called on instances of the class"
   ]
  },
  {
   "cell_type": "code",
   "execution_count": 18,
   "metadata": {},
   "outputs": [],
   "source": [
    "class Student:\n",
    "    # Class attribute\n",
    "    school = \"Python Academy\"\n",
    "    \n",
    "    def __init__(self, name,grade=\"B+\",age=10):\n",
    "        # Instance attributes\n",
    "        self.name = name\n",
    "        self.age = age\n",
    "        self.grade = grade\n",
    "        self.subjects = [2]\n",
    "    \n",
    "    # Instance method\n",
    "    def introduce(self):\n",
    "        return f\"Hi, I'm {self.name}, {self.age} years old, in grade {self.grade}\"\n",
    "    \n",
    "    # Instance method that modifies instance data\n",
    "    def add_subject(self, subject):\n",
    "        self.subjects.append(subject)\n",
    "        return f\"Added {subject} to {self.name}'s subjects\"\n",
    "    \n",
    "    # Instance method that uses both instance and class data\n",
    "    def get_info(self):\n",
    "        return f\"{self.name} studies at {self.school} and takes {len(self.subjects)} subjects\"\n",
    "\n",
    "# Create instances\n"
   ]
  },
  {
   "cell_type": "code",
   "execution_count": 19,
   "metadata": {},
   "outputs": [],
   "source": [
    "s1= Student(\"Aditya\")"
   ]
  },
  {
   "cell_type": "code",
   "execution_count": 20,
   "metadata": {},
   "outputs": [
    {
     "data": {
      "text/plain": [
       "10"
      ]
     },
     "execution_count": 20,
     "metadata": {},
     "output_type": "execute_result"
    }
   ],
   "source": [
    "s1.age"
   ]
  },
  {
   "cell_type": "code",
   "execution_count": 21,
   "metadata": {},
   "outputs": [
    {
     "data": {
      "text/plain": [
       "'B+'"
      ]
     },
     "execution_count": 21,
     "metadata": {},
     "output_type": "execute_result"
    }
   ],
   "source": [
    "s1.grade"
   ]
  },
  {
   "cell_type": "code",
   "execution_count": 14,
   "metadata": {},
   "outputs": [
    {
     "data": {
      "text/plain": [
       "[2]"
      ]
     },
     "execution_count": 14,
     "metadata": {},
     "output_type": "execute_result"
    }
   ],
   "source": [
    "s1.subjects"
   ]
  },
  {
   "cell_type": "code",
   "execution_count": 15,
   "metadata": {},
   "outputs": [
    {
     "data": {
      "text/plain": [
       "\"Added Science to Aditya's subjects\""
      ]
     },
     "execution_count": 15,
     "metadata": {},
     "output_type": "execute_result"
    }
   ],
   "source": [
    "s1.add_subject(\"Science\")"
   ]
  },
  {
   "cell_type": "code",
   "execution_count": 16,
   "metadata": {},
   "outputs": [
    {
     "data": {
      "text/plain": [
       "[2, 'Science']"
      ]
     },
     "execution_count": 16,
     "metadata": {},
     "output_type": "execute_result"
    }
   ],
   "source": [
    "s1.subjects"
   ]
  },
  {
   "cell_type": "code",
   "execution_count": null,
   "metadata": {},
   "outputs": [],
   "source": []
  },
  {
   "cell_type": "code",
   "execution_count": null,
   "metadata": {},
   "outputs": [],
   "source": [
    "student1 = Student(\"Alice\", 16, 10)\n",
    "student2 = Student(\"Bob\", 17, 11)\n",
    "\n",
    "# Call instance methods\n",
    "print(student1.introduce())\n",
    "print(student1.add_subject(\"Mathematics\"))\n",
    "print(student1.add_subject(\"Physics\"))\n",
    "print(student1.get_info())\n",
    "print()\n",
    "print(student2.introduce())\n",
    "print(student2.add_subject(\"Chemistry\"))\n",
    "print(student2.get_info())"
   ]
  },
  {
   "cell_type": "markdown",
   "metadata": {},
   "source": [
    "## 2. Class Methods\n",
    "\n",
    "Class methods:\n",
    "- Use the `@classmethod` decorator\n",
    "- Take `cls` as the first parameter (refers to the class itself)\n",
    "- Can access and modify class attributes\n",
    "- Cannot access instance attributes directly\n",
    "- Can be called on both the class and instances\n",
    "- Often used as alternative constructors"
   ]
  },
  {
   "cell_type": "code",
   "execution_count": 1,
   "metadata": {},
   "outputs": [
    {
     "name": "stdout",
     "output_type": "stream",
     "text": [
      "Employee 1: John Doe, Salary: $50000\n",
      "Employee 2: Jane Smith, Salary: $60000\n",
      "Total employees: 2\n",
      "\n",
      "Employee 3: Mike Johnson, Email: mike.johnson@techcorp.com\n",
      "Total employees: 3\n",
      "\n",
      "Current raise amount: 1.05\n",
      "Raise amount set to 1.08\n",
      "New raise amount: 1.08\n",
      "After raise - Employee 1: $54000, Employee 2: $64800\n"
     ]
    }
   ],
   "source": [
    "class Employee:\n",
    "    # Class attributes\n",
    "    company = \"TechCorp\"\n",
    "    employee_count = 0\n",
    "    raise_amount = 1.05  # 5% raise\n",
    "    \n",
    "    def __init__(self, first, last, salary):\n",
    "        self.first = first\n",
    "        self.last = last\n",
    "        self.salary = salary\n",
    "        self.email = f\"{first.lower()}.{last.lower()}@{self.company.lower()}.com\"\n",
    "        \n",
    "        # Increment employee count when new employee is created\n",
    "        Employee.employee_count += 1\n",
    "    \n",
    "    # Instance method\n",
    "    def fullname(self):\n",
    "        return f\"{self.first} {self.last}\"\n",
    "    \n",
    "    # Instance method\n",
    "    def apply_raise(self):\n",
    "        self.salary = int(self.salary * self.raise_amount)\n",
    "    \n",
    "    # Class method - alternative constructor\n",
    "    @classmethod\n",
    "    def from_string(cls, emp_str):\n",
    "        \"\"\"Create employee from string format: 'First-Last-Salary'\"\"\"\n",
    "        first, last, salary = emp_str.split('-')\n",
    "        return cls(first, last, int(salary))\n",
    "    \n",
    "    # Class method - modify class attribute\n",
    "    @classmethod\n",
    "    def set_raise_amount(cls, amount):\n",
    "        \"\"\"Set the raise amount for all employees\"\"\"\n",
    "        cls.raise_amount = amount\n",
    "        return f\"Raise amount set to {amount}\"\n",
    "    \n",
    "    # Class method - access class data\n",
    "    @classmethod\n",
    "    def get_employee_count(cls):\n",
    "        return f\"Total employees: {cls.employee_count}\"\n",
    "\n",
    "# Regular constructor\n",
    "emp1 = Employee(\"John\", \"Doe\", 50000)\n",
    "emp2 = Employee(\"Jane\", \"Smith\", 60000)\n",
    "\n",
    "print(f\"Employee 1: {emp1.fullname()}, Salary: ${emp1.salary}\")\n",
    "print(f\"Employee 2: {emp2.fullname()}, Salary: ${emp2.salary}\")\n",
    "print(Employee.get_employee_count())\n",
    "print()\n",
    "\n",
    "# Using class method as alternative constructor\n",
    "emp3 = Employee.from_string(\"Mike-Johnson-55000\")\n",
    "print(f\"Employee 3: {emp3.fullname()}, Email: {emp3.email}\")\n",
    "print(Employee.get_employee_count())\n",
    "print()\n",
    "\n",
    "# Using class method to modify class attribute\n",
    "print(f\"Current raise amount: {Employee.raise_amount}\")\n",
    "print(Employee.set_raise_amount(1.08))  # 8% raise\n",
    "print(f\"New raise amount: {Employee.raise_amount}\")\n",
    "\n",
    "# Apply raise to employees\n",
    "emp1.apply_raise()\n",
    "emp2.apply_raise()\n",
    "print(f\"After raise - Employee 1: ${emp1.salary}, Employee 2: ${emp2.salary}\")"
   ]
  },
  {
   "cell_type": "markdown",
   "metadata": {},
   "source": [
    "## 3. Static Methods\n",
    "\n",
    "Static methods:\n",
    "- Use the `@staticmethod` decorator\n",
    "- Don't take `self` or `cls` as parameters\n",
    "- Cannot access instance or class attributes directly\n",
    "- Behave like regular functions but belong to the class namespace\n",
    "- Can be called on both class and instances\n",
    "- Used for utility functions related to the class"
   ]
  },
  {
   "cell_type": "code",
   "execution_count": 4,
   "metadata": {},
   "outputs": [],
   "source": [
    "import math\n",
    "from datetime import datetime\n",
    "\n",
    "class MathUtils:\n",
    "    pi = 3.14159\n",
    "    \n",
    "    def __init__(self, name):\n",
    "        self.name = name\n",
    "    \n",
    "    # Instance method\n",
    "    def get_name(self):\n",
    "        return f\"Calculator: {self.name}\"\n",
    "    \n",
    "    # Static method - utility function\n",
    "    @staticmethod\n",
    "    def add(x, y):\n",
    "        \"\"\"Add two numbers\"\"\"\n",
    "        return x + y\n",
    "    \n",
    "    @staticmethod\n",
    "    def multiply(x, y):\n",
    "        \"\"\"Multiply two numbers\"\"\"\n",
    "        return x * y\n",
    "    \n",
    "    @staticmethod\n",
    "    def is_prime(n):\n",
    "        \"\"\"Check if a number is prime\"\"\"\n",
    "        if n < 2:\n",
    "            return False\n",
    "        for i in range(2, int(math.sqrt(n)) + 1):\n",
    "            if n % i == 0:\n",
    "                return False\n",
    "        return True\n",
    "    \n",
    "    @staticmethod\n",
    "    def factorial(n):\n",
    "        \"\"\"Calculate factorial of n\"\"\"\n",
    "        if n < 0:\n",
    "            return None\n",
    "        if n <= 1:\n",
    "            return 1\n",
    "        return n * MathUtils.factorial(n - 1)\n",
    "    \n",
    "    @staticmethod\n",
    "    def validate_positive(number):\n",
    "        \"\"\"Validate if number is positive\"\"\"\n",
    "        return number > 0\n",
    "\n"
   ]
  },
  {
   "cell_type": "code",
   "execution_count": null,
   "metadata": {},
   "outputs": [],
   "source": []
  },
  {
   "cell_type": "code",
   "execution_count": 6,
   "metadata": {},
   "outputs": [
    {
     "data": {
      "text/plain": [
       "10"
      ]
     },
     "execution_count": 6,
     "metadata": {},
     "output_type": "execute_result"
    }
   ],
   "source": [
    "# Create an instance\n",
    "calc = MathUtils(\"Scientific Calculator\")\n",
    "calc.add(4,6)\n",
    "\n"
   ]
  },
  {
   "cell_type": "code",
   "execution_count": 7,
   "metadata": {},
   "outputs": [
    {
     "data": {
      "text/plain": [
       "80"
      ]
     },
     "execution_count": 7,
     "metadata": {},
     "output_type": "execute_result"
    }
   ],
   "source": [
    "calc.multiply(10,8)"
   ]
  },
  {
   "cell_type": "code",
   "execution_count": null,
   "metadata": {},
   "outputs": [],
   "source": []
  },
  {
   "cell_type": "code",
   "execution_count": null,
   "metadata": {},
   "outputs": [],
   "source": []
  },
  {
   "cell_type": "code",
   "execution_count": null,
   "metadata": {},
   "outputs": [],
   "source": []
  },
  {
   "cell_type": "code",
   "execution_count": null,
   "metadata": {},
   "outputs": [],
   "source": []
  },
  {
   "cell_type": "code",
   "execution_count": null,
   "metadata": {},
   "outputs": [],
   "source": []
  },
  {
   "cell_type": "markdown",
   "metadata": {},
   "source": [
    "## Real-World Example: Bank Account Management\n",
    "\n",
    "Let's create a comprehensive example that uses all three types of methods:"
   ]
  },
  {
   "cell_type": "code",
   "execution_count": null,
   "metadata": {},
   "outputs": [],
   "source": [
    "from datetime import datetime\n",
    "import random\n",
    "\n",
    "class BankAccount:\n",
    "    # Class attributes\n",
    "    bank_name = \"Python Bank\"\n",
    "    interest_rate = 0.02  # 2% annual interest\n",
    "    total_accounts = 0\n",
    "    total_deposits = 0\n",
    "    \n",
    "    def __init__(self, holder_name, initial_balance=0):\n",
    "        # Instance attributes\n",
    "        self.holder_name = holder_name\n",
    "        self.balance = initial_balance\n",
    "        self.account_number = self._generate_account_number()\n",
    "        self.created_at = datetime.now()\n",
    "        self.transaction_history = []\n",
    "        \n",
    "        # Update class attributes\n",
    "        BankAccount.total_accounts += 1\n",
    "        BankAccount.total_deposits += initial_balance\n",
    "        \n",
    "        # Record initial deposit if any\n",
    "        if initial_balance > 0:\n",
    "            self.transaction_history.append(f\"Initial deposit: ${initial_balance}\")\n",
    "    \n",
    "    # Instance methods\n",
    "    def deposit(self, amount):\n",
    "        \"\"\"Deposit money to account\"\"\"\n",
    "        if self.validate_amount(amount):\n",
    "            self.balance += amount\n",
    "            BankAccount.total_deposits += amount\n",
    "            self.transaction_history.append(f\"Deposit: +${amount}\")\n",
    "            return f\"Deposited ${amount}. New balance: ${self.balance}\"\n",
    "        return \"Invalid deposit amount\"\n",
    "    \n",
    "    def withdraw(self, amount):\n",
    "        \"\"\"Withdraw money from account\"\"\"\n",
    "        if self.validate_amount(amount) and amount <= self.balance:\n",
    "            self.balance -= amount\n",
    "            BankAccount.total_deposits -= amount\n",
    "            self.transaction_history.append(f\"Withdrawal: -${amount}\")\n",
    "            return f\"Withdrew ${amount}. New balance: ${self.balance}\"\n",
    "        return \"Invalid withdrawal amount or insufficient funds\"\n",
    "    \n",
    "    def get_balance(self):\n",
    "        \"\"\"Get current balance\"\"\"\n",
    "        return f\"Account balance: ${self.balance}\"\n",
    "    \n",
    "    def get_account_info(self):\n",
    "        \"\"\"Get complete account information\"\"\"\n",
    "        return f\"\"\"\n",
    "        Account Information:\n",
    "        - Bank: {self.bank_name}\n",
    "        - Account Number: {self.account_number}\n",
    "        - Holder: {self.holder_name}\n",
    "        - Balance: ${self.balance}\n",
    "        - Created: {self.created_at.strftime('%Y-%m-%d %H:%M:%S')}\n",
    "        - Transactions: {len(self.transaction_history)}\n",
    "        \"\"\"\n",
    "    \n",
    "    def apply_interest(self):\n",
    "        \"\"\"Apply annual interest to account\"\"\"\n",
    "        interest = self.balance * self.interest_rate\n",
    "        self.balance += interest\n",
    "        self.transaction_history.append(f\"Interest: +${interest:.2f}\")\n",
    "        return f\"Interest applied: ${interest:.2f}. New balance: ${self.balance:.2f}\"\n",
    "    \n",
    "    def _generate_account_number(self):\n",
    "        \"\"\"Private method to generate account number\"\"\"\n",
    "        return f\"ACC{random.randint(100000, 999999)}\"\n",
    "    \n",
    "    # Class methods\n",
    "    @classmethod\n",
    "    def create_savings_account(cls, holder_name, initial_deposit):\n",
    "        \"\"\"Create a savings account with minimum deposit requirement\"\"\"\n",
    "        min_deposit = 100\n",
    "        if initial_deposit >= min_deposit:\n",
    "            account = cls(holder_name, initial_deposit)\n",
    "            account.account_type = \"Savings\"\n",
    "            return account\n",
    "        else:\n",
    "            return f\"Minimum deposit for savings account is ${min_deposit}\"\n",
    "    \n",
    "    @classmethod\n",
    "    def create_business_account(cls, business_name, initial_deposit):\n",
    "        \"\"\"Create a business account\"\"\"\n",
    "        account = cls(business_name, initial_deposit)\n",
    "        account.account_type = \"Business\"\n",
    "        account.interest_rate = 0.03  # Higher interest for business accounts\n",
    "        return account\n",
    "    \n",
    "    @classmethod\n",
    "    def set_interest_rate(cls, new_rate):\n",
    "        \"\"\"Set new interest rate for all accounts\"\"\"\n",
    "        cls.interest_rate = new_rate\n",
    "        return f\"Interest rate updated to {new_rate * 100}%\"\n",
    "    \n",
    "    @classmethod\n",
    "    def get_bank_statistics(cls):\n",
    "        \"\"\"Get bank statistics\"\"\"\n",
    "        avg_balance = cls.total_deposits / cls.total_accounts if cls.total_accounts > 0 else 0\n",
    "        return f\"\"\"\n",
    "        Bank Statistics:\n",
    "        - Total Accounts: {cls.total_accounts}\n",
    "        - Total Deposits: ${cls.total_deposits}\n",
    "        - Average Balance: ${avg_balance:.2f}\n",
    "        - Current Interest Rate: {cls.interest_rate * 100}%\n",
    "        \"\"\"\n",
    "    \n",
    "    # Static methods\n",
    "    @staticmethod\n",
    "    def validate_amount(amount):\n",
    "        \"\"\"Validate if amount is positive number\"\"\"\n",
    "        return isinstance(amount, (int, float)) and amount > 0\n",
    "    \n",
    "    @staticmethod\n",
    "    def calculate_compound_interest(principal, rate, time, compounds_per_year=1):\n",
    "        \"\"\"Calculate compound interest\"\"\"\n",
    "        amount = principal * (1 + rate/compounds_per_year) ** (compounds_per_year * time)\n",
    "        return amount - principal\n",
    "    \n",
    "    @staticmethod\n",
    "    def format_currency(amount):\n",
    "        \"\"\"Format amount as currency\"\"\"\n",
    "        return f\"${amount:,.2f}\"\n",
    "    \n",
    "    @staticmethod\n",
    "    def validate_account_number(account_number):\n",
    "        \"\"\"Validate account number format\"\"\"\n",
    "        return account_number.startswith(\"ACC\") and len(account_number) == 9\n",
    "\n",
    "# Demonstrate all method types\n",
    "print(\"=== INSTANCE METHODS ===\")\n",
    "# Regular account creation\n",
    "account1 = BankAccount(\"Alice Johnson\", 500)\n",
    "print(account1.get_account_info())\n",
    "print(account1.deposit(200))\n",
    "print(account1.withdraw(100))\n",
    "print(account1.apply_interest())\n",
    "print()\n",
    "\n",
    "print(\"=== CLASS METHODS ===\")\n",
    "# Alternative constructors\n",
    "savings_account = BankAccount.create_savings_account(\"Bob Smith\", 1000)\n",
    "business_account = BankAccount.create_business_account(\"Tech Corp\", 5000)\n",
    "\n",
    "print(f\"Savings account created for: {savings_account.holder_name}\")\n",
    "print(f\"Business account created for: {business_account.holder_name}\")\n",
    "print()\n",
    "\n",
    "# Class method to modify class attribute\n",
    "print(BankAccount.set_interest_rate(0.025))\n",
    "print(BankAccount.get_bank_statistics())\n",
    "print()\n",
    "\n",
    "print(\"=== STATIC METHODS ===\")\n",
    "# Utility functions\n",
    "print(f\"Is $500 valid amount? {BankAccount.validate_amount(500)}\")\n",
    "print(f\"Is -$100 valid amount? {BankAccount.validate_amount(-100)}\")\n",
    "print(f\"Compound interest on $1000 at 3% for 5 years: ${BankAccount.calculate_compound_interest(1000, 0.03, 5):.2f}\")\n",
    "print(f\"Formatted currency: {BankAccount.format_currency(12345.67)}\")\n",
    "print(f\"Is 'ACC123456' valid account number? {BankAccount.validate_account_number('ACC123456')}\")\n",
    "\n",
    "print(\"\\n=== FINAL BANK STATISTICS ===\")\n",
    "print(BankAccount.get_bank_statistics())"
   ]
  },
  {
   "cell_type": "markdown",
   "metadata": {},
   "source": [
    "## Method Types Comparison\n",
    "\n",
    "| Method Type | Decorator | First Parameter | Access to Instance Data | Access to Class Data | When to Use |\n",
    "|-------------|-----------|----------------|------------------------|---------------------|-------------|\n",
    "| **Instance** | None | `self` | ✅ Yes | ✅ Yes | When you need to work with instance-specific data |\n",
    "| **Class** | `@classmethod` | `cls` | ❌ No (directly) | ✅ Yes | Alternative constructors, modify class attributes |\n",
    "| **Static** | `@staticmethod` | None | ❌ No | ❌ No (directly) | Utility functions related to the class |\n",
    "\n",
    "### Key Points to Remember:\n",
    "\n",
    "1. **Instance methods** are the most common - use them when working with specific object data\n",
    "2. **Class methods** are great for alternative constructors and working with class-level data\n",
    "3. **Static methods** are utility functions that belong to the class logically but don't need access to class or instance data\n",
    "4. All method types can be called on both class and instances, but it's conventional to:\n",
    "   - Call instance methods on instances\n",
    "   - Call class methods on the class (or instances)\n",
    "   - Call static methods on the class\n",
    "\n",
    "### Best Practices:\n",
    "\n",
    "- Use instance methods for operations that modify or use instance data\n",
    "- Use class methods as alternative constructors or for operations on class data\n",
    "- Use static methods for utility functions that are logically related to the class\n",
    "- Choose the most restrictive method type that still allows your code to work (static > class > instance)"
   ]
  },
  {
   "cell_type": "markdown",
   "metadata": {},
   "source": [
    "## Practice Exercises\n",
    "\n",
    "Try implementing these exercises to practice different method types:"
   ]
  },
  {
   "cell_type": "code",
   "execution_count": null,
   "metadata": {},
   "outputs": [],
   "source": [
    "# Exercise 1: Create a Car class with all three method types\n",
    "class Car:\n",
    "    # TODO: Add class attributes like total_cars, average_price\n",
    "    \n",
    "    def __init__(self, make, model, year, price):\n",
    "        # TODO: Initialize instance attributes\n",
    "        pass\n",
    "    \n",
    "    # TODO: Add instance methods like start_engine, stop_engine, get_age\n",
    "    \n",
    "    # TODO: Add class method like create_electric_car, get_total_cars\n",
    "    \n",
    "    # TODO: Add static methods like validate_year, calculate_depreciation\n",
    "    \n",
    "    pass\n",
    "\n",
    "# Test your implementation here"
   ]
  },
  {
   "cell_type": "code",
   "execution_count": null,
   "metadata": {},
   "outputs": [],
   "source": [
    "# Exercise 2: Create a Temperature class\n",
    "class Temperature:\n",
    "    # TODO: Implement methods to convert between Celsius, Fahrenheit, and Kelvin\n",
    "    # Use appropriate method types for each functionality\n",
    "    \n",
    "    def __init__(self, value, unit='C'):\n",
    "        # TODO: Store temperature value and unit\n",
    "        pass\n",
    "    \n",
    "    # Instance methods: convert_to_fahrenheit, convert_to_kelvin, etc.\n",
    "    \n",
    "    # Class methods: from_fahrenheit, from_kelvin (alternative constructors)\n",
    "    \n",
    "    # Static methods: celsius_to_fahrenheit, fahrenheit_to_celsius, etc.\n",
    "    \n",
    "    pass\n",
    "\n",
    "# Test your implementation here"
   ]
  }
 ],
 "metadata": {
  "kernelspec": {
   "display_name": "base",
   "language": "python",
   "name": "python3"
  },
  "language_info": {
   "codemirror_mode": {
    "name": "ipython",
    "version": 3
   },
   "file_extension": ".py",
   "mimetype": "text/x-python",
   "name": "python",
   "nbconvert_exporter": "python",
   "pygments_lexer": "ipython3",
   "version": "3.12.9"
  }
 },
 "nbformat": 4,
 "nbformat_minor": 4
}
