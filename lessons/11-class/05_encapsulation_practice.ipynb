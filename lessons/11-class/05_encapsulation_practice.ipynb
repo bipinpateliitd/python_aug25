{
 "cells": [
  {
   "cell_type": "markdown",
   "id": "782e9d76",
   "metadata": {},
   "source": "# Encapsulation in Python - Simple Guide\n\n## What is Encapsulation?\n\nEncapsulation means:\n- **Hiding** data inside a class\n- **Controlling** how data is accessed\n- **Protecting** data from unwanted changes\n\n### Why Use Encapsulation?\n\n1. **Data Safety** - Prevents accidental changes\n2. **Data Validation** - Ensures data is correct\n3. **Clean Interface** - Easy to use classes\n4. **Code Organization** - Better structure\n\n---"
  },
  {
   "cell_type": "code",
   "execution_count": null,
   "id": "2ce95a95",
   "metadata": {
    "vscode": {
     "languageId": "plaintext"
    }
   },
   "outputs": [],
   "source": "## Access Levels in Python\n\nPython uses naming conventions to show access levels:\n\n| Type | Syntax | Meaning |\n|------|--------|---------|\n| **Public** | `name` | Anyone can access |\n| **Protected** | `_name` | For internal use |\n| **Private** | `__name` | Hidden from outside |\n\n### Simple Rule:\n- `name` = Public (everyone can use)\n- `_name` = Protected (be careful)\n- `__name` = Private (class only)"
  },
  {
   "cell_type": "code",
   "execution_count": null,
   "id": "3e8eaf21",
   "metadata": {},
   "outputs": [],
   "source": "# Public Variables - Direct Access\n\nclass Student:\n    def __init__(self, name, age):\n        self.name = name    # Public - anyone can change\n        self.age = age      # Public - anyone can change\n\n# Usage\nstudent = Student(\"Alice\", 20)\nprint(student.name)     # Alice\nprint(student.age)      # 20\n\n# Anyone can change these\nstudent.name = \"Bob\"    # This works\nstudent.age = -5        # This also works (but shouldn't!)\nprint(f\"{student.name} is {student.age} years old\")"
  },
  {
   "cell_type": "code",
   "execution_count": null,
   "id": "8c416221",
   "metadata": {},
   "outputs": [],
   "source": "# Protected Variables - Internal Use\n\nclass Student:\n    def __init__(self, name, age):\n        self._name = name   # Protected - internal use\n        self._age = age     # Protected - internal use\n    \n    def show_info(self):\n        return f\"{self._name} is {self._age} years old\"\n\n# Usage\nstudent = Student(\"Alice\", 20)\nprint(student.show_info())      # Alice is 20 years old\n\n# You can access protected variables, but you shouldn't\nprint(student._name)            # Alice (works but not recommended)"
  },
  {
   "cell_type": "code",
   "execution_count": null,
   "id": "4823b678",
   "metadata": {},
   "outputs": [],
   "source": "# Private Variables - Hidden\n\nclass Student:\n    def __init__(self, name, age):\n        self.__name = name  # Private - hidden\n        self.__age = age    # Private - hidden\n    \n    def get_name(self):\n        return self.__name\n    \n    def show_info(self):\n        return f\"{self.__name} is {self.__age} years old\"\n\n# Usage\nstudent = Student(\"Alice\", 20)\nprint(student.get_name())       # Alice\nprint(student.show_info())      # Alice is 20 years old\n\n# This won't work - private variables are hidden\n# print(student.__name)         # This would cause an error!"
  },
  {
   "cell_type": "markdown",
   "id": "e4b0e64b",
   "metadata": {},
   "source": "## Getter and Setter Methods\n\nGetters and setters help control how data is accessed and changed:\n- **Getter** = method to get data\n- **Setter** = method to set data with validation"
  },
  {
   "cell_type": "code",
   "execution_count": null,
   "id": "75e4f920",
   "metadata": {},
   "outputs": [],
   "source": "# Traditional Getter/Setter Approach\n\nclass Student:\n    def __init__(self, name, age):\n        self.__name = name\n        self.__age = age\n\n    # Getter methods\n    def get_name(self):\n        return self.__name\n    \n    def get_age(self):\n        return self.__age\n\n    # Setter methods with simple validation\n    def set_name(self, new_name):\n        if new_name and len(new_name) > 0:\n            self.__name = new_name\n            print(f\"Name changed to: {self.__name}\")\n        else:\n            print(\"Name cannot be empty!\")\n    \n    def set_age(self, new_age):\n        if 0 <= new_age <= 120:\n            self.__age = new_age\n            print(f\"Age changed to: {self.__age}\")\n        else:\n            print(\"Age must be between 0 and 120!\")\n\n# Usage\nstudent = Student(\"Alice\", 20)\nprint(f\"Name: {student.get_name()}\")\nprint(f\"Age: {student.get_age()}\")\n\nstudent.set_name(\"Bob\")         # Valid - works\nstudent.set_age(25)             # Valid - works\nstudent.set_age(-5)             # Invalid - shows error\nstudent.set_name(\"\")            # Invalid - shows error"
  },
  {
   "cell_type": "code",
   "execution_count": null,
   "id": "6ed465a5",
   "metadata": {},
   "outputs": [],
   "source": "## Property Decorators - Python Way\n\nPython's `@property` decorator makes getters and setters look like normal attributes:\n\n# Better Approach with @property\n\nclass Student:\n    def __init__(self, name, age):\n        self.__name = name\n        self.__age = age\n\n    @property\n    def name(self):\n        \"\"\"Get the name\"\"\"\n        return self.__name\n\n    @name.setter\n    def name(self, new_name):\n        \"\"\"Set the name with validation\"\"\"\n        if new_name and len(new_name) > 0:\n            self.__name = new_name\n        else:\n            print(\"Name cannot be empty!\")\n\n    @property\n    def age(self):\n        \"\"\"Get the age\"\"\"\n        return self.__age\n\n    @age.setter\n    def age(self, new_age):\n        \"\"\"Set the age with validation\"\"\"\n        if 0 <= new_age <= 120:\n            self.__age = new_age\n        else:\n            print(\"Age must be between 0 and 120!\")\n\n# Usage - looks like normal attribute access!\nstudent = Student(\"Alice\", 20)\nprint(f\"Name: {student.name}\")    # Calls getter\nprint(f\"Age: {student.age}\")      # Calls getter\n\nstudent.name = \"Bob\"              # Calls setter\nstudent.age = 25                  # Calls setter\n\nstudent.age = -5                  # Invalid - shows error\nstudent.name = \"\"                 # Invalid - shows error"
  },
  {
   "cell_type": "code",
   "execution_count": null,
   "id": "88c1b0c0",
   "metadata": {},
   "outputs": [],
   "source": "# Read-Only Properties\n\nclass Circle:\n    def __init__(self, radius):\n        self.__radius = radius\n\n    @property\n    def radius(self):\n        \"\"\"Get radius\"\"\"\n        return self.__radius\n\n    @radius.setter\n    def radius(self, value):\n        \"\"\"Set radius with validation\"\"\"\n        if value > 0:\n            self.__radius = value\n        else:\n            print(\"Radius must be positive!\")\n\n    @property\n    def area(self):\n        \"\"\"Read-only property - calculated automatically\"\"\"\n        return 3.14159 * self.__radius ** 2\n\n    @property\n    def circumference(self):\n        \"\"\"Read-only property - calculated automatically\"\"\"\n        return 2 * 3.14159 * self.__radius\n\n# Usage\ncircle = Circle(5)\nprint(f\"Radius: {circle.radius}\")\nprint(f\"Area: {circle.area:.2f}\")\nprint(f\"Circumference: {circle.circumference:.2f}\")\n\ncircle.radius = 10  # This works - has setter\nprint(f\"New area: {circle.area:.2f}\")\n\n# circle.area = 100  # This would cause an error - no setter!"
  },
  {
   "cell_type": "markdown",
   "id": "4ae1b129",
   "metadata": {},
   "source": "## Real Example: Simple Bank Account"
  },
  {
   "cell_type": "code",
   "execution_count": null,
   "id": "b45cfe93",
   "metadata": {},
   "outputs": [],
   "source": "# ❌ Bad Example - No Encapsulation\n\nclass BadBankAccount:\n    def __init__(self, initial_balance):\n        self.balance = initial_balance  # Public - anyone can change!\n\n# Problems:\naccount = BadBankAccount(1000)\nprint(f\"Balance: ${account.balance}\")\n\n# Anyone can do this:\naccount.balance = -5000           # Negative balance!\naccount.balance = 999999999       # Unlimited money!\nprint(f\"Hacked balance: ${account.balance}\")"
  },
  {
   "cell_type": "code",
   "execution_count": null,
   "id": "3ab20fbe",
   "metadata": {},
   "outputs": [],
   "source": "# ✅ Good Example - With Encapsulation\n\nclass BankAccount:\n    def __init__(self, initial_balance):\n        self.__balance = initial_balance  # Private\n        self.__transactions = []          # Private\n\n    @property\n    def balance(self):\n        \"\"\"Read-only balance\"\"\"\n        return self.__balance\n\n    def deposit(self, amount):\n        \"\"\"Add money to account\"\"\"\n        if amount > 0:\n            self.__balance += amount\n            self.__transactions.append(f\"Deposited ${amount}\")\n            print(f\"Deposited ${amount}. New balance: ${self.__balance}\")\n        else:\n            print(\"Deposit amount must be positive!\")\n\n    def withdraw(self, amount):\n        \"\"\"Take money from account\"\"\"\n        if amount > 0 and amount <= self.__balance:\n            self.__balance -= amount\n            self.__transactions.append(f\"Withdrew ${amount}\")\n            print(f\"Withdrew ${amount}. New balance: ${self.__balance}\")\n        elif amount > self.__balance:\n            print(\"Insufficient funds!\")\n        else:\n            print(\"Withdrawal amount must be positive!\")\n\n    def get_transactions(self):\n        \"\"\"Get copy of transaction history\"\"\"\n        return self.__transactions.copy()\n\n# Usage\naccount = BankAccount(1000)\nprint(f\"Balance: ${account.balance}\")\n\naccount.deposit(200)        # Works\naccount.withdraw(150)       # Works\naccount.withdraw(2000)      # Fails - insufficient funds\naccount.deposit(-50)        # Fails - negative amount\n\nprint(f\"Final balance: ${account.balance}\")\nprint(\"Transactions:\", account.get_transactions())"
  },
  {
   "cell_type": "markdown",
   "id": "50039ef2",
   "metadata": {},
   "source": "## Real Example: Simple Car\n\nclass Car:\n    def __init__(self, make, model):\n        self.__make = make\n        self.__model = model\n        self.__speed = 0          # Private - can't be directly changed\n        self.__engine_on = False  # Private\n        \n    @property\n    def make(self):\n        return self.__make\n    \n    @property \n    def model(self):\n        return self.__model\n    \n    @property\n    def speed(self):\n        \"\"\"Read-only speed\"\"\"\n        return self.__speed\n    \n    @property\n    def engine_on(self):\n        \"\"\"Check if engine is running\"\"\"\n        return self.__engine_on\n    \n    def start_engine(self):\n        \"\"\"Start the car\"\"\"\n        if not self.__engine_on:\n            self.__engine_on = True\n            print(\"Engine started!\")\n        else:\n            print(\"Engine already running!\")\n    \n    def stop_engine(self):\n        \"\"\"Stop the car\"\"\"\n        if self.__speed == 0:\n            self.__engine_on = False\n            print(\"Engine stopped!\")\n        else:\n            print(\"Cannot stop engine while moving!\")\n    \n    def accelerate(self, amount):\n        \"\"\"Speed up the car\"\"\"\n        if self.__engine_on and amount > 0:\n            self.__speed += amount\n            if self.__speed > 120:  # Speed limit\n                self.__speed = 120\n            print(f\"Speed: {self.__speed} mph\")\n        else:\n            print(\"Cannot accelerate - engine off or invalid amount!\")\n    \n    def brake(self, amount):\n        \"\"\"Slow down the car\"\"\"\n        if amount > 0:\n            self.__speed -= amount\n            if self.__speed < 0:\n                self.__speed = 0\n            print(f\"Speed: {self.__speed} mph\")\n        else:\n            print(\"Invalid brake amount!\")\n\n# Usage\ncar = Car(\"Toyota\", \"Camry\")\nprint(f\"Car: {car.make} {car.model}\")\n\ncar.start_engine()          # Start engine\ncar.accelerate(30)          # Speed up\ncar.accelerate(50)          # Speed up more\ncar.accelerate(100)         # Hits speed limit\ncar.brake(20)               # Slow down\ncar.brake(90)               # Stop completely\ncar.stop_engine()           # Turn off engine\n\nprint(f\"Final speed: {car.speed} mph\")"
  },
  {
   "cell_type": "markdown",
   "id": "ce4tmb2u1m8",
   "source": "## Best Practices\n\n### ✅ DO:\n- Use private attributes (`__name`) for internal data\n- Use properties for controlled access\n- Validate data in setters\n- Return copies of mutable data\n\n### ❌ DON'T:\n- Make everything public without thinking\n- Access private attributes directly from outside\n- Forget to validate inputs",
   "metadata": {}
  },
  {
   "cell_type": "code",
   "id": "qebhx964bl8",
   "source": "# Simple Shopping Cart Example\n\nclass ShoppingCart:\n    def __init__(self):\n        self.__items = []           # Private list\n        self.__max_items = 10       # Private limit\n\n    def add_item(self, item):\n        \"\"\"Add item to cart\"\"\"\n        if len(self.__items) < self.__max_items:\n            self.__items.append(item)\n            print(f\"Added {item} to cart\")\n        else:\n            print(\"Cart is full!\")\n\n    def remove_item(self, item):\n        \"\"\"Remove item from cart\"\"\"\n        if item in self.__items:\n            self.__items.remove(item)\n            print(f\"Removed {item} from cart\")\n        else:\n            print(f\"{item} not in cart\")\n\n    @property\n    def items(self):\n        \"\"\"Get copy of items (read-only)\"\"\"\n        return self.__items.copy()\n    \n    @property\n    def item_count(self):\n        \"\"\"Get number of items\"\"\"\n        return len(self.__items)\n\n    def clear_cart(self):\n        \"\"\"Empty the cart\"\"\"\n        self.__items.clear()\n        print(\"Cart cleared\")\n\n# Usage\ncart = ShoppingCart()\ncart.add_item(\"Apple\")\ncart.add_item(\"Banana\")\ncart.add_item(\"Orange\")\n\nprint(f\"Items: {cart.items}\")\nprint(f\"Count: {cart.item_count}\")\n\ncart.remove_item(\"Banana\")\nprint(f\"Items after removal: {cart.items}\")",
   "metadata": {},
   "execution_count": null,
   "outputs": []
  },
  {
   "cell_type": "markdown",
   "id": "6n0mj7ggfcs",
   "source": "## Practice Exercises\n\n### Exercise 1: Simple Book Class\n\nCreate a `Book` class with:\n- Private attributes: `title`, `author`, `pages`\n- Properties to get and set these values\n- Validation: pages must be positive",
   "metadata": {}
  },
  {
   "cell_type": "code",
   "id": "ybopb1oawj",
   "source": "# Exercise 1: Your solution\nclass Book:\n    def __init__(self, title, author, pages):\n        # TODO: Initialize private attributes\n        pass\n    \n    # TODO: Add properties for title, author, and pages\n    # TODO: Add validation for pages (must be positive)\n\n# Test your code:\n# book = Book(\"Python Guide\", \"John Doe\", 300)\n# print(f\"Title: {book.title}\")\n# print(f\"Author: {book.author}\")\n# print(f\"Pages: {book.pages}\")\n# book.pages = 350  # Should work\n# book.pages = -10  # Should show error",
   "metadata": {},
   "execution_count": null,
   "outputs": []
  },
  {
   "cell_type": "markdown",
   "id": "y4y3azm3dwr",
   "source": "### Exercise 2: Simple Temperature Class\n\nCreate a `Temperature` class with:\n- Private attribute: `celsius`\n- Properties: `celsius`, `fahrenheit` (calculated automatically)\n- Validation: temperature above absolute zero (-273.15°C)",
   "metadata": {}
  },
  {
   "cell_type": "code",
   "id": "l92qn5yyfn",
   "source": "# Exercise 2: Your solution\nclass Temperature:\n    def __init__(self, celsius):\n        # TODO: Initialize private celsius attribute\n        pass\n    \n    # TODO: Add celsius property with validation (>= -273.15)\n    # TODO: Add read-only fahrenheit property (formula: C * 9/5 + 32)\n\n# Test your code:\n# temp = Temperature(25)\n# print(f\"Celsius: {temp.celsius}\")\n# print(f\"Fahrenheit: {temp.fahrenheit}\")\n# temp.celsius = 30  # Should work\n# temp.celsius = -300  # Should show error",
   "metadata": {},
   "execution_count": null,
   "outputs": []
  },
  {
   "cell_type": "markdown",
   "id": "pf0x2didli",
   "source": "### Exercise 3: Simple Wallet Class\n\nCreate a `Wallet` class with:\n- Private attribute: `balance`\n- Methods: `add_money()`, `spend_money()`\n- Properties: read-only `balance`\n- Validation: no negative spending, can't spend more than balance",
   "metadata": {}
  },
  {
   "cell_type": "code",
   "id": "qkcaquwf79k",
   "source": "# Exercise 3: Your solution\nclass Wallet:\n    def __init__(self, initial_balance=0):\n        # TODO: Initialize private balance\n        pass\n    \n    # TODO: Add read-only balance property\n    # TODO: Add add_money method (amount must be positive)\n    # TODO: Add spend_money method (amount must be positive and <= balance)\n\n# Test your code:\n# wallet = Wallet(100)\n# print(f\"Balance: ${wallet.balance}\")\n# wallet.add_money(50)     # Should work\n# wallet.spend_money(30)   # Should work\n# wallet.spend_money(200)  # Should show error\n# wallet.add_money(-10)    # Should show error",
   "metadata": {},
   "execution_count": null,
   "outputs": []
  },
  {
   "cell_type": "markdown",
   "id": "uf2qeqjcew",
   "source": "---\n\n## Summary\n\n### Key Points 🎯\n\n1. **Encapsulation** = Hiding data + Controlling access\n2. **Private attributes** use `__name` \n3. **Properties** use `@property` for getters and setters\n4. **Validation** in setters keeps data safe\n5. **Read-only properties** have no setter\n\n### Remember:\n- `public` = Anyone can use\n- `_protected` = Internal use only  \n- `__private` = Hidden from outside\n\n### Benefits:\n- ✅ Data stays safe\n- ✅ Easy to use classes\n- ✅ Better code organization\n- ✅ Prevents mistakes\n\n**Practice these examples and try the exercises!**",
   "metadata": {}
  }
 ],
 "metadata": {
  "language_info": {
   "name": "python"
  }
 },
 "nbformat": 4,
 "nbformat_minor": 5
}