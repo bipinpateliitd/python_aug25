{
 "cells": [
  {
   "cell_type": "code",
   "execution_count": 1,
   "id": "9c23edee",
   "metadata": {},
   "outputs": [
    {
     "ename": "TypeError",
     "evalue": "Can't instantiate abstract class Cat without an implementation for abstract method 'make_sound'",
     "output_type": "error",
     "traceback": [
      "\u001b[31m---------------------------------------------------------------------------\u001b[39m",
      "\u001b[31mTypeError\u001b[39m                                 Traceback (most recent call last)",
      "\u001b[36mCell\u001b[39m\u001b[36m \u001b[39m\u001b[32mIn[1]\u001b[39m\u001b[32m, line 13\u001b[39m\n\u001b[32m     10\u001b[39m         \u001b[38;5;28;01mreturn\u001b[39;00m \u001b[33m\"\u001b[39m\u001b[33mMeow!\u001b[39m\u001b[33m\"\u001b[39m\n\u001b[32m     12\u001b[39m \u001b[38;5;66;03m# Try to create object\u001b[39;00m\n\u001b[32m---> \u001b[39m\u001b[32m13\u001b[39m c = \u001b[43mCat\u001b[49m\u001b[43m(\u001b[49m\u001b[43m)\u001b[49m   \u001b[38;5;66;03m# ❌ ERROR\u001b[39;00m\n",
      "\u001b[31mTypeError\u001b[39m: Can't instantiate abstract class Cat without an implementation for abstract method 'make_sound'"
     ]
    }
   ],
   "source": [
    "from abc import ABC, abstractmethod\n",
    "\n",
    "class Animal(ABC):\n",
    "    @abstractmethod\n",
    "    def make_sound(self):\n",
    "        pass\n",
    "\n",
    "class Cat(Animal):\n",
    "    def sound(self):   # ❌ wrong name (not make_sound)\n",
    "        return \"Meow!\"\n",
    "\n",
    "# Try to create object\n",
    "c = Cat()   # ❌ ERROR\n"
   ]
  },
  {
   "cell_type": "code",
   "execution_count": null,
   "id": "c3f6f767",
   "metadata": {},
   "outputs": [],
   "source": []
  },
  {
   "cell_type": "code",
   "execution_count": null,
   "id": "b3a6b4de",
   "metadata": {},
   "outputs": [],
   "source": []
  },
  {
   "cell_type": "code",
   "execution_count": 3,
   "id": "ef9d4510",
   "metadata": {},
   "outputs": [],
   "source": [
    "from abc import ABC, abstractmethod\n",
    "\n",
    "class Engine(ABC):\n",
    "    \n",
    "    \n",
    "    \n",
    "    @abstractmethod\n",
    "    def start(self):\n",
    "        pass\n",
    "    \n",
    "    \n",
    "    \n",
    "    @abstractmethod\n",
    "    def stop(self):\n",
    "        pass\n",
    "    \n",
    "    \n",
    "    def sleep(self):  # concrete method\n",
    "        return \" Go in power saver mode\"\n",
    "    "
   ]
  },
  {
   "cell_type": "code",
   "execution_count": null,
   "id": "09783744",
   "metadata": {},
   "outputs": [],
   "source": []
  },
  {
   "cell_type": "code",
   "execution_count": 9,
   "id": "0bf7d2b6",
   "metadata": {},
   "outputs": [],
   "source": [
    "class Car (Engine):\n",
    "    \n",
    "    \n",
    "    def start(self):\n",
    "        return \" press the start button\"\n",
    "    \n",
    "    \n",
    "    def stop(self):\n",
    "        return \" press the stop button\"\n",
    "    \n",
    "    def  pause(self):\n",
    "        return \" pause it\"\n",
    "    \n",
    "\n",
    "class Bike (Engine):\n",
    "    \n",
    "    \n",
    "    def start(self):\n",
    "        return \" kick the start paddle\"\n",
    "    \n",
    "    \n",
    "    def stop(self):\n",
    "        return \" kick the stop paddle\"\n",
    "    \n",
    "    \n",
    "\n",
    "class Tractor (Engine):\n",
    "    \n",
    "    \n",
    "    def start(self):\n",
    "        return \" press the start button\"\n",
    "   \n",
    "    \n",
    "    \n",
    "    "
   ]
  },
  {
   "cell_type": "code",
   "execution_count": 10,
   "id": "d38789b3",
   "metadata": {},
   "outputs": [],
   "source": [
    "c1= Car()"
   ]
  },
  {
   "cell_type": "code",
   "execution_count": 7,
   "id": "d4b1795f",
   "metadata": {},
   "outputs": [
    {
     "data": {
      "text/plain": [
       "' Go in power saver mode'"
      ]
     },
     "execution_count": 7,
     "metadata": {},
     "output_type": "execute_result"
    }
   ],
   "source": [
    "c1.sleep()"
   ]
  },
  {
   "cell_type": "code",
   "execution_count": 12,
   "id": "6dda0525",
   "metadata": {},
   "outputs": [
    {
     "data": {
      "text/plain": [
       "' pause it'"
      ]
     },
     "execution_count": 12,
     "metadata": {},
     "output_type": "execute_result"
    }
   ],
   "source": [
    "c1.pause()"
   ]
  },
  {
   "cell_type": "code",
   "execution_count": 8,
   "id": "95da77b9",
   "metadata": {},
   "outputs": [
    {
     "ename": "TypeError",
     "evalue": "Can't instantiate abstract class Tractor without an implementation for abstract method 'stop'",
     "output_type": "error",
     "traceback": [
      "\u001b[31m---------------------------------------------------------------------------\u001b[39m",
      "\u001b[31mTypeError\u001b[39m                                 Traceback (most recent call last)",
      "\u001b[36mCell\u001b[39m\u001b[36m \u001b[39m\u001b[32mIn[8]\u001b[39m\u001b[32m, line 1\u001b[39m\n\u001b[32m----> \u001b[39m\u001b[32m1\u001b[39m t1= \u001b[43mTractor\u001b[49m\u001b[43m(\u001b[49m\u001b[43m)\u001b[49m\n",
      "\u001b[31mTypeError\u001b[39m: Can't instantiate abstract class Tractor without an implementation for abstract method 'stop'"
     ]
    }
   ],
   "source": [
    "t1= Tractor()"
   ]
  },
  {
   "cell_type": "code",
   "execution_count": null,
   "id": "848c82eb",
   "metadata": {},
   "outputs": [],
   "source": []
  },
  {
   "cell_type": "code",
   "execution_count": null,
   "id": "350806b4",
   "metadata": {},
   "outputs": [],
   "source": []
  },
  {
   "cell_type": "code",
   "execution_count": null,
   "id": "aae93b88",
   "metadata": {},
   "outputs": [],
   "source": []
  },
  {
   "cell_type": "code",
   "execution_count": null,
   "id": "764f077a",
   "metadata": {},
   "outputs": [],
   "source": []
  },
  {
   "cell_type": "code",
   "execution_count": null,
   "id": "3b9c0623",
   "metadata": {},
   "outputs": [],
   "source": [
    "from abc import ABC, abstractmethod\n",
    "\n",
    "class Animal(ABC):\n",
    "    @abstractmethod\n",
    "    def make_sound(self):\n",
    "        pass\n",
    "\n",
    "    @abstractmethod\n",
    "    def move(self):\n",
    "        pass\n",
    "\n",
    "class Dog(Animal):\n",
    "    def make_sound(self):   # Required\n",
    "        return \"Woof!\"\n",
    "\n",
    "    def move(self):         # Required\n",
    "        return \"Running on four legs\"\n",
    "    \n",
    "    # ✅ Extra method only in Dog\n",
    "    def fetch(self, item):\n",
    "        return f\"{self.__class__.__name__} is fetching {item}\"\n",
    "\n",
    "# Usage\n",
    "d = Dog()\n",
    "print(d.make_sound())   # Woof!\n",
    "print(d.move())         # Running on four legs\n",
    "print(d.fetch(\"ball\"))  # Dog is fetching ball\n"
   ]
  },
  {
   "cell_type": "markdown",
   "id": "f1e01155",
   "metadata": {},
   "source": [
    "#Abstract class = minimum requirements (rulebook).\n",
    "\n",
    "#Child class = must follow rules but can also add extra abilities.\n",
    "\n",
    "#Those extra methods will only be available for that class (not shared across all animals unless you define them in the parent)."
   ]
  },
  {
   "cell_type": "code",
   "execution_count": 2,
   "id": "9405cd2e",
   "metadata": {},
   "outputs": [
    {
     "name": "stdout",
     "output_type": "stream",
     "text": [
      "Woof!\n",
      "Dog is sleeping...\n"
     ]
    }
   ],
   "source": [
    "from abc import ABC, abstractmethod\n",
    "\n",
    "class Animal(ABC):\n",
    "    @abstractmethod\n",
    "    def make_sound(self):   # abstract\n",
    "        pass\n",
    "\n",
    "    def sleep(self):        # ✅ concrete\n",
    "        return f\"{self.__class__.__name__} is sleeping...\"\n",
    "\n",
    "class Dog(Animal):\n",
    "    def make_sound(self):\n",
    "        return \"Woof!\"\n",
    "\n",
    "d = Dog()\n",
    "print(d.make_sound())  # Woof!\n",
    "print(d.sleep())       # Dog is sleeping...\n"
   ]
  },
  {
   "cell_type": "code",
   "execution_count": 3,
   "id": "f394be39",
   "metadata": {},
   "outputs": [
    {
     "name": "stdout",
     "output_type": "stream",
     "text": [
      "Car engine started with key\n",
      "Bike engine started with self start button\n"
     ]
    }
   ],
   "source": [
    "class Vehicle(ABC):\n",
    "    @abstractmethod\n",
    "    def start(self):\n",
    "        pass\n",
    "\n",
    "class Car(Vehicle):\n",
    "    def start(self):\n",
    "        return \"Car engine started with key\"\n",
    "\n",
    "class Bike(Vehicle):\n",
    "    def start(self):\n",
    "        return \"Bike engine started with self start button\"\n",
    "\n",
    "# Usage\n",
    "vehicles = [Car(), Bike()]\n",
    "for v in vehicles:\n",
    "    print(v.start())\n"
   ]
  },
  {
   "cell_type": "code",
   "execution_count": null,
   "id": "7d93d451",
   "metadata": {},
   "outputs": [],
   "source": []
  }
 ],
 "metadata": {
  "kernelspec": {
   "display_name": "base",
   "language": "python",
   "name": "python3"
  },
  "language_info": {
   "codemirror_mode": {
    "name": "ipython",
    "version": 3
   },
   "file_extension": ".py",
   "mimetype": "text/x-python",
   "name": "python",
   "nbconvert_exporter": "python",
   "pygments_lexer": "ipython3",
   "version": "3.12.9"
  }
 },
 "nbformat": 4,
 "nbformat_minor": 5
}
