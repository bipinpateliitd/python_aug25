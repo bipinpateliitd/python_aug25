{
 "cells": [
  {
   "cell_type": "code",
   "execution_count": 1,
   "id": "1e137fea",
   "metadata": {},
   "outputs": [],
   "source": [
    "class Student:\n",
    "    # Class attribute\n",
    "    school = \"Python Academy\"\n",
    "    \n",
    "    def __init__(self, name, age, grade):\n",
    "        # Instance attributes\n",
    "        self.name = name\n",
    "        self.age = age\n",
    "        self.grade = grade\n",
    "        self.subjects = []\n",
    "    \n",
    "    # Instance method\n",
    "    def introduce(self):\n",
    "        return f\"Hi, I'm {self.name}, {self.age} years old, in grade {self.grade}\"\n",
    "    \n",
    "    # Instance method that modifies instance data\n",
    "    def add_subject(self, subject):\n",
    "        self.subjects.append(subject)\n",
    "        return f\"Added {subject} to {self.name}'s subjects\"\n",
    "    \n",
    "    # Instance method that uses both instance and class data\n",
    "    def get_info(self):\n",
    "        return f\"{self.name} studies at {self.school} and takes {len(self.subjects)} subjects\"\n",
    "\n"
   ]
  },
  {
   "cell_type": "code",
   "execution_count": 2,
   "id": "ec15983e",
   "metadata": {},
   "outputs": [],
   "source": [
    "a1 = Student(\"Sravanti\", 24, \"A+\")"
   ]
  },
  {
   "cell_type": "code",
   "execution_count": 3,
   "id": "874ffdf7",
   "metadata": {},
   "outputs": [
    {
     "data": {
      "text/plain": [
       "'Sravanti'"
      ]
     },
     "execution_count": 3,
     "metadata": {},
     "output_type": "execute_result"
    }
   ],
   "source": [
    "a1.name"
   ]
  },
  {
   "cell_type": "code",
   "execution_count": 4,
   "id": "a9ec1d05",
   "metadata": {},
   "outputs": [
    {
     "data": {
      "text/plain": [
       "\"Hi, I'm Sravanti, 24 years old, in grade A+\""
      ]
     },
     "execution_count": 4,
     "metadata": {},
     "output_type": "execute_result"
    }
   ],
   "source": [
    "a1.introduce()"
   ]
  },
  {
   "cell_type": "code",
   "execution_count": 5,
   "id": "d1853cb8",
   "metadata": {},
   "outputs": [
    {
     "data": {
      "text/plain": [
       "\"Added Math to Sravanti's subjects\""
      ]
     },
     "execution_count": 5,
     "metadata": {},
     "output_type": "execute_result"
    }
   ],
   "source": [
    "a1.add_subject(\"Math\")"
   ]
  },
  {
   "cell_type": "code",
   "execution_count": 6,
   "id": "9b0f8b50",
   "metadata": {},
   "outputs": [
    {
     "data": {
      "text/plain": [
       "['Math']"
      ]
     },
     "execution_count": 6,
     "metadata": {},
     "output_type": "execute_result"
    }
   ],
   "source": [
    "a1.subjects"
   ]
  },
  {
   "cell_type": "code",
   "execution_count": 7,
   "id": "8908bf2c",
   "metadata": {},
   "outputs": [
    {
     "data": {
      "text/plain": [
       "'Sravanti studies at Python Academy and takes 1 subjects'"
      ]
     },
     "execution_count": 7,
     "metadata": {},
     "output_type": "execute_result"
    }
   ],
   "source": [
    "a1.get_info()"
   ]
  },
  {
   "cell_type": "code",
   "execution_count": null,
   "id": "a70b909d",
   "metadata": {},
   "outputs": [],
   "source": []
  },
  {
   "cell_type": "markdown",
   "id": "0f788405",
   "metadata": {},
   "source": [
    "# class method \n",
    "Class methods:\n",
    "- Use the `@classmethod` decorator\n",
    "- Take `cls` as the first parameter (refers to the class itself)\n",
    "- Can access and modify class attributes\n",
    "- Cannot access instance attributes directly\n",
    "- Can be called on both the class and instances\n",
    "- Often used as alternative constructors"
   ]
  },
  {
   "cell_type": "code",
   "execution_count": null,
   "id": "90a53ca8",
   "metadata": {},
   "outputs": [],
   "source": [
    "class Employee:\n",
    "    # Class attributes\n",
    "    company = \"TechCorp\"\n",
    "    employee_count = 0\n",
    "    raise_amount = 1.05  # 5% raise\n",
    "    \n",
    "    def __init__(self, first, last, salary):\n",
    "        self.first = first\n",
    "        self.last = last\n",
    "        self.salary = salary\n",
    "        self.email = f\"{first.lower()}.{last.lower()}@{self.company.lower()}.com\"\n",
    "        \n",
    "        # Increment employee count when new employee is created\n",
    "        Employee.employee_count += 1\n",
    "    \n",
    "    # Instance method\n",
    "    def fullname(self):\n",
    "        return f\"{self.first} {self.last}\"\n",
    "    \n",
    "    # Instance method\n",
    "    def apply_raise(self):\n",
    "        self.salary = int(self.salary * self.raise_amount)\n",
    "       \n",
    "        \n",
    "        \n",
    "        \n",
    "        \n",
    "    \n",
    "    # Class method - alternative constructor\n",
    "    @classmethod\n",
    "    def from_string(cls, emp_str):\n",
    "        \"\"\"Create employee from string format: 'First-Last-Salary'\"\"\"\n",
    "        first, last, salary = emp_str.split('-')\n",
    "        return cls(first, last, int(salary))\n",
    "    \n",
    "    # Class method - modify class attribute\n",
    "    @classmethod\n",
    "    def set_raise_amount(cls, amount):\n",
    "        \"\"\"Set the raise amount for all employees\"\"\"\n",
    "        cls.raise_amount = amount\n",
    "        return f\"Raise amount set to {amount}\"\n",
    "    \n",
    "    # Class method - access class data\n",
    "    @classmethod\n",
    "    def get_employee_count(cls):\n",
    "        return f\"Total employees: {cls.employee_count}\"\n",
    "\n"
   ]
  },
  {
   "cell_type": "code",
   "execution_count": 17,
   "id": "5754ec34",
   "metadata": {},
   "outputs": [],
   "source": [
    "# Regular constructor\n",
    "emp1 = Employee(\"Aditya\", \"kumar\", 500000)\n",
    "emp2 = Employee(\"Anil\", \"Raghavan\", 600000)\n"
   ]
  },
  {
   "cell_type": "code",
   "execution_count": 36,
   "id": "5cc805b6",
   "metadata": {},
   "outputs": [
    {
     "data": {
      "text/plain": [
       "'Aditya kumar'"
      ]
     },
     "execution_count": 36,
     "metadata": {},
     "output_type": "execute_result"
    }
   ],
   "source": [
    "emp1.fullname()"
   ]
  },
  {
   "cell_type": "code",
   "execution_count": 37,
   "id": "2938cb2b",
   "metadata": {},
   "outputs": [
    {
     "data": {
      "text/plain": [
       "'Total employees: 12'"
      ]
     },
     "execution_count": 37,
     "metadata": {},
     "output_type": "execute_result"
    }
   ],
   "source": [
    "emp1.get_employee_count()"
   ]
  },
  {
   "cell_type": "code",
   "execution_count": 11,
   "id": "8e71b3e1",
   "metadata": {},
   "outputs": [
    {
     "data": {
      "text/plain": [
       "'Aditya'"
      ]
     },
     "execution_count": 11,
     "metadata": {},
     "output_type": "execute_result"
    }
   ],
   "source": [
    "emp1.first"
   ]
  },
  {
   "cell_type": "code",
   "execution_count": 12,
   "id": "6ea6b49d",
   "metadata": {},
   "outputs": [
    {
     "data": {
      "text/plain": [
       "'aditya.kumar@techcorp.com'"
      ]
     },
     "execution_count": 12,
     "metadata": {},
     "output_type": "execute_result"
    }
   ],
   "source": [
    "emp1.email"
   ]
  },
  {
   "cell_type": "code",
   "execution_count": 15,
   "id": "095e7f2a",
   "metadata": {},
   "outputs": [
    {
     "data": {
      "text/plain": [
       "'Raise amount set to 40000'"
      ]
     },
     "execution_count": 15,
     "metadata": {},
     "output_type": "execute_result"
    }
   ],
   "source": [
    "emp1.set_raise_amount(40000)"
   ]
  },
  {
   "cell_type": "code",
   "execution_count": 18,
   "id": "0f9c791a",
   "metadata": {},
   "outputs": [
    {
     "data": {
      "text/plain": [
       "'Anil'"
      ]
     },
     "execution_count": 18,
     "metadata": {},
     "output_type": "execute_result"
    }
   ],
   "source": [
    "emp2.first"
   ]
  },
  {
   "cell_type": "code",
   "execution_count": 19,
   "id": "0db8b211",
   "metadata": {},
   "outputs": [
    {
     "data": {
      "text/plain": [
       "'Raghavan'"
      ]
     },
     "execution_count": 19,
     "metadata": {},
     "output_type": "execute_result"
    }
   ],
   "source": [
    "emp2.last"
   ]
  },
  {
   "cell_type": "code",
   "execution_count": 20,
   "id": "2eeea460",
   "metadata": {},
   "outputs": [
    {
     "data": {
      "text/plain": [
       "600000"
      ]
     },
     "execution_count": 20,
     "metadata": {},
     "output_type": "execute_result"
    }
   ],
   "source": [
    "emp2.salary"
   ]
  },
  {
   "cell_type": "code",
   "execution_count": 21,
   "id": "1beff69c",
   "metadata": {},
   "outputs": [
    {
     "data": {
      "text/plain": [
       "'anil.raghavan@techcorp.com'"
      ]
     },
     "execution_count": 21,
     "metadata": {},
     "output_type": "execute_result"
    }
   ],
   "source": [
    "emp2.email"
   ]
  },
  {
   "cell_type": "code",
   "execution_count": 30,
   "id": "3f6210b5",
   "metadata": {},
   "outputs": [],
   "source": [
    "emp3=Employee.from_string(\"Yogesh-Patel-90000\")"
   ]
  },
  {
   "cell_type": "code",
   "execution_count": 32,
   "id": "35b6f6a9",
   "metadata": {},
   "outputs": [
    {
     "data": {
      "text/plain": [
       "'Yogesh'"
      ]
     },
     "execution_count": 32,
     "metadata": {},
     "output_type": "execute_result"
    }
   ],
   "source": [
    "emp3.first"
   ]
  },
  {
   "cell_type": "code",
   "execution_count": 33,
   "id": "8c2903be",
   "metadata": {},
   "outputs": [
    {
     "data": {
      "text/plain": [
       "'yogesh.patel@techcorp.com'"
      ]
     },
     "execution_count": 33,
     "metadata": {},
     "output_type": "execute_result"
    }
   ],
   "source": [
    "emp3.email"
   ]
  },
  {
   "cell_type": "code",
   "execution_count": 35,
   "id": "5a3f9583",
   "metadata": {},
   "outputs": [
    {
     "data": {
      "text/plain": [
       "90000"
      ]
     },
     "execution_count": 35,
     "metadata": {},
     "output_type": "execute_result"
    }
   ],
   "source": [
    "emp3.salary"
   ]
  },
  {
   "cell_type": "code",
   "execution_count": null,
   "id": "bd5b0f19",
   "metadata": {},
   "outputs": [],
   "source": []
  },
  {
   "cell_type": "code",
   "execution_count": 29,
   "id": "d0415391",
   "metadata": {},
   "outputs": [
    {
     "name": "stdout",
     "output_type": "stream",
     "text": [
      "Employee 1: Aditya kumar, Salary: $500000\n",
      "Employee 2: Anil Raghavan, Salary: $600000\n",
      "Total employees: 10\n",
      "\n",
      "Employee 3: Mike Johnson, Email: mike.johnson@techcorp.com\n",
      "Total employees: 11\n",
      "\n",
      "Current raise amount: 40000\n",
      "Raise amount set to 1.08\n",
      "New raise amount: 1.08\n",
      "After raise - Employee 1: $540000, Employee 2: $648000\n"
     ]
    }
   ],
   "source": [
    "\n",
    "print(f\"Employee 1: {emp1.fullname()}, Salary: ${emp1.salary}\")\n",
    "print(f\"Employee 2: {emp2.fullname()}, Salary: ${emp2.salary}\")\n",
    "print(Employee.get_employee_count())\n",
    "print()\n",
    "\n",
    "# Using class method as alternative constructor\n",
    "emp3 = Employee.from_string(\"Mike-Johnson-55000\")\n",
    "print(f\"Employee 3: {emp3.fullname()}, Email: {emp3.email}\")\n",
    "print(Employee.get_employee_count())\n",
    "print()\n",
    "\n",
    "# Using class method to modify class attribute\n",
    "print(f\"Current raise amount: {Employee.raise_amount}\")\n",
    "print(Employee.set_raise_amount(1.08))  # 8% raise\n",
    "print(f\"New raise amount: {Employee.raise_amount}\")\n",
    "\n",
    "# Apply raise to employees\n",
    "emp1.apply_raise()\n",
    "emp2.apply_raise()\n",
    "print(f\"After raise - Employee 1: ${emp1.salary}, Employee 2: ${emp2.salary}\")"
   ]
  },
  {
   "cell_type": "code",
   "execution_count": null,
   "id": "883ed211",
   "metadata": {},
   "outputs": [],
   "source": []
  },
  {
   "cell_type": "code",
   "execution_count": null,
   "id": "dff14a6c",
   "metadata": {},
   "outputs": [],
   "source": []
  },
  {
   "cell_type": "code",
   "execution_count": null,
   "id": "d5cbcbf9",
   "metadata": {},
   "outputs": [],
   "source": []
  },
  {
   "cell_type": "code",
   "execution_count": null,
   "id": "a8272b8a",
   "metadata": {},
   "outputs": [],
   "source": []
  },
  {
   "cell_type": "code",
   "execution_count": null,
   "id": "ed43de09",
   "metadata": {},
   "outputs": [],
   "source": []
  },
  {
   "cell_type": "code",
   "execution_count": null,
   "id": "e6b21dec",
   "metadata": {},
   "outputs": [],
   "source": []
  }
 ],
 "metadata": {
  "kernelspec": {
   "display_name": "base",
   "language": "python",
   "name": "python3"
  },
  "language_info": {
   "codemirror_mode": {
    "name": "ipython",
    "version": 3
   },
   "file_extension": ".py",
   "mimetype": "text/x-python",
   "name": "python",
   "nbconvert_exporter": "python",
   "pygments_lexer": "ipython3",
   "version": "3.12.9"
  }
 },
 "nbformat": 4,
 "nbformat_minor": 5
}
