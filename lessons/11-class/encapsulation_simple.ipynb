{
 "cells": [
  {
   "cell_type": "markdown",
   "metadata": {},
   "source": [
    "# Encapsulation in Python - Simple Guide\n",
    "\n",
    "## What is Encapsulation?\n",
    "\n",
    "**Encapsulation** means keeping data safe inside a class and controlling how it's accessed.\n",
    "\n",
    "Think of it like a **safe box**:\n",
    "- Your money (data) is inside the safe\n",
    "- You need the right key (methods) to access it\n",
    "- Others can't just grab your money directly\n",
    "\n",
    "### Why use Encapsulation?\n",
    "1. **Protect data** from being changed incorrectly\n",
    "2. **Hide complexity** - users don't need to know how things work inside\n",
    "3. **Control access** - decide what others can see and change"
   ]
  },
  {
   "cell_type": "markdown",
   "metadata": {},
   "source": [
    "## Access Levels in Python\n",
    "\n",
    "Python has 3 levels of access:\n",
    "\n",
    "| Type | Symbol | Meaning | Example |\n",
    "|------|--------|---------|----------|\n",
    "| **Public** | `name` | Everyone can access | `self.name` |\n",
    "| **Protected** | `_name` | Only for internal use | `self._name` |\n",
    "| **Private** | `__name` | Hidden from outside | `self.__name` |"
   ]
  },
  {
   "cell_type": "code",
   "execution_count": 1,
   "metadata": {},
   "outputs": [],
   "source": [
    "## 1. Public Variables - Anyone can access\n",
    "\n",
    "class Student:\n",
    "    def __init__(self, name, age):\n",
    "        self.name = name    # Public - anyone can change this\n",
    "        self.age = age      # Public\n",
    "\n",
    "# Usage\n",
    "student = Student(\"Alice\", 20)\n"
   ]
  },
  {
   "cell_type": "code",
   "execution_count": 2,
   "metadata": {},
   "outputs": [
    {
     "data": {
      "text/plain": [
       "20"
      ]
     },
     "execution_count": 2,
     "metadata": {},
     "output_type": "execute_result"
    }
   ],
   "source": [
    "student.age"
   ]
  },
  {
   "cell_type": "code",
   "execution_count": 3,
   "metadata": {},
   "outputs": [
    {
     "data": {
      "text/plain": [
       "'Alice'"
      ]
     },
     "execution_count": 3,
     "metadata": {},
     "output_type": "execute_result"
    }
   ],
   "source": [
    "student.name"
   ]
  },
  {
   "cell_type": "code",
   "execution_count": null,
   "metadata": {},
   "outputs": [],
   "source": []
  },
  {
   "cell_type": "code",
   "execution_count": null,
   "metadata": {},
   "outputs": [],
   "source": []
  },
  {
   "cell_type": "code",
   "execution_count": null,
   "metadata": {},
   "outputs": [],
   "source": [
    "## 1. Public Variables - Anyone can access\n",
    "\n",
    "class Student:\n",
    "    def __init__(self, name, age):\n",
    "        self.name = name    # Public - anyone can change this\n",
    "        self.age = age      # Public\n",
    "\n",
    "# Usage\n",
    "student = Student(\"Alice\", 20)"
   ]
  },
  {
   "cell_type": "code",
   "execution_count": null,
   "metadata": {},
   "outputs": [],
   "source": []
  },
  {
   "cell_type": "code",
   "execution_count": null,
   "metadata": {},
   "outputs": [],
   "source": [
    "## 1. protected Variables - only for internal use\n",
    "class Student:\n",
    "    def __init__(self, name, age):\n",
    "        self._name = name    # \n",
    "        self._age = age      #\n",
    "    def _desc(self):\n",
    "        return f\"My name is {self._name} and my age is {self._age}\"\n",
    "\n",
    "# Usage\n",
    "student = Student(\"Amit\", 20)"
   ]
  },
  {
   "cell_type": "code",
   "execution_count": 7,
   "metadata": {},
   "outputs": [
    {
     "data": {
      "text/plain": [
       "'Amit'"
      ]
     },
     "execution_count": 7,
     "metadata": {},
     "output_type": "execute_result"
    }
   ],
   "source": [
    "student._name"
   ]
  },
  {
   "cell_type": "code",
   "execution_count": 8,
   "metadata": {},
   "outputs": [
    {
     "data": {
      "text/plain": [
       "20"
      ]
     },
     "execution_count": 8,
     "metadata": {},
     "output_type": "execute_result"
    }
   ],
   "source": [
    "student._age"
   ]
  },
  {
   "cell_type": "code",
   "execution_count": 9,
   "metadata": {},
   "outputs": [
    {
     "data": {
      "text/plain": [
       "'My name is Amit and my age is 20'"
      ]
     },
     "execution_count": 9,
     "metadata": {},
     "output_type": "execute_result"
    }
   ],
   "source": [
    "student._desc()"
   ]
  },
  {
   "cell_type": "code",
   "execution_count": null,
   "metadata": {},
   "outputs": [],
   "source": []
  },
  {
   "cell_type": "code",
   "execution_count": null,
   "metadata": {},
   "outputs": [],
   "source": []
  },
  {
   "cell_type": "code",
   "execution_count": 19,
   "metadata": {},
   "outputs": [],
   "source": [
    "\n",
    "class Student:\n",
    "    def __init__(self, name, age,pswd):\n",
    "        self.__name = name    # \n",
    "        self.__age = age      #\n",
    "        self.__pswd =pswd\n",
    "        self.pswd3 =\"abc\"\n",
    "    def __desc(self):\n",
    "        return f\"My name is {self.__name} and my age is {self.__age}\"\n",
    "    \n",
    "    def __pswd(self):\n",
    "        return f\"My password is {self.__pswd} \"\n",
    "    def desc2(self):\n",
    "        return f\"My name is {self.__name} and my age is {self.__age}\"\n",
    "    \n",
    "    def pswd2(self):\n",
    "        return f\"My password is {self.__pswd} \"\n",
    "\n",
    "# Usage\n",
    "student = Student(\"Sravanti\", 20,\"abcde\")"
   ]
  },
  {
   "cell_type": "code",
   "execution_count": 14,
   "metadata": {},
   "outputs": [
    {
     "data": {
      "text/plain": [
       "'abc'"
      ]
     },
     "execution_count": 14,
     "metadata": {},
     "output_type": "execute_result"
    }
   ],
   "source": [
    "student.pswd2"
   ]
  },
  {
   "cell_type": "code",
   "execution_count": 17,
   "metadata": {},
   "outputs": [
    {
     "data": {
      "text/plain": [
       "'My name is Sravanti and my age is 20'"
      ]
     },
     "execution_count": 17,
     "metadata": {},
     "output_type": "execute_result"
    }
   ],
   "source": [
    "student.desc2()"
   ]
  },
  {
   "cell_type": "code",
   "execution_count": 20,
   "metadata": {},
   "outputs": [
    {
     "data": {
      "text/plain": [
       "'My password is abcde '"
      ]
     },
     "execution_count": 20,
     "metadata": {},
     "output_type": "execute_result"
    }
   ],
   "source": [
    "student.pswd2()"
   ]
  },
  {
   "cell_type": "code",
   "execution_count": 21,
   "metadata": {},
   "outputs": [
    {
     "ename": "AttributeError",
     "evalue": "'Student' object has no attribute '__pswd'",
     "output_type": "error",
     "traceback": [
      "\u001b[31m---------------------------------------------------------------------------\u001b[39m",
      "\u001b[31mAttributeError\u001b[39m                            Traceback (most recent call last)",
      "\u001b[36mCell\u001b[39m\u001b[36m \u001b[39m\u001b[32mIn[21]\u001b[39m\u001b[32m, line 1\u001b[39m\n\u001b[32m----> \u001b[39m\u001b[32m1\u001b[39m \u001b[43mstudent\u001b[49m\u001b[43m.\u001b[49m\u001b[43m__pswd\u001b[49m\n",
      "\u001b[31mAttributeError\u001b[39m: 'Student' object has no attribute '__pswd'"
     ]
    }
   ],
   "source": [
    "student.__pswd"
   ]
  },
  {
   "cell_type": "code",
   "execution_count": null,
   "metadata": {},
   "outputs": [],
   "source": []
  },
  {
   "cell_type": "code",
   "execution_count": null,
   "metadata": {},
   "outputs": [],
   "source": []
  },
  {
   "cell_type": "code",
   "execution_count": null,
   "metadata": {},
   "outputs": [],
   "source": []
  },
  {
   "cell_type": "code",
   "execution_count": null,
   "metadata": {},
   "outputs": [],
   "source": []
  },
  {
   "cell_type": "code",
   "execution_count": null,
   "metadata": {},
   "outputs": [],
   "source": []
  },
  {
   "cell_type": "code",
   "execution_count": null,
   "metadata": {},
   "outputs": [],
   "source": []
  },
  {
   "cell_type": "code",
   "execution_count": null,
   "metadata": {},
   "outputs": [],
   "source": []
  },
  {
   "cell_type": "code",
   "execution_count": 22,
   "metadata": {},
   "outputs": [],
   "source": [
    "## 2. Private Variables - Hidden from outside\n",
    "\n",
    "class BankAccount:\n",
    "    def __init__(self, balance):\n",
    "        self.__balance = balance  # Private - hidden with __\n",
    "    \n",
    "    def get_balance(self): # getter function\n",
    "        return self.__balance\n",
    "    \n",
    "    def deposit(self, amount): # setter\n",
    "        self.__balance += amount\n",
    "        print(f\"Deposited ${amount}. New balance: ${self.__balance}\")\n",
    "\n",
    "\n",
    "# This won't work - balance is private!\n",
    "# print(account.__balance)  # Error!"
   ]
  },
  {
   "cell_type": "code",
   "execution_count": 23,
   "metadata": {},
   "outputs": [],
   "source": [
    "a1= BankAccount(15000)"
   ]
  },
  {
   "cell_type": "code",
   "execution_count": 24,
   "metadata": {},
   "outputs": [
    {
     "ename": "AttributeError",
     "evalue": "'BankAccount' object has no attribute '__balance'",
     "output_type": "error",
     "traceback": [
      "\u001b[31m---------------------------------------------------------------------------\u001b[39m",
      "\u001b[31mAttributeError\u001b[39m                            Traceback (most recent call last)",
      "\u001b[36mCell\u001b[39m\u001b[36m \u001b[39m\u001b[32mIn[24]\u001b[39m\u001b[32m, line 1\u001b[39m\n\u001b[32m----> \u001b[39m\u001b[32m1\u001b[39m \u001b[43ma1\u001b[49m\u001b[43m.\u001b[49m\u001b[43m__balance\u001b[49m\n",
      "\u001b[31mAttributeError\u001b[39m: 'BankAccount' object has no attribute '__balance'"
     ]
    }
   ],
   "source": [
    "a1.__balance"
   ]
  },
  {
   "cell_type": "code",
   "execution_count": 25,
   "metadata": {},
   "outputs": [
    {
     "data": {
      "text/plain": [
       "15000"
      ]
     },
     "execution_count": 25,
     "metadata": {},
     "output_type": "execute_result"
    }
   ],
   "source": [
    "a1.get_balance()"
   ]
  },
  {
   "cell_type": "code",
   "execution_count": 26,
   "metadata": {},
   "outputs": [
    {
     "name": "stdout",
     "output_type": "stream",
     "text": [
      "Deposited $12000. New balance: $27000\n"
     ]
    }
   ],
   "source": [
    "a1.deposit(12000)"
   ]
  },
  {
   "cell_type": "code",
   "execution_count": 27,
   "metadata": {},
   "outputs": [
    {
     "data": {
      "text/plain": [
       "27000"
      ]
     },
     "execution_count": 27,
     "metadata": {},
     "output_type": "execute_result"
    }
   ],
   "source": [
    "a1.get_balance()"
   ]
  },
  {
   "cell_type": "code",
   "execution_count": null,
   "metadata": {},
   "outputs": [],
   "source": []
  },
  {
   "cell_type": "markdown",
   "metadata": {},
   "source": [
    "## Why Private Variables Matter\n",
    "\n",
    "**Without encapsulation** - Anyone can break your code:"
   ]
  },
  {
   "cell_type": "code",
   "execution_count": null,
   "metadata": {},
   "outputs": [],
   "source": [
    "# BAD - No protection\n",
    "class BadBankAccount:\n",
    "    def __init__(self, balance):\n",
    "        self.balance = balance  # Public - dangerous!\n",
    "\n",
    "bad_account = BadBankAccount(100)\n",
    "print(f\"Original balance: ${bad_account.balance}\")\n",
    "\n",
    "# Anyone can do this - very bad!\n",
    "bad_account.balance = -1000  # Negative balance!\n",
    "bad_account.balance = 999999  # Unlimited money!\n",
    "print(f\"Hacked balance: ${bad_account.balance}\")"
   ]
  },
  {
   "cell_type": "code",
   "execution_count": null,
   "metadata": {},
   "outputs": [],
   "source": [
    "# GOOD - With protection\n",
    "class GoodBankAccount:\n",
    "    def __init__(self, balance):\n",
    "        self.__balance = balance  # Private - safe!\n",
    "    \n",
    "    def get_balance(self):\n",
    "        return self.__balance\n",
    "    \n",
    "    def deposit(self, amount):\n",
    "        if amount > 0:  # Simple validation\n",
    "            self.__balance += amount\n",
    "            print(f\"Deposited ${amount}\")\n",
    "        else:\n",
    "            print(\"Cannot deposit negative amount\")\n",
    "    \n",
    "    def withdraw(self, amount):\n",
    "        if amount > 0 and amount <= self.__balance:\n",
    "            self.__balance -= amount\n",
    "            print(f\"Withdrew ${amount}\")\n",
    "        else:\n",
    "            print(\"Cannot withdraw - insufficient funds or invalid amount\")\n",
    "\n",
    "# Usage\n",
    "good_account = GoodBankAccount(100)\n",
    "good_account.deposit(50)\n",
    "good_account.withdraw(30)\n",
    "good_account.withdraw(200)  # This will fail safely\n",
    "print(f\"Final balance: ${good_account.get_balance()}\")"
   ]
  },
  {
   "cell_type": "markdown",
   "metadata": {},
   "source": [
    "## Using @property - The Pythonic Way\n",
    "\n",
    "Instead of get/set methods, Python uses `@property` to make it look like normal variables:"
   ]
  },
  {
   "cell_type": "code",
   "execution_count": 43,
   "metadata": {},
   "outputs": [],
   "source": [
    "class Person:\n",
    "    def __init__(self, name, age):\n",
    "        self.__name = name\n",
    "        self.__age = age\n",
    "        \n",
    "        \n",
    "        \n",
    "        \n",
    "        \n",
    "    @property\n",
    "    def name(self):  # Getter\n",
    "        return self.__name\n",
    "    \n",
    "    \n",
    "    \n",
    "    @name.setter\n",
    "    def name(self, new_name):  # Setter\n",
    "        if new_name:  # Simple check\n",
    "            self.__name = new_name\n",
    "        else:\n",
    "            print(\"Name cannot be empty\")\n",
    "            \n",
    "            \n",
    "    \n",
    "    @property\n",
    "    def age(self):\n",
    "        return self.__age\n",
    "    \n",
    "    \n",
    "    \n",
    "    \n",
    "    @age.setter\n",
    "    def age(self, new_age):\n",
    "        if 0 <= new_age <= 120:  # Simple validation\n",
    "            self.__age = new_age\n",
    "        else:\n",
    "            print(\"Age must be between 0 and 120\")\n",
    "\n",
    "    \n",
    "    \n"
   ]
  },
  {
   "cell_type": "code",
   "execution_count": 44,
   "metadata": {},
   "outputs": [],
   "source": [
    "a1= Person(\"Rohit\", 23)"
   ]
  },
  {
   "cell_type": "code",
   "execution_count": 45,
   "metadata": {},
   "outputs": [
    {
     "data": {
      "text/plain": [
       "23"
      ]
     },
     "execution_count": 45,
     "metadata": {},
     "output_type": "execute_result"
    }
   ],
   "source": [
    "a1.age"
   ]
  },
  {
   "cell_type": "code",
   "execution_count": 46,
   "metadata": {},
   "outputs": [],
   "source": [
    "a1.age =54"
   ]
  },
  {
   "cell_type": "code",
   "execution_count": 47,
   "metadata": {},
   "outputs": [
    {
     "data": {
      "text/plain": [
       "54"
      ]
     },
     "execution_count": 47,
     "metadata": {},
     "output_type": "execute_result"
    }
   ],
   "source": [
    "a1.age"
   ]
  },
  {
   "cell_type": "code",
   "execution_count": 48,
   "metadata": {},
   "outputs": [],
   "source": [
    "a1.name =\"Ritesh\""
   ]
  },
  {
   "cell_type": "code",
   "execution_count": 49,
   "metadata": {},
   "outputs": [
    {
     "data": {
      "text/plain": [
       "'Ritesh'"
      ]
     },
     "execution_count": 49,
     "metadata": {},
     "output_type": "execute_result"
    }
   ],
   "source": [
    "a1.name"
   ]
  },
  {
   "cell_type": "code",
   "execution_count": null,
   "metadata": {},
   "outputs": [],
   "source": []
  },
  {
   "cell_type": "code",
   "execution_count": null,
   "metadata": {},
   "outputs": [],
   "source": []
  },
  {
   "cell_type": "code",
   "execution_count": null,
   "metadata": {},
   "outputs": [],
   "source": []
  },
  {
   "cell_type": "code",
   "execution_count": null,
   "metadata": {},
   "outputs": [],
   "source": []
  },
  {
   "cell_type": "markdown",
   "metadata": {},
   "source": [
    "## Simple Real Example - Car Class"
   ]
  },
  {
   "cell_type": "code",
   "execution_count": null,
   "metadata": {},
   "outputs": [],
   "source": [
    "class Car:\n",
    "    def __init__(self, brand, fuel=100):\n",
    "        self.__brand = brand\n",
    "        self.__fuel = fuel\n",
    "        self.__is_running = False\n",
    "    \n",
    "    @property\n",
    "    def brand(self):\n",
    "        return self.__brand\n",
    "    \n",
    "    @property\n",
    "    def fuel(self):\n",
    "        return self.__fuel\n",
    "    \n",
    "    @property\n",
    "    def is_running(self):\n",
    "        return self.__is_running\n",
    "    \n",
    "    def start(self):\n",
    "        if self.__fuel > 0:\n",
    "            self.__is_running = True\n",
    "            print(f\"{self.__brand} started!\")\n",
    "        else:\n",
    "            print(\"No fuel - cannot start\")\n",
    "    \n",
    "    def stop(self):\n",
    "        self.__is_running = False\n",
    "        print(f\"{self.__brand} stopped\")\n",
    "    \n",
    "    def drive(self, distance):\n",
    "        if not self.__is_running:\n",
    "            print(\"Start the car first!\")\n",
    "            return\n",
    "        \n",
    "        fuel_needed = distance * 0.1  # 0.1 fuel per km\n",
    "        if fuel_needed <= self.__fuel:\n",
    "            self.__fuel -= fuel_needed\n",
    "            print(f\"Drove {distance}km. Fuel left: {self.__fuel:.1f}\")\n",
    "        else:\n",
    "            print(\"Not enough fuel!\")\n",
    "    \n",
    "    def refuel(self, amount):\n",
    "        self.__fuel += amount\n",
    "        print(f\"Refueled {amount}L. Total fuel: {self.__fuel}\")\n",
    "\n",
    "# Usage\n",
    "my_car = Car(\"Toyota\")\n",
    "print(f\"Brand: {my_car.brand}\")\n",
    "print(f\"Fuel: {my_car.fuel}\")\n",
    "\n",
    "my_car.start()\n",
    "my_car.drive(50)\n",
    "my_car.drive(500)\n",
    "my_car.refuel(20)\n",
    "my_car.drive(100)\n",
    "my_car.stop()"
   ]
  },
  {
   "cell_type": "markdown",
   "metadata": {},
   "source": [
    "## Practice Exercise\n",
    "\n",
    "Create a simple `Phone` class with:\n",
    "- Private attributes: `battery_level`, `is_on`\n",
    "- Methods: `turn_on()`, `turn_off()`, `use_phone(minutes)`\n",
    "- Properties: `battery_level` (read-only), `is_on` (read-only)\n",
    "- Using phone drains battery (1% per minute)\n",
    "- Can't use phone when battery is 0 or phone is off"
   ]
  },
  {
   "cell_type": "code",
   "execution_count": null,
   "metadata": {},
   "outputs": [],
   "source": [
    "# Your solution here:\n",
    "class Phone:\n",
    "    def __init__(self):\n",
    "        # Add your code here\n",
    "        pass\n",
    "    \n",
    "    # Add your methods here\n",
    "    \n",
    "# Test your code:\n",
    "# phone = Phone()\n",
    "# phone.turn_on()\n",
    "# phone.use_phone(10)\n",
    "# print(f\"Battery: {phone.battery_level}%\")"
   ]
  },
  {
   "cell_type": "markdown",
   "metadata": {},
   "source": [
    "## Key Points to Remember\n",
    "\n",
    "1. **Use `__` for private** data you want to protect\n",
    "2. **Use `@property`** instead of get/set methods\n",
    "3. **Keep validation simple** - just check if values make sense\n",
    "4. **Provide methods** for users to interact with your class safely\n",
    "5. **Hide complexity** - users shouldn't worry about internal details\n",
    "\n",
    "**Remember**: Encapsulation is like building a remote control - users press buttons (methods) but don't need to know how the TV works inside!"
   ]
  }
 ],
 "metadata": {
  "kernelspec": {
   "display_name": "base",
   "language": "python",
   "name": "python3"
  },
  "language_info": {
   "codemirror_mode": {
    "name": "ipython",
    "version": 3
   },
   "file_extension": ".py",
   "mimetype": "text/x-python",
   "name": "python",
   "nbconvert_exporter": "python",
   "pygments_lexer": "ipython3",
   "version": "3.12.9"
  }
 },
 "nbformat": 4,
 "nbformat_minor": 4
}
