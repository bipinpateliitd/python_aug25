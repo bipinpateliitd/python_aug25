{
 "cells": [
  {
   "cell_type": "code",
   "execution_count": 1,
   "id": "86bc7e8a",
   "metadata": {},
   "outputs": [
    {
     "name": "stdout",
     "output_type": "stream",
     "text": [
      "I am the Parent class\n",
      "I am the Child class\n"
     ]
    }
   ],
   "source": [
    "class Parent:\n",
    "    def display(self):\n",
    "        print(\"I am the Parent class\")\n",
    "\n",
    "class Child(Parent):  # Inheriting from Parent\n",
    "    def show(self):\n",
    "        print(\"I am the Child class\")\n",
    "\n",
    "obj = Child()\n",
    "obj.display()  # Inherited from Parent\n",
    "obj.show()     # Child’s own method\n"
   ]
  },
  {
   "cell_type": "code",
   "execution_count": 2,
   "id": "00085440",
   "metadata": {},
   "outputs": [
    {
     "name": "stdout",
     "output_type": "stream",
     "text": [
      "Feature 1 from Grandparent\n",
      "Feature 2 from Parent\n",
      "Feature 3 from Child\n"
     ]
    }
   ],
   "source": [
    "class Grandparent:\n",
    "    def feature1(self):\n",
    "        print(\"Feature 1 from Grandparent\")\n",
    "\n",
    "class Parent(Grandparent):\n",
    "    def feature2(self):\n",
    "        print(\"Feature 2 from Parent\")\n",
    "\n",
    "class Child(Parent):\n",
    "    def feature3(self):\n",
    "        print(\"Feature 3 from Child\")\n",
    "\n",
    "obj = Child()\n",
    "obj.feature1()  # Inherited from Grandparent\n",
    "obj.feature2()  # Inherited from Parent\n",
    "obj.feature3()  # Own method\n"
   ]
  },
  {
   "cell_type": "code",
   "execution_count": 3,
   "id": "2d96c2ac",
   "metadata": {},
   "outputs": [
    {
     "name": "stdout",
     "output_type": "stream",
     "text": [
      "Father’s skill: Driving\n"
     ]
    }
   ],
   "source": [
    "class Father:\n",
    "    def skill(self):\n",
    "        print(\"Father’s skill: Driving\")\n",
    "\n",
    "class Mother:\n",
    "    def skill(self):\n",
    "        print(\"Mother’s skill: Cooking\")\n",
    "\n",
    "class Child(Father, Mother):  # Multiple inheritance\n",
    "    pass\n",
    "\n",
    "obj = Child()\n",
    "obj.skill()  # Output depends on method resolution order (MRO)\n"
   ]
  },
  {
   "cell_type": "code",
   "execution_count": null,
   "id": "6b748d08",
   "metadata": {},
   "outputs": [],
   "source": [
    "#What is super()?\n",
    "\n",
    "#super() is a built-in Python function that gives you access to methods and attributes of a parent (or sibling in MRO) class.\n",
    "\n",
    "#It is mostly used inside a child class to call methods from the parent class, especially constructors (__init__) or overridden methods."
   ]
  },
  {
   "cell_type": "code",
   "execution_count": null,
   "id": "97cd3d64",
   "metadata": {},
   "outputs": [],
   "source": []
  },
  {
   "cell_type": "code",
   "execution_count": null,
   "id": "5edcab07",
   "metadata": {},
   "outputs": [],
   "source": [
    "#Why do we need super()?\n",
    "\n",
    "#Imagine you inherit from a parent class and want to keep the parent’s behavior while adding new behavior in the child.\n",
    "\n",
    "#👉 Without super():\n",
    "\n",
    "#If you re-define a method in the child, the parent’s version will be ignored unless you manually call it.\n",
    "\n",
    "#If you use multiple inheritance, manually calling ParentClass.method() becomes messy because Python needs to follow the Method Resolution Order (MRO).\n",
    "\n",
    "#👉 With super():\n",
    "\n",
    "#It makes sure the MRO chain is respected.\n",
    "\n",
    "#You can easily extend parent behavior instead of completely replacing it.\n",
    "\n",
    "#It avoids hardcoding the parent class name → more flexible and easier to maintain."
   ]
  },
  {
   "cell_type": "code",
   "execution_count": 4,
   "id": "9d31d1cc",
   "metadata": {},
   "outputs": [
    {
     "name": "stdout",
     "output_type": "stream",
     "text": [
      "Parent constructor called\n",
      "Child constructor called\n"
     ]
    }
   ],
   "source": [
    "\n",
    "class Parent:\n",
    "    def __init__(self, name):\n",
    "        self.name = name\n",
    "        print(\"Parent constructor called\")\n",
    "\n",
    "class Child(Parent):\n",
    "    def __init__(self, name, age):\n",
    "        Parent.__init__(self, name)  # Explicit call\n",
    "        self.age = age\n",
    "        print(\"Child constructor called\")\n",
    "\n",
    "obj = Child(\"Bipin\", 30)\n",
    "\n"
   ]
  },
  {
   "cell_type": "code",
   "execution_count": null,
   "id": "d583501e",
   "metadata": {},
   "outputs": [],
   "source": [
    "class Parent:\n",
    "    def __init__(self, name):\n",
    "        self.name = name\n",
    "        print(\"Parent constructor called\")\n",
    "\n",
    "class Child(Parent):\n",
    "    def __init__(self, name, age):\n",
    "        super().__init__(name)  # Calls Parent’s __init__ dynamically\n",
    "        self.age = age\n",
    "        print(\"Child constructor called\")\n",
    "\n",
    "obj = Child(\"Bipin\", 30)\n"
   ]
  },
  {
   "cell_type": "code",
   "execution_count": 5,
   "id": "96380a0d",
   "metadata": {},
   "outputs": [
    {
     "name": "stdout",
     "output_type": "stream",
     "text": [
      "Hello from Parent\n",
      "Hello from Child\n"
     ]
    }
   ],
   "source": [
    "class Parent:\n",
    "    def greet(self):\n",
    "        print(\"Hello from Parent\")\n",
    "\n",
    "class Child(Parent):\n",
    "    def greet(self):\n",
    "        super().greet()  # Call Parent’s greet first\n",
    "        print(\"Hello from Child\")\n",
    "\n",
    "obj = Child()\n",
    "obj.greet()\n"
   ]
  },
  {
   "cell_type": "code",
   "execution_count": 6,
   "id": "3be64bd3",
   "metadata": {},
   "outputs": [
    {
     "name": "stdout",
     "output_type": "stream",
     "text": [
      "Name: Ravi, Marks: 85\n"
     ]
    }
   ],
   "source": [
    "class Student:\n",
    "    def __init__(self, name, marks):\n",
    "        self._name = name        # protected\n",
    "        self._marks = marks      # protected\n",
    "    \n",
    "    def display(self):\n",
    "        print(f\"Name: {self._name}, Marks: {self._marks}\")\n",
    "\n",
    "s1 = Student(\"Ravi\", 85)\n",
    "s1.display()\n",
    "\n",
    "\n"
   ]
  },
  {
   "cell_type": "code",
   "execution_count": 7,
   "id": "a33f0210",
   "metadata": {},
   "outputs": [
    {
     "name": "stdout",
     "output_type": "stream",
     "text": [
      "Ravi\n",
      "85\n"
     ]
    }
   ],
   "source": [
    "# Accessing protected variables (possible, but not recommended)\n",
    "print(s1._name)    # Ravi\n",
    "print(s1._marks)   # 85"
   ]
  },
  {
   "cell_type": "code",
   "execution_count": 10,
   "id": "e774dafa",
   "metadata": {},
   "outputs": [
    {
     "name": "stdout",
     "output_type": "stream",
     "text": [
      "Name: Ravi, Salary: 50000\n"
     ]
    }
   ],
   "source": [
    "class Employee:\n",
    "    def __init__(self, name, salary):\n",
    "        self.name = name\n",
    "        self.__salary = salary   # private\n",
    "    \n",
    "    def show(self):\n",
    "        print(f\"Name: {self.name}, Salary: {self.__salary}\")\n",
    "\n",
    "e1 = Employee(\"Ravi\", 50000)\n",
    "e1.show()\n",
    "\n",
    "\n"
   ]
  },
  {
   "cell_type": "code",
   "execution_count": 11,
   "id": "e2eb0ee5",
   "metadata": {},
   "outputs": [
    {
     "name": "stdout",
     "output_type": "stream",
     "text": [
      "50000\n"
     ]
    }
   ],
   "source": [
    "# Direct access → ❌ Error\n",
    "# print(e1.__salary)   # AttributeError\n",
    "\n",
    "# Name-mangled access → ✅ Possible but not recommended\n",
    "print(e1._Employee__salary)   # 50000"
   ]
  },
  {
   "cell_type": "code",
   "execution_count": 21,
   "id": "8c7fee39",
   "metadata": {},
   "outputs": [],
   "source": [
    "class Vector:\n",
    "    def __init__(self, x, y):\n",
    "        self.x, self.y = x, y\n",
    "    \n",
    "    def __add__(self, other):\n",
    "        return Vector(self.x + other.x, self.y + other.y)   # <--\n",
    "    \n",
    "    def __str__(self):\n",
    "        return f\"[{self.x}, {self.y}]\"\n",
    "\n",
    "v1 = Vector(2, 3)\n",
    "v2 = Vector(5, 7)\n"
   ]
  },
  {
   "cell_type": "code",
   "execution_count": 22,
   "id": "ce63e18d",
   "metadata": {},
   "outputs": [
    {
     "data": {
      "text/plain": [
       "<__main__.Vector at 0x7f899cbaf650>"
      ]
     },
     "execution_count": 22,
     "metadata": {},
     "output_type": "execute_result"
    }
   ],
   "source": [
    "v1"
   ]
  },
  {
   "cell_type": "code",
   "execution_count": 17,
   "id": "6c30b53f",
   "metadata": {},
   "outputs": [
    {
     "data": {
      "text/plain": [
       "2"
      ]
     },
     "execution_count": 17,
     "metadata": {},
     "output_type": "execute_result"
    }
   ],
   "source": [
    "v1.x"
   ]
  },
  {
   "cell_type": "code",
   "execution_count": 23,
   "id": "b24b0f3f",
   "metadata": {},
   "outputs": [
    {
     "name": "stdout",
     "output_type": "stream",
     "text": [
      "[7, 10]\n"
     ]
    }
   ],
   "source": [
    "print(v1 + v2)   # (7, 10)\n"
   ]
  },
  {
   "cell_type": "code",
   "execution_count": 24,
   "id": "53b2aaa2",
   "metadata": {},
   "outputs": [
    {
     "data": {
      "text/plain": [
       "__main__.Vector"
      ]
     },
     "execution_count": 24,
     "metadata": {},
     "output_type": "execute_result"
    }
   ],
   "source": [
    "type(v1+v2)"
   ]
  },
  {
   "cell_type": "code",
   "execution_count": 26,
   "id": "cd00e4cc",
   "metadata": {},
   "outputs": [],
   "source": [
    "from abc import ABC, abstractmethod\n",
    "\n",
    "class Vehicle(ABC):   # Abstract class\n",
    "    @abstractmethod\n",
    "    def start(self):\n",
    "        pass   # no implementation\n",
    "    \n",
    "    @abstractmethod\n",
    "    def stop(self):\n",
    "        pass\n",
    "\n",
    "class Car(Vehicle):   # Concrete class\n",
    "    def start(self):\n",
    "        print(\"Car started with key\")\n",
    "    \n",
    "    def stop(self):\n",
    "        print(\"Car stopped with brake\")\n",
    "\n",
    "class Bike(Vehicle):  # Concrete class\n",
    "    def start(self):\n",
    "        print(\"Bike started with kick\")\n",
    "    \n",
    "    def stop(self):\n",
    "        print(\"Bike stopped with hand brake\")\n",
    "\n",
    "\n"
   ]
  },
  {
   "cell_type": "code",
   "execution_count": 27,
   "id": "0e46d69c",
   "metadata": {},
   "outputs": [
    {
     "name": "stdout",
     "output_type": "stream",
     "text": [
      "Car started with key\n",
      "Car stopped with brake\n"
     ]
    }
   ],
   "source": [
    "c = Car()\n",
    "c.start()   # Car started with key\n",
    "c.stop()    # Car stopped with brake"
   ]
  },
  {
   "cell_type": "code",
   "execution_count": null,
   "id": "96c291f4",
   "metadata": {},
   "outputs": [],
   "source": []
  }
 ],
 "metadata": {
  "kernelspec": {
   "display_name": "base",
   "language": "python",
   "name": "python3"
  },
  "language_info": {
   "codemirror_mode": {
    "name": "ipython",
    "version": 3
   },
   "file_extension": ".py",
   "mimetype": "text/x-python",
   "name": "python",
   "nbconvert_exporter": "python",
   "pygments_lexer": "ipython3",
   "version": "3.12.9"
  }
 },
 "nbformat": 4,
 "nbformat_minor": 5
}
