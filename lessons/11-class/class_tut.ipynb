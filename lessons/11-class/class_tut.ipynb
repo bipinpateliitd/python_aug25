{
 "cells": [
  {
   "cell_type": "code",
   "execution_count": null,
   "id": "3460687c",
   "metadata": {},
   "outputs": [],
   "source": [
    "#A class is a blueprint or template for creating objects in programming. Think of it as a cookie cutter - it defines the shape and structure, but you can use it to create many individual cookies (objects).\n",
    "#Simple Analogy\n",
    "#Imagine you're designing cars:\n",
    "\n",
    "#Class = Car blueprint (defines what a car should have: engine, wheels, color, etc.)\n",
    "#Object = Actual car (a specific car like \"red Toyota with license plate ABC123\")"
   ]
  },
  {
   "cell_type": "code",
   "execution_count": null,
   "id": "0e767189",
   "metadata": {},
   "outputs": [],
   "source": [
    "class ClassName:\n",
    "    # Class body - attributes and methods go here\n",
    "    pass"
   ]
  },
  {
   "cell_type": "code",
   "execution_count": null,
   "id": "1aa62925",
   "metadata": {},
   "outputs": [],
   "source": [
    "# This is a class - a blueprint for dogs\n",
    "class Dog:\n",
    "    # This defines what every dog should have\n",
    "    def __init__(self, name, breed):\n",
    "        self.name = name      # Each dog has a name\n",
    "        self.breed = breed    # Each dog has a breed\n",
    "    \n",
    "    # This defines what every dog can do\n",
    "    def bark(self):\n",
    "        return f\"{self.name} says Woof!\"\n",
    "    \n",
    "    def sit(self):\n",
    "        return f\"{self.name} is sitting\"\n",
    "\n",
    "# Creating actual dogs (objects) from the class\n",
    "my_dog = Dog(\"Buddy\", \"Golden Retriever\")\n",
    "your_dog = Dog(\"Max\", \"Labrador\")\n",
    "\n",
    "# Using the dogs\n",
    "print(my_dog.bark())    # \"Buddy says Woof!\"\n",
    "print(your_dog.sit())   # \"Max is sitting\""
   ]
  },
  {
   "cell_type": "code",
   "execution_count": null,
   "id": "33c0fcac",
   "metadata": {},
   "outputs": [],
   "source": []
  },
  {
   "cell_type": "code",
   "execution_count": null,
   "id": "ac19fd75",
   "metadata": {},
   "outputs": [],
   "source": [
    "#What is an Object?\n",
    "#An object is a specific instance created from a class. If a class is the blueprint, an object is the actual \"thing\" built from that blueprint.\n",
    "#Simple Formula:\n",
    "#Class + Data = Object"
   ]
  },
  {
   "cell_type": "code",
   "execution_count": null,
   "id": "4a7ff1da",
   "metadata": {},
   "outputs": [],
   "source": [
    "# Class (blueprint)\n",
    "class Dog:\n",
    "    def __init__(self, name, breed):\n",
    "        self.name = name\n",
    "        self.breed = breed\n",
    "    \n",
    "    def bark(self):\n",
    "        return f\"{self.name} says Woof!\"\n",
    "\n",
    "# Objects (actual dogs created from the blueprint)\n",
    "dog1 = Dog(\"Buddy\", \"Golden Retriever\")  # This is an OBJECT\n",
    "dog2 = Dog(\"Max\", \"Labrador\")            # This is another OBJECT\n",
    "\n",
    "print(dog1.name)    # \"Buddy\"\n",
    "print(dog2.name)    # \"Max\"\n",
    "print(dog1.bark())  # \"Buddy says Woof!\""
   ]
  },
  {
   "cell_type": "code",
   "execution_count": null,
   "id": "203ba01d",
   "metadata": {},
   "outputs": [],
   "source": [
    "#What is an Instance?\n",
    "#An instance is just another word for object. They mean exactly the same thing!\n",
    "#Simple Truth:\n",
    "#Instance = Object = A specific thing created from a class"
   ]
  },
  {
   "cell_type": "code",
   "execution_count": null,
   "id": "024cd430",
   "metadata": {},
   "outputs": [],
   "source": [
    "class Dog:\n",
    "    def __init__(self, name):\n",
    "        self.name = name\n",
    "\n",
    "# Creating instances/objects (same thing!)\n",
    "my_dog = Dog(\"Buddy\")     # my_dog is an INSTANCE of Dog class\n",
    "your_dog = Dog(\"Max\")     # your_dog is an INSTANCE of Dog class\n",
    "\n",
    "# Both of these statements mean the same thing:\n",
    "print(type(my_dog))       # <class '__main__.Dog'>\n",
    "print(isinstance(my_dog, Dog))  # True - \"Is my_dog an instance of Dog?\""
   ]
  },
  {
   "cell_type": "code",
   "execution_count": null,
   "id": "d0b45240",
   "metadata": {},
   "outputs": [],
   "source": []
  },
  {
   "cell_type": "code",
   "execution_count": null,
   "id": "64108b38",
   "metadata": {},
   "outputs": [],
   "source": [
    "class Person:\n",
    "    def __init__(self, name, age):\n",
    "        self.name = name    # Instance attribute\n",
    "        self.age = age      # Instance attribute\n",
    "\n",
    "person = Person(\"Alice\", 25)\n",
    "print(person.name)  # \"Alice\"\n",
    "print(person.age)   # 25"
   ]
  },
  {
   "cell_type": "code",
   "execution_count": null,
   "id": "dbbf68b5",
   "metadata": {},
   "outputs": [],
   "source": [
    "class Person:\n",
    "    def __init__(self, name, age):\n",
    "        self.name = name\n",
    "        self.age = age\n",
    "    \n",
    "    def greet(self):                    # Instance method\n",
    "        return f\"Hi, I'm {self.name}\"\n",
    "    \n",
    "    def have_birthday(self):            # Another method\n",
    "        self.age += 1\n",
    "        return f\"Happy birthday! Now {self.age}\"\n",
    "\n",
    "person = Person(\"Alice\", 25)\n",
    "print(person.greet())           # \"Hi, I'm Alice\"\n",
    "print(person.have_birthday())   # \"Happy birthday! Now 26\""
   ]
  },
  {
   "cell_type": "code",
   "execution_count": null,
   "id": "00ce8b93",
   "metadata": {},
   "outputs": [],
   "source": [
    "class Car:\n",
    "    def __init__(self, make, model, year):\n",
    "        # This runs automatically when you create a car\n",
    "        self.make = make\n",
    "        self.model = model\n",
    "        self.year = year\n",
    "        self.is_running = False\n",
    "        print(f\"Created a {year} {make} {model}\")\n",
    "\n",
    "# When you do this...\n",
    "car = Car(\"Toyota\", \"Camry\", 2023)\n",
    "# It automatically calls __init__ and prints: \"Created a 2023 Toyota Camry\""
   ]
  }
 ],
 "metadata": {
  "language_info": {
   "name": "python"
  }
 },
 "nbformat": 4,
 "nbformat_minor": 5
}
