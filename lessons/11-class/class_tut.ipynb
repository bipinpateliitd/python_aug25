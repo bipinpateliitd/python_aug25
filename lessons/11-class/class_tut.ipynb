{
 "cells": [
  {
   "cell_type": "code",
   "execution_count": null,
   "id": "3460687c",
   "metadata": {},
   "outputs": [],
   "source": []
  },
  {
   "cell_type": "code",
   "execution_count": null,
   "id": "203ba01d",
   "metadata": {},
   "outputs": [],
   "source": [
    "#What is an Instance?\n",
    "#An instance is just another word for object. They mean exactly the same thing!\n",
    "#Simple Truth:\n",
    "#Instance = Object = A specific thing created from a class"
   ]
  },
  {
   "cell_type": "code",
   "execution_count": null,
   "id": "024cd430",
   "metadata": {},
   "outputs": [],
   "source": [
    "class Dog:\n",
    "    def __init__(self, name):\n",
    "        self.name = name\n",
    "\n",
    "# Creating instances/objects (same thing!)\n",
    "my_dog = Dog(\"Buddy\")     # my_dog is an INSTANCE of Dog class\n",
    "your_dog = Dog(\"Max\")     # your_dog is an INSTANCE of Dog class\n",
    "\n",
    "# Both of these statements mean the same thing:\n",
    "print(type(my_dog))       # <class '__main__.Dog'>\n",
    "print(isinstance(my_dog, Dog))  # True - \"Is my_dog an instance of Dog?\""
   ]
  },
  {
   "cell_type": "code",
   "execution_count": null,
   "id": "d0b45240",
   "metadata": {},
   "outputs": [],
   "source": []
  }
 ],
 "metadata": {
  "language_info": {
   "name": "python"
  }
 },
 "nbformat": 4,
 "nbformat_minor": 5
}
