{
 "cells": [
  {
   "cell_type": "code",
   "execution_count": null,
   "id": "e686c3e3",
   "metadata": {},
   "outputs": [],
   "source": [
    "# public\n",
    "class Car:\n",
    "    def __init__(self, brand, model):\n",
    "        self.brand = brand        # Public variable\n",
    "        self.model = model        # Public variable\n",
    "\n",
    "    def start(self):              # Public method\n",
    "        print(f\"{self.brand} {self.model} is starting...\")\n",
    "\n",
    "# Usage\n",
    "c = Car(\"Tata\", \"Harrier\")\n",
    "print(c.brand)    # ✅ Accessible outside (Tata)\n",
    "c.start()         # ✅ Tata Harrier is starting...\n"
   ]
  },
  {
   "cell_type": "code",
   "execution_count": null,
   "id": "8e1d3cea",
   "metadata": {},
   "outputs": [],
   "source": []
  },
  {
   "cell_type": "code",
   "execution_count": null,
   "id": "2ade68fe",
   "metadata": {},
   "outputs": [],
   "source": [
    "#protected\n",
    "class Vehicle:\n",
    "    def __init__(self, speed):\n",
    "        self._speed = speed   # Protected variable\n",
    "\n",
    "    def _show_speed(self):    # Protected method\n",
    "        print(f\"Speed: {self._speed} km/h\")\n",
    "\n",
    "class Bike(Vehicle):   # Subclass\n",
    "    def display(self):\n",
    "        print(\"Bike details:\")\n",
    "        self._show_speed()   # ✅ Allowed in subclass\n",
    "\n",
    "# Usage\n",
    "b = Bike(80)\n",
    "b.display()         # ✅ Bike details: Speed: 80 km/h\n",
    "print(b._speed)     # ⚠️ Possible, but not recommended (protected)\n"
   ]
  },
  {
   "cell_type": "code",
   "execution_count": null,
   "id": "778b28f1",
   "metadata": {},
   "outputs": [],
   "source": []
  },
  {
   "cell_type": "code",
   "execution_count": 3,
   "id": "1e5f50ec",
   "metadata": {},
   "outputs": [
    {
     "name": "stdout",
     "output_type": "stream",
     "text": [
      "Balance: ₹5000\n",
      "5000\n"
     ]
    }
   ],
   "source": [
    "class BankAccount:\n",
    "    def __init__(self, balance):\n",
    "        self.__balance = balance   # Private variable\n",
    "\n",
    "    def __show_balance(self):      # Private method\n",
    "        print(f\"Balance: ₹{self.__balance}\")\n",
    "\n",
    "    def access_balance(self):      # Public method\n",
    "        self.__show_balance()      # ✅ Allowed inside class\n",
    "\n",
    "# Usage\n",
    "acc = BankAccount(5000)\n",
    "acc.access_balance()      # ✅ Balance: ₹5000\n",
    "# acc.__balance           # ❌ AttributeError\n",
    "# acc.__show_balance()    # ❌ AttributeError\n",
    "\n",
    "# Trick (not recommended, but possible due to name mangling)\n",
    "print(acc._BankAccount__balance)   # ✅ 5000\n"
   ]
  },
  {
   "cell_type": "code",
   "execution_count": null,
   "id": "9c729fb5",
   "metadata": {},
   "outputs": [],
   "source": []
  },
  {
   "cell_type": "code",
   "execution_count": 4,
   "id": "5dfdab5c",
   "metadata": {},
   "outputs": [
    {
     "name": "stdout",
     "output_type": "stream",
     "text": [
      "Bipin\n",
      "A\n",
      "Name: Bipin, Grade: A\n",
      "Password: secret123\n"
     ]
    }
   ],
   "source": [
    "class Student:\n",
    "    def __init__(self, name, grade, password):\n",
    "        self.name = name              # Public\n",
    "        self._grade = grade           # Protected\n",
    "        self.__password = password    # Private\n",
    "\n",
    "    def show_details(self):           # Public method\n",
    "        print(f\"Name: {self.name}, Grade: {self._grade}\")\n",
    "\n",
    "    def __show_password(self):        # Private method\n",
    "        print(f\"Password: {self.__password}\")\n",
    "\n",
    "    def access_password(self):        # Public method calling private\n",
    "        self.__show_password()\n",
    "\n",
    "# Usage\n",
    "s = Student(\"Bipin\", \"A\", \"secret123\")\n",
    "\n",
    "print(s.name)        # ✅ Public → Bipin\n",
    "print(s._grade)      # ⚠️ Protected → A (can access, but not recommended)\n",
    "# print(s.__password) # ❌ Private → Error\n",
    "\n",
    "s.show_details()     # ✅ Public method\n",
    "s.access_password()  # ✅ Calls private method internally\n"
   ]
  },
  {
   "cell_type": "code",
   "execution_count": null,
   "id": "20fe1fd9",
   "metadata": {},
   "outputs": [],
   "source": []
  },
  {
   "cell_type": "code",
   "execution_count": null,
   "id": "7787e83f",
   "metadata": {},
   "outputs": [],
   "source": []
  },
  {
   "cell_type": "code",
   "execution_count": null,
   "id": "6a7e3671",
   "metadata": {},
   "outputs": [],
   "source": [
    "class Student:\n",
    "    def __init__(self, name):\n",
    "        self.__name = name   # private variable\n",
    "\n",
    "    # Getter\n",
    "    def get_name(self):\n",
    "        return self.__name\n",
    "\n",
    "    # Setter\n",
    "    def set_name(self, new_name):\n",
    "        self.__name = new_name   # directly assign\n",
    "\n",
    "# Usage\n",
    "s = Student(\"Bipin\")\n",
    "print(s.get_name())   # Bipin\n",
    "s.set_name(\"Deepak\")  # updates\n",
    "print(s.get_name())   # Deepak\n"
   ]
  },
  {
   "cell_type": "code",
   "execution_count": null,
   "id": "d0610468",
   "metadata": {},
   "outputs": [],
   "source": []
  },
  {
   "cell_type": "code",
   "execution_count": null,
   "id": "80d0223c",
   "metadata": {},
   "outputs": [],
   "source": [
    "class Student:\n",
    "    def __init__(self, name):\n",
    "        self.__name = name   # private variable\n",
    "\n",
    "    @property\n",
    "    def name(self):     # Getter\n",
    "        return self.__name\n",
    "\n",
    "    @name.setter\n",
    "    def name(self, new_name):   # Setter\n",
    "        self.__name = new_name\n",
    "\n",
    "# Usage\n",
    "s = Student(\"Bipin\")\n",
    "print(s.name)      # Bipin (calls getter)\n",
    "s.name = \"Deepak\"  # updates (calls setter)\n",
    "print(s.name)      # Deepak\n"
   ]
  },
  {
   "cell_type": "code",
   "execution_count": null,
   "id": "b5c6e19e",
   "metadata": {},
   "outputs": [],
   "source": []
  },
  {
   "cell_type": "code",
   "execution_count": null,
   "id": "89737f1a",
   "metadata": {},
   "outputs": [],
   "source": [
    "class BankAccount:\n",
    "    def __init__(self, balance):\n",
    "        self.__balance = balance   # private variable\n",
    "\n",
    "    @property\n",
    "    def balance(self):     # Getter\n",
    "        return self.__balance\n",
    "\n",
    "    @balance.setter\n",
    "    def balance(self, amount):   # Setter\n",
    "        if amount >= 0:   # Rule: balance cannot be negative\n",
    "            self.__balance = amount\n",
    "        else:\n",
    "            print(\"❌ Invalid balance\")\n",
    "\n",
    "# Usage\n",
    "acc = BankAccount(1000)\n",
    "print(acc.balance)   # 1000\n",
    "acc.balance = 2000   # ✅ updates balance\n",
    "print(acc.balance)   # 2000\n",
    "acc.balance = -500   # ❌ Invalid balance"
   ]
  },
  {
   "cell_type": "code",
   "execution_count": null,
   "id": "2f47786e",
   "metadata": {},
   "outputs": [],
   "source": []
  },
  {
   "cell_type": "code",
   "execution_count": null,
   "id": "a5ddc46f",
   "metadata": {},
   "outputs": [],
   "source": []
  },
  {
   "cell_type": "code",
   "execution_count": null,
   "id": "fefc020c",
   "metadata": {},
   "outputs": [],
   "source": []
  },
  {
   "cell_type": "code",
   "execution_count": null,
   "id": "3ccaa0c0",
   "metadata": {},
   "outputs": [],
   "source": [
    "class Person:\n",
    "    def __init__(self, age):\n",
    "        self.__age = age\n",
    "\n",
    "    @property\n",
    "    def age(self):    # Getter\n",
    "        return self.__age\n",
    "\n",
    "    @age.setter\n",
    "    def age(self, new_age):   # Setter\n",
    "        if new_age > 0 and new_age < 120:   # rule: valid age\n",
    "            self.__age = new_age\n",
    "        else:\n",
    "            print(\"❌ Invalid age\")\n",
    "\n",
    "# Usage\n",
    "p = Person(25)\n",
    "print(p.age)    # 25\n",
    "p.age = 30      # ✅ updates\n",
    "print(p.age)    # 30\n",
    "p.age = -5      # ❌ Invalid age\n"
   ]
  },
  {
   "cell_type": "code",
   "execution_count": null,
   "id": "dbe7f891",
   "metadata": {},
   "outputs": [],
   "source": [
    "class Employee:\n",
    "    def __init__(self, email):\n",
    "        self.__email = email\n",
    "\n",
    "    @property\n",
    "    def email(self):   # Getter\n",
    "        return self.__email\n",
    "\n",
    "    @email.setter\n",
    "    def email(self, new_email):   # Setter\n",
    "        if \"@\" in new_email and \".\" in new_email:   # basic validation\n",
    "            self.__email = new_email\n",
    "        else:\n",
    "            print(\"❌ Invalid email format\")\n",
    "\n",
    "# Usage\n",
    "emp = Employee(\"user@example.com\")\n",
    "print(emp.email)    # user@example.com\n",
    "emp.email = \"new@mail.com\"   # ✅ valid\n",
    "print(emp.email)    # new@mail.com\n",
    "emp.email = \"wrongmail\"      # ❌ Invalid email format\n"
   ]
  },
  {
   "cell_type": "code",
   "execution_count": null,
   "id": "094305e6",
   "metadata": {},
   "outputs": [],
   "source": []
  }
 ],
 "metadata": {
  "kernelspec": {
   "display_name": "base",
   "language": "python",
   "name": "python3"
  },
  "language_info": {
   "codemirror_mode": {
    "name": "ipython",
    "version": 3
   },
   "file_extension": ".py",
   "mimetype": "text/x-python",
   "name": "python",
   "nbconvert_exporter": "python",
   "pygments_lexer": "ipython3",
   "version": "3.12.9"
  }
 },
 "nbformat": 4,
 "nbformat_minor": 5
}
