{
 "cells": [
  {
   "cell_type": "code",
   "execution_count": null,
   "id": "a467f23b",
   "metadata": {},
   "outputs": [],
   "source": [
    "#single inheritance"
   ]
  },
  {
   "cell_type": "code",
   "execution_count": 1,
   "id": "0892a2b2",
   "metadata": {},
   "outputs": [],
   "source": [
    "\n",
    "# parent class\n",
    "\n",
    "class BankAccount:\n",
    "    def __init__(self, account_number, balance):\n",
    "        self.account_number = account_number\n",
    "        self.balance = balance\n",
    "    \n",
    "    def deposit(self, amount):\n",
    "        self.balance += amount\n",
    "        return self.balance\n",
    "    \n",
    "    def withdraw(self, amount):\n",
    "        if amount <= self.balance:\n",
    "            self.balance -= amount\n",
    "            return self.balance\n",
    "        return \"Insufficient balance\"\n"
   ]
  },
  {
   "cell_type": "code",
   "execution_count": 2,
   "id": "d8702672",
   "metadata": {},
   "outputs": [],
   "source": [
    "class SavingsAccount(BankAccount): \n",
    "    def __init__(self,account_number, balance, interest_rate): \n",
    "        #self.account_number =account_number\n",
    "        #self.balance = balance\n",
    "        super().__init__(account_number, balance)\n",
    "        self.interest_rate = interest_rate\n",
    "        #super().__init__(account_number, balance)   # call parent constructor\n",
    "        \n",
    "    def add_interest(self):\n",
    "        interest = self.balance * self.interest_rate\n",
    "        self.balance += interest\n",
    "        return self.balance"
   ]
  },
  {
   "cell_type": "code",
   "execution_count": 3,
   "id": "6cbaba06",
   "metadata": {},
   "outputs": [],
   "source": [
    "a2 =  SavingsAccount(2024567, 10000, 0.06)"
   ]
  },
  {
   "cell_type": "code",
   "execution_count": 4,
   "id": "3a350585",
   "metadata": {},
   "outputs": [
    {
     "data": {
      "text/plain": [
       "23000"
      ]
     },
     "execution_count": 4,
     "metadata": {},
     "output_type": "execute_result"
    }
   ],
   "source": [
    "a2.deposit(13000)"
   ]
  },
  {
   "cell_type": "code",
   "execution_count": null,
   "id": "0315c578",
   "metadata": {},
   "outputs": [],
   "source": []
  },
  {
   "cell_type": "code",
   "execution_count": null,
   "id": "f0afdd3b",
   "metadata": {},
   "outputs": [],
   "source": []
  },
  {
   "cell_type": "code",
   "execution_count": null,
   "id": "bc8eab0b",
   "metadata": {},
   "outputs": [],
   "source": []
  },
  {
   "cell_type": "code",
   "execution_count": 11,
   "id": "20ada7a2",
   "metadata": {},
   "outputs": [
    {
     "data": {
      "text/plain": [
       "2024567"
      ]
     },
     "execution_count": 11,
     "metadata": {},
     "output_type": "execute_result"
    }
   ],
   "source": [
    "a2.account_number"
   ]
  },
  {
   "cell_type": "code",
   "execution_count": 12,
   "id": "5eb4781c",
   "metadata": {},
   "outputs": [
    {
     "data": {
      "text/plain": [
       "10600.0"
      ]
     },
     "execution_count": 12,
     "metadata": {},
     "output_type": "execute_result"
    }
   ],
   "source": [
    "a2.add_interest()"
   ]
  },
  {
   "cell_type": "code",
   "execution_count": 13,
   "id": "19ec5136",
   "metadata": {},
   "outputs": [
    {
     "data": {
      "text/plain": [
       "15600.0"
      ]
     },
     "execution_count": 13,
     "metadata": {},
     "output_type": "execute_result"
    }
   ],
   "source": [
    "a2.deposit(5000)"
   ]
  },
  {
   "cell_type": "code",
   "execution_count": 15,
   "id": "41d858f2",
   "metadata": {},
   "outputs": [
    {
     "data": {
      "text/plain": [
       "11100.0"
      ]
     },
     "execution_count": 15,
     "metadata": {},
     "output_type": "execute_result"
    }
   ],
   "source": [
    "a2.withdraw(4500)"
   ]
  },
  {
   "cell_type": "code",
   "execution_count": null,
   "id": "cd2538c7",
   "metadata": {},
   "outputs": [],
   "source": []
  },
  {
   "cell_type": "code",
   "execution_count": null,
   "id": "e0e4fecc",
   "metadata": {},
   "outputs": [],
   "source": []
  },
  {
   "cell_type": "code",
   "execution_count": null,
   "id": "9b1a9bf4",
   "metadata": {},
   "outputs": [],
   "source": []
  },
  {
   "cell_type": "code",
   "execution_count": null,
   "id": "6fe5d96e",
   "metadata": {},
   "outputs": [],
   "source": []
  },
  {
   "cell_type": "code",
   "execution_count": 3,
   "id": "092f848a",
   "metadata": {},
   "outputs": [
    {
     "data": {
      "text/plain": [
       "20245432"
      ]
     },
     "execution_count": 3,
     "metadata": {},
     "output_type": "execute_result"
    }
   ],
   "source": [
    "a1= BankAccount(20245432,10000)\n",
    "a1.account_number"
   ]
  },
  {
   "cell_type": "code",
   "execution_count": 4,
   "id": "0e41a8ca",
   "metadata": {},
   "outputs": [
    {
     "data": {
      "text/plain": [
       "23000"
      ]
     },
     "execution_count": 4,
     "metadata": {},
     "output_type": "execute_result"
    }
   ],
   "source": [
    "a1.deposit(13000)"
   ]
  },
  {
   "cell_type": "code",
   "execution_count": 5,
   "id": "1fc00d96",
   "metadata": {},
   "outputs": [
    {
     "data": {
      "text/plain": [
       "19000"
      ]
     },
     "execution_count": 5,
     "metadata": {},
     "output_type": "execute_result"
    }
   ],
   "source": [
    "a1.withdraw(4000)"
   ]
  },
  {
   "cell_type": "code",
   "execution_count": null,
   "id": "6757256a",
   "metadata": {},
   "outputs": [],
   "source": []
  },
  {
   "cell_type": "code",
   "execution_count": null,
   "id": "b3b29776",
   "metadata": {},
   "outputs": [],
   "source": []
  },
  {
   "cell_type": "code",
   "execution_count": null,
   "id": "f540e8bf",
   "metadata": {},
   "outputs": [],
   "source": []
  },
  {
   "cell_type": "code",
   "execution_count": null,
   "id": "285a5ab0",
   "metadata": {},
   "outputs": [],
   "source": []
  },
  {
   "cell_type": "code",
   "execution_count": null,
   "id": "e28cd3c7",
   "metadata": {},
   "outputs": [],
   "source": [
    "# child class\n",
    "class SavingsAccount(BankAccount):   # inherits from BankAccount\n",
    "    def __init__(self, account_number, balance=0, interest_rate=0.05):\n",
    "        super().__init__(account_number, balance)   # call parent constructor\n",
    "        self.interest_rate = interest_rate\n",
    "    \n",
    "    # New method specific to SavingsAccount\n",
    "    def add_interest(self):\n",
    "        interest = self.balance * self.interest_rate\n",
    "        self.balance += interest\n",
    "        return self.balance"
   ]
  },
  {
   "cell_type": "code",
   "execution_count": null,
   "id": "6265e137",
   "metadata": {},
   "outputs": [],
   "source": []
  },
  {
   "cell_type": "code",
   "execution_count": null,
   "id": "57091a22",
   "metadata": {},
   "outputs": [],
   "source": []
  },
  {
   "cell_type": "code",
   "execution_count": null,
   "id": "df06d0f4",
   "metadata": {},
   "outputs": [],
   "source": []
  },
  {
   "cell_type": "code",
   "execution_count": null,
   "id": "f1b469ec",
   "metadata": {},
   "outputs": [],
   "source": []
  },
  {
   "cell_type": "code",
   "execution_count": null,
   "id": "bed9e75f",
   "metadata": {},
   "outputs": [],
   "source": [
    "\n"
   ]
  },
  {
   "cell_type": "code",
   "execution_count": 3,
   "id": "d49c74a4",
   "metadata": {},
   "outputs": [
    {
     "data": {
      "text/plain": [
       "1365.0"
      ]
     },
     "execution_count": 3,
     "metadata": {},
     "output_type": "execute_result"
    }
   ],
   "source": [
    "acc = SavingsAccount(\"12345\", 1000)\n",
    "\n",
    "acc.deposit(500)        # 1500 (inherited from BankAccount)\n",
    "acc.withdraw(200)       # 1300 (inherited from BankAccount)\n",
    "acc.add_interest()      # 1365.0 (new method from SavingsAccount)\n"
   ]
  },
  {
   "cell_type": "code",
   "execution_count": null,
   "id": "61cb9dfa",
   "metadata": {},
   "outputs": [],
   "source": []
  },
  {
   "cell_type": "code",
   "execution_count": null,
   "id": "652585dd",
   "metadata": {},
   "outputs": [],
   "source": []
  },
  {
   "cell_type": "code",
   "execution_count": null,
   "id": "4b6209c1",
   "metadata": {},
   "outputs": [],
   "source": [
    "class BankAccount:\n",
    "    def __init__(self, account_number, balance=0):\n",
    "        self.account_number = account_number\n",
    "        self.balance = balance\n",
    "    \n",
    "    def deposit(self, amount):\n",
    "        self.balance += amount\n",
    "        return f\"Deposited {amount}, Balance: {self.balance}\"\n",
    "    \n",
    "    def withdraw(self, amount):\n",
    "        if amount <= self.balance:\n",
    "            self.balance -= amount\n",
    "            return f\"Withdrew {amount}, Balance: {self.balance}\"\n",
    "        return \"Insufficient funds\"\n"
   ]
  },
  {
   "cell_type": "code",
   "execution_count": 18,
   "id": "3a8ddbb0",
   "metadata": {},
   "outputs": [
    {
     "data": {
      "text/plain": [
       "'Deposited 25000, Balance: 55000'"
      ]
     },
     "execution_count": 18,
     "metadata": {},
     "output_type": "execute_result"
    }
   ],
   "source": [
    "a1 =BankAccount(234555, 30000)\n",
    "a1.deposit(25000)"
   ]
  },
  {
   "cell_type": "code",
   "execution_count": null,
   "id": "596bdc7d",
   "metadata": {},
   "outputs": [],
   "source": []
  },
  {
   "cell_type": "code",
   "execution_count": null,
   "id": "6a816e2f",
   "metadata": {},
   "outputs": [],
   "source": []
  },
  {
   "cell_type": "code",
   "execution_count": null,
   "id": "e559eb41",
   "metadata": {},
   "outputs": [],
   "source": []
  },
  {
   "cell_type": "code",
   "execution_count": 19,
   "id": "968a2cd0",
   "metadata": {},
   "outputs": [],
   "source": [
    "class SavingsAccount(BankAccount):\n",
    "    def __init__(self, account_number, balance=0, interest_rate=0.05):\n",
    "        super().__init__(account_number, balance)   # ✅ parent constructor\n",
    "        self.interest_rate = interest_rate\n",
    "    \n",
    "    def deposit(self, amount):\n",
    "        # Call parent’s deposit method\n",
    "        result = super().deposit(amount)   \n",
    "        # Add extra behavior\n",
    "        bonus = amount * 0.01   # 1% bonus for saving\n",
    "        self.balance += bonus\n",
    "        return result + f\" (+ Bonus {bonus}), New Balance: {self.balance}\"\n"
   ]
  },
  {
   "cell_type": "code",
   "execution_count": 20,
   "id": "53b408fb",
   "metadata": {},
   "outputs": [],
   "source": [
    "s2=SavingsAccount(234555, 30000)  "
   ]
  },
  {
   "cell_type": "code",
   "execution_count": 21,
   "id": "67f1fb0d",
   "metadata": {},
   "outputs": [
    {
     "data": {
      "text/plain": [
       "'Deposited 25000, Balance: 55000 (+ Bonus 250.0), New Balance: 55250.0'"
      ]
     },
     "execution_count": 21,
     "metadata": {},
     "output_type": "execute_result"
    }
   ],
   "source": [
    "s2.deposit(25000)"
   ]
  },
  {
   "cell_type": "code",
   "execution_count": 22,
   "id": "adbdb117",
   "metadata": {},
   "outputs": [
    {
     "data": {
      "text/plain": [
       "'Withdrew 10000, Balance: 45250.0'"
      ]
     },
     "execution_count": 22,
     "metadata": {},
     "output_type": "execute_result"
    }
   ],
   "source": [
    "s2.withdraw(10000)"
   ]
  },
  {
   "cell_type": "code",
   "execution_count": null,
   "id": "2b8127c6",
   "metadata": {},
   "outputs": [],
   "source": []
  },
  {
   "cell_type": "code",
   "execution_count": null,
   "id": "27517582",
   "metadata": {},
   "outputs": [],
   "source": []
  },
  {
   "cell_type": "code",
   "execution_count": 7,
   "id": "3bc94e89",
   "metadata": {},
   "outputs": [
    {
     "name": "stdout",
     "output_type": "stream",
     "text": [
      "Deposited 500, Balance: 1500 (+ Bonus 5.0), New Balance: 1505.0\n",
      "Withdrew 200, Balance: 1305.0\n"
     ]
    }
   ],
   "source": [
    "acc = SavingsAccount(\"AC123\", 1000)\n",
    "print(acc.deposit(500))\n",
    "print(acc.withdraw(200))\n"
   ]
  },
  {
   "cell_type": "code",
   "execution_count": 9,
   "id": "f1e6b248",
   "metadata": {},
   "outputs": [],
   "source": [
    "class Order:\n",
    "    def __init__(self, order_id, amount):\n",
    "        self.order_id = order_id\n",
    "        self.amount = amount\n",
    "    \n",
    "    def process_order(self):\n",
    "        return f\"Order {self.order_id} processed with amount {self.amount}\"\n"
   ]
  },
  {
   "cell_type": "code",
   "execution_count": 10,
   "id": "6c0bca40",
   "metadata": {},
   "outputs": [],
   "source": [
    "class OnlineOrder(Order):\n",
    "    def __init__(self, order_id, amount, payment_method):\n",
    "        super().__init__(order_id, amount)   # parent init\n",
    "        self.payment_method = payment_method\n",
    "    \n",
    "    def process_order(self):\n",
    "        # Call base processing\n",
    "        base = super().process_order()\n",
    "        # Add online-specific logic\n",
    "        return f\"{base} using {self.payment_method} payment\"\n"
   ]
  },
  {
   "cell_type": "code",
   "execution_count": 11,
   "id": "ba771714",
   "metadata": {},
   "outputs": [
    {
     "name": "stdout",
     "output_type": "stream",
     "text": [
      "Order ORD001 processed with amount 2500 using Credit Card payment\n"
     ]
    }
   ],
   "source": [
    "order = OnlineOrder(\"ORD001\", 2500, \"Credit Card\")\n",
    "print(order.process_order())\n"
   ]
  },
  {
   "cell_type": "code",
   "execution_count": null,
   "id": "724be3ca",
   "metadata": {},
   "outputs": [],
   "source": []
  },
  {
   "cell_type": "code",
   "execution_count": null,
   "id": "e1a428b8",
   "metadata": {},
   "outputs": [],
   "source": [
    "# single inheritance"
   ]
  },
  {
   "cell_type": "code",
   "execution_count": 5,
   "id": "54f85651",
   "metadata": {},
   "outputs": [],
   "source": [
    "class Person:\n",
    "    def __init__(self, name, age):\n",
    "        self.name = name\n",
    "        self.age = age\n",
    "\n",
    "class Employee(Person):\n",
    "    def __init__(self, name, age, salary):\n",
    "        super().__init__(name, age)\n",
    "        self.salary = salary\n",
    "\n",
    "    def increase_salary(self, percent):\n",
    "        self.salary += self.salary * percent / 100\n"
   ]
  },
  {
   "cell_type": "code",
   "execution_count": 6,
   "id": "92e954a3",
   "metadata": {},
   "outputs": [],
   "source": [
    "s1= Employee(\"Amit\",31,90000)"
   ]
  },
  {
   "cell_type": "code",
   "execution_count": 7,
   "id": "e7f506b2",
   "metadata": {},
   "outputs": [],
   "source": [
    "s1.increase_salary(10)"
   ]
  },
  {
   "cell_type": "code",
   "execution_count": 8,
   "id": "618f46a4",
   "metadata": {},
   "outputs": [
    {
     "data": {
      "text/plain": [
       "99000.0"
      ]
     },
     "execution_count": 8,
     "metadata": {},
     "output_type": "execute_result"
    }
   ],
   "source": [
    "s1.salary"
   ]
  },
  {
   "cell_type": "code",
   "execution_count": null,
   "id": "7456466f",
   "metadata": {},
   "outputs": [],
   "source": []
  },
  {
   "cell_type": "code",
   "execution_count": null,
   "id": "fc334b63",
   "metadata": {},
   "outputs": [],
   "source": []
  },
  {
   "cell_type": "code",
   "execution_count": null,
   "id": "c4e072b2",
   "metadata": {},
   "outputs": [],
   "source": []
  },
  {
   "cell_type": "code",
   "execution_count": null,
   "id": "47a2475d",
   "metadata": {},
   "outputs": [],
   "source": []
  },
  {
   "cell_type": "code",
   "execution_count": null,
   "id": "5dd8e32d",
   "metadata": {},
   "outputs": [],
   "source": [
    "#multilevel "
   ]
  },
  {
   "cell_type": "code",
   "execution_count": 9,
   "id": "c001e3af",
   "metadata": {},
   "outputs": [],
   "source": [
    "class Payment:   # Level 1\n",
    "    def __init__(self, amount):\n",
    "        self.amount = amount\n",
    "        \n",
    "        \n",
    "        \n",
    "\n",
    "class OnlinePayment(Payment):   # Level 2\n",
    "    def __init__(self, amount, gateway_fee):\n",
    "        super().__init__(amount)         # call Payment.__init__\n",
    "        self.gateway_fee = gateway_fee\n",
    "        self.amount += gateway_fee       # add gateway fee\n",
    "\n",
    "\n",
    "\n",
    "class CreditCardPayment(OnlinePayment):   # Level 3\n",
    "    def __init__(self, amount, gateway_fee, interest_rate):\n",
    "        super().__init__(amount, gateway_fee)  # call OnlinePayment.__init__\n",
    "        self.interest_rate = interest_rate\n",
    "        self.amount += self.amount * interest_rate / 100  # apply interest\n"
   ]
  },
  {
   "cell_type": "code",
   "execution_count": 10,
   "id": "57f8073b",
   "metadata": {},
   "outputs": [],
   "source": [
    "\n",
    "\n",
    "a1= CreditCardPayment(25000, 200,20)"
   ]
  },
  {
   "cell_type": "code",
   "execution_count": 11,
   "id": "d14ef55b",
   "metadata": {},
   "outputs": [
    {
     "data": {
      "text/plain": [
       "30240.0"
      ]
     },
     "execution_count": 11,
     "metadata": {},
     "output_type": "execute_result"
    }
   ],
   "source": [
    "a1.amount"
   ]
  },
  {
   "cell_type": "code",
   "execution_count": null,
   "id": "107dbbf6",
   "metadata": {},
   "outputs": [],
   "source": []
  },
  {
   "cell_type": "code",
   "execution_count": null,
   "id": "87d6d86a",
   "metadata": {},
   "outputs": [],
   "source": []
  },
  {
   "cell_type": "code",
   "execution_count": null,
   "id": "9305225c",
   "metadata": {},
   "outputs": [],
   "source": []
  },
  {
   "cell_type": "code",
   "execution_count": null,
   "id": "2167a399",
   "metadata": {},
   "outputs": [],
   "source": []
  },
  {
   "cell_type": "code",
   "execution_count": null,
   "id": "d3efdf96",
   "metadata": {},
   "outputs": [],
   "source": []
  },
  {
   "cell_type": "code",
   "execution_count": null,
   "id": "0979327a",
   "metadata": {},
   "outputs": [],
   "source": []
  },
  {
   "cell_type": "code",
   "execution_count": null,
   "id": "c700414b",
   "metadata": {},
   "outputs": [],
   "source": []
  },
  {
   "cell_type": "code",
   "execution_count": 12,
   "id": "5d9c8b0b",
   "metadata": {},
   "outputs": [
    {
     "name": "stdout",
     "output_type": "stream",
     "text": [
      "1155.0\n",
      "50\n",
      "10\n"
     ]
    }
   ],
   "source": [
    "cc_payment = CreditCardPayment(1000, 50, 10)\n",
    "\n",
    "print(cc_payment.amount)        # Final amount after fee + interest\n",
    "print(cc_payment.gateway_fee)   # From OnlinePayment\n",
    "print(cc_payment.interest_rate) # From CreditCardPayment\n"
   ]
  },
  {
   "cell_type": "code",
   "execution_count": null,
   "id": "41571973",
   "metadata": {},
   "outputs": [],
   "source": []
  },
  {
   "cell_type": "code",
   "execution_count": null,
   "id": "46373c58",
   "metadata": {},
   "outputs": [],
   "source": []
  },
  {
   "cell_type": "code",
   "execution_count": 2,
   "id": "f6b2e4fd",
   "metadata": {},
   "outputs": [],
   "source": [
    "class Payment:\n",
    "    def __init__(self, amount):\n",
    "        self.amount = amount\n",
    "\n",
    "class OnlinePayment(Payment):\n",
    "    def apply_gateway_fee(self, fee):\n",
    "        self.amount += fee\n",
    "\n",
    "class CreditCardPayment(OnlinePayment):\n",
    "    def apply_interest(self, rate):\n",
    "        self.amount += self.amount * rate / 100\n"
   ]
  },
  {
   "cell_type": "code",
   "execution_count": null,
   "id": "a23f3626",
   "metadata": {},
   "outputs": [],
   "source": []
  },
  {
   "cell_type": "code",
   "execution_count": 3,
   "id": "ca1956b9",
   "metadata": {},
   "outputs": [
    {
     "name": "stdout",
     "output_type": "stream",
     "text": [
      "1155.0\n"
     ]
    }
   ],
   "source": [
    "# Step 1: Create a credit card payment\n",
    "cc_payment = CreditCardPayment(1000)   # initial payment = 1000\n",
    "\n",
    "# Step 2: Apply an online gateway fee (like Paytm, Razorpay, Stripe fee)\n",
    "cc_payment.apply_gateway_fee(50)       # 1000 + 50 = 1050\n",
    "\n",
    "# Step 3: Apply credit card interest (say 10%)\n",
    "cc_payment.apply_interest(10)          # 1050 + (10% of 1050) = 1155\n",
    "\n",
    "# Step 4: Access the final amount\n",
    "print(cc_payment.amount)  # 1155\n"
   ]
  },
  {
   "cell_type": "code",
   "execution_count": 4,
   "id": "0db19fbe",
   "metadata": {},
   "outputs": [
    {
     "data": {
      "text/plain": [
       "1155.0"
      ]
     },
     "execution_count": 4,
     "metadata": {},
     "output_type": "execute_result"
    }
   ],
   "source": [
    "cc_payment.amount"
   ]
  },
  {
   "cell_type": "markdown",
   "id": "61cbbb0e",
   "metadata": {},
   "source": [
    "\n",
    "# hieraichal inheritance"
   ]
  },
  {
   "cell_type": "code",
   "execution_count": 13,
   "id": "18589ebd",
   "metadata": {},
   "outputs": [],
   "source": [
    "class Account:   # Parent\n",
    "    def __init__(self, acc_no, balance=0):\n",
    "        self.acc_no = acc_no\n",
    "        self.balance = balance\n",
    "\n",
    "    def deposit(self, amount):\n",
    "        self.balance += amount\n",
    "        \n",
    "        \n"
   ]
  },
  {
   "cell_type": "code",
   "execution_count": null,
   "id": "cae60cf1",
   "metadata": {},
   "outputs": [],
   "source": []
  },
  {
   "cell_type": "code",
   "execution_count": null,
   "id": "dd65c353",
   "metadata": {},
   "outputs": [],
   "source": []
  },
  {
   "cell_type": "code",
   "execution_count": 14,
   "id": "47835d90",
   "metadata": {},
   "outputs": [],
   "source": [
    "class SavingsAccount(Account):\n",
    "    def __init__(self, acc_no, balance=0, interest_rate=0.05):\n",
    "        super().__init__(acc_no, balance)  # call parent init\n",
    "        self.interest_rate = interest_rate\n",
    "\n",
    "    def add_interest(self):\n",
    "        self.balance += self.balance * self.interest_rate\n"
   ]
  },
  {
   "cell_type": "code",
   "execution_count": null,
   "id": "ab796cf2",
   "metadata": {},
   "outputs": [],
   "source": []
  },
  {
   "cell_type": "code",
   "execution_count": null,
   "id": "091b3004",
   "metadata": {},
   "outputs": [],
   "source": []
  },
  {
   "cell_type": "code",
   "execution_count": null,
   "id": "8c241728",
   "metadata": {},
   "outputs": [],
   "source": []
  },
  {
   "cell_type": "code",
   "execution_count": 15,
   "id": "3cbd411f",
   "metadata": {},
   "outputs": [],
   "source": [
    "class CurrentAccount(Account):\n",
    "    def __init__(self, acc_no, balance=0, overdraft_limit=5000):\n",
    "        super().__init__(acc_no, balance)  # call parent init\n",
    "        self.overdraft_limit = overdraft_limit\n",
    "\n",
    "    def withdraw(self, amount):\n",
    "        if self.balance + self.overdraft_limit >= amount:\n",
    "            self.balance -= amount\n"
   ]
  },
  {
   "cell_type": "code",
   "execution_count": 16,
   "id": "f77c1eed",
   "metadata": {},
   "outputs": [],
   "source": [
    "# Savings account\n",
    "s1 = SavingsAccount(\"S101\", 1000, 0.1)\n",
    "s1.deposit(500)       # balance = 1500\n",
    "s1.add_interest()     # balance = 1650\n",
    "\n",
    "# Current account\n",
    "c1 = CurrentAccount(\"C202\", 2000, 10000)\n",
    "c1.withdraw(2500)     # balance = -500 (allowed due to overdraft)\n"
   ]
  },
  {
   "cell_type": "code",
   "execution_count": null,
   "id": "6b5e4158",
   "metadata": {},
   "outputs": [],
   "source": []
  },
  {
   "cell_type": "code",
   "execution_count": null,
   "id": "afef0eaf",
   "metadata": {},
   "outputs": [],
   "source": []
  },
  {
   "cell_type": "code",
   "execution_count": null,
   "id": "143b3568",
   "metadata": {},
   "outputs": [],
   "source": []
  },
  {
   "cell_type": "markdown",
   "id": "d558980e",
   "metadata": {},
   "source": [
    "# multiple inheritance"
   ]
  },
  {
   "cell_type": "code",
   "execution_count": 17,
   "id": "e13d1aca",
   "metadata": {},
   "outputs": [],
   "source": [
    "class Engine:\n",
    "    def __init__(self, horsepower):\n",
    "        self.horsepower = horsepower\n",
    "\n",
    "    def upgrade_engine(self, extra_hp):\n",
    "        self.horsepower += extra_hp\n",
    "\n",
    "class Vehicle:\n",
    "    def __init__(self, wheels):\n",
    "        self.wheels = wheels\n",
    "\n",
    "    def change_wheels(self, new_count):\n",
    "        self.wheels = new_count\n",
    "\n",
    "\n",
    "\n",
    "\n",
    "\n",
    "\n",
    "\n",
    "\n"
   ]
  },
  {
   "cell_type": "code",
   "execution_count": null,
   "id": "dc3c57d9",
   "metadata": {},
   "outputs": [],
   "source": []
  },
  {
   "cell_type": "code",
   "execution_count": 18,
   "id": "230f56f5",
   "metadata": {},
   "outputs": [],
   "source": [
    "\n",
    "\n",
    "\n",
    "class Car(Engine, Vehicle):\n",
    "    def __init__(self, horsepower, wheels, model):\n",
    "        Engine.__init__(self, horsepower)\n",
    "        Vehicle.__init__(self, wheels)\n",
    "        self.model = model"
   ]
  },
  {
   "cell_type": "code",
   "execution_count": null,
   "id": "b7a4c279",
   "metadata": {},
   "outputs": [],
   "source": []
  },
  {
   "cell_type": "code",
   "execution_count": null,
   "id": "e7e3ef06",
   "metadata": {},
   "outputs": [],
   "source": []
  },
  {
   "cell_type": "code",
   "execution_count": null,
   "id": "ba31db41",
   "metadata": {},
   "outputs": [],
   "source": []
  },
  {
   "cell_type": "code",
   "execution_count": null,
   "id": "bd100201",
   "metadata": {},
   "outputs": [],
   "source": []
  },
  {
   "cell_type": "code",
   "execution_count": 19,
   "id": "5af5f8a4",
   "metadata": {},
   "outputs": [],
   "source": [
    "class Engine:\n",
    "    def __init__(self, horsepower):\n",
    "        self.horsepower = horsepower\n",
    "        self.mileage = 0\n",
    "\n",
    "    def upgrade_engine(self, extra_hp):\n",
    "        self.horsepower += extra_hp\n",
    "\n",
    "    def add_mileage(self, km):\n",
    "        self.mileage += km\n",
    "\n",
    "\n",
    "class Vehicle:\n",
    "    def __init__(self, wheels, fuel_level=0):\n",
    "        self.wheels = wheels\n",
    "        self.fuel_level = fuel_level\n",
    "        self.distance = 0\n",
    "\n",
    "    def refuel(self, liters):\n",
    "        self.fuel_level += liters\n",
    "\n",
    "    def drive(self, km):\n",
    "        # 1 liter = 10 km\n",
    "        possible_km = int(self.fuel_level * 10)\n",
    "        driven = min(km, possible_km)\n",
    "        self.distance += driven\n",
    "        self.fuel_level -= driven / 10\n",
    "        return driven\n",
    "\n",
    "\n",
    "class Car(Engine, Vehicle):\n",
    "    def __init__(self, model, horsepower, wheels, fuel_level=0):\n",
    "        Engine.__init__(self, horsepower)        # explicit parent init\n",
    "        Vehicle.__init__(self, wheels, fuel_level)\n",
    "        self.model = model\n",
    "\n",
    "    def long_trip(self, km):\n",
    "        # use Vehicle.drive (parent) and Engine.add_mileage (parent)\n",
    "        driven = Vehicle.drive(self, km)         # call parent method explicitly\n",
    "        Engine.add_mileage(self, driven)         # update engine mileage\n",
    "        return {\n",
    "            \"driven_km\": driven,\n",
    "            \"fuel_left\": self.fuel_level,\n",
    "            \"total_distance\": self.distance,\n",
    "            \"engine_mileage\": self.mileage\n",
    "        }\n",
    "\n",
    "    def service_and_upgrade(self, extra_hp, refuel_liters):\n",
    "        # use Vehicle.refuel and Engine.upgrade_engine\n",
    "        Vehicle.refuel(self, refuel_liters)\n",
    "        Engine.upgrade_engine(self, extra_hp)\n",
    "        return {\"horsepower\": self.horsepower, \"fuel_level\": self.fuel_level}\n"
   ]
  },
  {
   "cell_type": "code",
   "execution_count": null,
   "id": "66eebd37",
   "metadata": {},
   "outputs": [],
   "source": []
  },
  {
   "cell_type": "code",
   "execution_count": 20,
   "id": "5856fc43",
   "metadata": {},
   "outputs": [],
   "source": [
    "c = Car(\"Civic\", horsepower=120, wheels=4, fuel_level=5)   # 5 L => 50 km possible\n",
    "c.service_and_upgrade(extra_hp=30, refuel_liters=10)       # refuel to 15 L, hp -> 150\n",
    "result = c.long_trip(100)                                  # drives 100 km if fuel allows\n",
    "# result shows driven_km, fuel_left, total_distance, engine_mileage\n"
   ]
  },
  {
   "cell_type": "code",
   "execution_count": null,
   "id": "186e7a2f",
   "metadata": {},
   "outputs": [],
   "source": [
    "# hybrid"
   ]
  },
  {
   "cell_type": "markdown",
   "id": "0d6d4fd1",
   "metadata": {},
   "source": [
    "# hybrid inheritance"
   ]
  },
  {
   "cell_type": "code",
   "execution_count": 10,
   "id": "fa85eb99",
   "metadata": {},
   "outputs": [],
   "source": [
    "class Person:   # Base class\n",
    "    def __init__(self, name):\n",
    "        self.name = name\n",
    "\n",
    "\n",
    "class Student(Person):   # First branch\n",
    "    def __init__(self, name, credits=0):\n",
    "        super().__init__(name)\n",
    "        self.credits = credits\n",
    "\n",
    "    def add_credits(self, points):\n",
    "        self.credits += points\n",
    "\n",
    "\n",
    "class Teacher(Person):   # Second branch\n",
    "    def __init__(self, name, salary=0):\n",
    "        super().__init__(name)\n",
    "        self.salary = salary\n",
    "\n",
    "    def increase_salary(self, amount):\n",
    "        self.salary += amount\n",
    "\n",
    "\n",
    "class ResearchAssistant(Student, Teacher):   # Hybrid → Student + Teacher\n",
    "    def __init__(self, name, credits=0, salary=0, stipend=0):\n",
    "        Student.__init__(self, name, credits)   # call Student init\n",
    "        Teacher.__init__(self, name, salary)    # call Teacher init\n",
    "        self.stipend = stipend\n",
    "\n",
    "    def work(self, hours):\n",
    "        # Use both parent features:\n",
    "        self.add_credits(hours // 10)        # every 10 hours adds 1 credit (Student method)\n",
    "        self.increase_salary(hours * 50)     # salary bonus (Teacher method)\n",
    "        self.stipend += hours * 5            # stipend increases\n"
   ]
  },
  {
   "cell_type": "code",
   "execution_count": 11,
   "id": "f987b953",
   "metadata": {},
   "outputs": [],
   "source": [
    "ra = ResearchAssistant(\"Amit\", credits=6, salary=20000, stipend=1000)\n",
    "\n",
    "ra.work(40)   # 40 hours of work\n",
    "# credits = 6 + (40//10 = 4) = 10\n",
    "# salary = 20000 + (40*50 = 2000) = 22000\n",
    "# stipend = 1000 + (40*5 = 200) = 1200\n",
    "\n",
    "state = (ra.name, ra.credits, ra.salary, ra.stipend)\n",
    "# (\"Amit\", 10, 22000, 1200)\n"
   ]
  },
  {
   "cell_type": "code",
   "execution_count": null,
   "id": "75fbdbc5",
   "metadata": {},
   "outputs": [],
   "source": []
  }
 ],
 "metadata": {
  "kernelspec": {
   "display_name": "base",
   "language": "python",
   "name": "python3"
  },
  "language_info": {
   "codemirror_mode": {
    "name": "ipython",
    "version": 3
   },
   "file_extension": ".py",
   "mimetype": "text/x-python",
   "name": "python",
   "nbconvert_exporter": "python",
   "pygments_lexer": "ipython3",
   "version": "3.12.9"
  }
 },
 "nbformat": 4,
 "nbformat_minor": 5
}
