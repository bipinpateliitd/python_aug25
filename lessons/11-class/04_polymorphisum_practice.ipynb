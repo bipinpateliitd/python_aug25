{
 "cells": [
  {
   "cell_type": "code",
   "execution_count": 1,
   "id": "9bc61bdd",
   "metadata": {},
   "outputs": [
    {
     "name": "stdout",
     "output_type": "stream",
     "text": [
      "15\n",
      "Hello World\n",
      "[1, 2, 3, 4]\n"
     ]
    }
   ],
   "source": [
    "print(10 + 5)       # Addition → 15\n",
    "print(\"Hello \" + \"World\")  # String concatenation → \"Hello World\"\n",
    "print([1, 2] + [3, 4])  # List concatenation → [1, 2, 3, 4]\n"
   ]
  },
  {
   "cell_type": "code",
   "execution_count": 16,
   "id": "4d1ddf47",
   "metadata": {},
   "outputs": [
    {
     "data": {
      "text/plain": [
       "15"
      ]
     },
     "execution_count": 16,
     "metadata": {},
     "output_type": "execute_result"
    }
   ],
   "source": [
    "10+5"
   ]
  },
  {
   "cell_type": "code",
   "execution_count": 19,
   "id": "e400b615",
   "metadata": {},
   "outputs": [
    {
     "data": {
      "text/plain": [
       "'hellothere'"
      ]
     },
     "execution_count": 19,
     "metadata": {},
     "output_type": "execute_result"
    }
   ],
   "source": [
    "\"hello\"+\"there\""
   ]
  },
  {
   "cell_type": "code",
   "execution_count": 20,
   "id": "13d5cd46",
   "metadata": {},
   "outputs": [
    {
     "data": {
      "text/plain": [
       "[1, 2, 4, 5, 6, 7]"
      ]
     },
     "execution_count": 20,
     "metadata": {},
     "output_type": "execute_result"
    }
   ],
   "source": [
    "\n",
    "\n",
    "[1,2,4] +[5,6,7]"
   ]
  },
  {
   "cell_type": "code",
   "execution_count": null,
   "id": "27dec4cc",
   "metadata": {},
   "outputs": [],
   "source": []
  },
  {
   "cell_type": "code",
   "execution_count": null,
   "id": "04109daa",
   "metadata": {},
   "outputs": [],
   "source": []
  },
  {
   "cell_type": "code",
   "execution_count": null,
   "id": "803e8077",
   "metadata": {},
   "outputs": [],
   "source": []
  },
  {
   "cell_type": "code",
   "execution_count": null,
   "id": "30c80e03",
   "metadata": {},
   "outputs": [],
   "source": []
  },
  {
   "cell_type": "code",
   "execution_count": null,
   "id": "0fabcb95",
   "metadata": {},
   "outputs": [],
   "source": []
  },
  {
   "cell_type": "code",
   "execution_count": 21,
   "id": "e63b0055",
   "metadata": {},
   "outputs": [
    {
     "name": "stdout",
     "output_type": "stream",
     "text": [
      "15\n",
      "Hi there\n",
      "[1, 2, 3, 4]\n"
     ]
    }
   ],
   "source": [
    "def add(a, b):\n",
    "    return a + b\n",
    "\n",
    "print(add(10, 5))         # Numbers → 15\n",
    "print(add(\"Hi\", \" there\"))  # Strings → \"Hi there\"\n",
    "print(add([1, 2], [3, 4]))  # Lists → [1, 2, 3, 4]\n"
   ]
  },
  {
   "cell_type": "code",
   "execution_count": 22,
   "id": "ee8c9146",
   "metadata": {},
   "outputs": [],
   "source": [
    "\n",
    "#Polymorphism with Class Methods\n",
    "\n",
    "#Different classes can have the same method name, but behave differently.\n",
    "\n",
    "\n",
    "class Dog:\n",
    "    def sound(self):\n",
    "        return \"Woof!\"\n",
    "\n",
    "class Cat:\n",
    "    def sound(self):\n",
    "        return \"Meow!\"\n",
    "\n",
    "\n"
   ]
  },
  {
   "cell_type": "code",
   "execution_count": null,
   "id": "0749a71a",
   "metadata": {},
   "outputs": [],
   "source": []
  },
  {
   "cell_type": "code",
   "execution_count": 23,
   "id": "4a32798f",
   "metadata": {},
   "outputs": [],
   "source": [
    "a1= Dog()\n",
    "b1= Cat()\n"
   ]
  },
  {
   "cell_type": "code",
   "execution_count": 26,
   "id": "cdc894ff",
   "metadata": {},
   "outputs": [
    {
     "data": {
      "text/plain": [
       "'Woof!'"
      ]
     },
     "execution_count": 26,
     "metadata": {},
     "output_type": "execute_result"
    }
   ],
   "source": [
    "a1.sound()"
   ]
  },
  {
   "cell_type": "code",
   "execution_count": 27,
   "id": "402d0f00",
   "metadata": {},
   "outputs": [
    {
     "data": {
      "text/plain": [
       "'Meow!'"
      ]
     },
     "execution_count": 27,
     "metadata": {},
     "output_type": "execute_result"
    }
   ],
   "source": [
    "b1.sound()"
   ]
  },
  {
   "cell_type": "code",
   "execution_count": null,
   "id": "ca7f0c23",
   "metadata": {},
   "outputs": [],
   "source": []
  },
  {
   "cell_type": "code",
   "execution_count": null,
   "id": "fae4b8ac",
   "metadata": {},
   "outputs": [],
   "source": []
  },
  {
   "cell_type": "code",
   "execution_count": 29,
   "id": "14711bd0",
   "metadata": {},
   "outputs": [],
   "source": [
    "#Polymorphism with Inheritance (Method Overriding)\n",
    "\n",
    "class Vehicle:\n",
    "    def speed(self):\n",
    "        return \"Vehicle can go\"\n",
    "\n",
    "class Car(Vehicle):\n",
    "    def speed(self):\n",
    "        return \"Car runs at 120 km/h\"\n",
    "\n",
    "class Bike(Vehicle):\n",
    "    def speed(self):\n",
    "        return \"Bike runs at 80 km/h\"\n",
    "\n",
    "\n"
   ]
  },
  {
   "cell_type": "code",
   "execution_count": 30,
   "id": "c07a34f6",
   "metadata": {},
   "outputs": [],
   "source": [
    "v = Vehicle()\n",
    "c = Car()\n",
    "b = Bike()\n",
    "\n"
   ]
  },
  {
   "cell_type": "code",
   "execution_count": 31,
   "id": "dc61c298",
   "metadata": {},
   "outputs": [
    {
     "data": {
      "text/plain": [
       "'Vehicle can go'"
      ]
     },
     "execution_count": 31,
     "metadata": {},
     "output_type": "execute_result"
    }
   ],
   "source": [
    "v.speed()"
   ]
  },
  {
   "cell_type": "code",
   "execution_count": 32,
   "id": "5e55c91d",
   "metadata": {},
   "outputs": [
    {
     "data": {
      "text/plain": [
       "'Car runs at 120 km/h'"
      ]
     },
     "execution_count": 32,
     "metadata": {},
     "output_type": "execute_result"
    }
   ],
   "source": [
    "c.speed()"
   ]
  },
  {
   "cell_type": "code",
   "execution_count": 33,
   "id": "2b55e85d",
   "metadata": {},
   "outputs": [
    {
     "data": {
      "text/plain": [
       "'Bike runs at 80 km/h'"
      ]
     },
     "execution_count": 33,
     "metadata": {},
     "output_type": "execute_result"
    }
   ],
   "source": [
    "b.speed()"
   ]
  },
  {
   "cell_type": "code",
   "execution_count": null,
   "id": "1db60c59",
   "metadata": {},
   "outputs": [],
   "source": []
  },
  {
   "cell_type": "code",
   "execution_count": null,
   "id": "737180bf",
   "metadata": {},
   "outputs": [],
   "source": []
  },
  {
   "cell_type": "code",
   "execution_count": null,
   "id": "9de6b51e",
   "metadata": {},
   "outputs": [],
   "source": []
  },
  {
   "cell_type": "code",
   "execution_count": null,
   "id": "218f3df9",
   "metadata": {},
   "outputs": [],
   "source": []
  },
  {
   "cell_type": "code",
   "execution_count": null,
   "id": "e7c46ba4",
   "metadata": {},
   "outputs": [],
   "source": []
  },
  {
   "cell_type": "code",
   "execution_count": null,
   "id": "1af05cc6",
   "metadata": {},
   "outputs": [],
   "source": []
  },
  {
   "cell_type": "code",
   "execution_count": null,
   "id": "9c30c914",
   "metadata": {},
   "outputs": [],
   "source": [
    "# method overloading\n",
    "\n",
    "#Method Overloading = same method name but different number of parameters or types of parameters."
   ]
  },
  {
   "cell_type": "code",
   "execution_count": 39,
   "id": "95ecff1c",
   "metadata": {},
   "outputs": [],
   "source": [
    "class Example:\n",
    "    def show(self, a):\n",
    "        print(a)\n",
    "\n",
    "    def show(self, a, b=10):   \n",
    "        print(a, b)\n",
    "\n"
   ]
  },
  {
   "cell_type": "code",
   "execution_count": null,
   "id": "03c1f8e1",
   "metadata": {},
   "outputs": [],
   "source": []
  },
  {
   "cell_type": "code",
   "execution_count": 40,
   "id": "074455c2",
   "metadata": {},
   "outputs": [],
   "source": [
    "a1 = Example()"
   ]
  },
  {
   "cell_type": "code",
   "execution_count": 41,
   "id": "9ce7f9a2",
   "metadata": {},
   "outputs": [
    {
     "name": "stdout",
     "output_type": "stream",
     "text": [
      "10 29\n"
     ]
    }
   ],
   "source": [
    "a1.show(10,29)"
   ]
  },
  {
   "cell_type": "code",
   "execution_count": 42,
   "id": "6961cd2a",
   "metadata": {},
   "outputs": [
    {
     "name": "stdout",
     "output_type": "stream",
     "text": [
      "10 10\n"
     ]
    }
   ],
   "source": [
    "a1.show(10)"
   ]
  },
  {
   "cell_type": "code",
   "execution_count": null,
   "id": "6c89f89b",
   "metadata": {},
   "outputs": [],
   "source": []
  },
  {
   "cell_type": "code",
   "execution_count": null,
   "id": "6ff9a8b6",
   "metadata": {},
   "outputs": [],
   "source": []
  },
  {
   "cell_type": "code",
   "execution_count": null,
   "id": "c3dbf975",
   "metadata": {},
   "outputs": [],
   "source": []
  },
  {
   "cell_type": "code",
   "execution_count": null,
   "id": "cb4d4914",
   "metadata": {},
   "outputs": [],
   "source": []
  },
  {
   "cell_type": "code",
   "execution_count": null,
   "id": "f1837134",
   "metadata": {},
   "outputs": [],
   "source": [
    "class Calculator:\n",
    "    def add(self, a=0, b=0, c=0):\n",
    "        return a + b + c\n",
    "\n",
    "\n",
    "\n"
   ]
  },
  {
   "cell_type": "code",
   "execution_count": 47,
   "id": "0bc43a56",
   "metadata": {},
   "outputs": [],
   "source": [
    "c1 = Calculator()"
   ]
  },
  {
   "cell_type": "code",
   "execution_count": 48,
   "id": "35853237",
   "metadata": {},
   "outputs": [
    {
     "data": {
      "text/plain": [
       "0"
      ]
     },
     "execution_count": 48,
     "metadata": {},
     "output_type": "execute_result"
    }
   ],
   "source": [
    "c1.add()"
   ]
  },
  {
   "cell_type": "code",
   "execution_count": 51,
   "id": "a7981182",
   "metadata": {},
   "outputs": [
    {
     "data": {
      "text/plain": [
       "60"
      ]
     },
     "execution_count": 51,
     "metadata": {},
     "output_type": "execute_result"
    }
   ],
   "source": [
    "c1.add(10,20,30)"
   ]
  },
  {
   "cell_type": "code",
   "execution_count": null,
   "id": "88146cbe",
   "metadata": {},
   "outputs": [],
   "source": []
  },
  {
   "cell_type": "code",
   "execution_count": null,
   "id": "240e9d6f",
   "metadata": {},
   "outputs": [],
   "source": []
  },
  {
   "cell_type": "code",
   "execution_count": null,
   "id": "10fb223e",
   "metadata": {},
   "outputs": [],
   "source": []
  },
  {
   "cell_type": "code",
   "execution_count": null,
   "id": "78344d77",
   "metadata": {},
   "outputs": [],
   "source": []
  },
  {
   "cell_type": "code",
   "execution_count": null,
   "id": "6730e827",
   "metadata": {},
   "outputs": [],
   "source": [
    "# method overriding\n",
    "class Animal:\n",
    "    def sound(self):\n",
    "        return \"Some generic sound\"\n",
    "\n",
    "class Dog(Animal):\n",
    "    def sound(self):  # overriding parent method\n",
    "        return \"Bark\"\n",
    "\n",
    "class Cat(Animal):\n",
    "    def sound(self):\n",
    "        return \"Meow\"\n",
    "\n",
    "a = Animal()\n",
    "d = Dog()\n",
    "c = Cat()\n",
    "\n",
    "print(a.sound())  # Some generic sound\n",
    "print(d.sound())  # Bark\n",
    "print(c.sound())  # Meow\n"
   ]
  },
  {
   "cell_type": "code",
   "execution_count": null,
   "id": "c2fb9892",
   "metadata": {},
   "outputs": [],
   "source": []
  },
  {
   "cell_type": "code",
   "execution_count": null,
   "id": "438f9b66",
   "metadata": {},
   "outputs": [],
   "source": []
  },
  {
   "cell_type": "code",
   "execution_count": null,
   "id": "00d37b72",
   "metadata": {},
   "outputs": [],
   "source": []
  },
  {
   "cell_type": "code",
   "execution_count": null,
   "id": "c8e019b3",
   "metadata": {},
   "outputs": [],
   "source": []
  },
  {
   "cell_type": "code",
   "execution_count": null,
   "id": "851acbc3",
   "metadata": {},
   "outputs": [],
   "source": []
  },
  {
   "cell_type": "code",
   "execution_count": 52,
   "id": "4e459ad3",
   "metadata": {},
   "outputs": [],
   "source": [
    "class Account:\n",
    "    def interest_rate(self):\n",
    "        return 5  # default 5%\n",
    "\n",
    "class SavingsAccount(Account):\n",
    "    def interest_rate(self):\n",
    "        return 6  # override: 6%\n",
    "\n",
    "\n"
   ]
  },
  {
   "cell_type": "code",
   "execution_count": null,
   "id": "32e8bba7",
   "metadata": {},
   "outputs": [],
   "source": []
  },
  {
   "cell_type": "code",
   "execution_count": 53,
   "id": "7c385e36",
   "metadata": {},
   "outputs": [],
   "source": [
    "c1= SavingsAccount()\n",
    "p1=Account()"
   ]
  },
  {
   "cell_type": "code",
   "execution_count": 54,
   "id": "1eb82930",
   "metadata": {},
   "outputs": [
    {
     "data": {
      "text/plain": [
       "5"
      ]
     },
     "execution_count": 54,
     "metadata": {},
     "output_type": "execute_result"
    }
   ],
   "source": [
    "p1.interest_rate()"
   ]
  },
  {
   "cell_type": "code",
   "execution_count": 55,
   "id": "0438172d",
   "metadata": {},
   "outputs": [
    {
     "data": {
      "text/plain": [
       "6"
      ]
     },
     "execution_count": 55,
     "metadata": {},
     "output_type": "execute_result"
    }
   ],
   "source": [
    "c1.interest_rate()"
   ]
  },
  {
   "cell_type": "code",
   "execution_count": null,
   "id": "51263dc0",
   "metadata": {},
   "outputs": [],
   "source": []
  },
  {
   "cell_type": "code",
   "execution_count": null,
   "id": "ede921df",
   "metadata": {},
   "outputs": [],
   "source": []
  },
  {
   "cell_type": "code",
   "execution_count": null,
   "id": "da384526",
   "metadata": {},
   "outputs": [],
   "source": []
  },
  {
   "cell_type": "code",
   "execution_count": null,
   "id": "06f3818b",
   "metadata": {},
   "outputs": [],
   "source": []
  },
  {
   "cell_type": "code",
   "execution_count": null,
   "id": "f142fb38",
   "metadata": {},
   "outputs": [],
   "source": []
  },
  {
   "cell_type": "code",
   "execution_count": null,
   "id": "2a315a23",
   "metadata": {},
   "outputs": [],
   "source": []
  },
  {
   "cell_type": "code",
   "execution_count": null,
   "id": "885d7e48",
   "metadata": {},
   "outputs": [],
   "source": []
  },
  {
   "cell_type": "markdown",
   "id": "9182ec57",
   "metadata": {},
   "source": [
    "| Operator | Magic Method   | Example  |\n",
    "| -------- | -------------- | -------- |\n",
    "| `+`      | `__add__`      | `a + b`  |\n",
    "| `-`      | `__sub__`      | `a - b`  |\n",
    "| `*`      | `__mul__`      | `a * b`  |\n",
    "| `/`      | `__truediv__`  | `a / b`  |\n",
    "| `//`     | `__floordiv__` | `a // b` |\n",
    "| `%`      | `__mod__`      | `a % b`  |\n",
    "| `**`     | `__pow__`      | `a ** b` |\n",
    "| `<`      | `__lt__`       | `a < b`  |\n",
    "| `>`      | `__gt__`       | `a > b`  |\n",
    "| `==`     | `__eq__`       | `a == b` |\n"
   ]
  },
  {
   "cell_type": "code",
   "execution_count": null,
   "id": "562a5c01",
   "metadata": {},
   "outputs": [],
   "source": [
    "#In Python, operators like +, -, *, /, etc. are just methods with special names (called dunder methods – double underscore).\n",
    "\n",
    "#Operator Overloading means we can define how operators behave for user-defined classes.\n",
    "\n",
    "#👉 Example:\n",
    "\n",
    "#10 + 20 → Python calls int.__add__(10, 20) internally.\n",
    "\n",
    "#\"Hi\" * 3 → Python calls str.__mul__(\"Hi\", 3)."
   ]
  },
  {
   "cell_type": "code",
   "execution_count": null,
   "id": "05073100",
   "metadata": {},
   "outputs": [],
   "source": []
  },
  {
   "cell_type": "code",
   "execution_count": 58,
   "id": "dbf298a1",
   "metadata": {},
   "outputs": [],
   "source": [
    "class Book:\n",
    "    def __init__(self, pages):\n",
    "        self.pages = pages\n",
    "\n",
    "    def __add__(self, other):   # Overload +\n",
    "        return self.pages + other.pages\n"
   ]
  },
  {
   "cell_type": "code",
   "execution_count": 60,
   "id": "dd798d3f",
   "metadata": {},
   "outputs": [],
   "source": [
    "a1= Book(12)\n",
    "b1 = Book(15)"
   ]
  },
  {
   "cell_type": "code",
   "execution_count": null,
   "id": "c93e0192",
   "metadata": {},
   "outputs": [],
   "source": []
  },
  {
   "cell_type": "code",
   "execution_count": null,
   "id": "752e4b2c",
   "metadata": {},
   "outputs": [],
   "source": []
  },
  {
   "cell_type": "code",
   "execution_count": null,
   "id": "df8685e1",
   "metadata": {},
   "outputs": [],
   "source": []
  },
  {
   "cell_type": "code",
   "execution_count": null,
   "id": "af0232a5",
   "metadata": {},
   "outputs": [],
   "source": []
  },
  {
   "cell_type": "code",
   "execution_count": null,
   "id": "19b7a6ac",
   "metadata": {},
   "outputs": [],
   "source": []
  },
  {
   "cell_type": "code",
   "execution_count": 65,
   "id": "2ddf5799",
   "metadata": {},
   "outputs": [
    {
     "data": {
      "text/plain": [
       "[1, 4, 7, 2, 4, 8]"
      ]
     },
     "execution_count": 65,
     "metadata": {},
     "output_type": "execute_result"
    }
   ],
   "source": [
    "b1= [1,4,7]\n",
    "c1= [2,4,8]\n",
    "b1+c1"
   ]
  },
  {
   "cell_type": "code",
   "execution_count": null,
   "id": "a28426c7",
   "metadata": {},
   "outputs": [],
   "source": [
    "#[3,8,15]"
   ]
  },
  {
   "cell_type": "code",
   "execution_count": 78,
   "id": "a8c89f9d",
   "metadata": {},
   "outputs": [],
   "source": [
    " \n",
    "class CustomList:\n",
    "    def __init__(self, data):\n",
    "        self.data = data\n",
    "\n",
    "    def __add__(self, other):   # Overload +\n",
    "        # Add element-wise (zip stops at shortest list)\n",
    "        return  CustomList([a + b for a, b in zip(self.data, other.data)])\n",
    "\n",
    "    def __str__(self):  # For printing nicely\n",
    "        return str(self.data)\n",
    "\n",
    "\n",
    " "
   ]
  },
  {
   "cell_type": "code",
   "execution_count": 107,
   "id": "a546668c",
   "metadata": {},
   "outputs": [],
   "source": [
    " \n",
    "class CustomList1:\n",
    "    def __init__(self, data):\n",
    "        self.data = data\n",
    "\n",
    "    def __sub__(self, other):   # Overload +\n",
    "        # Add element-wise (zip stops at shortest list)\n",
    "        return  CustomList1([a - b for a, b in zip(self.data, other.data)])\n",
    "    def __add__(self, other):   # Overload +\n",
    "        # Add element-wise (zip stops at shortest list)\n",
    "        return  CustomList1([a + b for a, b in zip(self.data, other.data)])\n",
    "\n",
    "    def __str__(self):  # For printing nicely\n",
    "        return str(self.data)"
   ]
  },
  {
   "cell_type": "code",
   "execution_count": null,
   "id": "48b439ac",
   "metadata": {},
   "outputs": [],
   "source": []
  },
  {
   "cell_type": "code",
   "execution_count": 88,
   "id": "edd84dae",
   "metadata": {},
   "outputs": [],
   "source": [
    "\n",
    "# Example usage\n",
    "l1 = CustomList1([1, 2, 3])\n",
    "l2 = CustomList1([4, 5, 6])\n",
    "\n"
   ]
  },
  {
   "cell_type": "code",
   "execution_count": 89,
   "id": "51f2a419",
   "metadata": {},
   "outputs": [
    {
     "name": "stdout",
     "output_type": "stream",
     "text": [
      "[-3, -3, -3]\n"
     ]
    }
   ],
   "source": [
    "print(l1-l2)"
   ]
  },
  {
   "cell_type": "code",
   "execution_count": 90,
   "id": "33a71ae4",
   "metadata": {},
   "outputs": [
    {
     "name": "stdout",
     "output_type": "stream",
     "text": [
      "[5, 7, 9]\n"
     ]
    }
   ],
   "source": [
    "print(l1+l2)"
   ]
  },
  {
   "cell_type": "code",
   "execution_count": 104,
   "id": "ce9f388f",
   "metadata": {},
   "outputs": [
    {
     "name": "stdout",
     "output_type": "stream",
     "text": [
      "<class '__main__.CustomList1'>\n"
     ]
    }
   ],
   "source": [
    "print(type(l1+l2))"
   ]
  },
  {
   "cell_type": "code",
   "execution_count": null,
   "id": "a60910b0",
   "metadata": {},
   "outputs": [],
   "source": []
  },
  {
   "cell_type": "code",
   "execution_count": null,
   "id": "85f4f850",
   "metadata": {},
   "outputs": [],
   "source": []
  },
  {
   "cell_type": "code",
   "execution_count": null,
   "id": "20386a9a",
   "metadata": {},
   "outputs": [],
   "source": []
  },
  {
   "cell_type": "code",
   "execution_count": 61,
   "id": "48fa9301",
   "metadata": {},
   "outputs": [
    {
     "data": {
      "text/plain": [
       "27"
      ]
     },
     "execution_count": 61,
     "metadata": {},
     "output_type": "execute_result"
    }
   ],
   "source": [
    "a1+b1"
   ]
  },
  {
   "cell_type": "code",
   "execution_count": 62,
   "id": "936db24e",
   "metadata": {},
   "outputs": [],
   "source": [
    "class Book1:\n",
    "    def __init__(self, pages):\n",
    "        self.pages = pages\n",
    "\n",
    "    def addt(self, other):   # Overload +\n",
    "        return self.pages + other"
   ]
  },
  {
   "cell_type": "code",
   "execution_count": 63,
   "id": "e768e15b",
   "metadata": {},
   "outputs": [],
   "source": [
    "a1= Book1(12)\n",
    "b1 = Book1(15)"
   ]
  },
  {
   "cell_type": "code",
   "execution_count": 64,
   "id": "178fa079",
   "metadata": {},
   "outputs": [
    {
     "ename": "TypeError",
     "evalue": "unsupported operand type(s) for +: 'Book1' and 'Book1'",
     "output_type": "error",
     "traceback": [
      "\u001b[31m---------------------------------------------------------------------------\u001b[39m",
      "\u001b[31mTypeError\u001b[39m                                 Traceback (most recent call last)",
      "\u001b[36mCell\u001b[39m\u001b[36m \u001b[39m\u001b[32mIn[64]\u001b[39m\u001b[32m, line 1\u001b[39m\n\u001b[32m----> \u001b[39m\u001b[32m1\u001b[39m \u001b[43ma1\u001b[49m\u001b[43m+\u001b[49m\u001b[43mb1\u001b[49m\n",
      "\u001b[31mTypeError\u001b[39m: unsupported operand type(s) for +: 'Book1' and 'Book1'"
     ]
    }
   ],
   "source": [
    "a1+b1"
   ]
  },
  {
   "cell_type": "code",
   "execution_count": null,
   "id": "b0ad9922",
   "metadata": {},
   "outputs": [],
   "source": []
  },
  {
   "cell_type": "code",
   "execution_count": 8,
   "id": "c403aec9",
   "metadata": {},
   "outputs": [
    {
     "name": "stdout",
     "output_type": "stream",
     "text": [
      "(7, 10)\n",
      "(-3, -4)\n"
     ]
    }
   ],
   "source": [
    "class Point:\n",
    "    def __init__(self, x, y):\n",
    "        self.x, self.y = x, y\n",
    "\n",
    "    def __add__(self, other):   # +\n",
    "        return Point(self.x + other.x, self.y + other.y)\n",
    "\n",
    "    def __sub__(self, other):   # -\n",
    "        return Point(self.x - other.x, self.y - other.y)\n",
    "\n",
    "    def __str__(self):          # print() readable\n",
    "        return f\"({self.x}, {self.y})\"\n",
    "\n",
    "p1 = Point(2, 3)\n",
    "p2 = Point(5, 7)\n",
    "\n",
    "print(p1 + p2)   # (7, 10)\n",
    "print(p1 - p2)   # (-3, -4)\n"
   ]
  },
  {
   "cell_type": "code",
   "execution_count": 92,
   "id": "1c9971fe",
   "metadata": {},
   "outputs": [
    {
     "name": "stdout",
     "output_type": "stream",
     "text": [
      "False\n",
      "True\n"
     ]
    }
   ],
   "source": [
    "class Student:\n",
    "    def __init__(self, marks):\n",
    "        self.marks = marks\n",
    "\n",
    "    def __gt__(self, other):  # Overload >\n",
    "        return self.marks > other.marks\n",
    "\n",
    "s1 = Student(85)\n",
    "s2 = Student(90)\n",
    "\n",
    "print(s1 > s2)  # False\n",
    "print(s2 > s1)  # True\n"
   ]
  },
  {
   "cell_type": "code",
   "execution_count": 94,
   "id": "3b0bf7ff",
   "metadata": {},
   "outputs": [
    {
     "name": "stdout",
     "output_type": "stream",
     "text": [
      "[6, 8]\n"
     ]
    }
   ],
   "source": [
    "class Vector:\n",
    "    def __init__(self, x, y):\n",
    "        self.x, self.y = x, y\n",
    "\n",
    "    def __add__(self, other):\n",
    "        return Vector(self.x + other.x, self.y + other.y)\n",
    "\n",
    "    def __str__(self):\n",
    "        return f\"[{self.x}, {self.y}]\"\n",
    "\n",
    "v1 = Vector(2, 3)\n",
    "v2 = Vector(4, 5)\n",
    "print(v1 + v2)   # (6, 8)\n"
   ]
  },
  {
   "cell_type": "code",
   "execution_count": null,
   "id": "47382a4f",
   "metadata": {},
   "outputs": [],
   "source": [
    "class Student:\n",
    "    def __init__(self, marks):\n",
    "        self.marks = marks\n",
    "\n",
    "    def __gt__(self, other):   # Greater than\n",
    "        return self.marks > other.marks\n",
    "\n",
    "    def __eq__(self, other):   # Equal to\n",
    "        return self.marks == other.marks\n",
    "\n",
    "s1 = Student(85)\n",
    "s2 = Student(90)\n",
    "s3 = Student(85)\n",
    "\n",
    "print(s1 > s2)   # False\n",
    "print(s1 == s3)  # True\n"
   ]
  },
  {
   "cell_type": "code",
   "execution_count": 97,
   "id": "6bc0f346",
   "metadata": {},
   "outputs": [],
   "source": [
    "class CustomList:\n",
    "    def __init__(self, items):\n",
    "        self.items = items\n",
    "\n",
    "    def __len__(self):\n",
    "        return len(self.items)\n",
    "\n",
    "cl = CustomList([1, 2, 3, 4, 5])\n",
    "\n"
   ]
  },
  {
   "cell_type": "code",
   "execution_count": 99,
   "id": "46dd6026",
   "metadata": {},
   "outputs": [
    {
     "data": {
      "text/plain": [
       "5"
      ]
     },
     "execution_count": 99,
     "metadata": {},
     "output_type": "execute_result"
    }
   ],
   "source": [
    "len(cl)"
   ]
  },
  {
   "cell_type": "code",
   "execution_count": null,
   "id": "bfa2cb3f",
   "metadata": {},
   "outputs": [],
   "source": []
  },
  {
   "cell_type": "code",
   "execution_count": null,
   "id": "1c4fa205",
   "metadata": {},
   "outputs": [],
   "source": []
  },
  {
   "cell_type": "code",
   "execution_count": null,
   "id": "0896a608",
   "metadata": {},
   "outputs": [],
   "source": []
  },
  {
   "cell_type": "code",
   "execution_count": null,
   "id": "03ed1663",
   "metadata": {},
   "outputs": [],
   "source": []
  },
  {
   "cell_type": "code",
   "execution_count": 100,
   "id": "97507624",
   "metadata": {},
   "outputs": [
    {
     "name": "stdout",
     "output_type": "stream",
     "text": [
      "$300\n"
     ]
    }
   ],
   "source": [
    "class Money:\n",
    "    def __init__(self, amount):\n",
    "        self.amount = amount\n",
    "\n",
    "    def __mul__(self, factor):\n",
    "        return Money(self.amount * factor)\n",
    "\n",
    "    def __str__(self):\n",
    "        return f\"${self.amount}\"\n",
    "\n",
    "m = Money(100)\n",
    "print(m * 3)   # $300\n"
   ]
  },
  {
   "cell_type": "code",
   "execution_count": 101,
   "id": "3cc79c92",
   "metadata": {},
   "outputs": [
    {
     "name": "stdout",
     "output_type": "stream",
     "text": [
      "20\n",
      "200\n"
     ]
    }
   ],
   "source": [
    "class MyList:\n",
    "    def __init__(self, data):\n",
    "        self.data = data\n",
    "\n",
    "    def __getitem__(self, index):   # Get element\n",
    "        return self.data[index]\n",
    "\n",
    "    def __setitem__(self, index, value):  # Set element\n",
    "        self.data[index] = value\n",
    "\n",
    "ml = MyList([10, 20, 30])\n",
    "print(ml[1])   # 20\n",
    "ml[1] = 200\n",
    "print(ml[1])   # 200\n"
   ]
  },
  {
   "cell_type": "code",
   "execution_count": null,
   "id": "8a40eafd",
   "metadata": {},
   "outputs": [],
   "source": [
    "class Book:\n",
    "    def __init__(self, title, pages):\n",
    "        self.title, self.pages = title, pages\n",
    "\n",
    "    def __str__(self):\n",
    "        return f\"{self.title} has {self.pages} pages\"\n",
    "\n",
    "    def __repr__(self):\n",
    "        return f\"Book('{self.title}', {self.pages})\"\n",
    "\n",
    "b = Book(\"Python Basics\", 300)\n",
    "print(str(b))   # Python Basics has 300 pages\n",
    "print(repr(b))  # Book('Python Basics', 300)\n"
   ]
  },
  {
   "cell_type": "code",
   "execution_count": null,
   "id": "6d64d465",
   "metadata": {},
   "outputs": [],
   "source": []
  },
  {
   "cell_type": "code",
   "execution_count": null,
   "id": "5b1a0feb",
   "metadata": {},
   "outputs": [],
   "source": [
    "class Point:\n",
    "    def __init__(self, x, y):\n",
    "        self.x, self.y = x, y\n",
    "\n",
    "    def __sub__(self, other):\n",
    "        return Point(self.x - other.x, self.y - other.y)\n",
    "\n",
    "    def __str__(self):\n",
    "        return f\"({self.x}, {self.y})\"\n",
    "\n",
    "p1 = Point(10, 20)\n",
    "p2 = Point(3, 4)\n",
    "print(p1 - p2)   # (7, 16)\n"
   ]
  },
  {
   "cell_type": "code",
   "execution_count": null,
   "id": "d7913bcc",
   "metadata": {},
   "outputs": [],
   "source": [
    "class CustomList:\n",
    "    def __init__(self, data):\n",
    "        self.data = data\n",
    "\n",
    "    def __add__(self, other):   # Overload +\n",
    "        # Add element-wise (zip stops at shortest list)\n",
    "        return CustomList([a + b for a, b in zip(self.data, other.data)])\n",
    "\n",
    "    def __str__(self):  # For printing nicely\n",
    "        return str(self.data)\n",
    "\n",
    "\n",
    "# Example usage\n",
    "l1 = CustomList([1, 2, 3])\n",
    "l2 = CustomList([4, 5, 6])\n",
    "\n",
    "result = l1 + l2   # Uses __add__\n",
    "print(result)      # [5, 7, 9]\n"
   ]
  },
  {
   "cell_type": "code",
   "execution_count": null,
   "id": "3f432fed",
   "metadata": {},
   "outputs": [],
   "source": []
  },
  {
   "cell_type": "code",
   "execution_count": 102,
   "id": "f2061e69",
   "metadata": {},
   "outputs": [],
   "source": [
    "a1= 5\n",
    "b1=6"
   ]
  },
  {
   "cell_type": "code",
   "execution_count": 103,
   "id": "12b85d79",
   "metadata": {},
   "outputs": [
    {
     "name": "stdout",
     "output_type": "stream",
     "text": [
      "<class 'int'>\n"
     ]
    }
   ],
   "source": [
    "print(type(a1+b1))"
   ]
  },
  {
   "cell_type": "code",
   "execution_count": 105,
   "id": "01f5f5fd",
   "metadata": {},
   "outputs": [
    {
     "name": "stdout",
     "output_type": "stream",
     "text": [
      "<class '__main__.CustomList1'>\n"
     ]
    }
   ],
   "source": [
    "print(type(l1+l2))"
   ]
  },
  {
   "cell_type": "code",
   "execution_count": null,
   "id": "a5929034",
   "metadata": {},
   "outputs": [],
   "source": []
  },
  {
   "cell_type": "code",
   "execution_count": 106,
   "id": "f4fcd074",
   "metadata": {},
   "outputs": [
    {
     "name": "stdout",
     "output_type": "stream",
     "text": [
      "['__add__', '__class__', '__delattr__', '__dict__', '__dir__', '__doc__', '__eq__', '__format__', '__ge__', '__getattribute__', '__getstate__', '__gt__', '__hash__', '__init__', '__init_subclass__', '__le__', '__lt__', '__module__', '__ne__', '__new__', '__reduce__', '__reduce_ex__', '__repr__', '__setattr__', '__sizeof__', '__str__', '__sub__', '__subclasshook__', '__weakref__']\n"
     ]
    }
   ],
   "source": [
    "print(dir(CustomList1))"
   ]
  },
  {
   "cell_type": "code",
   "execution_count": 108,
   "id": "d2aef71b",
   "metadata": {},
   "outputs": [
    {
     "name": "stdout",
     "output_type": "stream",
     "text": [
      "['__abs__', '__add__', '__and__', '__bool__', '__ceil__', '__class__', '__delattr__', '__dir__', '__divmod__', '__doc__', '__eq__', '__float__', '__floor__', '__floordiv__', '__format__', '__ge__', '__getattribute__', '__getnewargs__', '__getstate__', '__gt__', '__hash__', '__index__', '__init__', '__init_subclass__', '__int__', '__invert__', '__le__', '__lshift__', '__lt__', '__mod__', '__mul__', '__ne__', '__neg__', '__new__', '__or__', '__pos__', '__pow__', '__radd__', '__rand__', '__rdivmod__', '__reduce__', '__reduce_ex__', '__repr__', '__rfloordiv__', '__rlshift__', '__rmod__', '__rmul__', '__ror__', '__round__', '__rpow__', '__rrshift__', '__rshift__', '__rsub__', '__rtruediv__', '__rxor__', '__setattr__', '__sizeof__', '__str__', '__sub__', '__subclasshook__', '__truediv__', '__trunc__', '__xor__', 'as_integer_ratio', 'bit_count', 'bit_length', 'conjugate', 'denominator', 'from_bytes', 'imag', 'is_integer', 'numerator', 'real', 'to_bytes']\n"
     ]
    }
   ],
   "source": [
    "print(dir(int))"
   ]
  },
  {
   "cell_type": "code",
   "execution_count": null,
   "id": "64f9402c",
   "metadata": {},
   "outputs": [],
   "source": []
  },
  {
   "cell_type": "code",
   "execution_count": null,
   "id": "b4acd294",
   "metadata": {},
   "outputs": [],
   "source": []
  },
  {
   "cell_type": "code",
   "execution_count": null,
   "id": "0ad8d226",
   "metadata": {},
   "outputs": [],
   "source": []
  },
  {
   "cell_type": "code",
   "execution_count": null,
   "id": "8b883ce7",
   "metadata": {},
   "outputs": [],
   "source": []
  },
  {
   "cell_type": "code",
   "execution_count": 10,
   "id": "ef8bb116",
   "metadata": {},
   "outputs": [
    {
     "data": {
      "text/plain": [
       "5"
      ]
     },
     "execution_count": 10,
     "metadata": {},
     "output_type": "execute_result"
    }
   ],
   "source": [
    "(2).__add__(3)\n"
   ]
  },
  {
   "cell_type": "code",
   "execution_count": 11,
   "id": "05b889e1",
   "metadata": {},
   "outputs": [
    {
     "name": "stdout",
     "output_type": "stream",
     "text": [
      "<class 'int'>\n",
      "<class 'int'>\n"
     ]
    }
   ],
   "source": [
    "x = 5\n",
    "print(type(x))       # <class 'int'>\n",
    "print(x.__class__)   # <class 'int'>\n"
   ]
  },
  {
   "cell_type": "code",
   "execution_count": 12,
   "id": "86e57fa2",
   "metadata": {},
   "outputs": [
    {
     "data": {
      "text/plain": [
       "int"
      ]
     },
     "execution_count": 12,
     "metadata": {},
     "output_type": "execute_result"
    }
   ],
   "source": [
    "type(x)"
   ]
  },
  {
   "cell_type": "code",
   "execution_count": 13,
   "id": "9ca092e1",
   "metadata": {},
   "outputs": [
    {
     "data": {
      "text/plain": [
       "int"
      ]
     },
     "execution_count": 13,
     "metadata": {},
     "output_type": "execute_result"
    }
   ],
   "source": [
    "x.__class__"
   ]
  },
  {
   "cell_type": "code",
   "execution_count": 14,
   "id": "11b654a5",
   "metadata": {},
   "outputs": [
    {
     "name": "stdout",
     "output_type": "stream",
     "text": [
      "<class 'int'>\n"
     ]
    }
   ],
   "source": [
    "print(type(x))"
   ]
  },
  {
   "cell_type": "code",
   "execution_count": null,
   "id": "2841df66",
   "metadata": {},
   "outputs": [],
   "source": [
    "result = a1.__add__(b1)\n"
   ]
  },
  {
   "cell_type": "code",
   "execution_count": 15,
   "id": "2c62432f",
   "metadata": {},
   "outputs": [
    {
     "name": "stdout",
     "output_type": "stream",
     "text": [
      "['__abs__', '__add__', '__and__', '__bool__', '__ceil__', '__class__', '__delattr__', '__dir__', '__divmod__', '__doc__', '__eq__', '__float__', '__floor__', '__floordiv__', '__format__', '__ge__', '__getattribute__', '__getnewargs__', '__getstate__', '__gt__', '__hash__', '__index__', '__init__', '__init_subclass__', '__int__', '__invert__', '__le__', '__lshift__', '__lt__', '__mod__', '__mul__', '__ne__', '__neg__', '__new__', '__or__', '__pos__', '__pow__', '__radd__', '__rand__', '__rdivmod__', '__reduce__', '__reduce_ex__', '__repr__', '__rfloordiv__', '__rlshift__', '__rmod__', '__rmul__', '__ror__', '__round__', '__rpow__', '__rrshift__', '__rshift__', '__rsub__', '__rtruediv__', '__rxor__', '__setattr__', '__sizeof__', '__str__', '__sub__', '__subclasshook__', '__truediv__', '__trunc__', '__xor__', 'as_integer_ratio', 'bit_count', 'bit_length', 'conjugate', 'denominator', 'from_bytes', 'imag', 'is_integer', 'numerator', 'real', 'to_bytes']\n"
     ]
    }
   ],
   "source": [
    "print(dir(int))\n"
   ]
  },
  {
   "cell_type": "code",
   "execution_count": null,
   "id": "90c805d4",
   "metadata": {},
   "outputs": [],
   "source": []
  },
  {
   "cell_type": "code",
   "execution_count": 109,
   "id": "72c6f09e",
   "metadata": {},
   "outputs": [],
   "source": [
    "b=3.5"
   ]
  },
  {
   "cell_type": "code",
   "execution_count": 110,
   "id": "dd29edfc",
   "metadata": {},
   "outputs": [
    {
     "name": "stdout",
     "output_type": "stream",
     "text": [
      "<class 'float'>\n"
     ]
    }
   ],
   "source": [
    "print(type(b))"
   ]
  },
  {
   "cell_type": "code",
   "execution_count": null,
   "id": "f427e998",
   "metadata": {},
   "outputs": [],
   "source": [
    "#public members\n",
    "class Student:\n",
    "    def __init__(self, name, age):\n",
    "        self.name = name   # public\n",
    "        self.age = age     # public\n",
    "\n",
    "s = Student(\"Alice\", 21)\n",
    "print(s.name)   # Alice\n",
    "print(s.age)    # 21\n"
   ]
  },
  {
   "cell_type": "code",
   "execution_count": null,
   "id": "8d010e46",
   "metadata": {},
   "outputs": [],
   "source": [
    "# protected memebers\n",
    "class Student:\n",
    "    def __init__(self, name, age):\n",
    "        self._name = name    # protected\n",
    "        self._age = age\n",
    "\n",
    "s = Student(\"Bob\", 22)\n",
    "print(s._name)   # Bob (⚠️ possible but not recommended)\n"
   ]
  },
  {
   "cell_type": "code",
   "execution_count": null,
   "id": "1256b8a5",
   "metadata": {},
   "outputs": [],
   "source": [
    "class BankAccount:\n",
    "    def __init__(self, balance):\n",
    "        self.__balance = balance   # private\n",
    "\n",
    "    # Getter\n",
    "    def get_balance(self):\n",
    "        return self.__balance\n",
    "\n",
    "    # Setter\n",
    "    def deposit(self, amount):\n",
    "        if amount > 0:\n",
    "            self.__balance += amount\n",
    "        else:\n",
    "            print(\"Invalid deposit amount!\")\n",
    "\n",
    "    def withdraw(self, amount):\n",
    "        if 0 < amount <= self.__balance:\n",
    "            self.__balance -= amount\n",
    "        else:\n",
    "            print(\"Invalid withdrawal amount!\")\n",
    "\n",
    "# Usage\n",
    "acc = BankAccount(1000)\n",
    "\n",
    "print(acc.get_balance())   # 1000\n",
    "acc.deposit(500)\n",
    "print(acc.get_balance())   # 1500\n",
    "acc.withdraw(2000)         # Invalid withdrawal amount!\n"
   ]
  },
  {
   "cell_type": "code",
   "execution_count": null,
   "id": "7e2cefa7",
   "metadata": {},
   "outputs": [],
   "source": [
    "class BankAccount:\n",
    "    def __init__(self, balance):\n",
    "        self.__balance = balance   # private\n",
    "\n",
    "acc = BankAccount(1000)\n",
    "\n",
    "# print(acc.__balance)   # ❌ AttributeError\n",
    "\n",
    "# Access via name mangling\n",
    "print(acc._BankAccount__balance)   # ✅ 1000\n"
   ]
  }
 ],
 "metadata": {
  "kernelspec": {
   "display_name": "base",
   "language": "python",
   "name": "python3"
  },
  "language_info": {
   "codemirror_mode": {
    "name": "ipython",
    "version": 3
   },
   "file_extension": ".py",
   "mimetype": "text/x-python",
   "name": "python",
   "nbconvert_exporter": "python",
   "pygments_lexer": "ipython3",
   "version": "3.12.9"
  }
 },
 "nbformat": 4,
 "nbformat_minor": 5
}
