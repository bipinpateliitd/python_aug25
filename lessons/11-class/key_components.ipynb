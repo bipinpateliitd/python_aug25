{
 "cells": [
  {
   "cell_type": "code",
   "execution_count": null,
   "id": "aebacac8",
   "metadata": {},
   "outputs": [],
   "source": [
    "class Student:  # This is the class name\n",
    "    pass"
   ]
  },
  {
   "cell_type": "code",
   "execution_count": null,
   "id": "30f0c501",
   "metadata": {},
   "outputs": [],
   "source": []
  },
  {
   "cell_type": "code",
   "execution_count": 14,
   "id": "7e6a584d",
   "metadata": {},
   "outputs": [],
   "source": [
    "class Car:\n",
    "    \n",
    "     def __init__(self, color, engine, types):  # constructor \n",
    "         self.color = color\n",
    "         self.engine =engine\n",
    "         self.types = types"
   ]
  },
  {
   "cell_type": "code",
   "execution_count": null,
   "id": "a0761866",
   "metadata": {},
   "outputs": [],
   "source": [
    "# when you call a function first thing it will run constructor  always"
   ]
  },
  {
   "cell_type": "code",
   "execution_count": null,
   "id": "90815c5f",
   "metadata": {},
   "outputs": [],
   "source": [
    "# constructor purpose it is to fill the form with user input"
   ]
  },
  {
   "cell_type": "code",
   "execution_count": null,
   "id": "4745c8f3",
   "metadata": {},
   "outputs": [],
   "source": [
    "ford = Car(\"Red\", 1500, \"Diesel\")"
   ]
  },
  {
   "cell_type": "code",
   "execution_count": null,
   "id": "236b3e15",
   "metadata": {},
   "outputs": [],
   "source": []
  },
  {
   "cell_type": "code",
   "execution_count": null,
   "id": "059fedaf",
   "metadata": {},
   "outputs": [],
   "source": []
  },
  {
   "cell_type": "code",
   "execution_count": 12,
   "id": "bdde1c79",
   "metadata": {},
   "outputs": [],
   "source": [
    "tata = Car(\"Blue\",1200, \"EV\")\n",
    "maruti =Car(\"green\",800, \"Disel\")"
   ]
  },
  {
   "cell_type": "code",
   "execution_count": 13,
   "id": "16311c39",
   "metadata": {},
   "outputs": [
    {
     "data": {
      "text/plain": [
       "'green'"
      ]
     },
     "execution_count": 13,
     "metadata": {},
     "output_type": "execute_result"
    }
   ],
   "source": [
    "maruti.color"
   ]
  },
  {
   "cell_type": "code",
   "execution_count": null,
   "id": "92a1c925",
   "metadata": {},
   "outputs": [],
   "source": []
  },
  {
   "cell_type": "code",
   "execution_count": 9,
   "id": "e23a015a",
   "metadata": {},
   "outputs": [
    {
     "data": {
      "text/plain": [
       "'Blue'"
      ]
     },
     "execution_count": 9,
     "metadata": {},
     "output_type": "execute_result"
    }
   ],
   "source": [
    "tata.color"
   ]
  },
  {
   "cell_type": "code",
   "execution_count": 10,
   "id": "5e09764d",
   "metadata": {},
   "outputs": [
    {
     "data": {
      "text/plain": [
       "1200"
      ]
     },
     "execution_count": 10,
     "metadata": {},
     "output_type": "execute_result"
    }
   ],
   "source": [
    "tata.engine"
   ]
  },
  {
   "cell_type": "code",
   "execution_count": 11,
   "id": "b17c3ef5",
   "metadata": {},
   "outputs": [
    {
     "data": {
      "text/plain": [
       "'EV'"
      ]
     },
     "execution_count": 11,
     "metadata": {},
     "output_type": "execute_result"
    }
   ],
   "source": [
    "tata.types"
   ]
  },
  {
   "cell_type": "code",
   "execution_count": null,
   "id": "09bd896c",
   "metadata": {},
   "outputs": [],
   "source": []
  },
  {
   "cell_type": "code",
   "execution_count": null,
   "id": "99ec8083",
   "metadata": {},
   "outputs": [],
   "source": []
  },
  {
   "cell_type": "code",
   "execution_count": null,
   "id": "937adf37",
   "metadata": {},
   "outputs": [],
   "source": []
  },
  {
   "cell_type": "code",
   "execution_count": null,
   "id": "07dd40ca",
   "metadata": {},
   "outputs": [],
   "source": []
  },
  {
   "cell_type": "code",
   "execution_count": null,
   "id": "63510613",
   "metadata": {},
   "outputs": [],
   "source": [
    "#Constructor (__init__) - The Builder\n",
    "#The constructor runs automatically when you create an object. It's like filling out a form when you sign up for something."
   ]
  },
  {
   "cell_type": "code",
   "execution_count": 18,
   "id": "5ab4bac5",
   "metadata": {},
   "outputs": [],
   "source": [
    "class Student:\n",
    "    def __init__(my, name, age, grade):  # Constructor\n",
    "        # This runs automatically when you create a student\n",
    "        my.name = name      # Set the student's name\n",
    "        my.age = age        # Set the student's age\n",
    "        my.grade = grade    # Set the student's grade\n",
    "        \n",
    "\n",
    "\n",
    "\n",
    "\n"
   ]
  },
  {
   "cell_type": "code",
   "execution_count": 22,
   "id": "590d7b67",
   "metadata": {},
   "outputs": [
    {
     "data": {
      "text/plain": [
       "16"
      ]
     },
     "execution_count": 22,
     "metadata": {},
     "output_type": "execute_result"
    }
   ],
   "source": [
    "# When you do this:\n",
    "ritesh = Student(\"Ritesh\", 16,\"A\")\n",
    "ritesh.age"
   ]
  },
  {
   "cell_type": "code",
   "execution_count": null,
   "id": "d4662d13",
   "metadata": {},
   "outputs": [],
   "source": []
  },
  {
   "cell_type": "code",
   "execution_count": 34,
   "id": "ba397521",
   "metadata": {},
   "outputs": [],
   "source": [
    "class Student:\n",
    "    def __init__(my, name, age, grade):  # Constructor\n",
    "        # This runs automatically when you create a student\n",
    "        my.name = name      # Set the student's name\n",
    "        my.age = age        # Set the student's age\n",
    "        my.grade = grade    # Set the student's grade\n",
    "        \n",
    "    def student_information1(my):\n",
    "        print(f\"This is {my.name} and my age is {my.age} and iam located in\")\n",
    "    \n",
    "    def student_information2(my, city):\n",
    "        print(f\"This is {my.name} and my age is {my.age} and iam located in {city}\")\n",
    "        \n",
    "    \n",
    "        "
   ]
  },
  {
   "cell_type": "code",
   "execution_count": 35,
   "id": "0012f312",
   "metadata": {},
   "outputs": [
    {
     "data": {
      "text/plain": [
       "24"
      ]
     },
     "execution_count": 35,
     "metadata": {},
     "output_type": "execute_result"
    }
   ],
   "source": [
    "rahul = Student(\"rahul\",24, \"A\")\n",
    "rahul.age"
   ]
  },
  {
   "cell_type": "code",
   "execution_count": 36,
   "id": "c7024ae2",
   "metadata": {},
   "outputs": [
    {
     "name": "stdout",
     "output_type": "stream",
     "text": [
      "This is rahul and my age is 24 and iam located in\n"
     ]
    }
   ],
   "source": [
    "rahul.student_information1()"
   ]
  },
  {
   "cell_type": "code",
   "execution_count": 30,
   "id": "864da0d2",
   "metadata": {},
   "outputs": [
    {
     "name": "stdout",
     "output_type": "stream",
     "text": [
      "This is rahul and my age is 24 and iam located in bangalore\n"
     ]
    }
   ],
   "source": [
    "rahul.student_information2(\"bangalore\")"
   ]
  },
  {
   "cell_type": "code",
   "execution_count": null,
   "id": "a00a63e2",
   "metadata": {},
   "outputs": [],
   "source": [
    " #Attributes - The Data Storage\n",
    "#Attributes are like variables that belong to each object. Think of them as the object's characteristics or properties."
   ]
  },
  {
   "cell_type": "code",
   "execution_count": 37,
   "id": "6c9931da",
   "metadata": {},
   "outputs": [
    {
     "name": "stdout",
     "output_type": "stream",
     "text": [
      "iPhone\n",
      "100\n"
     ]
    }
   ],
   "source": [
    "class Phone:\n",
    "    def __init__(self, brand, model):\n",
    "        # These are ATTRIBUTES (data that each phone stores)\n",
    "        self.brand = brand           # Instance attribute\n",
    "        self.model = model           # Instance attribute\n",
    "        self.battery_level = 100     # Instance attribute (starts at 100%)\n",
    "        self.is_on = False          # Instance attribute (starts off)\n",
    "\n",
    "my_phone = Phone(\"iPhone\", \"15 Pro\")\n",
    "print(my_phone.brand)        # \"iPhone\"\n",
    "print(my_phone.battery_level) # 100"
   ]
  },
  {
   "cell_type": "code",
   "execution_count": 39,
   "id": "12394cff",
   "metadata": {},
   "outputs": [
    {
     "name": "stdout",
     "output_type": "stream",
     "text": [
      "red\n",
      "blue\n"
     ]
    },
    {
     "data": {
      "text/plain": [
       "0"
      ]
     },
     "execution_count": 39,
     "metadata": {},
     "output_type": "execute_result"
    }
   ],
   "source": [
    "#Types of Attributes:\n",
    "#Instance Attributes (Each object has its own copy)\n",
    "\n",
    "class Car:\n",
    "    def __init__(self, color, model):\n",
    "        self.color = color    # Each car has its own color\n",
    "        self.model = model    # Each car has its own model\n",
    "        self.speed = 0        # Each car starts at 0 speed\n",
    "\n",
    "car1 = Car(\"red\", \"Toyota\")\n",
    "car2 = Car(\"blue\", \"Honda\")\n",
    "\n",
    "print(car1.color)  # \"red\"\n",
    "print(car2.color)  # \"blue\" - different from car1!\n",
    "car1.speed"
   ]
  },
  {
   "cell_type": "code",
   "execution_count": null,
   "id": "6c68f3e7",
   "metadata": {},
   "outputs": [],
   "source": []
  },
  {
   "cell_type": "code",
   "execution_count": null,
   "id": "3a214118",
   "metadata": {},
   "outputs": [],
   "source": []
  },
  {
   "cell_type": "code",
   "execution_count": null,
   "id": "b3394ab7",
   "metadata": {},
   "outputs": [],
   "source": []
  },
  {
   "cell_type": "code",
   "execution_count": 40,
   "id": "48accc73",
   "metadata": {},
   "outputs": [],
   "source": [
    "class Dog:\n",
    "    species = \"Canis lupus\"  # CLASS ATTRIBUTE - same for all dogs\n",
    "    total_dogs = 0           # CLASS ATTRIBUTE - counts all dogs\n",
    "    \n",
    "    def __init__(self, name):\n",
    "        self.name = name     # INSTANCE ATTRIBUTE - unique to each dog\n",
    "        Dog.total_dogs += 1  # Increase the count when a new dog is created\n",
    "\n"
   ]
  },
  {
   "cell_type": "code",
   "execution_count": 41,
   "id": "2fddb4b8",
   "metadata": {},
   "outputs": [
    {
     "data": {
      "text/plain": [
       "'Canis lupus'"
      ]
     },
     "execution_count": 41,
     "metadata": {},
     "output_type": "execute_result"
    }
   ],
   "source": [
    "dog1 = Dog(\"abc\")\n",
    "dog1.species"
   ]
  },
  {
   "cell_type": "code",
   "execution_count": 42,
   "id": "c902d44b",
   "metadata": {},
   "outputs": [
    {
     "data": {
      "text/plain": [
       "1"
      ]
     },
     "execution_count": 42,
     "metadata": {},
     "output_type": "execute_result"
    }
   ],
   "source": [
    "dog1.total_dogs"
   ]
  },
  {
   "cell_type": "code",
   "execution_count": 43,
   "id": "fedc87d6",
   "metadata": {},
   "outputs": [
    {
     "data": {
      "text/plain": [
       "2"
      ]
     },
     "execution_count": 43,
     "metadata": {},
     "output_type": "execute_result"
    }
   ],
   "source": [
    "dog2 = Dog(\"bbc\")\n",
    "dog2.total_dogs"
   ]
  },
  {
   "cell_type": "code",
   "execution_count": null,
   "id": "d6ac6441",
   "metadata": {},
   "outputs": [],
   "source": [
    "#4. Methods - The Actions/Behaviors\n",
    "#Methods are functions that belong to the class. They define what objects can DO."
   ]
  },
  {
   "cell_type": "code",
   "execution_count": 44,
   "id": "46f37a28",
   "metadata": {},
   "outputs": [
    {
     "name": "stdout",
     "output_type": "stream",
     "text": [
      "Added 5. Result: 5\n",
      "Subtracted 2. Result: 3\n",
      "Calculator cleared\n"
     ]
    }
   ],
   "source": [
    "class Calculator:\n",
    "    def __init__(self):\n",
    "        self.result = 0\n",
    "    \n",
    "    # These are METHODS (actions the calculator can perform)\n",
    "    def add(self, number):\n",
    "        self.result += number\n",
    "        return f\"Added {number}. Result: {self.result}\"\n",
    "    \n",
    "    def subtract(self, number):\n",
    "        self.result -= number\n",
    "        return f\"Subtracted {number}. Result: {self.result}\"\n",
    "    \n",
    "    def clear(self):\n",
    "        self.result = 0\n",
    "        return \"Calculator cleared\"\n",
    "    \n",
    "    def get_result(self):\n",
    "        return self.result\n",
    "\n",
    "calc = Calculator()\n",
    "print(calc.add(5))       # \"Added 5. Result: 5\"\n",
    "print(calc.subtract(2))  # \"Subtracted 2. Result: 3\"\n",
    "print(calc.clear())      # \"Calculator cleared\""
   ]
  },
  {
   "cell_type": "code",
   "execution_count": null,
   "id": "58711bea",
   "metadata": {},
   "outputs": [],
   "source": []
  },
  {
   "cell_type": "code",
   "execution_count": null,
   "id": "3ce50bd5",
   "metadata": {},
   "outputs": [],
   "source": []
  },
  {
   "cell_type": "code",
   "execution_count": null,
   "id": "8a0619c6",
   "metadata": {},
   "outputs": [],
   "source": []
  },
  {
   "cell_type": "code",
   "execution_count": null,
   "id": "5179a6f8",
   "metadata": {},
   "outputs": [],
   "source": [
    "#Types of Methods:\n",
    "#Instance Methods (Work with specific objects)"
   ]
  },
  {
   "cell_type": "code",
   "execution_count": null,
   "id": "612c4961",
   "metadata": {},
   "outputs": [],
   "source": [
    "class  Bankaccount:\n",
    "    \n",
    "    def __init__(self, balance):\n",
    "        self.balance = balance\n",
    "       \n",
    "        \n",
    "        \n",
    "    def withdraw(self, amount):\n",
    "        if self.balance> amount:\n",
    "            self.balance=self.balance-amount\n",
    "            print(f\" the balance in your account is {self.balance}\" )\n",
    "        else:\n",
    "            print(\"Insuffiecient balance\")\n",
    "            \n",
    "    def deposit(self,dep_amount):\n",
    "        self.balance = self.balance +dep_amount\n",
    "        print(f\" the balance in your account is {self.balance}\" )\n",
    "    \n",
    "    def account_statment(self,....):\n",
    "        # code"
   ]
  },
  {
   "cell_type": "code",
   "execution_count": 48,
   "id": "cd357a58",
   "metadata": {},
   "outputs": [
    {
     "data": {
      "text/plain": [
       "100000"
      ]
     },
     "execution_count": 48,
     "metadata": {},
     "output_type": "execute_result"
    }
   ],
   "source": [
    "aditya = Bankaccount(100000)\n",
    "aditya.balance"
   ]
  },
  {
   "cell_type": "code",
   "execution_count": 49,
   "id": "df2bea0b",
   "metadata": {},
   "outputs": [
    {
     "name": "stdout",
     "output_type": "stream",
     "text": [
      " the balance in your account is 90000\n",
      " the balance in your account is 70000\n"
     ]
    }
   ],
   "source": [
    "aditya.withdraw(10000)\n",
    "aditya.withdraw(20000)"
   ]
  },
  {
   "cell_type": "code",
   "execution_count": 50,
   "id": "d34128a9",
   "metadata": {},
   "outputs": [
    {
     "name": "stdout",
     "output_type": "stream",
     "text": [
      "Insuffiecient balance\n"
     ]
    }
   ],
   "source": [
    "aditya.withdraw(80000)"
   ]
  },
  {
   "cell_type": "code",
   "execution_count": 51,
   "id": "b8e2b152",
   "metadata": {},
   "outputs": [
    {
     "name": "stdout",
     "output_type": "stream",
     "text": [
      " the balance in your account is 250000\n"
     ]
    }
   ],
   "source": [
    "aditya.deposit(180000)"
   ]
  },
  {
   "cell_type": "code",
   "execution_count": null,
   "id": "69faa64a",
   "metadata": {},
   "outputs": [],
   "source": []
  },
  {
   "cell_type": "code",
   "execution_count": null,
   "id": "8dcd22bf",
   "metadata": {},
   "outputs": [],
   "source": []
  },
  {
   "cell_type": "code",
   "execution_count": null,
   "id": "35d77435",
   "metadata": {},
   "outputs": [],
   "source": []
  },
  {
   "cell_type": "code",
   "execution_count": null,
   "id": "94f0a305",
   "metadata": {},
   "outputs": [],
   "source": [
    "class BankAccount:\n",
    "    def __init__(self, balance):\n",
    "        self.balance = balance\n",
    "    \n",
    "    def deposit(self, amount):     # INSTANCE METHOD\n",
    "        self.balance += amount     # Works with THIS account's balance\n",
    "        return f\"New balance: ${self.balance}\"\n",
    "    \n",
    "    def withdraw(self, amount):    # INSTANCE METHOD\n",
    "        if amount <= self.balance:\n",
    "            self.balance -= amount\n",
    "            return f\"Withdrew ${amount}. Balance: ${self.balance}\"\n",
    "        return \"Insufficient funds\"\n",
    "\n",
    "account1 = BankAccount(1000)\n",
    "account2 = BankAccount(500)\n",
    "\n",
    "print(account1.deposit(200))  # Works with account1's balance\n",
    "print(account2.withdraw(100)) # Works with account2's balance"
   ]
  },
  {
   "cell_type": "code",
   "execution_count": null,
   "id": "26197539",
   "metadata": {},
   "outputs": [],
   "source": [
    "#Class Methods (Work with the class itself)"
   ]
  },
  {
   "cell_type": "code",
   "execution_count": null,
   "id": "e3a1690c",
   "metadata": {},
   "outputs": [],
   "source": [
    "class Student:\n",
    "    total_students = 0\n",
    "    \n",
    "    def __init__(self, name):\n",
    "        self.name = name\n",
    "        Student.total_students += 1\n",
    "    \n",
    "    @classmethod\n",
    "    def get_total_students(cls):  # CLASS METHOD\n",
    "        return f\"Total students: {cls.total_students}\"\n",
    "    \n",
    "    @classmethod\n",
    "    def create_from_string(cls, student_data):  # ALTERNATIVE CONSTRUCTOR\n",
    "        name, grade = student_data.split(\"-\")\n",
    "        return cls(name)  # Creates a new student\n",
    "\n",
    "# Using class methods\n",
    "student1 = Student(\"Alice\")\n",
    "student2 = Student(\"Bob\")\n",
    "\n",
    "print(Student.get_total_students())  # \"Total students: 2\"\n",
    "student3 = Student.create_from_string(\"Charlie-10th\")"
   ]
  },
  {
   "cell_type": "code",
   "execution_count": null,
   "id": "0c004627",
   "metadata": {},
   "outputs": [],
   "source": []
  },
  {
   "cell_type": "code",
   "execution_count": 4,
   "id": "84f94c2b",
   "metadata": {},
   "outputs": [
    {
     "name": "stdout",
     "output_type": "stream",
     "text": [
      "Species (same for all): Canis lupus\n",
      "Total dogs: 3\n",
      "Dog1 name (unique): Buddy\n",
      "Dog2 name (unique): Max\n",
      "Dog3 name (unique): Bella\n"
     ]
    }
   ],
   "source": [
    "class Dog:\n",
    "    # 🌍 CLASS VARIABLE (shared by all dogs)\n",
    "    species = \"Canis lupus\"\n",
    "    total_dogs = 0\n",
    "    \n",
    "    def __init__(self, name, breed):\n",
    "        # 🔹 INSTANCE VARIABLES (unique to each dog)\n",
    "        self.name = name\n",
    "        self.breed = breed\n",
    "        \n",
    "        # Modify class variable when new dog is created\n",
    "        Dog.total_dogs += 1\n",
    "\n",
    "# Creating objects\n",
    "dog1 = Dog(\"Buddy\", \"Golden Retriever\")\n",
    "dog2 = Dog(\"Max\", \"Labrador\")\n",
    "dog3 = Dog(\"Bella\", \"Poodle\")\n",
    "\n",
    "print(f\"Species (same for all): {Dog.species}\")    # Canis lupus\n",
    "print(f\"Total dogs: {Dog.total_dogs}\")             # 3\n",
    "\n",
    "print(f\"Dog1 name (unique): {dog1.name}\")          # Buddy\n",
    "print(f\"Dog2 name (unique): {dog2.name}\")          # Max\n",
    "print(f\"Dog3 name (unique): {dog3.name}\")          # Bella"
   ]
  },
  {
   "cell_type": "code",
   "execution_count": null,
   "id": "11472f47",
   "metadata": {},
   "outputs": [],
   "source": []
  }
 ],
 "metadata": {
  "kernelspec": {
   "display_name": "base",
   "language": "python",
   "name": "python3"
  },
  "language_info": {
   "codemirror_mode": {
    "name": "ipython",
    "version": 3
   },
   "file_extension": ".py",
   "mimetype": "text/x-python",
   "name": "python",
   "nbconvert_exporter": "python",
   "pygments_lexer": "ipython3",
   "version": "3.12.9"
  }
 },
 "nbformat": 4,
 "nbformat_minor": 5
}
