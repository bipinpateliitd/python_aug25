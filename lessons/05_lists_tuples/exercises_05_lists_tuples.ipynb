{
 "cells": [
  {
   "cell_type": "code",
   "execution_count": 1,
   "id": "9c5b2485",
   "metadata": {},
   "outputs": [],
   "source": [
    "# Empty list\n",
    "my_list = []\n",
    "\n",
    "# List with items\n",
    "fruits = [\"apple\", \"banana\", \"orange\"]\n",
    "numbers = [1, 2, 3, 4, 5]\n",
    "mixed = [\"hello\", 42, 3.14, True]"
   ]
  },
  {
   "cell_type": "markdown",
   "id": "5643197a",
   "metadata": {},
   "source": [
    "# What is a List?\n",
    "* A list is like a shopping list - you can add items, remove items, and change items whenever you want."
   ]
  },
  {
   "cell_type": "markdown",
   "id": "a3e3d2e8",
   "metadata": {},
   "source": [
    "### Key Features of Lists\n",
    "\n",
    "* Mutable: You can change, add, or remove items\n",
    "* Ordered: Items have a specific position (index)\n",
    "* Allow duplicates: Same item can appear multiple times\n",
    "* Use square brackets [ ]"
   ]
  },
  {
   "cell_type": "code",
   "execution_count": 2,
   "id": "754d13cb",
   "metadata": {},
   "outputs": [
    {
     "name": "stdout",
     "output_type": "stream",
     "text": [
      "apple\n",
      "banana\n",
      "orange\n"
     ]
    }
   ],
   "source": [
    "fruits = [\"apple\", \"banana\", \"orange\"]\n",
    "print(fruits[0])    # \"apple\" (first item)\n",
    "print(fruits[1])    # \"banana\" (second item)\n",
    "print(fruits[-1])   "
   ]
  },
  {
   "cell_type": "code",
   "execution_count": 3,
   "id": "8299a60a",
   "metadata": {},
   "outputs": [],
   "source": [
    "fruits = [\"apple\", \"banana\"]\n",
    "fruits.append(\"orange\")        # Add to end: [\"apple\", \"banana\", \"orange\"]\n",
    "fruits.insert(1, \"grape\")      # Insert at position 1: [\"apple\", \"grape\", \"banana\", \"orange\"]"
   ]
  },
  {
   "cell_type": "code",
   "execution_count": null,
   "id": "9ccffd5d",
   "metadata": {},
   "outputs": [],
   "source": [
    "fruits = [\"apple\", \"banana\", \"orange\"]\n",
    "fruits.remove(\"banana\")        # Remove by value: [\"apple\", \"orange\"]\n",
    "last_fruit = fruits.pop()      # Remove and return last item: \"orange\"\n",
    "del fruits[0]  \n",
    "# Remove by index: removes \"apple\""
   ]
  },
  {
   "cell_type": "code",
   "execution_count": 5,
   "id": "8daefd98",
   "metadata": {},
   "outputs": [
    {
     "data": {
      "text/plain": [
       "[]"
      ]
     },
     "execution_count": 5,
     "metadata": {},
     "output_type": "execute_result"
    }
   ],
   "source": [
    "fruits"
   ]
  },
  {
   "cell_type": "code",
   "execution_count": 6,
   "id": "7e4db79b",
   "metadata": {},
   "outputs": [],
   "source": [
    "fruits = [\"apple\", \"banana\", \"orange\"]\n",
    "fruits[1] = \"grape\"            # Change banana to grape: [\"apple\", \"grape\", \"orange\"]"
   ]
  },
  {
   "cell_type": "code",
   "execution_count": 7,
   "id": "8ff13ba2",
   "metadata": {},
   "outputs": [
    {
     "name": "stdout",
     "output_type": "stream",
     "text": [
      "4\n",
      "True\n",
      "2\n"
     ]
    }
   ],
   "source": [
    "fruits = [\"apple\", \"banana\", \"orange\", \"apple\"]\n",
    "print(len(fruits))             # Length: 4\n",
    "print(\"apple\" in fruits)       # Check if item exists: True\n",
    "print(fruits.count(\"apple\"))   # Count occurrences: 2"
   ]
  },
  {
   "cell_type": "markdown",
   "id": "4b894395",
   "metadata": {
    "vscode": {
     "languageId": "latex"
    }
   },
   "source": [
    "# What is a Tuple?\n",
    "* A tuple is like a sealed package - once you create it, you cannot change its contents. It's permanent."
   ]
  },
  {
   "cell_type": "code",
   "execution_count": 9,
   "id": "bc15e5ff",
   "metadata": {},
   "outputs": [],
   "source": [
    "# Empty tuple\n",
    "my_tuple = ()\n",
    "\n",
    "# Tuple with items\n",
    "coordinates = (3, 5)\n",
    "colors = (\"red\", \"green\", \"blue\")\n",
    "mixed = (\"hello\", 42, 3.14, True)\n",
    "\n",
    "# Single item tuple (note the comma!)\n",
    "single = (42,)  # Without comma, it's just parentheses around a number"
   ]
  },
  {
   "cell_type": "markdown",
   "id": "bad6f4d7",
   "metadata": {},
   "source": [
    "## Key Features of Tuples\n",
    "\n",
    "* Immutable: You cannot change, add, or remove items\n",
    "* Ordered: Items have a specific position (index)\n",
    "* Allow duplicates: Same item can appear multiple times\n",
    "* Use parentheses ( )\n",
    "\n"
   ]
  },
  {
   "cell_type": "markdown",
   "id": "599c6080",
   "metadata": {},
   "source": []
  }
 ],
 "metadata": {
  "kernelspec": {
   "display_name": "base",
   "language": "python",
   "name": "python3"
  },
  "language_info": {
   "codemirror_mode": {
    "name": "ipython",
    "version": 3
   },
   "file_extension": ".py",
   "mimetype": "text/x-python",
   "name": "python",
   "nbconvert_exporter": "python",
   "pygments_lexer": "ipython3",
   "version": "3.12.9"
  }
 },
 "nbformat": 4,
 "nbformat_minor": 5
}
