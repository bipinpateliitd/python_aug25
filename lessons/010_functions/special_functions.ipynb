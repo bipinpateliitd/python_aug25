{
 "cells": [
  {
   "cell_type": "code",
   "execution_count": null,
   "id": "25dd8bac",
   "metadata": {},
   "outputs": [],
   "source": [
    "\n",
    "\n"
   ]
  },
  {
   "cell_type": "code",
   "execution_count": null,
   "id": "b13f1e6e",
   "metadata": {},
   "outputs": [],
   "source": [
    "#lambda arguments: expression\n",
    "\n",
    "#arguments → input parameters (like function arguments).\n",
    "\n",
    "#expression → a single expression that is evaluated and returned.\n",
    "\n",
    "#No need for return keyword — the value of the expression is automatically returned.\n"
   ]
  },
  {
   "cell_type": "code",
   "execution_count": null,
   "id": "551f1224",
   "metadata": {},
   "outputs": [],
   "source": [
    "square = lambda x: x * x\n",
    "print(square(5))  # 25\n"
   ]
  },
  {
   "cell_type": "code",
   "execution_count": 1,
   "id": "e99126c3",
   "metadata": {},
   "outputs": [],
   "source": [
    "def add_number(a,b):\n",
    "    return a+b"
   ]
  },
  {
   "cell_type": "code",
   "execution_count": 2,
   "id": "d9760f06",
   "metadata": {},
   "outputs": [
    {
     "data": {
      "text/plain": [
       "15"
      ]
     },
     "execution_count": 2,
     "metadata": {},
     "output_type": "execute_result"
    }
   ],
   "source": [
    "y= add_number(5,10)\n",
    "y"
   ]
  },
  {
   "cell_type": "code",
   "execution_count": null,
   "id": "13a42a26",
   "metadata": {},
   "outputs": [],
   "source": []
  },
  {
   "cell_type": "code",
   "execution_count": 3,
   "id": "d5ba40df",
   "metadata": {},
   "outputs": [],
   "source": [
    "add_num = lambda a,b:a+b"
   ]
  },
  {
   "cell_type": "code",
   "execution_count": 4,
   "id": "c432dd7f",
   "metadata": {},
   "outputs": [
    {
     "data": {
      "text/plain": [
       "9"
      ]
     },
     "execution_count": 4,
     "metadata": {},
     "output_type": "execute_result"
    }
   ],
   "source": [
    "add_num(4,5)"
   ]
  },
  {
   "cell_type": "code",
   "execution_count": null,
   "id": "63388e61",
   "metadata": {},
   "outputs": [],
   "source": [
    " # (4,3)-> 16+9-25"
   ]
  },
  {
   "cell_type": "code",
   "execution_count": 5,
   "id": "bc20b8ed",
   "metadata": {},
   "outputs": [
    {
     "data": {
      "text/plain": [
       "25"
      ]
     },
     "execution_count": 5,
     "metadata": {},
     "output_type": "execute_result"
    }
   ],
   "source": [
    "sum_squares = lambda a,b:a**2 +b**2\n",
    "sum_squares(3,4)"
   ]
  },
  {
   "cell_type": "code",
   "execution_count": null,
   "id": "d23d5af7",
   "metadata": {},
   "outputs": [],
   "source": []
  },
  {
   "cell_type": "code",
   "execution_count": null,
   "id": "b41fc42d",
   "metadata": {},
   "outputs": [],
   "source": []
  },
  {
   "cell_type": "code",
   "execution_count": null,
   "id": "46c8c7f5",
   "metadata": {},
   "outputs": [],
   "source": []
  },
  {
   "cell_type": "code",
   "execution_count": null,
   "id": "2895fecd",
   "metadata": {},
   "outputs": [],
   "source": []
  },
  {
   "cell_type": "code",
   "execution_count": 6,
   "id": "2c639c70",
   "metadata": {},
   "outputs": [
    {
     "name": "stdout",
     "output_type": "stream",
     "text": [
      "Hello World\n"
     ]
    }
   ],
   "source": [
    "hello = lambda: \"Hello World\"\n",
    "print(hello())  # Hello World\n"
   ]
  },
  {
   "cell_type": "code",
   "execution_count": 7,
   "id": "ceaf8771",
   "metadata": {},
   "outputs": [
    {
     "name": "stdout",
     "output_type": "stream",
     "text": [
      "8\n"
     ]
    }
   ],
   "source": [
    "double = lambda x: x * 2\n",
    "print(double(4))  # 8\n"
   ]
  },
  {
   "cell_type": "code",
   "execution_count": 8,
   "id": "bb33edc3",
   "metadata": {},
   "outputs": [
    {
     "name": "stdout",
     "output_type": "stream",
     "text": [
      "10\n"
     ]
    }
   ],
   "source": [
    "add = lambda a, b: a + b\n",
    "print(add(3, 7))  # 10\n"
   ]
  },
  {
   "cell_type": "code",
   "execution_count": 9,
   "id": "77688a50",
   "metadata": {},
   "outputs": [
    {
     "name": "stdout",
     "output_type": "stream",
     "text": [
      "25\n",
      "125\n"
     ]
    }
   ],
   "source": [
    "power = lambda x, y=2: x ** y\n",
    "print(power(5))    # 25 (5^2)\n",
    "print(power(5, 3)) # 125 (5^3)\n"
   ]
  },
  {
   "cell_type": "code",
   "execution_count": 10,
   "id": "2655e67d",
   "metadata": {},
   "outputs": [
    {
     "name": "stdout",
     "output_type": "stream",
     "text": [
      "20\n"
     ]
    }
   ],
   "source": [
    "maximum = lambda a, b: a if a > b else b\n",
    "print(maximum(10, 20))  # 20\n"
   ]
  },
  {
   "cell_type": "code",
   "execution_count": null,
   "id": "546d892e",
   "metadata": {},
   "outputs": [],
   "source": []
  },
  {
   "cell_type": "code",
   "execution_count": null,
   "id": "0d08e3b2",
   "metadata": {},
   "outputs": [],
   "source": []
  },
  {
   "cell_type": "code",
   "execution_count": null,
   "id": "b2db6e11",
   "metadata": {},
   "outputs": [],
   "source": []
  },
  {
   "cell_type": "code",
   "execution_count": null,
   "id": "8b30b6c6",
   "metadata": {},
   "outputs": [],
   "source": []
  },
  {
   "cell_type": "code",
   "execution_count": null,
   "id": "8470e321",
   "metadata": {},
   "outputs": [],
   "source": []
  },
  {
   "cell_type": "code",
   "execution_count": null,
   "id": "c1b4c5f2",
   "metadata": {},
   "outputs": [],
   "source": [
    "#map(function, iterable)\n",
    "#function → A function (can be lambda or def) that processes each element.\n",
    "\n",
    "#iterable → A sequence (list, tuple, etc.) to apply the function on.\n",
    "\n",
    "#Returns → A map object (convert to list() or tuple() to see results).\n"
   ]
  },
  {
   "cell_type": "code",
   "execution_count": 13,
   "id": "a2ed0072",
   "metadata": {},
   "outputs": [],
   "source": [
    "nums = [1, 2, 3, 4, 5]\n",
    "\n",
    "#[15, 25, 35, 45, 55]\n"
   ]
  },
  {
   "cell_type": "code",
   "execution_count": 11,
   "id": "028d55ed",
   "metadata": {},
   "outputs": [],
   "source": [
    "add_mul = lambda x:x*10 +5"
   ]
  },
  {
   "cell_type": "code",
   "execution_count": 16,
   "id": "ce896397",
   "metadata": {},
   "outputs": [],
   "source": [
    "out = list(map(add_mul, nums))"
   ]
  },
  {
   "cell_type": "code",
   "execution_count": 17,
   "id": "d58ba078",
   "metadata": {},
   "outputs": [
    {
     "data": {
      "text/plain": [
       "[15, 25, 35, 45, 55]"
      ]
     },
     "execution_count": 17,
     "metadata": {},
     "output_type": "execute_result"
    }
   ],
   "source": [
    "out"
   ]
  },
  {
   "cell_type": "code",
   "execution_count": null,
   "id": "4f1d30b8",
   "metadata": {},
   "outputs": [],
   "source": []
  },
  {
   "cell_type": "code",
   "execution_count": null,
   "id": "64a3fb5a",
   "metadata": {},
   "outputs": [],
   "source": []
  },
  {
   "cell_type": "code",
   "execution_count": 18,
   "id": "172d305c",
   "metadata": {},
   "outputs": [
    {
     "name": "stdout",
     "output_type": "stream",
     "text": [
      "[1, 4, 9, 16, 25]\n"
     ]
    }
   ],
   "source": [
    "# Square each number\n",
    "squares = list(map(lambda x: x**2, nums))\n",
    "print(squares)  # [1, 4, 9, 16, 25]"
   ]
  },
  {
   "cell_type": "code",
   "execution_count": null,
   "id": "f7056242",
   "metadata": {},
   "outputs": [],
   "source": []
  },
  {
   "cell_type": "code",
   "execution_count": null,
   "id": "1fad1dff",
   "metadata": {},
   "outputs": [],
   "source": []
  },
  {
   "cell_type": "code",
   "execution_count": null,
   "id": "f77852b7",
   "metadata": {},
   "outputs": [],
   "source": []
  },
  {
   "cell_type": "code",
   "execution_count": null,
   "id": "e1e0ca1e",
   "metadata": {},
   "outputs": [],
   "source": []
  },
  {
   "cell_type": "code",
   "execution_count": 19,
   "id": "d79b1a2e",
   "metadata": {},
   "outputs": [],
   "source": [
    "def square(x):\n",
    "    return x**2\n",
    "\n"
   ]
  },
  {
   "cell_type": "code",
   "execution_count": 20,
   "id": "fb085692",
   "metadata": {},
   "outputs": [
    {
     "name": "stdout",
     "output_type": "stream",
     "text": [
      "[1, 4, 9, 16, 25]\n"
     ]
    }
   ],
   "source": [
    "squares = list(map(square, nums))\n",
    "print(squares)  # [1, 4, 9, 16, 25]\n",
    "#Use map() when you want to transform each item of a list.\n"
   ]
  },
  {
   "cell_type": "code",
   "execution_count": null,
   "id": "aaacad57",
   "metadata": {},
   "outputs": [],
   "source": []
  },
  {
   "cell_type": "code",
   "execution_count": null,
   "id": "a502d3eb",
   "metadata": {},
   "outputs": [],
   "source": []
  },
  {
   "cell_type": "code",
   "execution_count": null,
   "id": "2712d856",
   "metadata": {},
   "outputs": [],
   "source": []
  },
  {
   "cell_type": "code",
   "execution_count": null,
   "id": "93efa6b5",
   "metadata": {},
   "outputs": [],
   "source": [
    "#filter(function, iterable)\n",
    "#function → Returns True or False.\n",
    "\n",
    "#iterable → The sequence to filter.\n",
    "\n",
    "#Returns → A filter object (convert to list())."
   ]
  },
  {
   "cell_type": "code",
   "execution_count": 25,
   "id": "0a2c533d",
   "metadata": {},
   "outputs": [
    {
     "data": {
      "text/plain": [
       "[10, 15, 20, 25, 30]"
      ]
     },
     "execution_count": 25,
     "metadata": {},
     "output_type": "execute_result"
    }
   ],
   "source": [
    "nums = [10, 15, 20, 25, 30]\n",
    "nums"
   ]
  },
  {
   "cell_type": "code",
   "execution_count": 26,
   "id": "5b59a0de",
   "metadata": {},
   "outputs": [],
   "source": [
    "even_num = lambda x: x%2==0"
   ]
  },
  {
   "cell_type": "code",
   "execution_count": 27,
   "id": "5937616f",
   "metadata": {},
   "outputs": [],
   "source": [
    "output = list(filter(even_num, nums))"
   ]
  },
  {
   "cell_type": "code",
   "execution_count": 28,
   "id": "f24a27d1",
   "metadata": {},
   "outputs": [
    {
     "data": {
      "text/plain": [
       "[10, 20, 30]"
      ]
     },
     "execution_count": 28,
     "metadata": {},
     "output_type": "execute_result"
    }
   ],
   "source": [
    "output"
   ]
  },
  {
   "cell_type": "code",
   "execution_count": null,
   "id": "a424a8d9",
   "metadata": {},
   "outputs": [],
   "source": []
  },
  {
   "cell_type": "code",
   "execution_count": null,
   "id": "fcf37c50",
   "metadata": {},
   "outputs": [],
   "source": [
    "nums = [10, 15, 20, 25, 30]\n",
    "\n",
    "# Keep only even numbers\n",
    "evens = list(filter(lambda x: x % 2 == 0, nums))\n",
    "print(evens)  # [10, 20, 30]\n"
   ]
  },
  {
   "cell_type": "code",
   "execution_count": null,
   "id": "aa466420",
   "metadata": {},
   "outputs": [],
   "source": [
    "def is_even(x):\n",
    "    return x % 2 == 0\n",
    "\n",
    "evens = list(filter(is_even, nums))\n",
    "print(evens)  # [10, 20, 30]\n",
    "#Use filter() when you want to pick elements that meet a condition."
   ]
  },
  {
   "cell_type": "code",
   "execution_count": null,
   "id": "2a7df748",
   "metadata": {},
   "outputs": [],
   "source": []
  },
  {
   "cell_type": "code",
   "execution_count": null,
   "id": "96f41230",
   "metadata": {},
   "outputs": [],
   "source": []
  },
  {
   "cell_type": "code",
   "execution_count": null,
   "id": "31de057b",
   "metadata": {},
   "outputs": [],
   "source": []
  },
  {
   "cell_type": "code",
   "execution_count": null,
   "id": "e51301a6",
   "metadata": {},
   "outputs": [],
   "source": []
  },
  {
   "cell_type": "code",
   "execution_count": null,
   "id": "b5250e66",
   "metadata": {},
   "outputs": [],
   "source": [
    "#from functools import reduce\n",
    "#reduce(function, iterable, initializer(optional))\n",
    "\n",
    "#function → A function of 2 arguments that combines elements.\n",
    "\n",
    "#iterable → The sequence to reduce.\n",
    "\n",
    "#initializer (optional) → A starting value.\n",
    "\n",
    "#Returns → A single value.\n"
   ]
  },
  {
   "cell_type": "code",
   "execution_count": null,
   "id": "3040249a",
   "metadata": {},
   "outputs": [],
   "source": []
  },
  {
   "cell_type": "code",
   "execution_count": null,
   "id": "d2615043",
   "metadata": {},
   "outputs": [],
   "source": [
    "from functools import reduce\n"
   ]
  },
  {
   "cell_type": "code",
   "execution_count": null,
   "id": "98f3660c",
   "metadata": {},
   "outputs": [],
   "source": []
  },
  {
   "cell_type": "code",
   "execution_count": 38,
   "id": "501fc90e",
   "metadata": {},
   "outputs": [],
   "source": [
    "pro=lambda x,y:x*y\n",
    "out1 = reduce(pro,nums)"
   ]
  },
  {
   "cell_type": "code",
   "execution_count": 39,
   "id": "6f4f6460",
   "metadata": {},
   "outputs": [
    {
     "data": {
      "text/plain": [
       "24"
      ]
     },
     "execution_count": 39,
     "metadata": {},
     "output_type": "execute_result"
    }
   ],
   "source": [
    "out1"
   ]
  },
  {
   "cell_type": "code",
   "execution_count": null,
   "id": "f6eefc41",
   "metadata": {},
   "outputs": [],
   "source": []
  },
  {
   "cell_type": "code",
   "execution_count": null,
   "id": "435b1417",
   "metadata": {},
   "outputs": [],
   "source": []
  },
  {
   "cell_type": "code",
   "execution_count": null,
   "id": "9e4293f1",
   "metadata": {},
   "outputs": [],
   "source": []
  },
  {
   "cell_type": "code",
   "execution_count": 36,
   "id": "c48a814e",
   "metadata": {},
   "outputs": [
    {
     "name": "stdout",
     "output_type": "stream",
     "text": [
      "24\n"
     ]
    }
   ],
   "source": [
    "from functools import reduce\n",
    "\n",
    "def multiply(x, y):\n",
    "    return x * y\n",
    "\n",
    "product = reduce(multiply, [1, 2, 3, 4])\n",
    "print(product)  # 24\n"
   ]
  },
  {
   "cell_type": "code",
   "execution_count": 40,
   "id": "055be14d",
   "metadata": {},
   "outputs": [
    {
     "name": "stdout",
     "output_type": "stream",
     "text": [
      "[1, 2, 5, 7, 9]\n"
     ]
    }
   ],
   "source": [
    "#sorted(iterable, key=function, reverse=False)\n",
    "\n",
    "#iterable → Sequence to sort.\n",
    "\n",
    "#key → Function to decide sorting criteria (default: natural order).\n",
    "\n",
    "#reverse → If True, sorts descending.\n",
    "\n",
    "# Returns → A new sorted list (doesn’t change the original).\n",
    "nums = [5, 2, 9, 1, 7]\n",
    "print(sorted(nums))  # [1, 2, 5, 7, 9]"
   ]
  },
  {
   "cell_type": "code",
   "execution_count": 41,
   "id": "bae5a7f0",
   "metadata": {},
   "outputs": [
    {
     "data": {
      "text/plain": [
       "[9, 7, 5, 2, 1]"
      ]
     },
     "execution_count": 41,
     "metadata": {},
     "output_type": "execute_result"
    }
   ],
   "source": [
    "sorted(nums, reverse=True)"
   ]
  },
  {
   "cell_type": "code",
   "execution_count": null,
   "id": "a4d36bf2",
   "metadata": {},
   "outputs": [],
   "source": []
  },
  {
   "cell_type": "code",
   "execution_count": null,
   "id": "2efe6ec1",
   "metadata": {},
   "outputs": [],
   "source": []
  },
  {
   "cell_type": "code",
   "execution_count": null,
   "id": "26d9ba29",
   "metadata": {},
   "outputs": [],
   "source": []
  },
  {
   "cell_type": "code",
   "execution_count": null,
   "id": "9fee93f3",
   "metadata": {},
   "outputs": [],
   "source": [
    "print(sorted(nums, reverse=True))  # [9, 7, 5, 2, 1]"
   ]
  },
  {
   "cell_type": "code",
   "execution_count": null,
   "id": "d1bc4f69",
   "metadata": {},
   "outputs": [],
   "source": []
  },
  {
   "cell_type": "code",
   "execution_count": null,
   "id": "c326bcf7",
   "metadata": {},
   "outputs": [],
   "source": []
  },
  {
   "cell_type": "code",
   "execution_count": null,
   "id": "adbb7e5d",
   "metadata": {},
   "outputs": [],
   "source": []
  },
  {
   "cell_type": "code",
   "execution_count": null,
   "id": "52fe7daa",
   "metadata": {},
   "outputs": [],
   "source": [
    "words = [\"apple\", \"banana\", \"kiwi\", \"cherry\"]\n",
    "\n",
    "#sorted(iterable, key=function, reverse=False)\n",
    "\n",
    "#iterable → Sequence to sort.\n",
    "\n",
    "#key → Function to decide sorting criteria (default: natural order).\n",
    "\n",
    "#reverse → If True, sorts descending.\n",
    "\n",
    "# Returns → A new sorted list (doesn’t change the original)."
   ]
  },
  {
   "cell_type": "code",
   "execution_count": 45,
   "id": "300a4083",
   "metadata": {},
   "outputs": [],
   "source": [
    "len_char = lambda x: len(x)"
   ]
  },
  {
   "cell_type": "code",
   "execution_count": 47,
   "id": "648670ea",
   "metadata": {},
   "outputs": [
    {
     "data": {
      "text/plain": [
       "['banana', 'cherry', 'apple', 'kiwi']"
      ]
     },
     "execution_count": 47,
     "metadata": {},
     "output_type": "execute_result"
    }
   ],
   "source": [
    "sorted(words, key=len_char, reverse=True)"
   ]
  },
  {
   "cell_type": "code",
   "execution_count": null,
   "id": "494e413e",
   "metadata": {},
   "outputs": [],
   "source": []
  },
  {
   "cell_type": "code",
   "execution_count": null,
   "id": "ce47fbe3",
   "metadata": {},
   "outputs": [],
   "source": [
    "\n",
    "\n",
    "\n"
   ]
  },
  {
   "cell_type": "code",
   "execution_count": null,
   "id": "209d1ad1",
   "metadata": {},
   "outputs": [],
   "source": []
  },
  {
   "cell_type": "code",
   "execution_count": null,
   "id": "f88c3057",
   "metadata": {},
   "outputs": [],
   "source": []
  },
  {
   "cell_type": "code",
   "execution_count": null,
   "id": "736632d3",
   "metadata": {},
   "outputs": [],
   "source": []
  },
  {
   "cell_type": "code",
   "execution_count": null,
   "id": "6fc5e02a",
   "metadata": {},
   "outputs": [],
   "source": []
  },
  {
   "cell_type": "code",
   "execution_count": null,
   "id": "6378705e",
   "metadata": {},
   "outputs": [],
   "source": [
    "\n",
    "sorted_words = sorted(words, key=lambda w: len(w))\n",
    "print(sorted_words)  # ['kiwi', 'apple', 'cherry', 'banana']"
   ]
  },
  {
   "cell_type": "code",
   "execution_count": null,
   "id": "196001e9",
   "metadata": {},
   "outputs": [],
   "source": []
  },
  {
   "cell_type": "code",
   "execution_count": null,
   "id": "21b8c23b",
   "metadata": {},
   "outputs": [],
   "source": []
  },
  {
   "cell_type": "code",
   "execution_count": null,
   "id": "6c1fa4c8",
   "metadata": {},
   "outputs": [],
   "source": []
  },
  {
   "cell_type": "code",
   "execution_count": null,
   "id": "c268b8ee",
   "metadata": {},
   "outputs": [],
   "source": []
  },
  {
   "cell_type": "code",
   "execution_count": null,
   "id": "596cf2ac",
   "metadata": {},
   "outputs": [],
   "source": [
    "def word_length(w):\n",
    "    return len(w)\n",
    "\n",
    "sorted_words = sorted(words, key=word_length)\n",
    "print(sorted_words)\n"
   ]
  },
  {
   "cell_type": "code",
   "execution_count": null,
   "id": "5ee0f373",
   "metadata": {},
   "outputs": [],
   "source": []
  },
  {
   "cell_type": "code",
   "execution_count": null,
   "id": "dac6a48a",
   "metadata": {},
   "outputs": [],
   "source": []
  },
  {
   "cell_type": "code",
   "execution_count": null,
   "id": "d41112f7",
   "metadata": {},
   "outputs": [],
   "source": []
  },
  {
   "cell_type": "code",
   "execution_count": 52,
   "id": "4a7c2244",
   "metadata": {},
   "outputs": [],
   "source": [
    "pairs = [(1, 3), (2, 1), (5, 2)]\n",
    "\n",
    "\n"
   ]
  },
  {
   "cell_type": "code",
   "execution_count": 53,
   "id": "19dc4cc3",
   "metadata": {},
   "outputs": [],
   "source": [
    "sam_alt = lambda x:x[1]"
   ]
  },
  {
   "cell_type": "code",
   "execution_count": 55,
   "id": "83274fb0",
   "metadata": {},
   "outputs": [
    {
     "data": {
      "text/plain": [
       "[(1, 3), (5, 2), (2, 1)]"
      ]
     },
     "execution_count": 55,
     "metadata": {},
     "output_type": "execute_result"
    }
   ],
   "source": [
    "sorted(pairs, key= sam_alt, reverse=True)"
   ]
  },
  {
   "cell_type": "code",
   "execution_count": null,
   "id": "69cdf074",
   "metadata": {},
   "outputs": [],
   "source": []
  },
  {
   "cell_type": "code",
   "execution_count": null,
   "id": "a54da76d",
   "metadata": {},
   "outputs": [],
   "source": []
  },
  {
   "cell_type": "code",
   "execution_count": null,
   "id": "074b909a",
   "metadata": {},
   "outputs": [],
   "source": []
  },
  {
   "cell_type": "code",
   "execution_count": 48,
   "id": "1b23986f",
   "metadata": {},
   "outputs": [
    {
     "data": {
      "text/plain": [
       "4"
      ]
     },
     "execution_count": 48,
     "metadata": {},
     "output_type": "execute_result"
    }
   ],
   "source": [
    "b=(1,4)\n",
    "b[1]"
   ]
  },
  {
   "cell_type": "code",
   "execution_count": null,
   "id": "d94e47bf",
   "metadata": {},
   "outputs": [],
   "source": []
  },
  {
   "cell_type": "code",
   "execution_count": null,
   "id": "556fd65c",
   "metadata": {},
   "outputs": [],
   "source": []
  },
  {
   "cell_type": "code",
   "execution_count": null,
   "id": "11543687",
   "metadata": {},
   "outputs": [],
   "source": []
  },
  {
   "cell_type": "code",
   "execution_count": null,
   "id": "1fd79f2b",
   "metadata": {},
   "outputs": [],
   "source": [
    "students = {\"Alice\": 85, \"Bob\": 72, \"Charlie\": 90}\n",
    "\n",
    "# Sort by scores\n",
    "sorted_students = sorted(students.items(), key=lambda x: x[1], reverse=True)\n",
    "print(sorted_students)  # [('Charlie', 90), ('Alice', 85), ('Bob', 72)]\n"
   ]
  }
 ],
 "metadata": {
  "kernelspec": {
   "display_name": "base",
   "language": "python",
   "name": "python3"
  },
  "language_info": {
   "codemirror_mode": {
    "name": "ipython",
    "version": 3
   },
   "file_extension": ".py",
   "mimetype": "text/x-python",
   "name": "python",
   "nbconvert_exporter": "python",
   "pygments_lexer": "ipython3",
   "version": "3.12.9"
  }
 },
 "nbformat": 4,
 "nbformat_minor": 5
}
