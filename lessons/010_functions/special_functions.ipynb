{
 "cells": [
  {
   "cell_type": "code",
   "execution_count": null,
   "id": "25dd8bac",
   "metadata": {},
   "outputs": [],
   "source": [
    "\n",
    "\n"
   ]
  },
  {
   "cell_type": "code",
   "execution_count": null,
   "id": "b13f1e6e",
   "metadata": {},
   "outputs": [],
   "source": [
    "#lambda arguments: expression\n",
    "\n",
    "#arguments → input parameters (like function arguments).\n",
    "\n",
    "#expression → a single expression that is evaluated and returned.\n",
    "\n",
    "#No need for return keyword — the value of the expression is automatically returned.\n"
   ]
  },
  {
   "cell_type": "code",
   "execution_count": 10,
   "id": "551f1224",
   "metadata": {},
   "outputs": [
    {
     "name": "stdout",
     "output_type": "stream",
     "text": [
      "25\n"
     ]
    }
   ],
   "source": [
    "square = lambda x: x * x\n",
    "print(square(5))  # 25\n"
   ]
  },
  {
   "cell_type": "code",
   "execution_count": 11,
   "id": "2c639c70",
   "metadata": {},
   "outputs": [
    {
     "name": "stdout",
     "output_type": "stream",
     "text": [
      "Hello World\n"
     ]
    }
   ],
   "source": [
    "hello = lambda: \"Hello World\"\n",
    "print(hello())  # Hello World\n"
   ]
  },
  {
   "cell_type": "code",
   "execution_count": 12,
   "id": "ceaf8771",
   "metadata": {},
   "outputs": [
    {
     "name": "stdout",
     "output_type": "stream",
     "text": [
      "8\n"
     ]
    }
   ],
   "source": [
    "double = lambda x: x * 2\n",
    "print(double(4))  # 8\n"
   ]
  },
  {
   "cell_type": "code",
   "execution_count": 13,
   "id": "bb33edc3",
   "metadata": {},
   "outputs": [
    {
     "name": "stdout",
     "output_type": "stream",
     "text": [
      "10\n"
     ]
    }
   ],
   "source": [
    "add = lambda a, b: a + b\n",
    "print(add(3, 7))  # 10\n"
   ]
  },
  {
   "cell_type": "code",
   "execution_count": 14,
   "id": "77688a50",
   "metadata": {},
   "outputs": [
    {
     "name": "stdout",
     "output_type": "stream",
     "text": [
      "25\n",
      "125\n"
     ]
    }
   ],
   "source": [
    "power = lambda x, y=2: x ** y\n",
    "print(power(5))    # 25 (5^2)\n",
    "print(power(5, 3)) # 125 (5^3)\n"
   ]
  },
  {
   "cell_type": "code",
   "execution_count": null,
   "id": "2655e67d",
   "metadata": {},
   "outputs": [],
   "source": [
    "maximum = lambda a, b: a if a > b else b\n",
    "print(maximum(10, 20))  # 20\n"
   ]
  },
  {
   "cell_type": "code",
   "execution_count": null,
   "id": "c1b4c5f2",
   "metadata": {},
   "outputs": [],
   "source": [
    "#map(function, iterable)\n",
    "#function → A function (can be lambda or def) that processes each element.\n",
    "\n",
    "#iterable → A sequence (list, tuple, etc.) to apply the function on.\n",
    "\n",
    "#Returns → A map object (convert to list() or tuple() to see results).\n"
   ]
  },
  {
   "cell_type": "code",
   "execution_count": 8,
   "id": "a2ed0072",
   "metadata": {},
   "outputs": [
    {
     "name": "stdout",
     "output_type": "stream",
     "text": [
      "[1, 4, 9, 16, 25]\n"
     ]
    }
   ],
   "source": [
    "nums = [1, 2, 3, 4, 5]\n",
    "\n",
    "# Square each number\n",
    "squares = list(map(lambda x: x**2, nums))\n",
    "print(squares)  # [1, 4, 9, 16, 25]\n"
   ]
  },
  {
   "cell_type": "code",
   "execution_count": null,
   "id": "d79b1a2e",
   "metadata": {},
   "outputs": [
    {
     "name": "stdout",
     "output_type": "stream",
     "text": [
      "[1, 4, 9, 16, 25]\n"
     ]
    }
   ],
   "source": [
    "def square(x):\n",
    "    return x**2\n",
    "\n",
    "squares = list(map(square, nums))\n",
    "print(squares)  # [1, 4, 9, 16, 25]\n",
    "#Use map() when you want to transform each item of a list.\n"
   ]
  },
  {
   "cell_type": "code",
   "execution_count": null,
   "id": "93efa6b5",
   "metadata": {},
   "outputs": [],
   "source": [
    "#filter(function, iterable)\n",
    "#function → Returns True or False.\n",
    "\n",
    "#iterable → The sequence to filter.\n",
    "\n",
    "#Returns → A filter object (convert to list())."
   ]
  },
  {
   "cell_type": "code",
   "execution_count": 6,
   "id": "fcf37c50",
   "metadata": {},
   "outputs": [
    {
     "name": "stdout",
     "output_type": "stream",
     "text": [
      "[10, 20, 30]\n"
     ]
    }
   ],
   "source": [
    "nums = [10, 15, 20, 25, 30]\n",
    "\n",
    "# Keep only even numbers\n",
    "evens = list(filter(lambda x: x % 2 == 0, nums))\n",
    "print(evens)  # [10, 20, 30]\n"
   ]
  },
  {
   "cell_type": "code",
   "execution_count": null,
   "id": "aa466420",
   "metadata": {},
   "outputs": [
    {
     "name": "stdout",
     "output_type": "stream",
     "text": [
      "[10, 20, 30]\n"
     ]
    }
   ],
   "source": [
    "def is_even(x):\n",
    "    return x % 2 == 0\n",
    "\n",
    "evens = list(filter(is_even, nums))\n",
    "print(evens)  # [10, 20, 30]\n",
    "#Use filter() when you want to pick elements that meet a condition."
   ]
  },
  {
   "cell_type": "code",
   "execution_count": null,
   "id": "b5250e66",
   "metadata": {},
   "outputs": [],
   "source": [
    "#from functools import reduce\n",
    "#reduce(function, iterable, initializer(optional))\n",
    "\n",
    "#function → A function of 2 arguments that combines elements.\n",
    "\n",
    "#iterable → The sequence to reduce.\n",
    "\n",
    "#initializer (optional) → A starting value.\n",
    "\n",
    "#Returns → A single value.\n"
   ]
  },
  {
   "cell_type": "code",
   "execution_count": 16,
   "id": "98f3660c",
   "metadata": {},
   "outputs": [
    {
     "name": "stdout",
     "output_type": "stream",
     "text": [
      "24\n"
     ]
    }
   ],
   "source": [
    "from functools import reduce\n",
    "nums = [1, 2, 3, 4]\n",
    "\n",
    "# Multiply all numbers\n",
    "product = reduce(lambda x, y: x * y, nums)\n",
    "print(product)  # 24\n",
    "#💡 Use reduce() when you want to collapse a list into one value (sum, product, etc.)."
   ]
  },
  {
   "cell_type": "code",
   "execution_count": null,
   "id": "c48a814e",
   "metadata": {},
   "outputs": [],
   "source": [
    "from functools import reduce\n",
    "\n",
    "def multiply(x, y):\n",
    "    return x * y\n",
    "\n",
    "product = reduce(multiply, [1, 2, 3, 4])\n",
    "print(product)  # 24\n"
   ]
  },
  {
   "cell_type": "code",
   "execution_count": null,
   "id": "055be14d",
   "metadata": {},
   "outputs": [],
   "source": [
    "#sorted(iterable, key=function, reverse=False)\n",
    "\n",
    "#iterable → Sequence to sort.\n",
    "\n",
    "#key → Function to decide sorting criteria (default: natural order).\n",
    "\n",
    "#reverse → If True, sorts descending.\n",
    "\n",
    "# Returns → A new sorted list (doesn’t change the original).\n",
    "nums = [5, 2, 9, 1, 7]\n",
    "print(sorted(nums))  # [1, 2, 5, 7, 9]"
   ]
  },
  {
   "cell_type": "code",
   "execution_count": null,
   "id": "2efe6ec1",
   "metadata": {},
   "outputs": [],
   "source": []
  },
  {
   "cell_type": "code",
   "execution_count": null,
   "id": "26d9ba29",
   "metadata": {},
   "outputs": [],
   "source": []
  },
  {
   "cell_type": "code",
   "execution_count": 2,
   "id": "9fee93f3",
   "metadata": {},
   "outputs": [
    {
     "name": "stdout",
     "output_type": "stream",
     "text": [
      "[9, 7, 5, 2, 1]\n"
     ]
    }
   ],
   "source": [
    "print(sorted(nums, reverse=True))  # [9, 7, 5, 2, 1]"
   ]
  },
  {
   "cell_type": "code",
   "execution_count": 3,
   "id": "52fe7daa",
   "metadata": {},
   "outputs": [
    {
     "name": "stdout",
     "output_type": "stream",
     "text": [
      "['kiwi', 'apple', 'banana', 'cherry']\n"
     ]
    }
   ],
   "source": [
    "words = [\"apple\", \"banana\", \"kiwi\", \"cherry\"]\n",
    "\n",
    "sorted_words = sorted(words, key=lambda w: len(w))\n",
    "print(sorted_words)  # ['kiwi', 'apple', 'cherry', 'banana']\n"
   ]
  },
  {
   "cell_type": "code",
   "execution_count": 4,
   "id": "596cf2ac",
   "metadata": {},
   "outputs": [
    {
     "name": "stdout",
     "output_type": "stream",
     "text": [
      "['kiwi', 'apple', 'banana', 'cherry']\n"
     ]
    }
   ],
   "source": [
    "def word_length(w):\n",
    "    return len(w)\n",
    "\n",
    "sorted_words = sorted(words, key=word_length)\n",
    "print(sorted_words)\n"
   ]
  },
  {
   "cell_type": "code",
   "execution_count": 5,
   "id": "4a7c2244",
   "metadata": {},
   "outputs": [
    {
     "name": "stdout",
     "output_type": "stream",
     "text": [
      "[(2, 1), (5, 2), (1, 3)]\n"
     ]
    }
   ],
   "source": [
    "pairs = [(1, 3), (2, 1), (5, 2)]\n",
    "\n",
    "# Sort by second element\n",
    "sorted_pairs = sorted(pairs, key=lambda x: x[1])\n",
    "print(sorted_pairs)  # [(2, 1), (5, 2), (1, 3)]\n"
   ]
  },
  {
   "cell_type": "code",
   "execution_count": null,
   "id": "1fd79f2b",
   "metadata": {},
   "outputs": [],
   "source": [
    "students = {\"Alice\": 85, \"Bob\": 72, \"Charlie\": 90}\n",
    "\n",
    "# Sort by scores\n",
    "sorted_students = sorted(students.items(), key=lambda x: x[1], reverse=True)\n",
    "print(sorted_students)  # [('Charlie', 90), ('Alice', 85), ('Bob', 72)]\n"
   ]
  }
 ],
 "metadata": {
  "kernelspec": {
   "display_name": "base",
   "language": "python",
   "name": "python3"
  },
  "language_info": {
   "codemirror_mode": {
    "name": "ipython",
    "version": 3
   },
   "file_extension": ".py",
   "mimetype": "text/x-python",
   "name": "python",
   "nbconvert_exporter": "python",
   "pygments_lexer": "ipython3",
   "version": "3.12.9"
  }
 },
 "nbformat": 4,
 "nbformat_minor": 5
}
