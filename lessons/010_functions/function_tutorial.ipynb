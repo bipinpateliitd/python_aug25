{
 "cells": [
  {
   "cell_type": "markdown",
   "metadata": {},
   "source": [
    "# Python Functions Tutorial\n",
    "\n",
    "This notebook covers the fundamentals of Python functions, from basic syntax to advanced concepts."
   ]
  },
  {
   "cell_type": "markdown",
   "metadata": {},
   "source": [
    "## 1. Function Basics\n",
    "\n",
    "A function is a reusable block of code that performs a specific task."
   ]
  },
  {
   "cell_type": "code",
   "execution_count": null,
   "metadata": {},
   "source": [
    "def greet():\n",
    "    \"\"\"A simple function that prints a greeting.\"\"\"\n",
    "    print(\"Hello, World!\")\n",
    "\n",
    "# Call the function\n",
    "greet()"
   ],
   "outputs": []
  },
  {
   "cell_type": "markdown",
   "metadata": {},
   "source": [
    "## 2. Functions with Parameters\n",
    "\n",
    "Functions can accept input values called parameters or arguments."
   ]
  },
  {
   "cell_type": "code",
   "execution_count": null,
   "metadata": {},
   "source": [
    "def greet_person(name):\n",
    "    \"\"\"Function with a parameter.\"\"\"\n",
    "    print(f\"Hello, {name}!\")\n",
    "\n",
    "# Call with argument\n",
    "greet_person(\"Alice\")\n",
    "greet_person(\"Bob\")"
   ],
   "outputs": []
  },
  {
   "cell_type": "markdown",
   "metadata": {},
   "source": [
    "## 3. Multiple Parameters\n",
    "\n",
    "Functions can have multiple parameters."
   ]
  },
  {
   "cell_type": "code",
   "execution_count": null,
   "metadata": {},
   "source": [
    "def add_numbers(a, b):\n",
    "    \"\"\"Function that adds two numbers.\"\"\"\n",
    "    result = a + b\n",
    "    print(f\"{a} + {b} = {result}\")\n",
    "\n",
    "add_numbers(5, 3)\n",
    "add_numbers(10, 20)"
   ],
   "outputs": []
  },
  {
   "cell_type": "markdown",
   "metadata": {},
   "source": [
    "## 4. Return Values\n",
    "\n",
    "Functions can return values using the `return` statement."
   ]
  },
  {
   "cell_type": "code",
   "execution_count": null,
   "metadata": {},
   "source": [
    "def multiply(a, b):\n",
    "    \"\"\"Function that returns the product of two numbers.\"\"\"\n",
    "    return a * b\n",
    "\n",
    "# Store the result\n",
    "result = multiply(4, 7)\n",
    "print(f\"Result: {result}\")\n",
    "\n",
    "# Use directly in expressions\n",
    "print(f\"Double the result: {multiply(4, 7) * 2}\")"
   ],
   "outputs": []
  },
  {
   "cell_type": "markdown",
   "metadata": {},
   "source": [
    "## 5. Default Parameters\n",
    "\n",
    "Parameters can have default values."
   ]
  },
  {
   "cell_type": "code",
   "execution_count": null,
   "metadata": {},
   "source": [
    "def greet_with_title(name, title=\"Mr.\"):\n",
    "    \"\"\"Function with default parameter.\"\"\"\n",
    "    return f\"Hello, {title} {name}!\"\n",
    "\n",
    "# Using default value\n",
    "print(greet_with_title(\"Smith\"))\n",
    "\n",
    "# Overriding default value\n",
    "print(greet_with_title(\"Johnson\", \"Dr.\"))\n",
    "print(greet_with_title(\"Davis\", \"Ms.\"))"
   ],
   "outputs": []
  },
  {
   "cell_type": "markdown",
   "metadata": {},
   "source": [
    "## 6. Keyword Arguments\n",
    "\n",
    "Arguments can be passed by name, not just position."
   ]
  },
  {
   "cell_type": "code",
   "execution_count": null,
   "metadata": {},
   "source": [
    "def describe_pet(name, animal_type=\"dog\", age=1):\n",
    "    \"\"\"Function demonstrating keyword arguments.\"\"\"\n",
    "    return f\"I have a {age}-year-old {animal_type} named {name}.\"\n",
    "\n",
    "# Different ways to call the function\n",
    "print(describe_pet(\"Buddy\"))\n",
    "print(describe_pet(\"Max\", \"cat\"))\n",
    "print(describe_pet(name=\"Luna\", animal_type=\"bird\", age=2))\n",
    "print(describe_pet(age=5, name=\"Rex\"))"
   ],
   "outputs": []
  },
  {
   "cell_type": "markdown",
   "metadata": {},
   "source": [
    "## 7. Variable Arguments (*args)\n",
    "\n",
    "Functions can accept a variable number of arguments."
   ]
  },
  {
   "cell_type": "code",
   "execution_count": null,
   "metadata": {},
   "source": [
    "def sum_all(*numbers):\n",
    "    \"\"\"Function that sums any number of arguments.\"\"\"\n",
    "    total = 0\n",
    "    for num in numbers:\n",
    "        total += num\n",
    "    return total\n",
    "\n",
    "print(sum_all(1, 2, 3))\n",
    "print(sum_all(10, 20, 30, 40, 50))\n",
    "print(sum_all(5))"
   ],
   "outputs": []
  },
  {
   "cell_type": "markdown",
   "metadata": {},
   "source": [
    "## 8. Keyword Variable Arguments (**kwargs)\n",
    "\n",
    "Functions can accept variable keyword arguments."
   ]
  },
  {
   "cell_type": "code",
   "execution_count": null,
   "metadata": {},
   "source": [
    "def build_profile(first_name, last_name, **user_info):\n",
    "    \"\"\"Build a user profile with additional information.\"\"\"\n",
    "    profile = {\n",
    "        'first_name': first_name,\n",
    "        'last_name': last_name\n",
    "    }\n",
    "    \n",
    "    # Add any additional information\n",
    "    for key, value in user_info.items():\n",
    "        profile[key] = value\n",
    "    \n",
    "    return profile\n",
    "\n",
    "user1 = build_profile(\"John\", \"Doe\", age=30, city=\"New York\")\n",
    "user2 = build_profile(\"Jane\", \"Smith\", age=25, city=\"Boston\", occupation=\"Engineer\")\n",
    "\n",
    "print(user1)\n",
    "print(user2)"
   ],
   "outputs": []
  },
  {
   "cell_type": "markdown",
   "metadata": {},
   "source": [
    "## 9. Lambda Functions\n",
    "\n",
    "Lambda functions are small, anonymous functions."
   ]
  },
  {
   "cell_type": "code",
   "execution_count": null,
   "metadata": {},
   "source": [
    "# Lambda function to square a number\n",
    "square = lambda x: x ** 2\n",
    "print(square(5))\n",
    "\n",
    "# Lambda with multiple arguments\n",
    "add = lambda x, y: x + y\n",
    "print(add(3, 4))\n",
    "\n",
    "# Using lambda with built-in functions\n",
    "numbers = [1, 2, 3, 4, 5]\n",
    "squared_numbers = list(map(lambda x: x ** 2, numbers))\n",
    "print(f\"Original: {numbers}\")\n",
    "print(f\"Squared: {squared_numbers}\")\n",
    "\n",
    "# Filter even numbers\n",
    "even_numbers = list(filter(lambda x: x % 2 == 0, numbers))\n",
    "print(f\"Even numbers: {even_numbers}\")"
   ],
   "outputs": []
  },
  {
   "cell_type": "markdown",
   "metadata": {},
   "source": [
    "## 10. Scope and Local Variables\n",
    "\n",
    "Variables defined inside functions have local scope."
   ]
  },
  {
   "cell_type": "code",
   "execution_count": null,
   "metadata": {},
   "source": [
    "global_var = \"I'm global\"\n",
    "\n",
    "def scope_example():\n",
    "    local_var = \"I'm local\"\n",
    "    print(f\"Inside function - Global: {global_var}\")\n",
    "    print(f\"Inside function - Local: {local_var}\")\n",
    "\n",
    "scope_example()\n",
    "print(f\"Outside function - Global: {global_var}\")\n",
    "\n",
    "# This would cause an error:\n",
    "# print(local_var)  # NameError: name 'local_var' is not defined"
   ],
   "outputs": []
  },
  {
   "cell_type": "markdown",
   "metadata": {},
   "source": [
    "## 11. Practical Examples\n",
    "\n",
    "Let's create some useful functions."
   ]
  },
  {
   "cell_type": "code",
   "execution_count": null,
   "metadata": {},
   "source": [
    "def calculate_area_rectangle(length, width):\n",
    "    \"\"\"Calculate the area of a rectangle.\"\"\"\n",
    "    return length * width\n",
    "\n",
    "def calculate_area_circle(radius):\n",
    "    \"\"\"Calculate the area of a circle.\"\"\"\n",
    "    import math\n",
    "    return math.pi * radius ** 2\n",
    "\n",
    "def is_even(number):\n",
    "    \"\"\"Check if a number is even.\"\"\"\n",
    "    return number % 2 == 0\n",
    "\n",
    "def factorial(n):\n",
    "    \"\"\"Calculate factorial of a number.\"\"\"\n",
    "    if n == 0 or n == 1:\n",
    "        return 1\n",
    "    else:\n",
    "        return n * factorial(n - 1)\n",
    "\n",
    "# Test the functions\n",
    "print(f\"Rectangle area (5x3): {calculate_area_rectangle(5, 3)}\")\n",
    "print(f\"Circle area (radius=4): {calculate_area_circle(4):.2f}\")\n",
    "print(f\"Is 8 even? {is_even(8)}\")\n",
    "print(f\"Is 7 even? {is_even(7)}\")\n",
    "print(f\"Factorial of 5: {factorial(5)}\")"
   ],
   "outputs": []
  },
  {
   "cell_type": "markdown",
   "metadata": {},
   "source": [
    "## 12. Exercises\n",
    "\n",
    "Try these exercises to practice what you've learned:"
   ]
  },
  {
   "cell_type": "code",
   "execution_count": null,
   "metadata": {},
   "source": [
    "# Exercise 1: Create a function that converts temperature from Celsius to Fahrenheit\n",
    "def celsius_to_fahrenheit(celsius):\n",
    "    \"\"\"Convert temperature from Celsius to Fahrenheit.\"\"\"\n",
    "    # Formula: F = C * 9/5 + 32\n",
    "    pass  # Replace with your implementation\n",
    "\n",
    "# Exercise 2: Create a function that finds the maximum of three numbers\n",
    "def find_max_of_three(a, b, c):\n",
    "    \"\"\"Find the maximum of three numbers.\"\"\"\n",
    "    pass  # Replace with your implementation\n",
    "\n",
    "# Exercise 3: Create a function that checks if a string is a palindrome\n",
    "def is_palindrome(text):\n",
    "    \"\"\"Check if a string is a palindrome.\"\"\"\n",
    "    pass  # Replace with your implementation\n",
    "\n",
    "# Test your functions here\n",
    "# print(celsius_to_fahrenheit(0))  # Should return 32\n",
    "# print(find_max_of_three(1, 5, 3))  # Should return 5\n",
    "# print(is_palindrome(\"racecar\"))  # Should return True"
   ],
   "outputs": []
  },
  {
   "cell_type": "markdown",
   "metadata": {},
   "source": [
    "## Summary\n",
    "\n",
    "Functions are essential building blocks in Python programming. Key concepts covered:\n",
    "\n",
    "1. **Basic function syntax**: `def function_name():`\n",
    "2. **Parameters and arguments**: Input values for functions\n",
    "3. **Return values**: Output from functions\n",
    "4. **Default parameters**: Optional parameters with default values\n",
    "5. **Variable arguments**: `*args` and `**kwargs`\n",
    "6. **Lambda functions**: Small, anonymous functions\n",
    "7. **Scope**: Variable visibility inside and outside functions\n",
    "\n",
    "Practice creating and using functions to make your code more organized, reusable, and maintainable!"
   ]
  }
 ],
 "metadata": {
  "kernelspec": {
   "display_name": "Python 3",
   "language": "python",
   "name": "python3"
  },
  "language_info": {
   "codemirror_mode": {
    "name": "ipython",
    "version": 3
   },
   "file_extension": ".py",
   "mimetype": "text/x-python",
   "name": "python",
   "nbconvert_exporter": "python",
   "pygments_lexer": "ipython3",
   "version": "3.8.5"
  }
 },
 "nbformat": 4,
 "nbformat_minor": 4
}