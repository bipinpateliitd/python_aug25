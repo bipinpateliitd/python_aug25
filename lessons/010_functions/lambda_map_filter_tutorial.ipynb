{
 "cells": [
  {
   "cell_type": "markdown",
   "metadata": {},
   "source": "# Lambda, Map, Filter, Reduce, and Sort Functions in Python\n\nThis notebook covers five powerful Python features that work together to create concise and functional programming solutions:\n- **Lambda functions**: Anonymous functions\n- **Map function**: Apply a function to every item in an iterable\n- **Filter function**: Filter items from an iterable based on a condition\n- **Reduce function**: Apply a function cumulatively to items in an iterable\n- **Sort function**: Sort items using custom key functions"
  },
  {
   "cell_type": "markdown",
   "metadata": {},
   "source": [
    "## 1. Lambda Functions\n",
    "\n",
    "Lambda functions are small, anonymous functions that can have any number of arguments but can only have one expression."
   ]
  },
  {
   "cell_type": "markdown",
   "metadata": {},
   "source": [
    "### Basic Lambda Syntax\n",
    "\n",
    "```python\n",
    "lambda arguments: expression\n",
    "```"
   ]
  },
  {
   "cell_type": "code",
   "execution_count": null,
   "metadata": {},
   "source": [
    "# Regular function\n",
    "def square(x):\n",
    "    return x ** 2\n",
    "\n",
    "# Equivalent lambda function\n",
    "square_lambda = lambda x: x ** 2\n",
    "\n",
    "print(f\"Regular function: {square(5)}\")\n",
    "print(f\"Lambda function: {square_lambda(5)}\")"
   ],
   "outputs": []
  },
  {
   "cell_type": "markdown",
   "metadata": {},
   "source": [
    "### Lambda with Multiple Arguments"
   ]
  },
  {
   "cell_type": "code",
   "execution_count": null,
   "metadata": {},
   "source": [
    "# Lambda with two arguments\n",
    "add = lambda x, y: x + y\n",
    "multiply = lambda x, y: x * y\n",
    "power = lambda base, exp: base ** exp\n",
    "\n",
    "print(f\"Add: {add(10, 5)}\")\n",
    "print(f\"Multiply: {multiply(10, 5)}\")\n",
    "print(f\"Power: {power(2, 8)}\")\n",
    "\n",
    "# Lambda with three arguments\n",
    "area_triangle = lambda base, height, factor=0.5: factor * base * height\n",
    "print(f\"Triangle area: {area_triangle(10, 8)}\")"
   ],
   "outputs": []
  },
  {
   "cell_type": "markdown",
   "metadata": {},
   "source": [
    "### Lambda with Conditional Expressions"
   ]
  },
  {
   "cell_type": "code",
   "execution_count": null,
   "metadata": {},
   "source": [
    "# Lambda with conditional (ternary operator)\n",
    "max_of_two = lambda x, y: x if x > y else y\n",
    "is_even = lambda x: \"Even\" if x % 2 == 0 else \"Odd\"\n",
    "absolute_value = lambda x: x if x >= 0 else -x\n",
    "\n",
    "print(f\"Max of 15 and 23: {max_of_two(15, 23)}\")\n",
    "print(f\"8 is: {is_even(8)}\")\n",
    "print(f\"7 is: {is_even(7)}\")\n",
    "print(f\"Absolute value of -10: {absolute_value(-10)}\")"
   ],
   "outputs": []
  },
  {
   "cell_type": "markdown",
   "metadata": {},
   "source": [
    "## 2. Map Function\n",
    "\n",
    "The `map()` function applies a given function to every item in an iterable and returns an iterator."
   ]
  },
  {
   "cell_type": "markdown",
   "metadata": {},
   "source": [
    "### Basic Map Usage"
   ]
  },
  {
   "cell_type": "code",
   "execution_count": null,
   "metadata": {},
   "source": [
    "# Using map with a regular function\n",
    "def cube(x):\n",
    "    return x ** 3\n",
    "\n",
    "numbers = [1, 2, 3, 4, 5]\n",
    "cubed_numbers = list(map(cube, numbers))\n",
    "\n",
    "print(f\"Original numbers: {numbers}\")\n",
    "print(f\"Cubed numbers: {cubed_numbers}\")"
   ],
   "outputs": []
  },
  {
   "cell_type": "markdown",
   "metadata": {},
   "source": [
    "### Map with Lambda Functions"
   ]
  },
  {
   "cell_type": "code",
   "execution_count": null,
   "metadata": {},
   "source": [
    "numbers = [1, 2, 3, 4, 5, 6, 7, 8, 9, 10]\n",
    "\n",
    "# Square all numbers\n",
    "squares = list(map(lambda x: x ** 2, numbers))\n",
    "print(f\"Squares: {squares}\")\n",
    "\n",
    "# Convert to strings\n",
    "str_numbers = list(map(lambda x: f\"Number: {x}\", numbers))\n",
    "print(f\"String format: {str_numbers[:3]}...\")  # Show first 3\n",
    "\n",
    "# Apply complex transformation\n",
    "transformed = list(map(lambda x: x * 2 + 1, numbers))\n",
    "print(f\"2x + 1: {transformed}\")"
   ],
   "outputs": []
  },
  {
   "cell_type": "markdown",
   "metadata": {},
   "source": [
    "### Map with Multiple Iterables"
   ]
  },
  {
   "cell_type": "code",
   "execution_count": null,
   "metadata": {},
   "source": [
    "# Map can work with multiple iterables\n",
    "list1 = [1, 2, 3, 4, 5]\n",
    "list2 = [10, 20, 30, 40, 50]\n",
    "\n",
    "# Add corresponding elements\n",
    "sums = list(map(lambda x, y: x + y, list1, list2))\n",
    "print(f\"List 1: {list1}\")\n",
    "print(f\"List 2: {list2}\")\n",
    "print(f\"Sums: {sums}\")\n",
    "\n",
    "# Multiply corresponding elements\n",
    "products = list(map(lambda x, y: x * y, list1, list2))\n",
    "print(f\"Products: {products}\")\n",
    "\n",
    "# Work with three lists\n",
    "list3 = [100, 200, 300, 400, 500]\n",
    "three_way = list(map(lambda x, y, z: x + y + z, list1, list2, list3))\n",
    "print(f\"Three-way sum: {three_way}\")"
   ],
   "outputs": []
  },
  {
   "cell_type": "markdown",
   "metadata": {},
   "source": [
    "### Map with Strings"
   ]
  },
  {
   "cell_type": "code",
   "execution_count": null,
   "metadata": {},
   "source": [
    "words = ['hello', 'world', 'python', 'programming']\n",
    "\n",
    "# Convert to uppercase\n",
    "upper_words = list(map(lambda x: x.upper(), words))\n",
    "print(f\"Uppercase: {upper_words}\")\n",
    "\n",
    "# Get word lengths\n",
    "word_lengths = list(map(lambda x: len(x), words))\n",
    "print(f\"Lengths: {word_lengths}\")\n",
    "\n",
    "# Capitalize first letter\n",
    "capitalized = list(map(lambda x: x.capitalize(), words))\n",
    "print(f\"Capitalized: {capitalized}\")\n",
    "\n",
    "# Add prefix\n",
    "prefixed = list(map(lambda x: f\">>> {x}\", words))\n",
    "print(f\"Prefixed: {prefixed}\")"
   ],
   "outputs": []
  },
  {
   "cell_type": "markdown",
   "metadata": {},
   "source": [
    "## 3. Filter Function\n",
    "\n",
    "The `filter()` function filters elements from an iterable based on a function that returns True or False."
   ]
  },
  {
   "cell_type": "markdown",
   "metadata": {},
   "source": [
    "### Basic Filter Usage"
   ]
  },
  {
   "cell_type": "code",
   "execution_count": null,
   "metadata": {},
   "source": [
    "numbers = [1, 2, 3, 4, 5, 6, 7, 8, 9, 10, 11, 12, 13, 14, 15]\n",
    "\n",
    "# Filter even numbers\n",
    "even_numbers = list(filter(lambda x: x % 2 == 0, numbers))\n",
    "print(f\"Even numbers: {even_numbers}\")\n",
    "\n",
    "# Filter odd numbers\n",
    "odd_numbers = list(filter(lambda x: x % 2 != 0, numbers))\n",
    "print(f\"Odd numbers: {odd_numbers}\")\n",
    "\n",
    "# Filter numbers greater than 8\n",
    "greater_than_8 = list(filter(lambda x: x > 8, numbers))\n",
    "print(f\"Greater than 8: {greater_than_8}\")"
   ],
   "outputs": []
  },
  {
   "cell_type": "markdown",
   "metadata": {},
   "source": [
    "### Filter with Strings"
   ]
  },
  {
   "cell_type": "code",
   "execution_count": null,
   "metadata": {},
   "source": [
    "words = ['apple', 'banana', 'cherry', 'date', 'elderberry', 'fig', 'grape']\n",
    "\n",
    "# Filter words with length > 5\n",
    "long_words = list(filter(lambda x: len(x) > 5, words))\n",
    "print(f\"Words longer than 5 characters: {long_words}\")\n",
    "\n",
    "# Filter words starting with specific letter\n",
    "words_with_a = list(filter(lambda x: x.startswith('a'), words))\n",
    "print(f\"Words starting with 'a': {words_with_a}\")\n",
    "\n",
    "# Filter words containing specific letter\n",
    "words_with_e = list(filter(lambda x: 'e' in x, words))\n",
    "print(f\"Words containing 'e': {words_with_e}\")"
   ],
   "outputs": []
  },
  {
   "cell_type": "markdown",
   "metadata": {},
   "source": [
    "### Filter with Complex Conditions"
   ]
  },
  {
   "cell_type": "code",
   "execution_count": null,
   "metadata": {},
   "source": [
    "# Filter prime numbers\n",
    "def is_prime(n):\n",
    "    if n < 2:\n",
    "        return False\n",
    "    for i in range(2, int(n ** 0.5) + 1):\n",
    "        if n % i == 0:\n",
    "            return False\n",
    "    return True\n",
    "\n",
    "numbers = list(range(1, 21))\n",
    "prime_numbers = list(filter(is_prime, numbers))\n",
    "print(f\"Prime numbers 1-20: {prime_numbers}\")\n",
    "\n",
    "# Filter numbers divisible by both 2 and 3\n",
    "div_by_2_and_3 = list(filter(lambda x: x % 2 == 0 and x % 3 == 0, numbers))\n",
    "print(f\"Divisible by both 2 and 3: {div_by_2_and_3}\")"
   ],
   "outputs": []
  },
  {
   "cell_type": "markdown",
   "metadata": {},
   "source": [
    "## 4. Combining Map and Filter\n",
    "\n",
    "Map and filter can be combined for powerful data processing."
   ]
  },
  {
   "cell_type": "code",
   "execution_count": null,
   "metadata": {},
   "source": [
    "numbers = [1, 2, 3, 4, 5, 6, 7, 8, 9, 10]\n",
    "\n",
    "# First filter even numbers, then square them\n",
    "even_squares = list(map(lambda x: x ** 2, filter(lambda x: x % 2 == 0, numbers)))\n",
    "print(f\"Squares of even numbers: {even_squares}\")\n",
    "\n",
    "# First square all numbers, then filter those > 25\n",
    "large_squares = list(filter(lambda x: x > 25, map(lambda x: x ** 2, numbers)))\n",
    "print(f\"Squares greater than 25: {large_squares}\")\n",
    "\n",
    "# More complex: words -> lengths -> filter > 5 -> double\n",
    "words = ['cat', 'elephant', 'dog', 'hippopotamus', 'ant', 'giraffe']\n",
    "result = list(map(lambda x: x * 2, \n",
    "                  filter(lambda x: x > 5, \n",
    "                         map(lambda x: len(x), words))))\n",
    "print(f\"Double the length of words longer than 5 chars: {result}\")"
   ],
   "outputs": []
  },
  {
   "cell_type": "markdown",
   "metadata": {},
   "source": [
    "## 5. Real-World Examples\n",
    "\n",
    "Let's look at practical applications of lambda, map, and filter."
   ]
  },
  {
   "cell_type": "markdown",
   "metadata": {},
   "source": [
    "### Processing Student Data"
   ]
  },
  {
   "cell_type": "code",
   "execution_count": null,
   "metadata": {},
   "source": [
    "# Student data processing\n",
    "students = [\n",
    "    {'name': 'Alice', 'age': 20, 'grade': 85},\n",
    "    {'name': 'Bob', 'age': 19, 'grade': 92},\n",
    "    {'name': 'Charlie', 'age': 21, 'grade': 78},\n",
    "    {'name': 'Diana', 'age': 20, 'grade': 96},\n",
    "    {'name': 'Eve', 'age': 22, 'grade': 73}\n",
    "]\n",
    "\n",
    "# Extract all grades\n",
    "grades = list(map(lambda student: student['grade'], students))\n",
    "print(f\"All grades: {grades}\")\n",
    "\n",
    "# Filter students with grade >= 80\n",
    "good_students = list(filter(lambda student: student['grade'] >= 80, students))\n",
    "print(f\"Students with grade >= 80: {[s['name'] for s in good_students]}\")\n",
    "\n",
    "# Get names of students older than 20\n",
    "older_student_names = list(map(lambda student: student['name'],\n",
    "                               filter(lambda student: student['age'] > 20, students)))\n",
    "print(f\"Students older than 20: {older_student_names}\")\n",
    "\n",
    "# Calculate average grade of students aged 20 or younger\n",
    "young_grades = list(map(lambda student: student['grade'],\n",
    "                        filter(lambda student: student['age'] <= 20, students)))\n",
    "avg_young_grade = sum(young_grades) / len(young_grades)\n",
    "print(f\"Average grade of students 20 or younger: {avg_young_grade:.1f}\")"
   ],
   "outputs": []
  },
  {
   "cell_type": "markdown",
   "metadata": {},
   "source": [
    "### Data Cleaning and Transformation"
   ]
  },
  {
   "cell_type": "code",
   "execution_count": null,
   "metadata": {},
   "source": [
    "# Data cleaning example\n",
    "raw_data = ['  apple  ', 'BANANA', '  cherry', 'DATE  ', '  elderberry  ']\n",
    "\n",
    "# Clean and normalize data\n",
    "cleaned_data = list(map(lambda x: x.strip().lower(), raw_data))\n",
    "print(f\"Cleaned data: {cleaned_data}\")\n",
    "\n",
    "# Convert temperatures from Celsius to Fahrenheit\n",
    "celsius_temps = [0, 10, 20, 25, 30, 37]\n",
    "fahrenheit_temps = list(map(lambda c: c * 9/5 + 32, celsius_temps))\n",
    "print(f\"Celsius: {celsius_temps}\")\n",
    "print(f\"Fahrenheit: {fahrenheit_temps}\")\n",
    "\n",
    "# Filter valid email addresses (simplified)\n",
    "emails = ['user@example.com', 'invalid-email', 'test@test.org', 'another@domain', 'valid@site.net']\n",
    "valid_emails = list(filter(lambda email: '@' in email and '.' in email.split('@')[1], emails))\n",
    "print(f\"Valid emails: {valid_emails}\")"
   ],
   "outputs": []
  },
  {
   "cell_type": "markdown",
   "metadata": {},
   "source": [
    "### Financial Calculations"
   ]
  },
  {
   "cell_type": "code",
   "execution_count": null,
   "metadata": {},
   "source": [
    "# Financial data processing\n",
    "transactions = [\n",
    "    {'type': 'income', 'amount': 5000},\n",
    "    {'type': 'expense', 'amount': 1200},\n",
    "    {'type': 'expense', 'amount': 800},\n",
    "    {'type': 'income', 'amount': 3000},\n",
    "    {'type': 'expense', 'amount': 2500},\n",
    "    {'type': 'income', 'amount': 1500}\n",
    "]\n",
    "\n",
    "# Calculate total income\n",
    "income_amounts = list(map(lambda t: t['amount'],\n",
    "                          filter(lambda t: t['type'] == 'income', transactions)))\n",
    "total_income = sum(income_amounts)\n",
    "print(f\"Total income: ${total_income}\")\n",
    "\n",
    "# Calculate total expenses\n",
    "expense_amounts = list(map(lambda t: t['amount'],\n",
    "                           filter(lambda t: t['type'] == 'expense', transactions)))\n",
    "total_expenses = sum(expense_amounts)\n",
    "print(f\"Total expenses: ${total_expenses}\")\n",
    "\n",
    "# Calculate net income\n",
    "net_income = total_income - total_expenses\n",
    "print(f\"Net income: ${net_income}\")\n",
    "\n",
    "# Filter large transactions (> $2000)\n",
    "large_transactions = list(filter(lambda t: t['amount'] > 2000, transactions))\n",
    "print(f\"Large transactions: {large_transactions}\")"
   ],
   "outputs": []
  },
  {
   "cell_type": "code",
   "source": "## 9. Comparison with List Comprehensions\n\nLambda, map, filter, reduce, and sort can often be replaced with list comprehensions, which are more Pythonic.",
   "metadata": {},
   "execution_count": null,
   "outputs": []
  },
  {
   "cell_type": "markdown",
   "source": "## 8. Combining All Functions\n\nNow let's see how lambda, map, filter, reduce, and sort work together in complex scenarios.",
   "metadata": {}
  },
  {
   "cell_type": "code",
   "source": "## 10. Performance Considerations",
   "metadata": {},
   "execution_count": null,
   "outputs": []
  },
  {
   "cell_type": "markdown",
   "source": "### Advanced Sorting Techniques",
   "metadata": {}
  },
  {
   "cell_type": "code",
   "source": "## 11. Practice Exercises",
   "metadata": {},
   "execution_count": null,
   "outputs": []
  },
  {
   "cell_type": "markdown",
   "source": "# Exercise data\nexercise_numbers = [1, 2, 3, 4, 5, 6, 7, 8, 9, 10, 11, 12, 13, 14, 15]\nexercise_words = ['python', 'java', 'javascript', 'go', 'rust', 'c', 'cpp', 'swift']\nexercise_prices = [19.99, 25.50, 12.00, 99.99, 5.25, 150.00, 75.80, 200.00]\nexercise_students = [\n    {'name': 'Alice', 'grades': [85, 92, 78, 96]},\n    {'name': 'Bob', 'grades': [70, 88, 92, 85]},\n    {'name': 'Charlie', 'grades': [95, 87, 91, 89]},\n    {'name': 'Diana', 'grades': [82, 94, 88, 90]}\n]\n\nprint(\"Exercise Data:\")\nprint(f\"Numbers: {exercise_numbers}\")\nprint(f\"Words: {exercise_words}\")\nprint(f\"Prices: {exercise_prices}\")\nprint(f\"Students: {len(exercise_students)} students with grades\")\nprint(\"\\\\n\" + \"=\"*50 + \"\\\\n\")",
   "metadata": {}
  },
  {
   "cell_type": "code",
   "source": "# Basic sorting with lambda\nnumbers = [5, 2, 8, 1, 9, 3]\n\n# Sort by value (default behavior)\nsorted_numbers = sorted(numbers)\nprint(f\"Default sort: {sorted_numbers}\")\n\n# Sort by absolute value\nmixed_numbers = [-5, 2, -8, 1, 9, -3]\nsorted_by_abs = sorted(mixed_numbers, key=lambda x: abs(x))\nprint(f\"Sort by absolute value: {sorted_by_abs}\")\n\n# Sort strings by length\nwords = ['python', 'java', 'c', 'javascript', 'go', 'rust']\nsorted_by_length = sorted(words, key=lambda x: len(x))\nprint(f\"Sort by length: {sorted_by_length}\")\n\n# Sort in descending order\ndesc_length = sorted(words, key=lambda x: len(x), reverse=True)\nprint(f\"Sort by length (descending): {desc_length}\")",
   "metadata": {},
   "execution_count": null,
   "outputs": []
  },
  {
   "cell_type": "markdown",
   "source": "### Basic Sorting with Lambda",
   "metadata": {}
  },
  {
   "cell_type": "markdown",
   "source": "## 7. Sort Function with Lambda\n\nThe `sort()` method and `sorted()` function can use lambda functions as key functions to customize sorting behavior.",
   "metadata": {}
  },
  {
   "cell_type": "code",
   "source": "# Complex reduce operations\ntransactions = [\n    {'type': 'deposit', 'amount': 100},\n    {'type': 'withdrawal', 'amount': 30},\n    {'type': 'deposit', 'amount': 250},\n    {'type': 'withdrawal', 'amount': 75},\n    {'type': 'deposit', 'amount': 50}\n]\n\n# Calculate final balance\nfinal_balance = reduce(\n    lambda balance, transaction: \n        balance + transaction['amount'] if transaction['type'] == 'deposit' \n        else balance - transaction['amount'],\n    transactions,\n    0  # Initial balance\n)\nprint(f\"Final balance: ${final_balance}\")\n\n# Find the person with the highest grade\nstudents = [\n    {'name': 'Alice', 'grade': 85},\n    {'name': 'Bob', 'grade': 92},\n    {'name': 'Charlie', 'grade': 78},\n    {'name': 'Diana', 'grade': 96}\n]\n\ntop_student = reduce(\n    lambda best, current: current if current['grade'] > best['grade'] else best,\n    students\n)\nprint(f\"Top student: {top_student['name']} with grade {top_student['grade']}\")\n\n# Flatten a list of lists\nnested_lists = [[1, 2, 3], [4, 5], [6, 7, 8, 9], [10]]\nflattened = reduce(lambda acc, lst: acc + lst, nested_lists, [])\nprint(f\"Flattened list: {flattened}\")\n\n# Create a frequency counter\nwords = ['apple', 'banana', 'apple', 'cherry', 'banana', 'apple']\nword_count = reduce(\n    lambda acc, word: {**acc, word: acc.get(word, 0) + 1},\n    words,\n    {}\n)\nprint(f\"Word count: {word_count}\")",
   "metadata": {},
   "execution_count": null,
   "outputs": []
  },
  {
   "cell_type": "markdown",
   "source": "### Complex Reduce Operations",
   "metadata": {}
  },
  {
   "cell_type": "code",
   "source": "## 12. Best Practices and Tips\n\n### When to Use Lambda, Map, Filter, Reduce, and Sort:\n\n1. **Use lambda** for simple, one-line functions that you won't reuse\n2. **Use map** when you need to transform every item in a collection\n3. **Use filter** when you need to select items based on a condition\n4. **Use reduce** when you need to combine all items into a single value\n5. **Use sort with lambda** for custom sorting criteria\n6. **Consider list comprehensions** for better readability in most cases\n\n### Performance Tips:\n\n1. List comprehensions are often faster than map/filter\n2. Use generator expressions for large datasets to save memory\n3. Built-in functions (sum, max, min) are faster than reduce\n4. Don't use lambda for complex operations - define regular functions\n5. sorted() creates a new list; .sort() modifies in-place\n\n### Readability Guidelines:\n\n1. Keep lambda functions simple and readable\n2. Use meaningful variable names\n3. Break complex operations into multiple steps\n4. Consider using regular functions for better debugging\n5. Chain operations logically and document complex pipelines\n\n### When to Choose Each Approach:\n\n**Use functional approach (lambda/map/filter/reduce) when:**\n- Working with existing functions\n- Need to pass functions as arguments\n- Building reusable, composable operations\n- Working in a functional programming style\n\n**Use list comprehensions when:**\n- The operation is simple and readable\n- Performance is critical\n- You want more Pythonic code\n- The logic fits naturally in comprehension syntax",
   "metadata": {},
   "execution_count": null,
   "outputs": []
  },
  {
   "cell_type": "code",
   "source": "# Exercise 7: Sort operations\nprint(\"Exercise 7: Sort Operations\")\n\n# Use sort/sorted with lambda to:\n# 1. Sort numbers by their digit sum (e.g., 12 -> 1+2 = 3)\n# 2. Sort words by number of vowels (descending order)\n# 3. Sort students by their lowest grade (ascending)\n\n# Your code here:\n# digit_sum = lambda n: sum(int(digit) for digit in str(n))\n# sorted_by_digit_sum = sorted(exercise_numbers, key=digit_sum)\n# \n# vowel_count = lambda word: sum(1 for char in word.lower() if char in 'aeiou')\n# sorted_by_vowels = sorted(exercise_words, key=vowel_count, reverse=True)\n#\n# sorted_by_min_grade = sorted(exercise_students, key=lambda student: min(student['grades']))\n\nprint(\"Exercise 7 solutions go here...\")\nprint()",
   "metadata": {},
   "execution_count": null,
   "outputs": []
  },
  {
   "cell_type": "code",
   "source": "## Summary\n\nLambda, map, filter, reduce, and sort are powerful tools in Python for functional programming:\n\n- **Lambda**: Creates anonymous functions for simple operations\n- **Map**: Applies a function to every item in an iterable\n- **Filter**: Selects items from an iterable based on a condition\n- **Reduce**: Combines all items in an iterable to a single value\n- **Sort**: Orders items using custom key functions\n\nWhile these functions are useful, modern Python often favors list comprehensions for better readability and performance. Choose the approach that makes your code most readable and maintainable!\n\n### Key Takeaways:\n1. Lambda functions are best for simple, one-line operations\n2. Map, filter, and sort work great with lambda for data transformation\n3. Reduce is powerful for aggregation operations\n4. List comprehensions are often more readable and faster\n5. Combine these tools thoughtfully for clean, functional code\n6. Use built-in functions (sum, max, min) instead of reduce when available\n7. Consider performance implications for large datasets",
   "metadata": {},
   "execution_count": null,
   "outputs": []
  },
  {
   "cell_type": "code",
   "source": "# Reduce with initial value\nnumbers = [1, 2, 3, 4, 5]\n\n# Product of all numbers with initial value\nproduct = reduce(lambda x, y: x * y, numbers, 1)\nprint(f\"Product: {product}\")\n\n# Concatenate strings with initial value\nwords = ['Hello', 'World', 'Python', 'Programming']\nsentence = reduce(lambda x, y: x + ' ' + y, words, 'Start:')\nprint(f\"Sentence: {sentence}\")\n\n# Calculate factorial using reduce\ndef factorial_reduce(n):\n    return reduce(lambda x, y: x * y, range(1, n + 1), 1)\n\nprint(f\"Factorial of 5: {factorial_reduce(5)}\")\nprint(f\"Factorial of 0: {factorial_reduce(0)}\")  # Returns 1 due to initial value",
   "metadata": {},
   "execution_count": null,
   "outputs": []
  },
  {
   "cell_type": "markdown",
   "source": "### Reduce with Initial Value",
   "metadata": {}
  },
  {
   "cell_type": "code",
   "source": "from functools import reduce\n\n# Sum all numbers using reduce\nnumbers = [1, 2, 3, 4, 5, 6, 7, 8, 9, 10]\n\n# Using reduce to sum numbers\nsum_result = reduce(lambda x, y: x + y, numbers)\nprint(f\"Sum using reduce: {sum_result}\")\n\n# Same as: ((((1+2)+3)+4)+5)... etc.\n# Compare with built-in sum\nprint(f\"Sum using built-in: {sum(numbers)}\")\n\n# Find maximum using reduce\nmax_result = reduce(lambda x, y: x if x > y else y, numbers)\nprint(f\"Maximum using reduce: {max_result}\")\n\n# Find minimum using reduce\nmin_result = reduce(lambda x, y: x if x < y else y, numbers)\nprint(f\"Minimum using reduce: {min_result}\")",
   "metadata": {},
   "execution_count": null,
   "outputs": []
  },
  {
   "cell_type": "markdown",
   "source": "### Basic Reduce Usage",
   "metadata": {}
  },
  {
   "cell_type": "markdown",
   "source": "## 6. Reduce Function\n\nThe `reduce()` function applies a function cumulatively to items in an iterable, from left to right, to reduce the iterable to a single value. It's available in the `functools` module.",
   "metadata": {}
  },
  {
   "cell_type": "markdown",
   "metadata": {},
   "source": [
    "## 6. Comparison with List Comprehensions\n",
    "\n",
    "Lambda, map, and filter can often be replaced with list comprehensions, which are more Pythonic."
   ]
  },
  {
   "cell_type": "code",
   "execution_count": null,
   "metadata": {},
   "source": [
    "numbers = [1, 2, 3, 4, 5, 6, 7, 8, 9, 10]\n",
    "\n",
    "# Using map and lambda\n",
    "squares_map = list(map(lambda x: x ** 2, numbers))\n",
    "# Using list comprehension\n",
    "squares_comp = [x ** 2 for x in numbers]\n",
    "print(f\"Map result: {squares_map}\")\n",
    "print(f\"Comprehension result: {squares_comp}\")\n",
    "print(f\"Are they equal? {squares_map == squares_comp}\")\n",
    "\n",
    "# Using filter and lambda\n",
    "evens_filter = list(filter(lambda x: x % 2 == 0, numbers))\n",
    "# Using list comprehension\n",
    "evens_comp = [x for x in numbers if x % 2 == 0]\n",
    "print(f\"\\nFilter result: {evens_filter}\")\n",
    "print(f\"Comprehension result: {evens_comp}\")\n",
    "print(f\"Are they equal? {evens_filter == evens_comp}\")\n",
    "\n",
    "# Combined map and filter\n",
    "even_squares_func = list(map(lambda x: x ** 2, filter(lambda x: x % 2 == 0, numbers)))\n",
    "# Using list comprehension\n",
    "even_squares_comp = [x ** 2 for x in numbers if x % 2 == 0]\n",
    "print(f\"\\nFunction result: {even_squares_func}\")\n",
    "print(f\"Comprehension result: {even_squares_comp}\")\n",
    "print(f\"Are they equal? {even_squares_func == even_squares_comp}\")"
   ],
   "outputs": []
  },
  {
   "cell_type": "markdown",
   "metadata": {},
   "source": [
    "## 7. Performance Considerations"
   ]
  },
  {
   "cell_type": "code",
   "execution_count": null,
   "metadata": {},
   "source": [
    "import time\n",
    "\n",
    "# Generate large dataset\n",
    "large_numbers = list(range(100000))\n",
    "\n",
    "# Time map and lambda\n",
    "start = time.time()\n",
    "result_map = list(map(lambda x: x ** 2, large_numbers))\n",
    "time_map = time.time() - start\n",
    "\n",
    "# Time list comprehension\n",
    "start = time.time()\n",
    "result_comp = [x ** 2 for x in large_numbers]\n",
    "time_comp = time.time() - start\n",
    "\n",
    "print(f\"Map + Lambda time: {time_map:.4f} seconds\")\n",
    "print(f\"List comprehension time: {time_comp:.4f} seconds\")\n",
    "print(f\"List comprehension is {time_map/time_comp:.1f}x faster\")\n",
    "\n",
    "# Note: Results may vary depending on the system and Python version"
   ],
   "outputs": []
  },
  {
   "cell_type": "markdown",
   "metadata": {},
   "source": [
    "## 8. Practice Exercises\n",
    "\n",
    "Try these exercises to master lambda, map, and filter:"
   ]
  },
  {
   "cell_type": "code",
   "execution_count": null,
   "metadata": {},
   "source": [
    "# Exercise data\n",
    "exercise_numbers = [1, 2, 3, 4, 5, 6, 7, 8, 9, 10, 11, 12, 13, 14, 15]\n",
    "exercise_words = ['python', 'java', 'javascript', 'go', 'rust', 'c', 'cpp', 'swift']\n",
    "exercise_prices = [19.99, 25.50, 12.00, 99.99, 5.25, 150.00, 75.80, 200.00]\n",
    "\n",
    "print(\"Exercise Data:\")\n",
    "print(f\"Numbers: {exercise_numbers}\")\n",
    "print(f\"Words: {exercise_words}\")\n",
    "print(f\"Prices: {exercise_prices}\")\n",
    "print(\"\\n\" + \"=\"*50 + \"\\n\")"
   ],
   "outputs": []
  },
  {
   "cell_type": "code",
   "execution_count": null,
   "metadata": {},
   "source": [
    "# Exercise 1: Use lambda to create functions\n",
    "print(\"Exercise 1: Lambda Functions\")\n",
    "\n",
    "# Create lambda functions for these operations:\n",
    "# 1. Calculate the area of a circle (π * r²)\n",
    "# 2. Convert feet to meters (1 foot = 0.3048 meters)\n",
    "# 3. Check if a number is divisible by 3\n",
    "\n",
    "# Your code here:\n",
    "area_circle = lambda r: 3.14159 * r ** 2  # Example solution\n",
    "# feet_to_meters = lambda feet: ...\n",
    "# divisible_by_3 = lambda x: ...\n",
    "\n",
    "# Test your functions\n",
    "print(f\"Area of circle with radius 5: {area_circle(5)}\")\n",
    "# print(f\"10 feet in meters: {feet_to_meters(10)}\")\n",
    "# print(f\"Is 9 divisible by 3? {divisible_by_3(9)}\")\n",
    "print()"
   ],
   "outputs": []
  },
  {
   "cell_type": "code",
   "execution_count": null,
   "metadata": {},
   "source": [
    "# Exercise 2: Map operations\n",
    "print(\"Exercise 2: Map Operations\")\n",
    "\n",
    "# Use map and lambda to:\n",
    "# 1. Convert all numbers to their factorial (hint: you might need to import math)\n",
    "# 2. Add '$' prefix to all prices\n",
    "# 3. Convert all words to title case and add 'Language: ' prefix\n",
    "\n",
    "# Your code here:\n",
    "import math\n",
    "# factorials = list(map(...))\n",
    "# formatted_prices = list(map(...))\n",
    "# formatted_languages = list(map(...))\n",
    "\n",
    "# Example for reference:\n",
    "cubes = list(map(lambda x: x ** 3, exercise_numbers[:5]))\n",
    "print(f\"First 5 numbers cubed: {cubes}\")\n",
    "print()"
   ],
   "outputs": []
  },
  {
   "cell_type": "code",
   "execution_count": null,
   "metadata": {},
   "source": [
    "# Exercise 3: Filter operations\n",
    "print(\"Exercise 3: Filter Operations\")\n",
    "\n",
    "# Use filter and lambda to:\n",
    "# 1. Get numbers that are perfect squares (1, 4, 9, 16, etc.)\n",
    "# 2. Get words with exactly 4 letters\n",
    "# 3. Get prices between $20 and $100 (exclusive)\n",
    "\n",
    "# Your code here:\n",
    "# perfect_squares = list(filter(...))\n",
    "# four_letter_words = list(filter(...))\n",
    "# mid_range_prices = list(filter(...))\n",
    "\n",
    "# Example for reference:\n",
    "prime_numbers = list(filter(lambda x: x > 1 and all(x % i != 0 for i in range(2, int(x**0.5) + 1)), exercise_numbers))\n",
    "print(f\"Prime numbers: {prime_numbers}\")\n",
    "print()"
   ],
   "outputs": []
  },
  {
   "cell_type": "code",
   "execution_count": null,
   "metadata": {},
   "source": [
    "# Exercise 4: Combine map and filter\n",
    "print(\"Exercise 4: Combined Operations\")\n",
    "\n",
    "# Create complex operations by combining map and filter:\n",
    "# 1. Get the square of all odd numbers\n",
    "# 2. Get the length of words that start with a vowel\n",
    "# 3. Apply 10% discount to prices over $50, then filter those still over $40\n",
    "\n",
    "# Your code here:\n",
    "# odd_squares = list(map(..., filter(...)))\n",
    "# vowel_word_lengths = list(map(..., filter(...)))\n",
    "# discounted_expensive = list(filter(..., map(...)))\n",
    "\n",
    "# Example for reference:\n",
    "even_cubes = list(map(lambda x: x ** 3, filter(lambda x: x % 2 == 0, exercise_numbers)))\n",
    "print(f\"Cubes of even numbers: {even_cubes}\")\n",
    "print()"
   ],
   "outputs": []
  },
  {
   "cell_type": "code",
   "execution_count": null,
   "metadata": {},
   "source": [
    "# Exercise 5: Real-world scenario\n",
    "print(\"Exercise 5: Real-world Scenario\")\n",
    "\n",
    "# You have a list of employee data\n",
    "employees = [\n",
    "    {'name': 'Alice', 'department': 'Engineering', 'salary': 75000, 'years': 3},\n",
    "    {'name': 'Bob', 'department': 'Marketing', 'salary': 65000, 'years': 5},\n",
    "    {'name': 'Charlie', 'department': 'Engineering', 'salary': 85000, 'years': 2},\n",
    "    {'name': 'Diana', 'department': 'Sales', 'salary': 70000, 'years': 4},\n",
    "    {'name': 'Eve', 'department': 'Engineering', 'salary': 90000, 'years': 6}\n",
    "]\n",
    "\n",
    "# Use lambda, map, and filter to:\n",
    "# 1. Get names of all Engineering employees\n",
    "# 2. Calculate annual bonus (10% of salary) for employees with 4+ years\n",
    "# 3. Get average salary of employees earning more than $70,000\n",
    "\n",
    "# Your code here:\n",
    "# engineering_names = list(map(..., filter(...)))\n",
    "# senior_bonuses = list(map(..., filter(...)))\n",
    "# high_earner_salaries = list(map(..., filter(...)))\n",
    "# avg_high_salary = sum(high_earner_salaries) / len(high_earner_salaries)\n",
    "\n",
    "print(f\"Employee data loaded: {len(employees)} employees\")\n",
    "print()"
   ],
   "outputs": []
  },
  {
   "cell_type": "markdown",
   "metadata": {},
   "source": [
    "## 9. Best Practices and Tips\n",
    "\n",
    "### When to Use Lambda, Map, and Filter:\n",
    "\n",
    "1. **Use lambda** for simple, one-line functions that you won't reuse\n",
    "2. **Use map** when you need to transform every item in a collection\n",
    "3. **Use filter** when you need to select items based on a condition\n",
    "4. **Consider list comprehensions** for better readability in most cases\n",
    "\n",
    "### Performance Tips:\n",
    "\n",
    "1. List comprehensions are often faster than map/filter\n",
    "2. Use generator expressions for large datasets to save memory\n",
    "3. Don't use lambda for complex operations - define regular functions\n",
    "\n",
    "### Readability Guidelines:\n",
    "\n",
    "1. Keep lambda functions simple and readable\n",
    "2. Use meaningful variable names\n",
    "3. Break complex operations into multiple steps\n",
    "4. Consider using regular functions for better debugging"
   ]
  },
  {
   "cell_type": "code",
   "execution_count": null,
   "metadata": {},
   "source": [
    "# Example: Good vs Poor practices\n",
    "numbers = [1, 2, 3, 4, 5, 6, 7, 8, 9, 10]\n",
    "\n",
    "# Poor: Complex lambda that's hard to read\n",
    "# result = list(map(lambda x: x ** 2 if x % 2 == 0 else x ** 3 if x % 3 == 0 else x, numbers))\n",
    "\n",
    "# Better: Break it down or use list comprehension\n",
    "def transform_number(x):\n",
    "    if x % 2 == 0:\n",
    "        return x ** 2\n",
    "    elif x % 3 == 0:\n",
    "        return x ** 3\n",
    "    else:\n",
    "        return x\n",
    "\n",
    "# Using function with map\n",
    "result_map = list(map(transform_number, numbers))\n",
    "\n",
    "# Or using list comprehension\n",
    "result_comp = [transform_number(x) for x in numbers]\n",
    "\n",
    "print(f\"Transformed numbers: {result_map}\")\n",
    "print(f\"Results are equal: {result_map == result_comp}\")"
   ],
   "outputs": []
  },
  {
   "cell_type": "markdown",
   "metadata": {},
   "source": [
    "## Summary\n",
    "\n",
    "Lambda, map, and filter are powerful tools in Python for functional programming:\n",
    "\n",
    "- **Lambda**: Creates anonymous functions for simple operations\n",
    "- **Map**: Applies a function to every item in an iterable\n",
    "- **Filter**: Selects items from an iterable based on a condition\n",
    "\n",
    "While these functions are useful, modern Python often favors list comprehensions for better readability and performance. Choose the approach that makes your code most readable and maintainable!\n",
    "\n",
    "### Key Takeaways:\n",
    "1. Lambda functions are best for simple, one-line operations\n",
    "2. Map and filter work great with lambda for data transformation\n",
    "3. List comprehensions are often more readable and faster\n",
    "4. Combine these tools thoughtfully for clean, functional code"
   ]
  }
 ],
 "metadata": {
  "kernelspec": {
   "display_name": "Python 3",
   "language": "python",
   "name": "python3"
  },
  "language_info": {
   "codemirror_mode": {
    "name": "ipython",
    "version": 3
   },
   "file_extension": ".py",
   "mimetype": "text/x-python",
   "name": "python",
   "nbconvert_exporter": "python",
   "pygments_lexer": "ipython3",
   "version": "3.8.5"
  }
 },
 "nbformat": 4,
 "nbformat_minor": 4
}