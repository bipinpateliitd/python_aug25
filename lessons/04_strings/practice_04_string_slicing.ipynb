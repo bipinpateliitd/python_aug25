{
 "cells": [
  {
   "cell_type": "code",
   "execution_count": null,
   "id": "bc445ffc",
   "metadata": {},
   "outputs": [],
   "source": [
    "numbers = [0, 1, 2, 3, 4, 5, 6, 7, 8, 9]\n",
    "#          0  1  2  3  4  5  6  7  8  9\n",
    "\n",
    "# Get first 3 elements\n",
    "first_three = numbers[0:3]\n",
    "print(first_three)  # [0, 1, 2]\n",
    "\n",
    "# Get elements from index 2 to 5\n",
    "middle = numbers[2:6]\n",
    "print(middle)  # [2, 3, 4, 5]\n",
    "\n",
    "# Get elements from index 5 to end\n",
    "from_five = numbers[5:]\n",
    "print(from_five)  # [5, 6, 7, 8, 9]\n",
    "\n",
    "# Get all elements from start to index 4\n",
    "to_four = numbers[:5]\n",
    "print(to_four)  # [0, 1, 2, 3, 4]\n",
    "\n",
    "# Every 2nd element\n",
    "every_second = numbers[::2]\n",
    "print(every_second)  # [0, 2, 4, 6, 8]\n",
    "\n",
    "# Every 2nd element from index 1 to 7\n",
    "custom_step = numbers[1:8:2]\n",
    "print(custom_step)  # [1, 3, 5, 7]"
   ]
  },
  {
   "cell_type": "code",
   "execution_count": null,
   "id": "c02541f8",
   "metadata": {},
   "outputs": [],
   "source": [
    "numbers = [0, 1, 2, 3, 4, 5, 6, 7, 8, 9]\n",
    "#         -10 -9 -8 -7 -6 -5 -4 -3 -2 -1\n",
    "\n",
    "# Get last 3 elements\n",
    "last_three = numbers[-3:]\n",
    "print(last_three)  # [7, 8, 9]\n",
    "\n",
    "# Get all except last 2 elements\n",
    "except_last_two = numbers[:-2]\n",
    "print(except_last_two)  # [0, 1, 2, 3, 4, 5, 6, 7]\n",
    "\n",
    "# Get elements from 3rd last to 2nd last\n",
    "middle_from_end = numbers[-5:-2]\n",
    "print(middle_from_end)  # [5, 6, 7]\n",
    "\n",
    "# Reverse the entire list\n",
    "reversed_list = numbers[::-1]\n",
    "print(reversed_list)  # [9, 8, 7, 6, 5, 4, 3, 2, 1, 0]\n",
    "\n",
    "# Get every 2nd element in reverse\n",
    "reverse_every_second = numbers[::-2]\n",
    "print(reverse_every_second)  # [9, 7, 5, 3, 1]"
   ]
  }
 ],
 "metadata": {
  "language_info": {
   "name": "python"
  }
 },
 "nbformat": 4,
 "nbformat_minor": 5
}
